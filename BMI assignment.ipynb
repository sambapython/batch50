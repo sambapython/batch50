{
 "cells": [
  {
   "cell_type": "code",
   "execution_count": 1,
   "metadata": {},
   "outputs": [
    {
     "ename": "MemoryError",
     "evalue": "",
     "output_type": "error",
     "traceback": [
      "\u001b[0;31m---------------------------------------------------------------------------\u001b[0m",
      "\u001b[0;31mMemoryError\u001b[0m                               Traceback (most recent call last)",
      "\u001b[0;32m<ipython-input-1-c84e31156c2e>\u001b[0m in \u001b[0;36m<module>\u001b[0;34m()\u001b[0m\n\u001b[0;32m----> 1\u001b[0;31m \u001b[0mrange\u001b[0m\u001b[0;34m(\u001b[0m\u001b[0;36m1320000000000\u001b[0m\u001b[0;34m)\u001b[0m\u001b[0;34m\u001b[0m\u001b[0m\n\u001b[0m",
      "\u001b[0;31mMemoryError\u001b[0m: "
     ]
    }
   ],
   "source": [
    "range(1320000000000)"
   ]
  },
  {
   "cell_type": "code",
   "execution_count": 2,
   "metadata": {},
   "outputs": [
    {
     "name": "stdout",
     "output_type": "stream",
     "text": [
      "0\n",
      "1\n",
      "2\n",
      "3\n",
      "4\n",
      "5\n",
      "6\n",
      "7\n",
      "8\n",
      "9\n"
     ]
    }
   ],
   "source": [
    "for i in range(10):\n",
    "    print i"
   ]
  },
  {
   "cell_type": "code",
   "execution_count": 3,
   "metadata": {},
   "outputs": [
    {
     "name": "stdout",
     "output_type": "stream",
     "text": [
      "0\n",
      "1\n",
      "2\n",
      "3\n",
      "4\n",
      "5\n",
      "6\n",
      "7\n",
      "8\n",
      "9\n"
     ]
    }
   ],
   "source": [
    "for i in xrange(10):\n",
    "    print i"
   ]
  },
  {
   "cell_type": "code",
   "execution_count": 4,
   "metadata": {},
   "outputs": [
    {
     "data": {
      "text/plain": [
       "[0, 1, 2, 3, 4, 5, 6, 7, 8, 9]"
      ]
     },
     "execution_count": 4,
     "metadata": {},
     "output_type": "execute_result"
    }
   ],
   "source": [
    "range(10)"
   ]
  },
  {
   "cell_type": "code",
   "execution_count": 5,
   "metadata": {},
   "outputs": [
    {
     "data": {
      "text/plain": [
       "xrange(10)"
      ]
     },
     "execution_count": 5,
     "metadata": {},
     "output_type": "execute_result"
    }
   ],
   "source": [
    "xrange(10)"
   ]
  },
  {
   "cell_type": "code",
   "execution_count": 8,
   "metadata": {},
   "outputs": [
    {
     "name": "stdout",
     "output_type": "stream",
     "text": [
      "0\n",
      "2\n",
      "4\n",
      "6\n",
      "8\n"
     ]
    }
   ],
   "source": [
    "def get_evens(number):\n",
    "    res=[]\n",
    "    for i in range(number):\n",
    "        if i%2==0:\n",
    "            res.append(i)\n",
    "    return res\n",
    "result=get_evens(10)\n",
    "for i in result:\n",
    "    print i"
   ]
  },
  {
   "cell_type": "code",
   "execution_count": 9,
   "metadata": {},
   "outputs": [
    {
     "name": "stdout",
     "output_type": "stream",
     "text": [
      "0\n",
      "2\n",
      "4\n",
      "6\n",
      "8\n"
     ]
    }
   ],
   "source": [
    "def get_evens(number):\n",
    "    for i in xrange(number):\n",
    "        if i%2==0:\n",
    "            yield i\n",
    "result=get_evens(10)\n",
    "for i in result:\n",
    "    print i"
   ]
  },
  {
   "cell_type": "code",
   "execution_count": 10,
   "metadata": {
    "collapsed": true
   },
   "outputs": [],
   "source": [
    "for i in result:\n",
    "    print i"
   ]
  },
  {
   "cell_type": "code",
   "execution_count": 11,
   "metadata": {},
   "outputs": [
    {
     "name": "stdout",
     "output_type": "stream",
     "text": [
      "0\n",
      "1\n",
      "2\n",
      "3\n",
      "4\n",
      "5\n",
      "6\n",
      "7\n",
      "8\n",
      "9\n"
     ]
    }
   ],
   "source": [
    "l=xrange(10)\n",
    "for i in l:\n",
    "    print i"
   ]
  },
  {
   "cell_type": "code",
   "execution_count": 12,
   "metadata": {
    "scrolled": true
   },
   "outputs": [
    {
     "name": "stdout",
     "output_type": "stream",
     "text": [
      "0\n",
      "1\n",
      "2\n",
      "3\n",
      "4\n",
      "5\n",
      "6\n",
      "7\n",
      "8\n",
      "9\n"
     ]
    }
   ],
   "source": [
    "for i in l:\n",
    "    print i"
   ]
  },
  {
   "cell_type": "code",
   "execution_count": 13,
   "metadata": {},
   "outputs": [
    {
     "name": "stdout",
     "output_type": "stream",
     "text": [
      "********************\n",
      "0\n",
      "&&&&&&&&&&&&&&&&&&&&\n",
      "2\n"
     ]
    }
   ],
   "source": [
    "def get_evens(number):\n",
    "    for i in xrange(number):\n",
    "        if i%2==0:\n",
    "            yield i\n",
    "result=get_evens(10)\n",
    "print \"*\"*20\n",
    "for i in result:\n",
    "    print i\n",
    "    break\n",
    "print \"&\"*20\n",
    "for i in result:\n",
    "    print i\n",
    "    break"
   ]
  },
  {
   "cell_type": "code",
   "execution_count": 14,
   "metadata": {},
   "outputs": [
    {
     "name": "stdout",
     "output_type": "stream",
     "text": [
      "0\n"
     ]
    }
   ],
   "source": [
    "l=xrange(10)\n",
    "for i in l:\n",
    "    print i\n",
    "    break\n",
    "    "
   ]
  },
  {
   "cell_type": "code",
   "execution_count": 15,
   "metadata": {},
   "outputs": [
    {
     "name": "stdout",
     "output_type": "stream",
     "text": [
      "0\n"
     ]
    }
   ],
   "source": [
    "for i in l:\n",
    "    print i\n",
    "    break\n",
    "    "
   ]
  },
  {
   "cell_type": "code",
   "execution_count": 16,
   "metadata": {},
   "outputs": [
    {
     "name": "stdout",
     "output_type": "stream",
     "text": [
      "enter numbe:3\n",
      "Enter name:n1\n",
      "Enter an age:1\n",
      "Enter name:2\n",
      "Enter an age:2\n",
      "Enter name:n3\n",
      "Enter an age:3\n",
      "{'age': '3', 'name': 'n3'}\n"
     ]
    }
   ],
   "source": [
    "n=int(raw_input(\"enter numbe:\"))\n",
    "d={}\n",
    "for i in range(n):\n",
    "    name=raw_input(\"Enter name:\")\n",
    "    age=raw_input(\"Enter an age:\")\n",
    "    d.update({\"name\":name,\"age\":age})\n",
    "print d"
   ]
  },
  {
   "cell_type": "code",
   "execution_count": 19,
   "metadata": {},
   "outputs": [
    {
     "name": "stdout",
     "output_type": "stream",
     "text": [
      "enter numbe:0\n"
     ]
    }
   ],
   "source": [
    "n=int(raw_input(\"enter numbe:\"))\n",
    "persons = []\n",
    "for i in range(n):\n",
    "    name=raw_input(\"Enter name:\")\n",
    "    age=raw_input(\"Enter an age:\")\n",
    "    weight=int(raw_input(\"Enter an weight:\"))\n",
    "    bmi=weight/10\n",
    "    person = {\"name\":name,\"age\":age,\"bmi\":bmi}\n",
    "    persons.append(person)\n",
    "for p in persons:\n",
    "    bmi = p.get(\"bmi\")/10\n",
    "    print p.get(\"name\"),\"====>>>\",bmi,\n",
    "    if bmi>=0:\n",
    "        print \"positive\"\n",
    "    else:\n",
    "        print \"negative\""
   ]
  },
  {
   "cell_type": "code",
   "execution_count": 18,
   "metadata": {},
   "outputs": [
    {
     "name": "stdout",
     "output_type": "stream",
     "text": [
      "{'age': '1', 'name': 'n1'}\n",
      "{'age': '2', 'name': 'n2'}\n",
      "{'age': '3', 'name': 'n3'}\n"
     ]
    }
   ],
   "source": [
    "for p in persons:\n",
    "    print p"
   ]
  },
  {
   "cell_type": "code",
   "execution_count": 20,
   "metadata": {},
   "outputs": [
    {
     "name": "stdout",
     "output_type": "stream",
     "text": [
      "enter numbe:3\n",
      "Enter name:n1\n",
      "Enter an age:1\n",
      "Enter an weight:56\n",
      "Enter name:n2\n",
      "Enter an age:2\n",
      "Enter an weight:45\n",
      "Enter name:3\n",
      "Enter an age:3\n",
      "Enter an weight:34\n",
      "n1 ====>>> 5 positive\n",
      "n2 ====>>> 4 positive\n",
      "3 ====>>> 3 positive\n"
     ]
    }
   ],
   "source": [
    "n=int(raw_input(\"enter numbe:\"))\n",
    "persons = []\n",
    "for i in range(n):\n",
    "    name=raw_input(\"Enter name:\")\n",
    "    age=raw_input(\"Enter an age:\")\n",
    "    weight=int(raw_input(\"Enter an weight:\"))\n",
    "    bmi=weight/10\n",
    "    person = {\"name\":name,\"age\":age,\"bmi\":bmi}\n",
    "    persons.append(person)\n",
    "for p in persons:\n",
    "    bmi = p.get(\"bmi\")\n",
    "    print p.get(\"name\"),\"====>>>\",bmi,\"====>\",\n",
    "    if bmi>=0:\n",
    "        print \"positive\"\n",
    "    else:\n",
    "        print \"negative\""
   ]
  },
  {
   "cell_type": "code",
   "execution_count": 22,
   "metadata": {},
   "outputs": [
    {
     "name": "stdout",
     "output_type": "stream",
     "text": [
      "enter numbe:2\n",
      "Enter name:n2\n",
      "Enter an age:2\n",
      "Enter an weight:3\n",
      "Enter name:n3\n",
      "Enter an age:3\n",
      "Enter an weight:4\n",
      "n2 ====>>> 0.3 ====> positive\n",
      "n3 ====>>> 0.4 ====> positive\n"
     ]
    }
   ],
   "source": [
    "n=int(raw_input(\"enter numbe:\"))\n",
    "persons = []\n",
    "for i in range(n):\n",
    "    name=raw_input(\"Enter name:\")\n",
    "    age=raw_input(\"Enter an age:\")\n",
    "    weight=float(raw_input(\"Enter an weight:\"))\n",
    "    person = {\"name\":name,\"age\":age,\"weight\":weight}\n",
    "    persons.append(person)\n",
    "for p in persons:\n",
    "    bmi = p.get(\"weight\")/10\n",
    "    print p.get(\"name\"),\"====>>>\",bmi,\"====>\",\n",
    "    if bmi>0:\n",
    "        print \"positive\"\n",
    "    else:\n",
    "        print \"negative\""
   ]
  },
  {
   "cell_type": "code",
   "execution_count": null,
   "metadata": {
    "collapsed": true
   },
   "outputs": [],
   "source": []
  }
 ],
 "metadata": {
  "kernelspec": {
   "display_name": "Python 2",
   "language": "python",
   "name": "python2"
  },
  "language_info": {
   "codemirror_mode": {
    "name": "ipython",
    "version": 2
   },
   "file_extension": ".py",
   "mimetype": "text/x-python",
   "name": "python",
   "nbconvert_exporter": "python",
   "pygments_lexer": "ipython2",
   "version": "2.7.14"
  }
 },
 "nbformat": 4,
 "nbformat_minor": 2
}
