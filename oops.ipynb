{
 "cells": [
  {
   "cell_type": "code",
   "execution_count": 1,
   "metadata": {},
   "outputs": [
    {
     "name": "stdout",
     "output_type": "stream",
     "text": [
      "30\n",
      "-10\n",
      "200\n"
     ]
    }
   ],
   "source": [
    "def add(a,b):\n",
    "    c3=a+20\n",
    "    return a+b\n",
    "def minus(a,b):\n",
    "    return a-b\n",
    "def mul(a,b):\n",
    "    return a*b\n",
    "c1=10\n",
    "c2=20\n",
    "print add(c1,c2)\n",
    "print minus(c1,c2)\n",
    "print mul(c1,c2)"
   ]
  },
  {
   "cell_type": "code",
   "execution_count": 2,
   "metadata": {},
   "outputs": [
    {
     "name": "stdout",
     "output_type": "stream",
     "text": [
      "30\n"
     ]
    }
   ],
   "source": [
    "a=10\n",
    "b=20\n",
    "print a+b"
   ]
  },
  {
   "cell_type": "code",
   "execution_count": 3,
   "metadata": {},
   "outputs": [
    {
     "ename": "TypeError",
     "evalue": "unsupported operand type(s) for +: 'dict' and 'dict'",
     "output_type": "error",
     "traceback": [
      "\u001b[0;31m---------------------------------------------------------------------------\u001b[0m",
      "\u001b[0;31mTypeError\u001b[0m                                 Traceback (most recent call last)",
      "\u001b[0;32m<ipython-input-3-b19255c28504>\u001b[0m in \u001b[0;36m<module>\u001b[0;34m()\u001b[0m\n\u001b[1;32m      1\u001b[0m \u001b[0md1\u001b[0m\u001b[0;34m=\u001b[0m\u001b[0;34m{\u001b[0m\u001b[0;36m1\u001b[0m\u001b[0;34m:\u001b[0m\u001b[0;36m2\u001b[0m\u001b[0;34m}\u001b[0m\u001b[0;34m\u001b[0m\u001b[0m\n\u001b[1;32m      2\u001b[0m \u001b[0md2\u001b[0m\u001b[0;34m=\u001b[0m\u001b[0;34m{\u001b[0m\u001b[0;36m2\u001b[0m\u001b[0;34m:\u001b[0m\u001b[0;36m3\u001b[0m\u001b[0;34m}\u001b[0m\u001b[0;34m\u001b[0m\u001b[0m\n\u001b[0;32m----> 3\u001b[0;31m \u001b[0md1\u001b[0m\u001b[0;34m+\u001b[0m\u001b[0md2\u001b[0m\u001b[0;34m\u001b[0m\u001b[0m\n\u001b[0m",
      "\u001b[0;31mTypeError\u001b[0m: unsupported operand type(s) for +: 'dict' and 'dict'"
     ]
    }
   ],
   "source": [
    "d1={1:2}\n",
    "d2={2:3}\n",
    "d1+d2"
   ]
  },
  {
   "cell_type": "code",
   "execution_count": 4,
   "metadata": {},
   "outputs": [
    {
     "data": {
      "text/plain": [
       "30"
      ]
     },
     "execution_count": 4,
     "metadata": {},
     "output_type": "execute_result"
    }
   ],
   "source": [
    "a=10\n",
    "b=20\n",
    "a+b"
   ]
  },
  {
   "cell_type": "code",
   "execution_count": 5,
   "metadata": {},
   "outputs": [
    {
     "data": {
      "text/plain": [
       "'str1str2'"
      ]
     },
     "execution_count": 5,
     "metadata": {},
     "output_type": "execute_result"
    }
   ],
   "source": [
    "a=\"str1\"\n",
    "b=\"str2\"\n",
    "a+b"
   ]
  },
  {
   "cell_type": "code",
   "execution_count": 6,
   "metadata": {},
   "outputs": [
    {
     "name": "stdout",
     "output_type": "stream",
     "text": [
      "this is class\n"
     ]
    }
   ],
   "source": [
    "def fun():\n",
    "    print \"this is fun\"\n",
    "class c1:\n",
    "    print \"this is class\""
   ]
  },
  {
   "cell_type": "code",
   "execution_count": 7,
   "metadata": {},
   "outputs": [
    {
     "name": "stdout",
     "output_type": "stream",
     "text": [
      "this is class\n"
     ]
    }
   ],
   "source": [
    "\n",
    "class c1:\n",
    "    print \"this is class\"\n",
    "    def fun():\n",
    "        print \"this is fun\""
   ]
  },
  {
   "cell_type": "code",
   "execution_count": 8,
   "metadata": {},
   "outputs": [
    {
     "name": "stdout",
     "output_type": "stream",
     "text": [
      "this is class\n",
      "this is fun\n"
     ]
    }
   ],
   "source": [
    "\n",
    "class c1:\n",
    "    print \"this is class\"\n",
    "    def fun():\n",
    "        print \"this is fun\"\n",
    "    fun()"
   ]
  },
  {
   "cell_type": "code",
   "execution_count": 9,
   "metadata": {},
   "outputs": [
    {
     "name": "stdout",
     "output_type": "stream",
     "text": [
      "this is class\n",
      "10 20 30\n"
     ]
    }
   ],
   "source": [
    "class c1:\n",
    "    print \"this is class\"\n",
    "    a=10\n",
    "    b=20\n",
    "    c=30\n",
    "    def fun(c1,c2):\n",
    "        print \"c1=%s, c2=%s\"%(c1,c2)\n",
    "print c1.a, c1.b,c1.c"
   ]
  },
  {
   "cell_type": "code",
   "execution_count": 10,
   "metadata": {},
   "outputs": [
    {
     "name": "stdout",
     "output_type": "stream",
     "text": [
      "this is class\n",
      "10 20 30\n"
     ]
    },
    {
     "ename": "TypeError",
     "evalue": "unbound method fun() must be called with c1 instance as first argument (got int instance instead)",
     "output_type": "error",
     "traceback": [
      "\u001b[0;31m---------------------------------------------------------------------------\u001b[0m",
      "\u001b[0;31mTypeError\u001b[0m                                 Traceback (most recent call last)",
      "\u001b[0;32m<ipython-input-10-954fcfae6377>\u001b[0m in \u001b[0;36m<module>\u001b[0;34m()\u001b[0m\n\u001b[1;32m      7\u001b[0m         \u001b[0;32mprint\u001b[0m \u001b[0;34m\"c1=%s, c2=%s\"\u001b[0m\u001b[0;34m%\u001b[0m\u001b[0;34m(\u001b[0m\u001b[0mc1\u001b[0m\u001b[0;34m,\u001b[0m\u001b[0mc2\u001b[0m\u001b[0;34m)\u001b[0m\u001b[0;34m\u001b[0m\u001b[0m\n\u001b[1;32m      8\u001b[0m \u001b[0;32mprint\u001b[0m \u001b[0mc1\u001b[0m\u001b[0;34m.\u001b[0m\u001b[0ma\u001b[0m\u001b[0;34m,\u001b[0m \u001b[0mc1\u001b[0m\u001b[0;34m.\u001b[0m\u001b[0mb\u001b[0m\u001b[0;34m,\u001b[0m\u001b[0mc1\u001b[0m\u001b[0;34m.\u001b[0m\u001b[0mc\u001b[0m\u001b[0;34m\u001b[0m\u001b[0m\n\u001b[0;32m----> 9\u001b[0;31m \u001b[0mc1\u001b[0m\u001b[0;34m.\u001b[0m\u001b[0mfun\u001b[0m\u001b[0;34m(\u001b[0m\u001b[0;36m10\u001b[0m\u001b[0;34m,\u001b[0m\u001b[0;36m20\u001b[0m\u001b[0;34m)\u001b[0m\u001b[0;34m\u001b[0m\u001b[0m\n\u001b[0m",
      "\u001b[0;31mTypeError\u001b[0m: unbound method fun() must be called with c1 instance as first argument (got int instance instead)"
     ]
    }
   ],
   "source": [
    "class c1:\n",
    "    print \"this is class\"\n",
    "    a=10\n",
    "    b=20\n",
    "    c=30\n",
    "    def fun(c1,c2):\n",
    "        print \"c1=%s, c2=%s\"%(c1,c2)\n",
    "print c1.a, c1.b,c1.c\n",
    "c1.fun(10,20)"
   ]
  },
  {
   "cell_type": "code",
   "execution_count": 11,
   "metadata": {},
   "outputs": [
    {
     "name": "stdout",
     "output_type": "stream",
     "text": [
      "this is class\n",
      "10 20 30\n",
      "c1=<__main__.c1 instance at 0x7fe8012ff908>, c2=20\n"
     ]
    }
   ],
   "source": [
    "class c1:\n",
    "    print \"this is class\"\n",
    "    a=10\n",
    "    b=20\n",
    "    c=30\n",
    "    def fun(c1,c2):\n",
    "        print \"c1=%s, c2=%s\"%(c1,c2)\n",
    "print c1.a, c1.b,c1.c\n",
    "o1=c1()\n",
    "c1.fun(o1,20)"
   ]
  },
  {
   "cell_type": "code",
   "execution_count": 12,
   "metadata": {},
   "outputs": [
    {
     "name": "stdout",
     "output_type": "stream",
     "text": [
      "this is class\n",
      "10 20 30\n",
      "c1=<__main__.c1 instance at 0x7fe801317200>, c2=20\n",
      "using instance\n",
      "10 20 30\n",
      "c1=<__main__.c1 instance at 0x7fe801317200>, c2=20\n",
      "None\n"
     ]
    }
   ],
   "source": [
    "class c1:\n",
    "    print \"this is class\"\n",
    "    a=10\n",
    "    b=20\n",
    "    c=30\n",
    "    def fun(c1,c2):\n",
    "        print \"c1=%s, c2=%s\"%(c1,c2)\n",
    "print c1.a, c1.b,c1.c\n",
    "o1=c1()\n",
    "# c1 class object. It will create while it is executing a class definition\n",
    "# o1 is data object. It will create while you are creating an object. o1=c1(). o1 is a reference of the\n",
    "# data object, we called o1 as an instance.\n",
    "c1.fun(o1,20)\n",
    "print \"using instance\"\n",
    "print o1.a,o1.b,o1.c\n",
    "print o1.fun(20)"
   ]
  },
  {
   "cell_type": "code",
   "execution_count": 13,
   "metadata": {},
   "outputs": [
    {
     "name": "stdout",
     "output_type": "stream",
     "text": [
      "anil kumar 23\n",
      "jayaram 25\n"
     ]
    }
   ],
   "source": [
    "class Emp:\n",
    "    def get(e1):\n",
    "        print e1.name,e1.age\n",
    "anil = Emp()\n",
    "anil.name=\"anil kumar\"\n",
    "anil.age=23\n",
    "anil.doj=\"2018-09-02\"\n",
    "jay = Emp()\n",
    "jay.name=\"jayaram\"\n",
    "jay.age=25\n",
    "Emp.get(anil)\n",
    "Emp.get(jay)"
   ]
  },
  {
   "cell_type": "code",
   "execution_count": 14,
   "metadata": {},
   "outputs": [
    {
     "name": "stdout",
     "output_type": "stream",
     "text": [
      "anil kumar 23\n",
      "jayaram 25\n"
     ]
    }
   ],
   "source": [
    "class Emp:\n",
    "    def get(e1):\n",
    "        print e1.name,e1.age\n",
    "anil = Emp()\n",
    "anil.name=\"anil kumar\"\n",
    "anil.age=23\n",
    "anil.doj=\"2018-09-02\"\n",
    "jay = Emp()\n",
    "jay.name=\"jayaram\"\n",
    "jay.age=25\n",
    "#Emp.get(anil)\n",
    "anil.get()\n",
    "Emp.get(jay)"
   ]
  },
  {
   "cell_type": "code",
   "execution_count": 15,
   "metadata": {},
   "outputs": [
    {
     "name": "stdout",
     "output_type": "stream",
     "text": [
      "anil kumar 23\n",
      "jayaram 25\n"
     ]
    }
   ],
   "source": [
    "class Emp:\n",
    "    def get(e1):\n",
    "        print e1.name,e1.age\n",
    "anil = Emp()\n",
    "anil.name=\"anil kumar\"\n",
    "anil.age=23\n",
    "anil.doj=\"2018-09-02\"\n",
    "jay = Emp()\n",
    "jay.name=\"jayaram\"\n",
    "jay.age=25\n",
    "#Emp.get(anil)\n",
    "anil.get()\n",
    "#Emp.get(jay)\n",
    "jay.get()"
   ]
  },
  {
   "cell_type": "code",
   "execution_count": 16,
   "metadata": {},
   "outputs": [
    {
     "name": "stdout",
     "output_type": "stream",
     "text": [
      "anil kumar 23\n",
      "jayaram 25\n"
     ]
    },
    {
     "ename": "AttributeError",
     "evalue": "Emp instance has no attribute 'doj'",
     "output_type": "error",
     "traceback": [
      "\u001b[0;31m---------------------------------------------------------------------------\u001b[0m",
      "\u001b[0;31mAttributeError\u001b[0m                            Traceback (most recent call last)",
      "\u001b[0;32m<ipython-input-16-59a386bbfbb4>\u001b[0m in \u001b[0;36m<module>\u001b[0;34m()\u001b[0m\n\u001b[1;32m     13\u001b[0m \u001b[0;31m#Emp.get(jay)\u001b[0m\u001b[0;34m\u001b[0m\u001b[0;34m\u001b[0m\u001b[0m\n\u001b[1;32m     14\u001b[0m \u001b[0mjay\u001b[0m\u001b[0;34m.\u001b[0m\u001b[0mget\u001b[0m\u001b[0;34m(\u001b[0m\u001b[0;34m)\u001b[0m\u001b[0;34m\u001b[0m\u001b[0m\n\u001b[0;32m---> 15\u001b[0;31m \u001b[0;32mprint\u001b[0m \u001b[0mjay\u001b[0m\u001b[0;34m.\u001b[0m\u001b[0mdoj\u001b[0m\u001b[0;34m\u001b[0m\u001b[0m\n\u001b[0m",
      "\u001b[0;31mAttributeError\u001b[0m: Emp instance has no attribute 'doj'"
     ]
    }
   ],
   "source": [
    "class Emp:\n",
    "    def get(e1):\n",
    "        print e1.name,e1.age\n",
    "anil = Emp()\n",
    "anil.name=\"anil kumar\"\n",
    "anil.age=23\n",
    "anil.doj=\"2018-09-02\"\n",
    "jay = Emp()\n",
    "jay.name=\"jayaram\"\n",
    "jay.age=25\n",
    "#Emp.get(anil)\n",
    "anil.get()\n",
    "#Emp.get(jay)\n",
    "jay.get()\n",
    "print jay.doj"
   ]
  },
  {
   "cell_type": "code",
   "execution_count": 17,
   "metadata": {},
   "outputs": [
    {
     "name": "stdout",
     "output_type": "stream",
     "text": [
      "anil kumar 23\n",
      "jayaram 25\n"
     ]
    },
    {
     "ename": "AttributeError",
     "evalue": "class Emp has no attribute 'name'",
     "output_type": "error",
     "traceback": [
      "\u001b[0;31m---------------------------------------------------------------------------\u001b[0m",
      "\u001b[0;31mAttributeError\u001b[0m                            Traceback (most recent call last)",
      "\u001b[0;32m<ipython-input-17-ab22155b0cde>\u001b[0m in \u001b[0;36m<module>\u001b[0;34m()\u001b[0m\n\u001b[1;32m     14\u001b[0m \u001b[0;31m#Emp.get(jay)\u001b[0m\u001b[0;34m\u001b[0m\u001b[0;34m\u001b[0m\u001b[0m\n\u001b[1;32m     15\u001b[0m \u001b[0mjay\u001b[0m\u001b[0;34m.\u001b[0m\u001b[0mget\u001b[0m\u001b[0;34m(\u001b[0m\u001b[0;34m)\u001b[0m\u001b[0;34m\u001b[0m\u001b[0m\n\u001b[0;32m---> 16\u001b[0;31m \u001b[0;32mprint\u001b[0m \u001b[0mEmp\u001b[0m\u001b[0;34m.\u001b[0m\u001b[0mname\u001b[0m\u001b[0;34m\u001b[0m\u001b[0m\n\u001b[0m",
      "\u001b[0;31mAttributeError\u001b[0m: class Emp has no attribute 'name'"
     ]
    }
   ],
   "source": [
    "class Emp:\n",
    "    company_name=\"KHYAATHI\"\n",
    "    def get(e1):\n",
    "        print e1.name,e1.age\n",
    "anil = Emp()\n",
    "anil.name=\"anil kumar\"\n",
    "anil.age=23\n",
    "anil.doj=\"2018-09-02\"\n",
    "jay = Emp()\n",
    "jay.name=\"jayaram\"\n",
    "jay.age=25\n",
    "#Emp.get(anil)\n",
    "anil.get()\n",
    "#Emp.get(jay)\n",
    "jay.get()\n",
    "print Emp.name"
   ]
  },
  {
   "cell_type": "code",
   "execution_count": 18,
   "metadata": {},
   "outputs": [
    {
     "name": "stdout",
     "output_type": "stream",
     "text": [
      "anil kumar 23 KHYAATHI\n",
      "jayaram 25 KHYAATHI\n"
     ]
    }
   ],
   "source": [
    "class Emp:\n",
    "    company_name=\"KHYAATHI\"\n",
    "    def get(e1):\n",
    "        print e1.name,e1.age, e1.company_name\n",
    "anil = Emp()\n",
    "anil.name=\"anil kumar\"\n",
    "anil.age=23\n",
    "anil.doj=\"2018-09-02\"\n",
    "jay = Emp()\n",
    "jay.name=\"jayaram\"\n",
    "jay.age=25\n",
    "#Emp.get(anil)\n",
    "anil.get()\n",
    "#Emp.get(jay)\n",
    "jay.get()\n"
   ]
  },
  {
   "cell_type": "code",
   "execution_count": 19,
   "metadata": {},
   "outputs": [
    {
     "name": "stdout",
     "output_type": "stream",
     "text": [
      "Enter name:anil kumar\n",
      "Enter an age:23\n",
      "anil kumar 23 KHYAATHI\n"
     ]
    }
   ],
   "source": [
    "class Emp:\n",
    "    company_name=\"KHYAATHI\"\n",
    "    def get(e1):\n",
    "        print e1.name,e1.age, e1.company_name\n",
    "anil = Emp()\n",
    "n=raw_input(\"Enter name:\")\n",
    "a=raw_input(\"Enter an age:\")\n",
    "a=int(a)\n",
    "anil.name=n\n",
    "anil.age=a\n",
    "anil.get()"
   ]
  },
  {
   "cell_type": "code",
   "execution_count": 21,
   "metadata": {},
   "outputs": [
    {
     "name": "stdout",
     "output_type": "stream",
     "text": [
      "Enter name:anil\n",
      "Enter an age:23\n",
      "anil 23 KHYAATHI\n"
     ]
    }
   ],
   "source": [
    "class Emp:\n",
    "    company_name=\"KHYAATHI\"\n",
    "    def set_data(self, name1, age1):\n",
    "        self.name=name1\n",
    "        self.age=age1\n",
    "    def get(self):\n",
    "        print self.name,self.age, self.company_name\n",
    "anil = Emp()\n",
    "n=raw_input(\"Enter name:\")\n",
    "a=raw_input(\"Enter an age:\")\n",
    "a=int(a)\n",
    "anil.set_data(n,a) # anil,n,a\n",
    "#anil.name=n\n",
    "#anil.age=a\n",
    "anil.get()"
   ]
  },
  {
   "cell_type": "code",
   "execution_count": 22,
   "metadata": {},
   "outputs": [
    {
     "name": "stdout",
     "output_type": "stream",
     "text": [
      "anil 23 KHYAATHI\n"
     ]
    }
   ],
   "source": [
    "class Emp:\n",
    "    company_name=\"KHYAATHI\"\n",
    "    def set_data(self, name1, age1):\n",
    "        self.name=name1\n",
    "        self.age=age1\n",
    "    def get(self):\n",
    "        print self.name,self.age, self.company_name\n",
    "anil = Emp()\n",
    "anil.set_data(\"anil\",23) # anil,n,a\n",
    "anil.get()"
   ]
  },
  {
   "cell_type": "code",
   "execution_count": 23,
   "metadata": {},
   "outputs": [
    {
     "name": "stdout",
     "output_type": "stream",
     "text": [
      "anil 23 KHYAATHI\n"
     ]
    },
    {
     "ename": "AttributeError",
     "evalue": "Emp instance has no attribute 'name'",
     "output_type": "error",
     "traceback": [
      "\u001b[0;31m---------------------------------------------------------------------------\u001b[0m",
      "\u001b[0;31mAttributeError\u001b[0m                            Traceback (most recent call last)",
      "\u001b[0;32m<ipython-input-23-54ec6c820905>\u001b[0m in \u001b[0;36m<module>\u001b[0;34m()\u001b[0m\n\u001b[1;32m     10\u001b[0m \u001b[0manil\u001b[0m\u001b[0;34m.\u001b[0m\u001b[0mget\u001b[0m\u001b[0;34m(\u001b[0m\u001b[0;34m)\u001b[0m\u001b[0;34m\u001b[0m\u001b[0m\n\u001b[1;32m     11\u001b[0m \u001b[0mjay\u001b[0m\u001b[0;34m=\u001b[0m\u001b[0mEmp\u001b[0m\u001b[0;34m(\u001b[0m\u001b[0;34m)\u001b[0m\u001b[0;34m\u001b[0m\u001b[0m\n\u001b[0;32m---> 12\u001b[0;31m \u001b[0mjay\u001b[0m\u001b[0;34m.\u001b[0m\u001b[0mget\u001b[0m\u001b[0;34m(\u001b[0m\u001b[0;34m)\u001b[0m\u001b[0;34m\u001b[0m\u001b[0m\n\u001b[0m",
      "\u001b[0;32m<ipython-input-23-54ec6c820905>\u001b[0m in \u001b[0;36mget\u001b[0;34m(self)\u001b[0m\n\u001b[1;32m      5\u001b[0m         \u001b[0mself\u001b[0m\u001b[0;34m.\u001b[0m\u001b[0mage\u001b[0m\u001b[0;34m=\u001b[0m\u001b[0mage1\u001b[0m\u001b[0;34m\u001b[0m\u001b[0m\n\u001b[1;32m      6\u001b[0m     \u001b[0;32mdef\u001b[0m \u001b[0mget\u001b[0m\u001b[0;34m(\u001b[0m\u001b[0mself\u001b[0m\u001b[0;34m)\u001b[0m\u001b[0;34m:\u001b[0m\u001b[0;34m\u001b[0m\u001b[0m\n\u001b[0;32m----> 7\u001b[0;31m         \u001b[0;32mprint\u001b[0m \u001b[0mself\u001b[0m\u001b[0;34m.\u001b[0m\u001b[0mname\u001b[0m\u001b[0;34m,\u001b[0m\u001b[0mself\u001b[0m\u001b[0;34m.\u001b[0m\u001b[0mage\u001b[0m\u001b[0;34m,\u001b[0m \u001b[0mself\u001b[0m\u001b[0;34m.\u001b[0m\u001b[0mcompany_name\u001b[0m\u001b[0;34m\u001b[0m\u001b[0m\n\u001b[0m\u001b[1;32m      8\u001b[0m \u001b[0manil\u001b[0m \u001b[0;34m=\u001b[0m \u001b[0mEmp\u001b[0m\u001b[0;34m(\u001b[0m\u001b[0;34m)\u001b[0m\u001b[0;34m\u001b[0m\u001b[0m\n\u001b[1;32m      9\u001b[0m \u001b[0manil\u001b[0m\u001b[0;34m.\u001b[0m\u001b[0mset_data\u001b[0m\u001b[0;34m(\u001b[0m\u001b[0;34m\"anil\"\u001b[0m\u001b[0;34m,\u001b[0m\u001b[0;36m23\u001b[0m\u001b[0;34m)\u001b[0m \u001b[0;31m# anil,n,a\u001b[0m\u001b[0;34m\u001b[0m\u001b[0m\n",
      "\u001b[0;31mAttributeError\u001b[0m: Emp instance has no attribute 'name'"
     ]
    }
   ],
   "source": [
    "class Emp:\n",
    "    company_name=\"KHYAATHI\"\n",
    "    def set_data(self, name1, age1):\n",
    "        self.name=name1\n",
    "        self.age=age1\n",
    "    def get(self):\n",
    "        print self.name,self.age, self.company_name\n",
    "anil = Emp()\n",
    "anil.set_data(\"anil\",23) # anil,n,a\n",
    "anil.get()\n",
    "jay=Emp()\n",
    "jay.get()"
   ]
  },
  {
   "cell_type": "code",
   "execution_count": 1,
   "metadata": {
    "collapsed": true
   },
   "outputs": [],
   "source": [
    "class c1:\n",
    "    def get(self):\n",
    "        print \"this is get\"\n",
    "o1=c1()"
   ]
  },
  {
   "cell_type": "code",
   "execution_count": 2,
   "metadata": {},
   "outputs": [
    {
     "name": "stdout",
     "output_type": "stream",
     "text": [
      "this is get\n"
     ]
    }
   ],
   "source": [
    "class c1:\n",
    "    def get(self):\n",
    "        print \"this is get\"\n",
    "o1=c1()\n",
    "o1.get()"
   ]
  },
  {
   "cell_type": "code",
   "execution_count": 3,
   "metadata": {},
   "outputs": [
    {
     "name": "stdout",
     "output_type": "stream",
     "text": [
      "this is init\n"
     ]
    }
   ],
   "source": [
    "class c1:\n",
    "    def __init__(self):\n",
    "        print \"this is init\"\n",
    "    def get(self):\n",
    "        print \"this is get\"\n",
    "o1=c1()"
   ]
  },
  {
   "cell_type": "code",
   "execution_count": 4,
   "metadata": {
    "collapsed": true
   },
   "outputs": [],
   "source": [
    "class c1:\n",
    "    def __init__(self):\n",
    "        print \"this is init\"\n",
    "    def get(self):\n",
    "        print \"this is get\"\n"
   ]
  },
  {
   "cell_type": "code",
   "execution_count": 5,
   "metadata": {},
   "outputs": [
    {
     "name": "stdout",
     "output_type": "stream",
     "text": [
      "this is init\n"
     ]
    }
   ],
   "source": [
    "class c1:\n",
    "    def __init__(self):\n",
    "        print \"this is init\"\n",
    "    def get(self):\n",
    "        print \"this is get\"\n",
    "o1=c1()"
   ]
  },
  {
   "cell_type": "code",
   "execution_count": 6,
   "metadata": {},
   "outputs": [
    {
     "name": "stdout",
     "output_type": "stream",
     "text": [
      "this is init\n",
      "this is init\n",
      "this is init\n"
     ]
    }
   ],
   "source": [
    "class c1:\n",
    "    def __init__(self):\n",
    "        print \"this is init\"\n",
    "    def get(self):\n",
    "        print \"this is get\"\n",
    "o1=c1()\n",
    "o2=c1()\n",
    "o3=c1()"
   ]
  },
  {
   "cell_type": "code",
   "execution_count": 7,
   "metadata": {},
   "outputs": [
    {
     "name": "stdout",
     "output_type": "stream",
     "text": [
      "this is class\n",
      "this is init\n",
      "this is init\n",
      "this is init\n"
     ]
    }
   ],
   "source": [
    "class c1:\n",
    "    print \"this is class\"\n",
    "    def __init__(self):\n",
    "        print \"this is init\"\n",
    "    def get(self):\n",
    "        print \"this is get\"\n",
    "o1=c1()\n",
    "o2=c1()\n",
    "o3=c1()"
   ]
  },
  {
   "cell_type": "code",
   "execution_count": 9,
   "metadata": {},
   "outputs": [
    {
     "name": "stdout",
     "output_type": "stream",
     "text": [
      "this is class\n",
      "this is init\n",
      "this is init\n",
      "this is init\n"
     ]
    }
   ],
   "source": [
    "class c1:\n",
    "    print \"this is class\"\n",
    "    def __init__(self,name,age,weight,height):\n",
    "        print \"this is init\"\n",
    "    def get(self):\n",
    "        return self.name, self.age,self.weight, self.height\n",
    "o1=c1(\"name1\",23,54.67,5.3)\n",
    "o2=c1(\"name2\",22,55.67,5.8)\n",
    "o3=c1(\"name3\",26,57.67,5.1)"
   ]
  },
  {
   "cell_type": "code",
   "execution_count": 10,
   "metadata": {},
   "outputs": [
    {
     "name": "stdout",
     "output_type": "stream",
     "text": [
      "this is class\n",
      "this is init\n",
      "this is init\n",
      "this is init\n"
     ]
    },
    {
     "ename": "AttributeError",
     "evalue": "c1 instance has no attribute 'name'",
     "output_type": "error",
     "traceback": [
      "\u001b[0;31m---------------------------------------------------------------------------\u001b[0m",
      "\u001b[0;31mAttributeError\u001b[0m                            Traceback (most recent call last)",
      "\u001b[0;32m<ipython-input-10-2daaa56fe30a>\u001b[0m in \u001b[0;36m<module>\u001b[0;34m()\u001b[0m\n\u001b[1;32m      8\u001b[0m \u001b[0mo2\u001b[0m\u001b[0;34m=\u001b[0m\u001b[0mc1\u001b[0m\u001b[0;34m(\u001b[0m\u001b[0;34m\"name2\"\u001b[0m\u001b[0;34m,\u001b[0m\u001b[0;36m22\u001b[0m\u001b[0;34m,\u001b[0m\u001b[0;36m55.67\u001b[0m\u001b[0;34m,\u001b[0m\u001b[0;36m5.8\u001b[0m\u001b[0;34m)\u001b[0m\u001b[0;34m\u001b[0m\u001b[0m\n\u001b[1;32m      9\u001b[0m \u001b[0mo3\u001b[0m\u001b[0;34m=\u001b[0m\u001b[0mc1\u001b[0m\u001b[0;34m(\u001b[0m\u001b[0;34m\"name3\"\u001b[0m\u001b[0;34m,\u001b[0m\u001b[0;36m26\u001b[0m\u001b[0;34m,\u001b[0m\u001b[0;36m57.67\u001b[0m\u001b[0;34m,\u001b[0m\u001b[0;36m5.1\u001b[0m\u001b[0;34m)\u001b[0m\u001b[0;34m\u001b[0m\u001b[0m\n\u001b[0;32m---> 10\u001b[0;31m \u001b[0;32mprint\u001b[0m \u001b[0mo1\u001b[0m\u001b[0;34m.\u001b[0m\u001b[0mget\u001b[0m\u001b[0;34m(\u001b[0m\u001b[0;34m)\u001b[0m\u001b[0;34m\u001b[0m\u001b[0m\n\u001b[0m",
      "\u001b[0;32m<ipython-input-10-2daaa56fe30a>\u001b[0m in \u001b[0;36mget\u001b[0;34m(self)\u001b[0m\n\u001b[1;32m      4\u001b[0m         \u001b[0;32mprint\u001b[0m \u001b[0;34m\"this is init\"\u001b[0m\u001b[0;34m\u001b[0m\u001b[0m\n\u001b[1;32m      5\u001b[0m     \u001b[0;32mdef\u001b[0m \u001b[0mget\u001b[0m\u001b[0;34m(\u001b[0m\u001b[0mself\u001b[0m\u001b[0;34m)\u001b[0m\u001b[0;34m:\u001b[0m\u001b[0;34m\u001b[0m\u001b[0m\n\u001b[0;32m----> 6\u001b[0;31m         \u001b[0;32mreturn\u001b[0m \u001b[0mself\u001b[0m\u001b[0;34m.\u001b[0m\u001b[0mname\u001b[0m\u001b[0;34m,\u001b[0m \u001b[0mself\u001b[0m\u001b[0;34m.\u001b[0m\u001b[0mage\u001b[0m\u001b[0;34m,\u001b[0m\u001b[0mself\u001b[0m\u001b[0;34m.\u001b[0m\u001b[0mweight\u001b[0m\u001b[0;34m,\u001b[0m \u001b[0mself\u001b[0m\u001b[0;34m.\u001b[0m\u001b[0mheight\u001b[0m\u001b[0;34m\u001b[0m\u001b[0m\n\u001b[0m\u001b[1;32m      7\u001b[0m \u001b[0mo1\u001b[0m\u001b[0;34m=\u001b[0m\u001b[0mc1\u001b[0m\u001b[0;34m(\u001b[0m\u001b[0;34m\"name1\"\u001b[0m\u001b[0;34m,\u001b[0m\u001b[0;36m23\u001b[0m\u001b[0;34m,\u001b[0m\u001b[0;36m54.67\u001b[0m\u001b[0;34m,\u001b[0m\u001b[0;36m5.3\u001b[0m\u001b[0;34m)\u001b[0m\u001b[0;34m\u001b[0m\u001b[0m\n\u001b[1;32m      8\u001b[0m \u001b[0mo2\u001b[0m\u001b[0;34m=\u001b[0m\u001b[0mc1\u001b[0m\u001b[0;34m(\u001b[0m\u001b[0;34m\"name2\"\u001b[0m\u001b[0;34m,\u001b[0m\u001b[0;36m22\u001b[0m\u001b[0;34m,\u001b[0m\u001b[0;36m55.67\u001b[0m\u001b[0;34m,\u001b[0m\u001b[0;36m5.8\u001b[0m\u001b[0;34m)\u001b[0m\u001b[0;34m\u001b[0m\u001b[0m\n",
      "\u001b[0;31mAttributeError\u001b[0m: c1 instance has no attribute 'name'"
     ]
    }
   ],
   "source": [
    "class c1:\n",
    "    print \"this is class\"\n",
    "    def __init__(self,name,age,weight,height):\n",
    "        print \"this is init\"\n",
    "    def get(self):\n",
    "        return self.name, self.age,self.weight, self.height\n",
    "o1=c1(\"name1\",23,54.67,5.3)\n",
    "o2=c1(\"name2\",22,55.67,5.8)\n",
    "o3=c1(\"name3\",26,57.67,5.1)\n",
    "print o1.get()"
   ]
  },
  {
   "cell_type": "code",
   "execution_count": 11,
   "metadata": {},
   "outputs": [
    {
     "name": "stdout",
     "output_type": "stream",
     "text": [
      "this is class\n",
      "this is init\n",
      "this is init\n",
      "this is init\n",
      "('name1', 23, 54.67, 5.3)\n"
     ]
    }
   ],
   "source": [
    "class c1:\n",
    "    print \"this is class\"\n",
    "    def __init__(self,name1,age1,weight1,height1):\n",
    "        print \"this is init\"\n",
    "        self.name=name1\n",
    "        self.age=age1\n",
    "        self.weight=weight1\n",
    "        self.height=height1\n",
    "    def get(self):\n",
    "        return self.name, self.age,self.weight, self.height\n",
    "o1=c1(\"name1\",23,54.67,5.3)\n",
    "o2=c1(\"name2\",22,55.67,5.8)\n",
    "o3=c1(\"name3\",26,57.67,5.1)\n",
    "print o1.get()"
   ]
  },
  {
   "cell_type": "code",
   "execution_count": 12,
   "metadata": {},
   "outputs": [
    {
     "name": "stdout",
     "output_type": "stream",
     "text": [
      "this is class\n",
      "this is init\n",
      "this is init\n",
      "this is init\n",
      "('name1', 23, 54.67, 5.3)\n",
      "('name2', 22, 55.67, 5.8)\n",
      "('name3', 26, 57.67, 5.1)\n"
     ]
    }
   ],
   "source": [
    "class c1:\n",
    "    print \"this is class\"\n",
    "    def __init__(self,name1,age1,weight1,height1):\n",
    "        print \"this is init\"\n",
    "        self.name=name1\n",
    "        self.age=age1\n",
    "        self.weight=weight1\n",
    "        self.height=height1\n",
    "    def get(self):\n",
    "        return self.name, self.age,self.weight, self.height\n",
    "o1=c1(\"name1\",23,54.67,5.3)\n",
    "o2=c1(\"name2\",22,55.67,5.8)\n",
    "o3=c1(\"name3\",26,57.67,5.1)\n",
    "print o1.get()\n",
    "print o2.get()\n",
    "print o3.get()"
   ]
  },
  {
   "cell_type": "code",
   "execution_count": 13,
   "metadata": {},
   "outputs": [
    {
     "name": "stdout",
     "output_type": "stream",
     "text": [
      "this is class\n"
     ]
    },
    {
     "ename": "TypeError",
     "evalue": "__init__() takes exactly 5 arguments (4 given)",
     "output_type": "error",
     "traceback": [
      "\u001b[0;31m---------------------------------------------------------------------------\u001b[0m",
      "\u001b[0;31mTypeError\u001b[0m                                 Traceback (most recent call last)",
      "\u001b[0;32m<ipython-input-13-d168a504aca2>\u001b[0m in \u001b[0;36m<module>\u001b[0;34m()\u001b[0m\n\u001b[1;32m      9\u001b[0m     \u001b[0;32mdef\u001b[0m \u001b[0mget\u001b[0m\u001b[0;34m(\u001b[0m\u001b[0mself\u001b[0m\u001b[0;34m)\u001b[0m\u001b[0;34m:\u001b[0m\u001b[0;34m\u001b[0m\u001b[0m\n\u001b[1;32m     10\u001b[0m         \u001b[0;32mreturn\u001b[0m \u001b[0mself\u001b[0m\u001b[0;34m.\u001b[0m\u001b[0mname\u001b[0m\u001b[0;34m,\u001b[0m \u001b[0mself\u001b[0m\u001b[0;34m.\u001b[0m\u001b[0mage\u001b[0m\u001b[0;34m,\u001b[0m\u001b[0mself\u001b[0m\u001b[0;34m.\u001b[0m\u001b[0mweight\u001b[0m\u001b[0;34m,\u001b[0m \u001b[0mself\u001b[0m\u001b[0;34m.\u001b[0m\u001b[0mheight\u001b[0m\u001b[0;34m\u001b[0m\u001b[0m\n\u001b[0;32m---> 11\u001b[0;31m \u001b[0mo1\u001b[0m\u001b[0;34m=\u001b[0m\u001b[0mc1\u001b[0m\u001b[0;34m(\u001b[0m\u001b[0;34m\"name1\"\u001b[0m\u001b[0;34m,\u001b[0m\u001b[0;36m23\u001b[0m\u001b[0;34m,\u001b[0m\u001b[0;36m54.67\u001b[0m\u001b[0;34m)\u001b[0m\u001b[0;34m\u001b[0m\u001b[0m\n\u001b[0m\u001b[1;32m     12\u001b[0m \u001b[0;32mprint\u001b[0m \u001b[0mo1\u001b[0m\u001b[0;34m.\u001b[0m\u001b[0mget\u001b[0m\u001b[0;34m(\u001b[0m\u001b[0;34m)\u001b[0m\u001b[0;34m\u001b[0m\u001b[0m\n\u001b[1;32m     13\u001b[0m \u001b[0;32mprint\u001b[0m \u001b[0mo2\u001b[0m\u001b[0;34m.\u001b[0m\u001b[0mget\u001b[0m\u001b[0;34m(\u001b[0m\u001b[0;34m)\u001b[0m\u001b[0;34m\u001b[0m\u001b[0m\n",
      "\u001b[0;31mTypeError\u001b[0m: __init__() takes exactly 5 arguments (4 given)"
     ]
    }
   ],
   "source": [
    "class c1:\n",
    "    print \"this is class\"\n",
    "    def __init__(self,name1,age1,weight1,height1):\n",
    "        print \"this is init\"\n",
    "        self.name=name1\n",
    "        self.age=age1\n",
    "        self.weight=weight1\n",
    "        self.height=height1\n",
    "    def get(self):\n",
    "        return self.name, self.age,self.weight, self.height\n",
    "o1=c1(\"name1\",23,54.67)\n",
    "print o1.get()\n",
    "print o2.get()\n",
    "print o3.get()"
   ]
  },
  {
   "cell_type": "code",
   "execution_count": 15,
   "metadata": {},
   "outputs": [
    {
     "name": "stdout",
     "output_type": "stream",
     "text": [
      "this is class\n",
      "this is init\n",
      "('name1', 23, 54.67, 0.0)\n"
     ]
    }
   ],
   "source": [
    "class c1:\n",
    "    print \"this is class\"\n",
    "    def __init__(self,name1,age1,weight1=0.0,height1=0.0):\n",
    "        print \"this is init\"\n",
    "        self.name=name1\n",
    "        self.age=age1\n",
    "        self.weight=weight1\n",
    "        self.height=height1\n",
    "    def get(self):\n",
    "        return self.name, self.age,self.weight, self.height\n",
    "o1=c1(\"name1\",23,54.67)\n",
    "print o1.get()\n"
   ]
  },
  {
   "cell_type": "code",
   "execution_count": 16,
   "metadata": {},
   "outputs": [
    {
     "name": "stdout",
     "output_type": "stream",
     "text": [
      "this is class\n",
      "this is init\n",
      "('name1', 23, 0.0, 0.0)\n"
     ]
    }
   ],
   "source": [
    "class c1:\n",
    "    print \"this is class\"\n",
    "    def __init__(self,name1,age1,weight1=0.0,height1=0.0):\n",
    "        print \"this is init\"\n",
    "        self.name=name1\n",
    "        self.age=age1\n",
    "        self.weight=weight1\n",
    "        self.height=height1\n",
    "    def get(self):\n",
    "        return self.name, self.age,self.weight, self.height\n",
    "o1=c1(\"name1\",23)\n",
    "print o1.get()\n"
   ]
  },
  {
   "cell_type": "code",
   "execution_count": 18,
   "metadata": {},
   "outputs": [
    {
     "name": "stdout",
     "output_type": "stream",
     "text": [
      "this is class\n",
      "this is init\n",
      "('name1', 23, 0.0, 0.0)\n"
     ]
    }
   ],
   "source": [
    "class c1:\n",
    "    print \"this is class\"\n",
    "    def __init__(self,name1,age1,weight1=0.0,height1=0.0):\n",
    "        print \"this is init\"\n",
    "        self.name=name1\n",
    "        self.age=age1\n",
    "        self.weight=weight1\n",
    "        self.height=height1\n",
    "    def get(self):\n",
    "        return self.name, self.age,self.weight, self.height\n",
    "o1=c1(age1=23, name1=\"name1\")\n",
    "print o1.get()\n"
   ]
  },
  {
   "cell_type": "code",
   "execution_count": 19,
   "metadata": {},
   "outputs": [
    {
     "name": "stdout",
     "output_type": "stream",
     "text": [
      "this is class\n",
      "this is init\n",
      "('name1', 23, 0.0, 0.0)\n"
     ]
    }
   ],
   "source": [
    "class c1:\n",
    "    print \"this is class\"\n",
    "    def __init__(self,name1,age1,weight1=0.0,height1=0.0):\n",
    "        print \"this is init\"\n",
    "        self.name=name1\n",
    "        self.age=age1\n",
    "        self.weight=weight1\n",
    "        self.height=height1\n",
    "        return None\n",
    "    def get(self):\n",
    "        return self.name, self.age,self.weight, self.height\n",
    "o1=c1(age1=23, name1=\"name1\")\n",
    "print o1.get()\n"
   ]
  },
  {
   "cell_type": "code",
   "execution_count": 20,
   "metadata": {},
   "outputs": [
    {
     "name": "stdout",
     "output_type": "stream",
     "text": [
      "this is class\n",
      "this is init\n"
     ]
    },
    {
     "ename": "TypeError",
     "evalue": "__init__() should return None",
     "output_type": "error",
     "traceback": [
      "\u001b[0;31m---------------------------------------------------------------------------\u001b[0m",
      "\u001b[0;31mTypeError\u001b[0m                                 Traceback (most recent call last)",
      "\u001b[0;32m<ipython-input-20-70d87c3625bb>\u001b[0m in \u001b[0;36m<module>\u001b[0;34m()\u001b[0m\n\u001b[1;32m     10\u001b[0m     \u001b[0;32mdef\u001b[0m \u001b[0mget\u001b[0m\u001b[0;34m(\u001b[0m\u001b[0mself\u001b[0m\u001b[0;34m)\u001b[0m\u001b[0;34m:\u001b[0m\u001b[0;34m\u001b[0m\u001b[0m\n\u001b[1;32m     11\u001b[0m         \u001b[0;32mreturn\u001b[0m \u001b[0mself\u001b[0m\u001b[0;34m.\u001b[0m\u001b[0mname\u001b[0m\u001b[0;34m,\u001b[0m \u001b[0mself\u001b[0m\u001b[0;34m.\u001b[0m\u001b[0mage\u001b[0m\u001b[0;34m,\u001b[0m\u001b[0mself\u001b[0m\u001b[0;34m.\u001b[0m\u001b[0mweight\u001b[0m\u001b[0;34m,\u001b[0m \u001b[0mself\u001b[0m\u001b[0;34m.\u001b[0m\u001b[0mheight\u001b[0m\u001b[0;34m\u001b[0m\u001b[0m\n\u001b[0;32m---> 12\u001b[0;31m \u001b[0mo1\u001b[0m\u001b[0;34m=\u001b[0m\u001b[0mc1\u001b[0m\u001b[0;34m(\u001b[0m\u001b[0mage1\u001b[0m\u001b[0;34m=\u001b[0m\u001b[0;36m23\u001b[0m\u001b[0;34m,\u001b[0m \u001b[0mname1\u001b[0m\u001b[0;34m=\u001b[0m\u001b[0;34m\"name1\"\u001b[0m\u001b[0;34m)\u001b[0m\u001b[0;34m\u001b[0m\u001b[0m\n\u001b[0m\u001b[1;32m     13\u001b[0m \u001b[0;32mprint\u001b[0m \u001b[0mo1\u001b[0m\u001b[0;34m.\u001b[0m\u001b[0mget\u001b[0m\u001b[0;34m(\u001b[0m\u001b[0;34m)\u001b[0m\u001b[0;34m\u001b[0m\u001b[0m\n",
      "\u001b[0;31mTypeError\u001b[0m: __init__() should return None"
     ]
    }
   ],
   "source": [
    "class c1:\n",
    "    print \"this is class\"\n",
    "    def __init__(self,name1,age1,weight1=0.0,height1=0.0):\n",
    "        print \"this is init\"\n",
    "        self.name=name1\n",
    "        self.age=age1\n",
    "        self.weight=weight1\n",
    "        self.height=height1\n",
    "        return \"sdfsdf\"\n",
    "    def get(self):\n",
    "        return self.name, self.age,self.weight, self.height\n",
    "o1=c1(age1=23, name1=\"name1\")\n",
    "print o1.get()\n"
   ]
  },
  {
   "cell_type": "code",
   "execution_count": null,
   "metadata": {
    "collapsed": true
   },
   "outputs": [],
   "source": [
    "class c1:\n",
    "    print \"this is class\"\n",
    "    def __init__(self):\n",
    "        self.name=raw_input(\"sdf:\")\n",
    "        self.age=age1\n",
    "        self.weight=weight1\n",
    "        self.height=height1\n",
    "        return \"sdfsdf\"\n",
    "    def get(self):\n",
    "        return self.name, self.age,self.weight, self.height\n",
    "o1=c1()\n",
    "print o1.get()\n"
   ]
  },
  {
   "cell_type": "code",
   "execution_count": 23,
   "metadata": {},
   "outputs": [
    {
     "name": "stdout",
     "output_type": "stream",
     "text": [
      "insert query: {'age': 23, 'name': 'anil'}\n"
     ]
    }
   ],
   "source": [
    "class Model:\n",
    "    def __init__(self, data):\n",
    "        self.data=data\n",
    "    def insert(self):\n",
    "        print \"insert query: %s\"%self.data\n",
    "    def update(self):\n",
    "        print \"update query: %s\"%self.data\n",
    "    def delete(self):\n",
    "        print \"delete query: %s\"%self.data\n",
    "    def browse(self):\n",
    "        print \"select query: %s\"%self.data\n",
    "anil=Model(data={\"name\":\"anil\",\"age\":23})\n",
    "anil.insert()"
   ]
  },
  {
   "cell_type": "code",
   "execution_count": 24,
   "metadata": {},
   "outputs": [
    {
     "name": "stdout",
     "output_type": "stream",
     "text": [
      "update query: {'age': 23, 'name': 'anil'}\n"
     ]
    }
   ],
   "source": [
    "anil.update()"
   ]
  },
  {
   "cell_type": "code",
   "execution_count": 25,
   "metadata": {},
   "outputs": [
    {
     "name": "stdout",
     "output_type": "stream",
     "text": [
      "delete query: {'age': 23, 'name': 'anil'}\n"
     ]
    }
   ],
   "source": [
    "anil.delete()"
   ]
  },
  {
   "cell_type": "code",
   "execution_count": 26,
   "metadata": {},
   "outputs": [
    {
     "name": "stdout",
     "output_type": "stream",
     "text": [
      "select query: {'age': 23, 'name': 'anil'}\n"
     ]
    }
   ],
   "source": [
    "anil.browse()"
   ]
  },
  {
   "cell_type": "code",
   "execution_count": 30,
   "metadata": {},
   "outputs": [
    {
     "name": "stdout",
     "output_type": "stream",
     "text": [
      "insert query: {'age': 23, 'name': 'anil'}\n",
      "{'age': 23, 'name': 'anil'}\n",
      "{'pan': 'sdfdsfsd'}\n"
     ]
    }
   ],
   "source": [
    "class Model:\n",
    "    def __init__(self, data, sensitive_data):\n",
    "        self.data=data\n",
    "        self.sensitive_data=sensitive_data\n",
    "    def insert(self):\n",
    "        print \"insert query: %s\"%self.data\n",
    "    def update(self):\n",
    "        print \"update query: %s\"%self.data\n",
    "    def delete(self):\n",
    "        print \"delete query: %s\"%self.data\n",
    "    def browse(self):\n",
    "        print \"select query: %s\"%self.data\n",
    "anil=Model(data={\"name\":\"anil\",\"age\":23},sensitive_data={\"pan\":\"sdfdsfsd\"})\n",
    "anil.insert()\n",
    "print anil.data\n",
    "print anil.sensitive_data"
   ]
  },
  {
   "cell_type": "code",
   "execution_count": 31,
   "metadata": {},
   "outputs": [
    {
     "name": "stdout",
     "output_type": "stream",
     "text": [
      "insert query: {'age': 23, 'name': 'anil'}\n",
      "{'age': 23, 'name': 'anil'}\n"
     ]
    },
    {
     "ename": "AttributeError",
     "evalue": "Model instance has no attribute '__sensitive_data'",
     "output_type": "error",
     "traceback": [
      "\u001b[0;31m---------------------------------------------------------------------------\u001b[0m",
      "\u001b[0;31mAttributeError\u001b[0m                            Traceback (most recent call last)",
      "\u001b[0;32m<ipython-input-31-d9e15fb00218>\u001b[0m in \u001b[0;36m<module>\u001b[0;34m()\u001b[0m\n\u001b[1;32m     14\u001b[0m \u001b[0manil\u001b[0m\u001b[0;34m.\u001b[0m\u001b[0minsert\u001b[0m\u001b[0;34m(\u001b[0m\u001b[0;34m)\u001b[0m\u001b[0;34m\u001b[0m\u001b[0m\n\u001b[1;32m     15\u001b[0m \u001b[0;32mprint\u001b[0m \u001b[0manil\u001b[0m\u001b[0;34m.\u001b[0m\u001b[0mdata\u001b[0m\u001b[0;34m\u001b[0m\u001b[0m\n\u001b[0;32m---> 16\u001b[0;31m \u001b[0;32mprint\u001b[0m \u001b[0manil\u001b[0m\u001b[0;34m.\u001b[0m\u001b[0m__sensitive_data\u001b[0m\u001b[0;34m\u001b[0m\u001b[0m\n\u001b[0m",
      "\u001b[0;31mAttributeError\u001b[0m: Model instance has no attribute '__sensitive_data'"
     ]
    }
   ],
   "source": [
    "class Model:\n",
    "    def __init__(self, data, sensitive_data):\n",
    "        self.data=data\n",
    "        self.__sensitive_data=sensitive_data\n",
    "    def insert(self):\n",
    "        print \"insert query: %s\"%self.data\n",
    "    def update(self):\n",
    "        print \"update query: %s\"%self.data\n",
    "    def delete(self):\n",
    "        print \"delete query: %s\"%self.data\n",
    "    def browse(self):\n",
    "        print \"select query: %s\"%self.data\n",
    "anil=Model(data={\"name\":\"anil\",\"age\":23},sensitive_data={\"pan\":\"sdfdsfsd\"})\n",
    "anil.insert()\n",
    "print anil.data\n",
    "print anil.__sensitive_data"
   ]
  },
  {
   "cell_type": "code",
   "execution_count": 32,
   "metadata": {},
   "outputs": [
    {
     "name": "stdout",
     "output_type": "stream",
     "text": [
      "insert query: {'age': 23, 'name': 'anil'}, {'pan': 'sdfdsfsd'}\n",
      "{'age': 23, 'name': 'anil'}\n"
     ]
    },
    {
     "ename": "AttributeError",
     "evalue": "Model instance has no attribute '__sensitive_data'",
     "output_type": "error",
     "traceback": [
      "\u001b[0;31m---------------------------------------------------------------------------\u001b[0m",
      "\u001b[0;31mAttributeError\u001b[0m                            Traceback (most recent call last)",
      "\u001b[0;32m<ipython-input-32-d4603c53c46e>\u001b[0m in \u001b[0;36m<module>\u001b[0;34m()\u001b[0m\n\u001b[1;32m     14\u001b[0m \u001b[0manil\u001b[0m\u001b[0;34m.\u001b[0m\u001b[0minsert\u001b[0m\u001b[0;34m(\u001b[0m\u001b[0;34m)\u001b[0m\u001b[0;34m\u001b[0m\u001b[0m\n\u001b[1;32m     15\u001b[0m \u001b[0;32mprint\u001b[0m \u001b[0manil\u001b[0m\u001b[0;34m.\u001b[0m\u001b[0mdata\u001b[0m\u001b[0;34m\u001b[0m\u001b[0m\n\u001b[0;32m---> 16\u001b[0;31m \u001b[0;32mprint\u001b[0m \u001b[0manil\u001b[0m\u001b[0;34m.\u001b[0m\u001b[0m__sensitive_data\u001b[0m\u001b[0;34m\u001b[0m\u001b[0m\n\u001b[0m",
      "\u001b[0;31mAttributeError\u001b[0m: Model instance has no attribute '__sensitive_data'"
     ]
    }
   ],
   "source": [
    "class Model:\n",
    "    def __init__(self, data, sensitive_data):\n",
    "        self.data=data\n",
    "        self.__sensitive_data=sensitive_data\n",
    "    def insert(self):\n",
    "        \n",
    "        print \"insert query: %s, %s\"%(self.data, self.__sensitive_data)\n",
    "    def update(self):\n",
    "        print \"update query: %s\"%(self.data, self.__sensitive_data)\n",
    "    def delete(self):\n",
    "        print \"delete query: %s\"%(self.data, self.__sensitive_data)\n",
    "    def browse(self):\n",
    "        print \"select query: %s\"%(self.data, self.__sensitive_data)\n",
    "anil=Model(data={\"name\":\"anil\",\"age\":23},sensitive_data={\"pan\":\"sdfdsfsd\"})\n",
    "anil.insert()\n",
    "print anil.data\n",
    "print anil.__sensitive_data"
   ]
  },
  {
   "cell_type": "code",
   "execution_count": 33,
   "metadata": {},
   "outputs": [
    {
     "name": "stdout",
     "output_type": "stream",
     "text": [
      "insert query: {'age': 23, 'name': 'anil'}, {'pan': 'sdfdsfsd'}\n",
      "{'age': 23, 'name': 'anil'}\n",
      "{'pan': 'sdfdsfsd'}\n"
     ]
    }
   ],
   "source": [
    "class Model:\n",
    "    def __init__(self, data, sensitive_data):\n",
    "        self.data=data\n",
    "        self.__sensitive_data__=sensitive_data\n",
    "    def insert(self):\n",
    "        \n",
    "        print \"insert query: %s, %s\"%(self.data, self.__sensitive_data__)\n",
    "    def update(self):\n",
    "        print \"update query: %s\"%(self.data, self.__sensitive_data__)\n",
    "    def delete(self):\n",
    "        print \"delete query: %s\"%(self.data, self.__sensitive_data__)\n",
    "    def browse(self):\n",
    "        print \"select query: %s\"%(self.data, self.__sensitive_data__)\n",
    "anil=Model(data={\"name\":\"anil\",\"age\":23},sensitive_data={\"pan\":\"sdfdsfsd\"})\n",
    "anil.insert()\n",
    "print anil.data\n",
    "print anil.__sensitive_data__"
   ]
  },
  {
   "cell_type": "code",
   "execution_count": 34,
   "metadata": {},
   "outputs": [
    {
     "ename": "AttributeError",
     "evalue": "Model instance has no attribute '__insert'",
     "output_type": "error",
     "traceback": [
      "\u001b[0;31m---------------------------------------------------------------------------\u001b[0m",
      "\u001b[0;31mAttributeError\u001b[0m                            Traceback (most recent call last)",
      "\u001b[0;32m<ipython-input-34-b758aa958b08>\u001b[0m in \u001b[0;36m<module>\u001b[0;34m()\u001b[0m\n\u001b[1;32m     13\u001b[0m         \u001b[0;32mprint\u001b[0m \u001b[0;34m\"select query: %s\"\u001b[0m\u001b[0;34m%\u001b[0m\u001b[0;34m(\u001b[0m\u001b[0mself\u001b[0m\u001b[0;34m.\u001b[0m\u001b[0mdata\u001b[0m\u001b[0;34m,\u001b[0m \u001b[0mself\u001b[0m\u001b[0;34m.\u001b[0m\u001b[0m__sensitive_data\u001b[0m\u001b[0;34m)\u001b[0m\u001b[0;34m\u001b[0m\u001b[0m\n\u001b[1;32m     14\u001b[0m \u001b[0manil\u001b[0m\u001b[0;34m=\u001b[0m\u001b[0mModel\u001b[0m\u001b[0;34m(\u001b[0m\u001b[0mdata\u001b[0m\u001b[0;34m=\u001b[0m\u001b[0;34m{\u001b[0m\u001b[0;34m\"name\"\u001b[0m\u001b[0;34m:\u001b[0m\u001b[0;34m\"anil\"\u001b[0m\u001b[0;34m,\u001b[0m\u001b[0;34m\"age\"\u001b[0m\u001b[0;34m:\u001b[0m\u001b[0;36m23\u001b[0m\u001b[0;34m}\u001b[0m\u001b[0;34m,\u001b[0m\u001b[0msensitive_data\u001b[0m\u001b[0;34m=\u001b[0m\u001b[0;34m{\u001b[0m\u001b[0;34m\"pan\"\u001b[0m\u001b[0;34m:\u001b[0m\u001b[0;34m\"sdfdsfsd\"\u001b[0m\u001b[0;34m}\u001b[0m\u001b[0;34m)\u001b[0m\u001b[0;34m\u001b[0m\u001b[0m\n\u001b[0;32m---> 15\u001b[0;31m \u001b[0manil\u001b[0m\u001b[0;34m.\u001b[0m\u001b[0m__insert\u001b[0m\u001b[0;34m(\u001b[0m\u001b[0;34m)\u001b[0m\u001b[0;34m\u001b[0m\u001b[0m\n\u001b[0m\u001b[1;32m     16\u001b[0m \u001b[0;32mprint\u001b[0m \u001b[0manil\u001b[0m\u001b[0;34m.\u001b[0m\u001b[0mdata\u001b[0m\u001b[0;34m\u001b[0m\u001b[0m\n\u001b[1;32m     17\u001b[0m \u001b[0;32mprint\u001b[0m \u001b[0manil\u001b[0m\u001b[0;34m.\u001b[0m\u001b[0m__sensitive_data\u001b[0m\u001b[0;34m\u001b[0m\u001b[0m\n",
      "\u001b[0;31mAttributeError\u001b[0m: Model instance has no attribute '__insert'"
     ]
    }
   ],
   "source": [
    "class Model:\n",
    "    def __init__(self, data, sensitive_data):\n",
    "        self.data=data\n",
    "        self.__sensitive_data=sensitive_data\n",
    "    def __insert(self):\n",
    "        \n",
    "        print \"insert query: %s, %s\"%(self.data, self.__sensitive_data)\n",
    "    def update(self):\n",
    "        print \"update query: %s\"%(self.data, self.__sensitive_data)\n",
    "    def delete(self):\n",
    "        print \"delete query: %s\"%(self.data, self.__sensitive_data)\n",
    "    def browse(self):\n",
    "        print \"select query: %s\"%(self.data, self.__sensitive_data)\n",
    "anil=Model(data={\"name\":\"anil\",\"age\":23},sensitive_data={\"pan\":\"sdfdsfsd\"})\n",
    "anil.__insert()\n",
    "print anil.data\n",
    "print anil.__sensitive_data"
   ]
  },
  {
   "cell_type": "code",
   "execution_count": 36,
   "metadata": {},
   "outputs": [
    {
     "name": "stdout",
     "output_type": "stream",
     "text": [
      "insert query: {'age': 23, 'name': 'anil'}, {'pan': 'sdfdsfsd'}\n",
      "({'age': 23, 'name': 'anil'}, {'pan': 'sdfdsfsd'})\n"
     ]
    }
   ],
   "source": [
    "class Model:\n",
    "    def __init__(self, data, sensitive_data):\n",
    "        self.data=data\n",
    "        self.__sensitive_data=sensitive_data\n",
    "    def insert(self):\n",
    "        \n",
    "        print \"insert query: %s, %s\"%(self.data, self.__sensitive_data)\n",
    "    def update(self):\n",
    "        print \"update query: %s\"%(self.data, self.__sensitive_data)\n",
    "    def delete(self):\n",
    "        print \"delete query: %s\"%(self.data, self.__sensitive_data)\n",
    "    def browse(self):\n",
    "        print \"select query: %s\"%(self.data, self.__sensitive_data)\n",
    "    def get(self):\n",
    "        return self.data, self.__sensitive_data\n",
    "anil=Model(data={\"name\":\"anil\",\"age\":23},sensitive_data={\"pan\":\"sdfdsfsd\"})\n",
    "anil.insert()\n",
    "print anil.get()"
   ]
  },
  {
   "cell_type": "code",
   "execution_count": 37,
   "metadata": {},
   "outputs": [
    {
     "name": "stdout",
     "output_type": "stream",
     "text": [
      "({'age': 23, 'role': 'manager', 'name': 'anil'}, {'pan': 'sdfdsfsd'})\n",
      "{'age': 23, 'role': 'user', 'name': 'ashok'}\n"
     ]
    }
   ],
   "source": [
    "class Model:\n",
    "    def __init__(self, data, sensitive_data):\n",
    "        self.data=data\n",
    "        self.__sensitive_data=sensitive_data\n",
    "    def insert(self):\n",
    "        \n",
    "        print \"insert query: %s, %s\"%(self.data, self.__sensitive_data)\n",
    "    def update(self):\n",
    "        print \"update query: %s\"%(self.data, self.__sensitive_data)\n",
    "    def delete(self):\n",
    "        print \"delete query: %s\"%(self.data, self.__sensitive_data)\n",
    "    def browse(self):\n",
    "        print \"select query: %s\"%(self.data, self.__sensitive_data)\n",
    "    def get(self):\n",
    "        if self.data.get(\"role\")==\"manager\":\n",
    "            return self.data, self.__sensitive_data\n",
    "        else:\n",
    "            return self.data\n",
    "anil=Model(data={\"name\":\"anil\",\"age\":23,\"role\":\"manager\"},sensitive_data={\"pan\":\"sdfdsfsd\"})\n",
    "ashok=Model(data={\"name\":\"ashok\",\"age\":23,\"role\":\"user\"},sensitive_data={\"pan\":\"sdfdsfsd\"})\n",
    "print anil.get()\n",
    "print ashok.get()"
   ]
  },
  {
   "cell_type": "code",
   "execution_count": 40,
   "metadata": {},
   "outputs": [
    {
     "name": "stdout",
     "output_type": "stream",
     "text": [
      "insert query: {'username': 'user1', 'age': 23, 'password': 'pwd1', 'role': 'manager', 'name': 'anil'}, {'pan': 'sdfdsfsd'}\n",
      "None\n",
      "authentication failed\n",
      "None\n"
     ]
    }
   ],
   "source": [
    "class Model:\n",
    "    def __init__(self, data, sensitive_data):\n",
    "        self.data=data\n",
    "        self.__sensitive_data=sensitive_data\n",
    "    def __login(self):\n",
    "        if self.data.get(\"username\")==\"user1\" and self.data.get(\"password\")==\"pwd1\":\n",
    "            return True\n",
    "        else:\n",
    "            return False\n",
    "    def insert(self):\n",
    "        if self.__login():\n",
    "            print \"insert query: %s, %s\"%(self.data, self.__sensitive_data)\n",
    "        else:\n",
    "            print \"authentication failed\"\n",
    "    def update(self):\n",
    "        print \"update query: %s\"%(self.data, self.__sensitive_data)\n",
    "    def delete(self):\n",
    "        print \"delete query: %s\"%(self.data, self.__sensitive_data)\n",
    "    def browse(self):\n",
    "        print \"select query: %s\"%(self.data, self.__sensitive_data)\n",
    "    def get(self):\n",
    "        if self.data.get(\"role\")==\"manager\":\n",
    "            return self.data, self.__sensitive_data\n",
    "        else:\n",
    "            return self.data\n",
    "anil=Model(data={\"name\":\"anil\",\"age\":23,\"role\":\"manager\",\"username\":\"user1\",\"password\":\"pwd1\"},\n",
    "           sensitive_data={\"pan\":\"sdfdsfsd\"})\n",
    "ashok=Model(data={\"name\":\"ashok\",\"age\":23,\"role\":\"user\",\"username\":\"user2\",\"password\":\"pwd1\"},\n",
    "            sensitive_data={\"pan\":\"sdfdsfsd\"})\n",
    "print anil.insert()\n",
    "print ashok.insert()"
   ]
  },
  {
   "cell_type": "code",
   "execution_count": 41,
   "metadata": {},
   "outputs": [
    {
     "ename": "AttributeError",
     "evalue": "Model instance has no attribute '__login'",
     "output_type": "error",
     "traceback": [
      "\u001b[0;31m---------------------------------------------------------------------------\u001b[0m",
      "\u001b[0;31mAttributeError\u001b[0m                            Traceback (most recent call last)",
      "\u001b[0;32m<ipython-input-41-68c16c24d8f0>\u001b[0m in \u001b[0;36m<module>\u001b[0;34m()\u001b[0m\n\u001b[1;32m     28\u001b[0m ashok=Model(data={\"name\":\"ashok\",\"age\":23,\"role\":\"user\",\"username\":\"user2\",\"password\":\"pwd1\"},\n\u001b[1;32m     29\u001b[0m             sensitive_data={\"pan\":\"sdfdsfsd\"})\n\u001b[0;32m---> 30\u001b[0;31m \u001b[0;32mprint\u001b[0m \u001b[0manil\u001b[0m\u001b[0;34m.\u001b[0m\u001b[0m__login\u001b[0m\u001b[0;34m(\u001b[0m\u001b[0;34m)\u001b[0m\u001b[0;34m\u001b[0m\u001b[0m\n\u001b[0m\u001b[1;32m     31\u001b[0m \u001b[0;32mprint\u001b[0m \u001b[0mashok\u001b[0m\u001b[0;34m.\u001b[0m\u001b[0minsert\u001b[0m\u001b[0;34m(\u001b[0m\u001b[0;34m)\u001b[0m\u001b[0;34m\u001b[0m\u001b[0m\n",
      "\u001b[0;31mAttributeError\u001b[0m: Model instance has no attribute '__login'"
     ]
    }
   ],
   "source": [
    "class Model:\n",
    "    def __init__(self, data, sensitive_data):\n",
    "        self.data=data\n",
    "        self.__sensitive_data=sensitive_data\n",
    "    def __login(self):\n",
    "        if self.data.get(\"username\")==\"user1\" and self.data.get(\"password\")==\"pwd1\":\n",
    "            return True\n",
    "        else:\n",
    "            return False\n",
    "    def insert(self):\n",
    "        if self.__login():\n",
    "            print \"insert query: %s, %s\"%(self.data, self.__sensitive_data)\n",
    "        else:\n",
    "            print \"authentication failed\"\n",
    "    def update(self):\n",
    "        print \"update query: %s\"%(self.data, self.__sensitive_data)\n",
    "    def delete(self):\n",
    "        print \"delete query: %s\"%(self.data, self.__sensitive_data)\n",
    "    def browse(self):\n",
    "        print \"select query: %s\"%(self.data, self.__sensitive_data)\n",
    "    def get(self):\n",
    "        if self.data.get(\"role\")==\"manager\":\n",
    "            return self.data, self.__sensitive_data\n",
    "        else:\n",
    "            return self.data\n",
    "anil=Model(data={\"name\":\"anil\",\"age\":23,\"role\":\"manager\",\"username\":\"user1\",\"password\":\"pwd1\"},\n",
    "           sensitive_data={\"pan\":\"sdfdsfsd\"})\n",
    "ashok=Model(data={\"name\":\"ashok\",\"age\":23,\"role\":\"user\",\"username\":\"user2\",\"password\":\"pwd1\"},\n",
    "            sensitive_data={\"pan\":\"sdfdsfsd\"})\n",
    "print anil.__login()\n",
    "print ashok.insert()"
   ]
  },
  {
   "cell_type": "code",
   "execution_count": 42,
   "metadata": {},
   "outputs": [
    {
     "name": "stdout",
     "output_type": "stream",
     "text": [
      "10\n"
     ]
    }
   ],
   "source": [
    "# employee: name, age, current, updated sal:  hike per:\n",
    "class c1:\n",
    "    def __init__(self,a):\n",
    "        self.a=a\n",
    "o1=c1(10)\n",
    "print o1.a"
   ]
  },
  {
   "cell_type": "code",
   "execution_count": 43,
   "metadata": {},
   "outputs": [
    {
     "name": "stdout",
     "output_type": "stream",
     "text": [
      "1000\n"
     ]
    }
   ],
   "source": [
    "# employee: name, age, current, updated sal:  hike per:\n",
    "class c1:\n",
    "    def __init__(self,a):\n",
    "        self.a=a\n",
    "o1=c1(10)\n",
    "o1.a=1000\n",
    "print o1.a"
   ]
  },
  {
   "cell_type": "code",
   "execution_count": 45,
   "metadata": {},
   "outputs": [
    {
     "name": "stdout",
     "output_type": "stream",
     "text": [
      "44000.0\n"
     ]
    }
   ],
   "source": [
    "# employee: name, age, current, updated sal:  hike per:\n",
    "class Emp:\n",
    "    def __init__(self, name, age, sal,hike):\n",
    "        self.name=name\n",
    "        self.age=age\n",
    "        self.sal=sal\n",
    "        self.hike=hike\n",
    "    def get(self):\n",
    "        return self.name, self.sal, self.age, self.hike\n",
    "    def update_sal(self):\n",
    "        return self.sal+self.sal*(self.hike/100.0)\n",
    "anil=Emp(\"anil kumar\",23,40000,10)\n",
    "print anil.update_sal()"
   ]
  },
  {
   "cell_type": "code",
   "execution_count": 46,
   "metadata": {},
   "outputs": [
    {
     "name": "stdout",
     "output_type": "stream",
     "text": [
      "80000.0\n"
     ]
    }
   ],
   "source": [
    "# employee: name, age, current, updated sal:  hike per:\n",
    "class Emp:\n",
    "    def __init__(self, name, age, sal,hike):\n",
    "        self.name=name\n",
    "        self.age=age\n",
    "        self.sal=sal\n",
    "        self.hike=hike\n",
    "    def get(self):\n",
    "        return self.name, self.sal, self.age, self.hike\n",
    "    def update_sal(self):\n",
    "        return self.sal+self.sal*(self.hike/100.0)\n",
    "anil=Emp(\"anil kumar\",23,40000,10)\n",
    "anil.hike=100\n",
    "print anil.update_sal()"
   ]
  },
  {
   "cell_type": "code",
   "execution_count": 47,
   "metadata": {},
   "outputs": [
    {
     "name": "stdout",
     "output_type": "stream",
     "text": [
      "44000.0\n"
     ]
    }
   ],
   "source": [
    "# employee: name, age, current, updated sal:  hike per:\n",
    "class Emp:\n",
    "    def __init__(self, name, age, sal,hike):\n",
    "        self.name=name\n",
    "        self.age=age\n",
    "        self.sal=sal\n",
    "        self.__hike=hike\n",
    "    def get(self):\n",
    "        return self.name, self.sal, self.age, self.hike\n",
    "    def update_sal(self):\n",
    "        return self.sal+self.sal*(self.__hike/100.0)\n",
    "anil=Emp(\"anil kumar\",23,40000,10)\n",
    "anil.__hike=100\n",
    "print anil.update_sal()"
   ]
  },
  {
   "cell_type": "code",
   "execution_count": 50,
   "metadata": {},
   "outputs": [
    {
     "data": {
      "text/plain": [
       "('anil kumar', 40000, 23, 10, 44000.0)"
      ]
     },
     "execution_count": 50,
     "metadata": {},
     "output_type": "execute_result"
    }
   ],
   "source": [
    "# employee: name, age, current, updated sal:  hike per:\n",
    "class Emp:\n",
    "    def __init__(self, name, age, sal,hike):\n",
    "        self.name=name\n",
    "        self.age=age\n",
    "        self.sal=sal\n",
    "        self.__hike=hike\n",
    "    def get(self):\n",
    "        return self.name, self.sal, self.age, self.__hike, self.__update_sal()\n",
    "    def __update_sal(self):\n",
    "        return self.sal+self.sal*(self.__hike/100.0)\n",
    "anil=Emp(\"anil kumar\",23,40000,10)\n",
    "anil.get()"
   ]
  },
  {
   "cell_type": "code",
   "execution_count": 53,
   "metadata": {},
   "outputs": [
    {
     "name": "stdout",
     "output_type": "stream",
     "text": [
      "insert query: {'name': 'cust1', 'address': 'ad1'}, customer\n"
     ]
    }
   ],
   "source": [
    "class Model:\n",
    "    def __init__(self, data,table):\n",
    "        self.data=data\n",
    "        self.table=table\n",
    "    def insert(self):\n",
    "        print \"insert query: %s, %s\"%(self.data, self.table)\n",
    "    def update(self):\n",
    "        print \"update query: %s\"%(self.data, self.table)\n",
    "    def delete(self):\n",
    "        print \"delete query: %s\"%(self.data, self.table)\n",
    "    def browse(self):\n",
    "        print \"select query: %s\"%(self.data, self.table)\n",
    "    def get(self):\n",
    "        return self.data\n",
    "customer = Model(data={\"name\":\"cust1\",\"address\":\"ad1\"},table=\"customer\")\n",
    "customer.insert()\n"
   ]
  },
  {
   "cell_type": "code",
   "execution_count": 55,
   "metadata": {},
   "outputs": [
    {
     "name": "stdout",
     "output_type": "stream",
     "text": [
      "insert query: {'name': 'cust1', 'address': 'ad1'}, customer\n",
      "insert query: {'name': 'sup', 'address': 'ad1'}, supplier\n"
     ]
    }
   ],
   "source": [
    "class Model:\n",
    "    def __init__(self, data,table):\n",
    "        self.data=data\n",
    "        self.table=table\n",
    "    def insert(self):\n",
    "        print \"insert query: %s, %s\"%(self.data, self.table)\n",
    "    def update(self):\n",
    "        print \"update query: %s\"%(self.data, self.table)\n",
    "    def delete(self):\n",
    "        print \"delete query: %s\"%(self.data, self.table)\n",
    "    def browse(self):\n",
    "        print \"select query: %s\"%(self.data, self.table)\n",
    "    def get(self):\n",
    "        return self.data\n",
    "customer = Model(data={\"name\":\"cust1\",\"address\":\"ad1\"},table=\"customer\")\n",
    "customer.insert()\n",
    "sup = Model(data={\"name\":\"sup\",\"address\":\"ad1\"},table=\"supplier\")\n",
    "sup.insert()"
   ]
  },
  {
   "cell_type": "code",
   "execution_count": 58,
   "metadata": {},
   "outputs": [
    {
     "ename": "AttributeError",
     "evalue": "Customer instance has no attribute 'insert'",
     "output_type": "error",
     "traceback": [
      "\u001b[0;31m---------------------------------------------------------------------------\u001b[0m",
      "\u001b[0;31mAttributeError\u001b[0m                            Traceback (most recent call last)",
      "\u001b[0;32m<ipython-input-58-9659628b1533>\u001b[0m in \u001b[0;36m<module>\u001b[0;34m()\u001b[0m\n\u001b[1;32m     31\u001b[0m \u001b[0mc\u001b[0m\u001b[0;34m=\u001b[0m\u001b[0mCustomer\u001b[0m\u001b[0;34m(\u001b[0m\u001b[0mname\u001b[0m\u001b[0;34m=\u001b[0m\u001b[0;34m\"cust1\"\u001b[0m\u001b[0;34m,\u001b[0m\u001b[0maddress\u001b[0m\u001b[0;34m=\u001b[0m\u001b[0;34m\"ad1\"\u001b[0m\u001b[0;34m)\u001b[0m\u001b[0;34m\u001b[0m\u001b[0m\n\u001b[1;32m     32\u001b[0m \u001b[0ms\u001b[0m\u001b[0;34m=\u001b[0m\u001b[0mSup\u001b[0m\u001b[0;34m(\u001b[0m\u001b[0mname\u001b[0m\u001b[0;34m=\u001b[0m\u001b[0;34m\"sup1\"\u001b[0m\u001b[0;34m,\u001b[0m\u001b[0maddress\u001b[0m\u001b[0;34m=\u001b[0m\u001b[0;34m\"ad2\"\u001b[0m\u001b[0;34m,\u001b[0m\u001b[0mwarehosuename\u001b[0m\u001b[0;34m=\u001b[0m\u001b[0;34m\"wareshouse1\"\u001b[0m\u001b[0;34m)\u001b[0m\u001b[0;34m\u001b[0m\u001b[0m\n\u001b[0;32m---> 33\u001b[0;31m \u001b[0mc\u001b[0m\u001b[0;34m.\u001b[0m\u001b[0minsert\u001b[0m\u001b[0;34m(\u001b[0m\u001b[0;34m)\u001b[0m\u001b[0;34m\u001b[0m\u001b[0m\n\u001b[0m\u001b[1;32m     34\u001b[0m \u001b[0ms\u001b[0m\u001b[0;34m.\u001b[0m\u001b[0minsert\u001b[0m\u001b[0;34m(\u001b[0m\u001b[0;34m)\u001b[0m\u001b[0;34m\u001b[0m\u001b[0m\n",
      "\u001b[0;31mAttributeError\u001b[0m: Customer instance has no attribute 'insert'"
     ]
    }
   ],
   "source": [
    "class Model:\n",
    "    def __init__(self, data,table):\n",
    "        self.data=data\n",
    "        self.table=table\n",
    "    def insert(self):\n",
    "        print \"insert query: %s, %s\"%(self.data, self.table)\n",
    "    def update(self):\n",
    "        print \"update query: %s\"%(self.data, self.table)\n",
    "    def delete(self):\n",
    "        print \"delete query: %s\"%(self.data, self.table)\n",
    "    def browse(self):\n",
    "        print \"select query: %s\"%(self.data, self.table)\n",
    "    def get(self):\n",
    "        return self.data\n",
    "class Customer:\n",
    "    def __init__(self,name, address):\n",
    "        self.name=name\n",
    "        self.address=address\n",
    "        self.table=\"customer\"\n",
    "class Sup:\n",
    "    def __init__(self, name, address, warehosuename):\n",
    "        self.name=name\n",
    "        self.address=address\n",
    "        self.warehosuename = warehosuename\n",
    "'''\n",
    "customer = Model(data={\"name\":\"cust1\",\"address\":\"ad1\"},table=\"customer\")\n",
    "customer.insert()\n",
    "sup = Model(data={\"name\":\"sup\",\"address\":\"ad1\"},table=\"supplier\")\n",
    "sup.insert()\n",
    "'''\n",
    "c=Customer(name=\"cust1\",address=\"ad1\")\n",
    "s=Sup(name=\"sup1\",address=\"ad2\",warehosuename=\"wareshouse1\")\n",
    "c.insert()\n",
    "s.insert()"
   ]
  },
  {
   "cell_type": "code",
   "execution_count": 60,
   "metadata": {},
   "outputs": [
    {
     "name": "stdout",
     "output_type": "stream",
     "text": [
      "insert query: cust1, ad1,customer\n",
      "insert query: sup1, ad2, wareshouse1,supplier\n"
     ]
    }
   ],
   "source": [
    "class Model:\n",
    "    def __init__(self, data,table):\n",
    "        self.data=data\n",
    "        self.table=table\n",
    "    def insert(self):\n",
    "        print \"insert query: %s, %s\"%(self.data, self.table)\n",
    "    def update(self):\n",
    "        print \"update query: %s\"%(self.data, self.table)\n",
    "    def delete(self):\n",
    "        print \"delete query: %s\"%(self.data, self.table)\n",
    "    def browse(self):\n",
    "        print \"select query: %s\"%(self.data, self.table)\n",
    "    def get(self):\n",
    "        return self.data\n",
    "class Customer:\n",
    "    def __init__(self,name, address):\n",
    "        self.name=name\n",
    "        self.address=address\n",
    "        self.table=\"customer\"\n",
    "    def insert(self):\n",
    "        print \"insert query: %s, %s,%s\"%(self.name,self.address, self.table)\n",
    "class Sup:\n",
    "    def __init__(self, name, address, warehosuename):\n",
    "        self.name=name\n",
    "        self.address=address\n",
    "        self.warehosuename = warehosuename\n",
    "        self.table=\"supplier\"\n",
    "    def insert(self):\n",
    "        print \"insert query: %s, %s, %s,%s\"%(self.name,self.address,self.warehosuename, self.table)\n",
    "'''\n",
    "customer = Model(data={\"name\":\"cust1\",\"address\":\"ad1\"},table=\"customer\")\n",
    "customer.insert()\n",
    "sup = Model(data={\"name\":\"sup\",\"address\":\"ad1\"},table=\"supplier\")\n",
    "sup.insert()\n",
    "'''\n",
    "c=Customer(name=\"cust1\",address=\"ad1\")\n",
    "s=Sup(name=\"sup1\",address=\"ad2\",warehosuename=\"wareshouse1\")\n",
    "c.insert()\n",
    "s.insert()"
   ]
  },
  {
   "cell_type": "code",
   "execution_count": 61,
   "metadata": {
    "collapsed": true
   },
   "outputs": [],
   "source": [
    "class c1:\n",
    "    def fun1(self):\n",
    "        print \"this is fun1 in c1\"\n",
    "class c2:\n",
    "    def fun2(self):\n",
    "        print \"this is fun2 in c2\"\n",
    "class c3:\n",
    "    def operations(self):\n",
    "        pass\n",
    "o3=c3()\n",
    "o3.operations()"
   ]
  },
  {
   "cell_type": "code",
   "execution_count": 62,
   "metadata": {},
   "outputs": [
    {
     "name": "stdout",
     "output_type": "stream",
     "text": [
      "this is fun1 in c1\n",
      "this is fun2 in c2\n"
     ]
    }
   ],
   "source": [
    "class c1:\n",
    "    def fun1(self):\n",
    "        print \"this is fun1 in c1\"\n",
    "class c2:\n",
    "    def fun2(self):\n",
    "        print \"this is fun2 in c2\"\n",
    "class c3:\n",
    "    def operations(self):\n",
    "        o1=c1()\n",
    "        o2=c2()\n",
    "        o1.fun1()\n",
    "        o2.fun2()\n",
    "o3=c3()\n",
    "o3.operations()"
   ]
  },
  {
   "cell_type": "code",
   "execution_count": 63,
   "metadata": {},
   "outputs": [
    {
     "ename": "AttributeError",
     "evalue": "c3 instance has no attribute 'fun1'",
     "output_type": "error",
     "traceback": [
      "\u001b[0;31m---------------------------------------------------------------------------\u001b[0m",
      "\u001b[0;31mAttributeError\u001b[0m                            Traceback (most recent call last)",
      "\u001b[0;32m<ipython-input-63-60d99deebe3c>\u001b[0m in \u001b[0;36m<module>\u001b[0;34m()\u001b[0m\n\u001b[1;32m     10\u001b[0m         \u001b[0mself\u001b[0m\u001b[0;34m.\u001b[0m\u001b[0mfun2\u001b[0m\u001b[0;34m(\u001b[0m\u001b[0;34m)\u001b[0m\u001b[0;34m\u001b[0m\u001b[0m\n\u001b[1;32m     11\u001b[0m \u001b[0mo3\u001b[0m\u001b[0;34m=\u001b[0m\u001b[0mc3\u001b[0m\u001b[0;34m(\u001b[0m\u001b[0;34m)\u001b[0m\u001b[0;34m\u001b[0m\u001b[0m\n\u001b[0;32m---> 12\u001b[0;31m \u001b[0mo3\u001b[0m\u001b[0;34m.\u001b[0m\u001b[0moperations\u001b[0m\u001b[0;34m(\u001b[0m\u001b[0;34m)\u001b[0m\u001b[0;34m\u001b[0m\u001b[0m\n\u001b[0m",
      "\u001b[0;32m<ipython-input-63-60d99deebe3c>\u001b[0m in \u001b[0;36moperations\u001b[0;34m(self)\u001b[0m\n\u001b[1;32m      7\u001b[0m \u001b[0;32mclass\u001b[0m \u001b[0mc3\u001b[0m\u001b[0;34m:\u001b[0m\u001b[0;34m\u001b[0m\u001b[0m\n\u001b[1;32m      8\u001b[0m     \u001b[0;32mdef\u001b[0m \u001b[0moperations\u001b[0m\u001b[0;34m(\u001b[0m\u001b[0mself\u001b[0m\u001b[0;34m)\u001b[0m\u001b[0;34m:\u001b[0m\u001b[0;34m\u001b[0m\u001b[0m\n\u001b[0;32m----> 9\u001b[0;31m         \u001b[0mself\u001b[0m\u001b[0;34m.\u001b[0m\u001b[0mfun1\u001b[0m\u001b[0;34m(\u001b[0m\u001b[0;34m)\u001b[0m\u001b[0;34m\u001b[0m\u001b[0m\n\u001b[0m\u001b[1;32m     10\u001b[0m         \u001b[0mself\u001b[0m\u001b[0;34m.\u001b[0m\u001b[0mfun2\u001b[0m\u001b[0;34m(\u001b[0m\u001b[0;34m)\u001b[0m\u001b[0;34m\u001b[0m\u001b[0m\n\u001b[1;32m     11\u001b[0m \u001b[0mo3\u001b[0m\u001b[0;34m=\u001b[0m\u001b[0mc3\u001b[0m\u001b[0;34m(\u001b[0m\u001b[0;34m)\u001b[0m\u001b[0;34m\u001b[0m\u001b[0m\n",
      "\u001b[0;31mAttributeError\u001b[0m: c3 instance has no attribute 'fun1'"
     ]
    }
   ],
   "source": [
    "class c1:\n",
    "    def fun1(self):\n",
    "        print \"this is fun1 in c1\"\n",
    "class c2:\n",
    "    def fun2(self):\n",
    "        print \"this is fun2 in c2\"\n",
    "class c3:\n",
    "    def operations(self):\n",
    "        self.fun1()\n",
    "        self.fun2()\n",
    "o3=c3()\n",
    "o3.operations()"
   ]
  },
  {
   "cell_type": "code",
   "execution_count": 64,
   "metadata": {},
   "outputs": [
    {
     "name": "stdout",
     "output_type": "stream",
     "text": [
      "this is fun1 in c1\n"
     ]
    },
    {
     "ename": "AttributeError",
     "evalue": "c3 instance has no attribute 'fun2'",
     "output_type": "error",
     "traceback": [
      "\u001b[0;31m---------------------------------------------------------------------------\u001b[0m",
      "\u001b[0;31mAttributeError\u001b[0m                            Traceback (most recent call last)",
      "\u001b[0;32m<ipython-input-64-afc04bd1952b>\u001b[0m in \u001b[0;36m<module>\u001b[0;34m()\u001b[0m\n\u001b[1;32m     10\u001b[0m         \u001b[0mself\u001b[0m\u001b[0;34m.\u001b[0m\u001b[0mfun2\u001b[0m\u001b[0;34m(\u001b[0m\u001b[0;34m)\u001b[0m\u001b[0;34m\u001b[0m\u001b[0m\n\u001b[1;32m     11\u001b[0m \u001b[0mo3\u001b[0m\u001b[0;34m=\u001b[0m\u001b[0mc3\u001b[0m\u001b[0;34m(\u001b[0m\u001b[0;34m)\u001b[0m\u001b[0;34m\u001b[0m\u001b[0m\n\u001b[0;32m---> 12\u001b[0;31m \u001b[0mo3\u001b[0m\u001b[0;34m.\u001b[0m\u001b[0moperations\u001b[0m\u001b[0;34m(\u001b[0m\u001b[0;34m)\u001b[0m\u001b[0;34m\u001b[0m\u001b[0m\n\u001b[0m",
      "\u001b[0;32m<ipython-input-64-afc04bd1952b>\u001b[0m in \u001b[0;36moperations\u001b[0;34m(self)\u001b[0m\n\u001b[1;32m      8\u001b[0m     \u001b[0;32mdef\u001b[0m \u001b[0moperations\u001b[0m\u001b[0;34m(\u001b[0m\u001b[0mself\u001b[0m\u001b[0;34m)\u001b[0m\u001b[0;34m:\u001b[0m\u001b[0;34m\u001b[0m\u001b[0m\n\u001b[1;32m      9\u001b[0m         \u001b[0mself\u001b[0m\u001b[0;34m.\u001b[0m\u001b[0mfun1\u001b[0m\u001b[0;34m(\u001b[0m\u001b[0;34m)\u001b[0m\u001b[0;34m\u001b[0m\u001b[0m\n\u001b[0;32m---> 10\u001b[0;31m         \u001b[0mself\u001b[0m\u001b[0;34m.\u001b[0m\u001b[0mfun2\u001b[0m\u001b[0;34m(\u001b[0m\u001b[0;34m)\u001b[0m\u001b[0;34m\u001b[0m\u001b[0m\n\u001b[0m\u001b[1;32m     11\u001b[0m \u001b[0mo3\u001b[0m\u001b[0;34m=\u001b[0m\u001b[0mc3\u001b[0m\u001b[0;34m(\u001b[0m\u001b[0;34m)\u001b[0m\u001b[0;34m\u001b[0m\u001b[0m\n\u001b[1;32m     12\u001b[0m \u001b[0mo3\u001b[0m\u001b[0;34m.\u001b[0m\u001b[0moperations\u001b[0m\u001b[0;34m(\u001b[0m\u001b[0;34m)\u001b[0m\u001b[0;34m\u001b[0m\u001b[0m\n",
      "\u001b[0;31mAttributeError\u001b[0m: c3 instance has no attribute 'fun2'"
     ]
    }
   ],
   "source": [
    "class c1:\n",
    "    def fun1(self):\n",
    "        print \"this is fun1 in c1\"\n",
    "class c2:\n",
    "    def fun2(self):\n",
    "        print \"this is fun2 in c2\"\n",
    "class c3(c1):\n",
    "    def operations(self):\n",
    "        self.fun1()\n",
    "        self.fun2()\n",
    "o3=c3()\n",
    "o3.operations()"
   ]
  },
  {
   "cell_type": "code",
   "execution_count": 65,
   "metadata": {},
   "outputs": [
    {
     "name": "stdout",
     "output_type": "stream",
     "text": [
      "this is fun1 in c1\n",
      "this is fun2 in c2\n"
     ]
    }
   ],
   "source": [
    "class c1:\n",
    "    def fun1(self):\n",
    "        print \"this is fun1 in c1\"\n",
    "class c2:\n",
    "    def fun2(self):\n",
    "        print \"this is fun2 in c2\"\n",
    "class c3(c1,c2):\n",
    "    def operations(self):\n",
    "        self.fun1()\n",
    "        self.fun2()\n",
    "o3=c3()\n",
    "o3.operations()"
   ]
  },
  {
   "cell_type": "code",
   "execution_count": 66,
   "metadata": {},
   "outputs": [
    {
     "name": "stdout",
     "output_type": "stream",
     "text": [
      "this is fun1 in c3\n",
      "this is fun2 in c2\n"
     ]
    }
   ],
   "source": [
    "class c1:\n",
    "    def fun1(self):\n",
    "        print \"this is fun1 in c1\"\n",
    "class c2:\n",
    "    def fun2(self):\n",
    "        print \"this is fun2 in c2\"\n",
    "class c3(c1,c2):\n",
    "    def operations(self):\n",
    "        self.fun1()\n",
    "        self.fun2()\n",
    "    def fun1(self):\n",
    "        print \"this is fun1 in c3\"\n",
    "o3=c3()\n",
    "o3.operations()"
   ]
  },
  {
   "cell_type": "code",
   "execution_count": 67,
   "metadata": {},
   "outputs": [
    {
     "name": "stdout",
     "output_type": "stream",
     "text": [
      "this is fun1 in c3\n",
      "this is fun2 in c1\n"
     ]
    }
   ],
   "source": [
    "class c1:\n",
    "    def fun1(self):\n",
    "        print \"this is fun1 in c1\"\n",
    "    def fun2(self):\n",
    "        print \"this is fun2 in c1\"\n",
    "class c2:\n",
    "    def fun2(self):\n",
    "        print \"this is fun2 in c2\"\n",
    "class c3(c1,c2):\n",
    "    def operations(self):\n",
    "        self.fun1()\n",
    "        self.fun2()\n",
    "    def fun1(self):\n",
    "        print \"this is fun1 in c3\"\n",
    "o3=c3()\n",
    "o3.operations()"
   ]
  },
  {
   "cell_type": "code",
   "execution_count": 68,
   "metadata": {},
   "outputs": [
    {
     "name": "stdout",
     "output_type": "stream",
     "text": [
      "this is fun1 in c3\n"
     ]
    }
   ],
   "source": [
    "class c1:\n",
    "    def fun1(self):\n",
    "        print \"this is fun1 in c1\"\n",
    "class c2:\n",
    "    def fun2(self):\n",
    "        print \"this is fun2 in c2\"\n",
    "class c3(c1):\n",
    "    def operations(self):\n",
    "        self.fun1()\n",
    "    def fun1(self):\n",
    "        print \"this is fun1 in c3\"\n",
    "o3=c3()\n",
    "o3.operations()"
   ]
  },
  {
   "cell_type": "code",
   "execution_count": 69,
   "metadata": {},
   "outputs": [
    {
     "name": "stdout",
     "output_type": "stream",
     "text": [
      "this is fun2 in c2\n"
     ]
    }
   ],
   "source": [
    "class c1:\n",
    "    def fun1(self):\n",
    "        print \"this is fun1 in c1\"\n",
    "class c2(c1):\n",
    "    def fun2(self):\n",
    "        print \"this is fun2 in c2\"\n",
    "class c3(c2):\n",
    "    def operations(self):\n",
    "        self.fun1()\n",
    "o3=c3()\n",
    "o3.fun2()"
   ]
  },
  {
   "cell_type": "code",
   "execution_count": 70,
   "metadata": {},
   "outputs": [
    {
     "name": "stdout",
     "output_type": "stream",
     "text": [
      "this is fun2 in c2\n",
      "this is fun1 in c1\n"
     ]
    }
   ],
   "source": [
    "class c1:\n",
    "    def fun1(self):\n",
    "        print \"this is fun1 in c1\"\n",
    "class c2(c1):\n",
    "    def fun2(self):\n",
    "        print \"this is fun2 in c2\"\n",
    "class c3(c2):\n",
    "    def operations(self):\n",
    "        self.fun1()\n",
    "o3=c3()\n",
    "o3.fun2()\n",
    "o3.fun1()"
   ]
  },
  {
   "cell_type": "code",
   "execution_count": 71,
   "metadata": {},
   "outputs": [
    {
     "name": "stdout",
     "output_type": "stream",
     "text": [
      "this is fun1 in c1\n"
     ]
    }
   ],
   "source": [
    "class c1:\n",
    "    def fun1(self):\n",
    "        print \"this is fun1 in c1\"\n",
    "class c2(c1):\n",
    "    def fun2(self):\n",
    "        print \"this is fun2 in c2\"\n",
    "class c3(c2):\n",
    "    def operations(self):\n",
    "        self.fun1()\n",
    "o3=c3()\n",
    "o3.operations()"
   ]
  },
  {
   "cell_type": "code",
   "execution_count": 73,
   "metadata": {},
   "outputs": [
    {
     "name": "stdout",
     "output_type": "stream",
     "text": [
      "insert\n",
      "insert\n"
     ]
    }
   ],
   "source": [
    "class Model:\n",
    "    def insert(self):\n",
    "        print \"insert\"\n",
    "    def update(self):\n",
    "        print \"update\"\n",
    "    def delete(self):\n",
    "        print \"delete\"\n",
    "class Customer(Model):\n",
    "    pass\n",
    "class Sup(Model):\n",
    "    pass\n",
    "c1=Customer()\n",
    "c1.insert()\n",
    "s=Sup()\n",
    "s.insert()"
   ]
  },
  {
   "cell_type": "code",
   "execution_count": 74,
   "metadata": {},
   "outputs": [
    {
     "ename": "TypeError",
     "evalue": "__init__() takes exactly 2 arguments (1 given)",
     "output_type": "error",
     "traceback": [
      "\u001b[0;31m---------------------------------------------------------------------------\u001b[0m",
      "\u001b[0;31mTypeError\u001b[0m                                 Traceback (most recent call last)",
      "\u001b[0;32m<ipython-input-74-154c14088d0c>\u001b[0m in \u001b[0;36m<module>\u001b[0;34m()\u001b[0m\n\u001b[1;32m     12\u001b[0m \u001b[0;32mclass\u001b[0m \u001b[0mSup\u001b[0m\u001b[0;34m(\u001b[0m\u001b[0mModel\u001b[0m\u001b[0;34m)\u001b[0m\u001b[0;34m:\u001b[0m\u001b[0;34m\u001b[0m\u001b[0m\n\u001b[1;32m     13\u001b[0m     \u001b[0;32mpass\u001b[0m\u001b[0;34m\u001b[0m\u001b[0m\n\u001b[0;32m---> 14\u001b[0;31m \u001b[0mc1\u001b[0m\u001b[0;34m=\u001b[0m\u001b[0mCustomer\u001b[0m\u001b[0;34m(\u001b[0m\u001b[0;34m)\u001b[0m\u001b[0;34m\u001b[0m\u001b[0m\n\u001b[0m\u001b[1;32m     15\u001b[0m \u001b[0mc1\u001b[0m\u001b[0;34m.\u001b[0m\u001b[0minsert\u001b[0m\u001b[0;34m(\u001b[0m\u001b[0;34m)\u001b[0m\u001b[0;34m\u001b[0m\u001b[0m\n\u001b[1;32m     16\u001b[0m \u001b[0ms\u001b[0m\u001b[0;34m=\u001b[0m\u001b[0mSup\u001b[0m\u001b[0;34m(\u001b[0m\u001b[0;34m)\u001b[0m\u001b[0;34m\u001b[0m\u001b[0m\n",
      "\u001b[0;31mTypeError\u001b[0m: __init__() takes exactly 2 arguments (1 given)"
     ]
    }
   ],
   "source": [
    "class Model:\n",
    "    def __init__(self, data):\n",
    "        self.data=data\n",
    "    def insert(self):\n",
    "        print \"insert:%s\"%self.data\n",
    "    def update(self):\n",
    "        print \"update:%s\"%self.data\n",
    "    def delete(self):\n",
    "        print \"delete:%s\"%self.data\n",
    "class Customer(Model):\n",
    "    pass\n",
    "class Sup(Model):\n",
    "    pass\n",
    "c1=Customer()\n",
    "c1.insert()\n",
    "s=Sup()\n",
    "s.insert()"
   ]
  },
  {
   "cell_type": "code",
   "execution_count": 77,
   "metadata": {},
   "outputs": [
    {
     "name": "stdout",
     "output_type": "stream",
     "text": [
      "insert\n",
      "insert\n"
     ]
    }
   ],
   "source": [
    "class Model:\n",
    "    def insert(self):\n",
    "        print \"insert\"\n",
    "    def update(self):\n",
    "        pass\n",
    "        #print \"update:%s\"%self.data\n",
    "    def delete(self):\n",
    "        pass\n",
    "        #print \"delete:%s\"%self.data\n",
    "class Customer(Model):\n",
    "    pass\n",
    "class Sup(Model):\n",
    "    pass\n",
    "c1=Customer()\n",
    "c1.insert()\n",
    "s=Sup()\n",
    "s.insert()"
   ]
  },
  {
   "cell_type": "code",
   "execution_count": 78,
   "metadata": {},
   "outputs": [
    {
     "ename": "AttributeError",
     "evalue": "Customer instance has no attribute 'insert1'",
     "output_type": "error",
     "traceback": [
      "\u001b[0;31m---------------------------------------------------------------------------\u001b[0m",
      "\u001b[0;31mAttributeError\u001b[0m                            Traceback (most recent call last)",
      "\u001b[0;32m<ipython-input-78-a5059411eb6b>\u001b[0m in \u001b[0;36m<module>\u001b[0;34m()\u001b[0m\n\u001b[1;32m     13\u001b[0m     \u001b[0;32mpass\u001b[0m\u001b[0;34m\u001b[0m\u001b[0m\n\u001b[1;32m     14\u001b[0m \u001b[0mc1\u001b[0m\u001b[0;34m=\u001b[0m\u001b[0mCustomer\u001b[0m\u001b[0;34m(\u001b[0m\u001b[0;34m)\u001b[0m\u001b[0;34m\u001b[0m\u001b[0m\n\u001b[0;32m---> 15\u001b[0;31m \u001b[0mc1\u001b[0m\u001b[0;34m.\u001b[0m\u001b[0minsert1\u001b[0m\u001b[0;34m(\u001b[0m\u001b[0;34m)\u001b[0m\u001b[0;34m\u001b[0m\u001b[0m\n\u001b[0m\u001b[1;32m     16\u001b[0m \u001b[0ms\u001b[0m\u001b[0;34m=\u001b[0m\u001b[0mSup\u001b[0m\u001b[0;34m(\u001b[0m\u001b[0;34m)\u001b[0m\u001b[0;34m\u001b[0m\u001b[0m\n\u001b[1;32m     17\u001b[0m \u001b[0ms\u001b[0m\u001b[0;34m.\u001b[0m\u001b[0minsert1\u001b[0m\u001b[0;34m(\u001b[0m\u001b[0;34m)\u001b[0m\u001b[0;34m\u001b[0m\u001b[0m\n",
      "\u001b[0;31mAttributeError\u001b[0m: Customer instance has no attribute 'insert1'"
     ]
    }
   ],
   "source": [
    "class Model:\n",
    "    def insert(self):\n",
    "        print \"insert\"\n",
    "    def update(self):\n",
    "        pass\n",
    "        #print \"update:%s\"%self.data\n",
    "    def delete(self):\n",
    "        pass\n",
    "        #print \"delete:%s\"%self.data\n",
    "class Customer(Model):\n",
    "    pass\n",
    "class Sup(Model):\n",
    "    pass\n",
    "c1=Customer()\n",
    "c1.insert1()\n",
    "s=Sup()\n",
    "s.insert1()"
   ]
  },
  {
   "cell_type": "code",
   "execution_count": 81,
   "metadata": {},
   "outputs": [
    {
     "name": "stdout",
     "output_type": "stream",
     "text": [
      "insert:{'name': 'cust1', 'address': 'ad1'}, customer\n",
      "insert:{'ware': 'w1', 'name': 'sup', 'address': 'ad1'}, sup\n"
     ]
    }
   ],
   "source": [
    "class Model:\n",
    "    def __init__(self, data,table=None):\n",
    "        self.data=data\n",
    "        self.table=table\n",
    "    def insert(self):\n",
    "        print \"insert:%s, %s\"%(self.data,self.table)\n",
    "    def update(self):\n",
    "        print \"update:%s, %s\"%(self.data,self.table)\n",
    "    def delete(self):\n",
    "        print \"delete:%s, %s\"%(self.data,self.table)\n",
    "class Customer(Model):\n",
    "    pass\n",
    "class Sup(Model):\n",
    "    pass\n",
    "c1=Customer(data={\"name\":\"cust1\",\"address\":\"ad1\"},table=\"customer\")\n",
    "s=Sup(data={\"name\":\"sup\",\"address\":\"ad1\",\"ware\":\"w1\"}, table=\"sup\")\n",
    "c1.insert()\n",
    "s.insert()"
   ]
  },
  {
   "cell_type": "code",
   "execution_count": 82,
   "metadata": {},
   "outputs": [
    {
     "ename": "AttributeError",
     "evalue": "Customer instance has no attribute 'data'",
     "output_type": "error",
     "traceback": [
      "\u001b[0;31m---------------------------------------------------------------------------\u001b[0m",
      "\u001b[0;31mAttributeError\u001b[0m                            Traceback (most recent call last)",
      "\u001b[0;32m<ipython-input-82-b988de3b241a>\u001b[0m in \u001b[0;36m<module>\u001b[0;34m()\u001b[0m\n\u001b[1;32m     22\u001b[0m \u001b[0mc1\u001b[0m\u001b[0;34m=\u001b[0m\u001b[0mCustomer\u001b[0m\u001b[0;34m(\u001b[0m\u001b[0;34m\"cust1\"\u001b[0m\u001b[0;34m,\u001b[0m\u001b[0;34m\"address1\"\u001b[0m\u001b[0;34m)\u001b[0m\u001b[0;34m\u001b[0m\u001b[0m\n\u001b[1;32m     23\u001b[0m \u001b[0ms\u001b[0m\u001b[0;34m=\u001b[0m\u001b[0mSup\u001b[0m\u001b[0;34m(\u001b[0m\u001b[0;34m\"sup1\"\u001b[0m\u001b[0;34m,\u001b[0m\u001b[0;34m\"address2\"\u001b[0m\u001b[0;34m,\u001b[0m\u001b[0;34m\"ware1\"\u001b[0m\u001b[0;34m)\u001b[0m\u001b[0;34m\u001b[0m\u001b[0m\n\u001b[0;32m---> 24\u001b[0;31m \u001b[0mc1\u001b[0m\u001b[0;34m.\u001b[0m\u001b[0minsert\u001b[0m\u001b[0;34m(\u001b[0m\u001b[0;34m)\u001b[0m\u001b[0;34m\u001b[0m\u001b[0m\n\u001b[0m\u001b[1;32m     25\u001b[0m \u001b[0ms\u001b[0m\u001b[0;34m.\u001b[0m\u001b[0minsert\u001b[0m\u001b[0;34m(\u001b[0m\u001b[0;34m)\u001b[0m\u001b[0;34m\u001b[0m\u001b[0m\n",
      "\u001b[0;32m<ipython-input-82-b988de3b241a>\u001b[0m in \u001b[0;36minsert\u001b[0;34m(self)\u001b[0m\n\u001b[1;32m      3\u001b[0m         \u001b[0mself\u001b[0m\u001b[0;34m.\u001b[0m\u001b[0mdata\u001b[0m\u001b[0;34m=\u001b[0m\u001b[0mdata\u001b[0m\u001b[0;34m\u001b[0m\u001b[0m\n\u001b[1;32m      4\u001b[0m     \u001b[0;32mdef\u001b[0m \u001b[0minsert\u001b[0m\u001b[0;34m(\u001b[0m\u001b[0mself\u001b[0m\u001b[0;34m)\u001b[0m\u001b[0;34m:\u001b[0m\u001b[0;34m\u001b[0m\u001b[0m\n\u001b[0;32m----> 5\u001b[0;31m         \u001b[0;32mprint\u001b[0m \u001b[0;34m\"insert:%s, %s\"\u001b[0m\u001b[0;34m%\u001b[0m\u001b[0;34m(\u001b[0m\u001b[0mself\u001b[0m\u001b[0;34m.\u001b[0m\u001b[0mdata\u001b[0m\u001b[0;34m,\u001b[0m\u001b[0mself\u001b[0m\u001b[0;34m.\u001b[0m\u001b[0mtable\u001b[0m\u001b[0;34m)\u001b[0m\u001b[0;34m\u001b[0m\u001b[0m\n\u001b[0m\u001b[1;32m      6\u001b[0m     \u001b[0;32mdef\u001b[0m \u001b[0mupdate\u001b[0m\u001b[0;34m(\u001b[0m\u001b[0mself\u001b[0m\u001b[0;34m)\u001b[0m\u001b[0;34m:\u001b[0m\u001b[0;34m\u001b[0m\u001b[0m\n\u001b[1;32m      7\u001b[0m         \u001b[0;32mprint\u001b[0m \u001b[0;34m\"update:%s, %s\"\u001b[0m\u001b[0;34m%\u001b[0m\u001b[0;34m(\u001b[0m\u001b[0mself\u001b[0m\u001b[0;34m.\u001b[0m\u001b[0mdata\u001b[0m\u001b[0;34m,\u001b[0m\u001b[0mself\u001b[0m\u001b[0;34m.\u001b[0m\u001b[0mtable\u001b[0m\u001b[0;34m)\u001b[0m\u001b[0;34m\u001b[0m\u001b[0m\n",
      "\u001b[0;31mAttributeError\u001b[0m: Customer instance has no attribute 'data'"
     ]
    }
   ],
   "source": [
    "class Model:\n",
    "    def __init__(self, data):\n",
    "        self.data=data\n",
    "    def insert(self):\n",
    "        print \"insert:%s, %s\"%(self.data,self.table)\n",
    "    def update(self):\n",
    "        print \"update:%s, %s\"%(self.data,self.table)\n",
    "    def delete(self):\n",
    "        print \"delete:%s, %s\"%(self.data,self.table)\n",
    "class Customer(Model):\n",
    "    def __init__(self, name, address):\n",
    "        self.name=name\n",
    "        self.address=address\n",
    "        self.table=\"customer\"\n",
    "class Sup(Model):\n",
    "    def __init__(self,name, address, ware):\n",
    "        self.name=name\n",
    "        self.address=address\n",
    "        self.ware=ware\n",
    "        self.table=\"supplier\"\n",
    "        \n",
    "c1=Customer(\"cust1\",\"address1\")\n",
    "s=Sup(\"sup1\",\"address2\",\"ware1\")\n",
    "c1.insert()\n",
    "s.insert()"
   ]
  },
  {
   "cell_type": "code",
   "execution_count": 83,
   "metadata": {},
   "outputs": [
    {
     "name": "stdout",
     "output_type": "stream",
     "text": [
      "insert:{'name': 'cust1', 'address': 'address1'}, customer\n",
      "insert:{'ware': 'ware1', 'name': 'sup1', 'address': 'address2'}, supplier\n"
     ]
    }
   ],
   "source": [
    "class Model:\n",
    "    def __init__(self, data):\n",
    "        self.data=data\n",
    "    def insert(self):\n",
    "        print \"insert:%s, %s\"%(self.data,self.table)\n",
    "    def update(self):\n",
    "        print \"update:%s, %s\"%(self.data,self.table)\n",
    "    def delete(self):\n",
    "        print \"delete:%s, %s\"%(self.data,self.table)\n",
    "class Customer(Model):\n",
    "    def __init__(self, name, address):\n",
    "        self.name=name\n",
    "        self.address=address\n",
    "        self.table=\"customer\"\n",
    "        self.data={\"name\":self.name,\"address\":self.address}\n",
    "class Sup(Model):\n",
    "    def __init__(self,name, address, ware):\n",
    "        self.name=name\n",
    "        self.address=address\n",
    "        self.ware=ware\n",
    "        self.table=\"supplier\"\n",
    "        self.data={\"name\":self.name,\"address\":self.address,\"ware\":self.ware}\n",
    "        \n",
    "c1=Customer(\"cust1\",\"address1\")\n",
    "s=Sup(\"sup1\",\"address2\",\"ware1\")\n",
    "c1.insert()\n",
    "s.insert()"
   ]
  },
  {
   "cell_type": "code",
   "execution_count": null,
   "metadata": {
    "collapsed": true
   },
   "outputs": [],
   "source": [
    "class Model:\n",
    "    def __init__(self, data):\n",
    "        self.data=data\n",
    "    def insert(self):\n",
    "        print \"insert:%s, %s\"%(self.data,self.table)\n",
    "    def update(self):\n",
    "        print \"update:%s, %s\"%(self.data,self.table)\n",
    "    def delete(self):\n",
    "        print \"delete:%s, %s\"%(self.data,self.table)\n",
    "class Customer(Model):\n",
    "    def __init__(self, name, address):\n",
    "        self.name=name\n",
    "        self.address=address\n",
    "        self.table=\"customer\"\n",
    "        self.__init__(data={\"name\":self.name,\"address\":self.address})\n",
    "class Sup(Model):\n",
    "    def __init__(self,name, address, ware):\n",
    "        self.name=name\n",
    "        self.address=address\n",
    "        self.ware=ware\n",
    "        self.table=\"supplier\"\n",
    "        self.__init__(data={\"name\":self.name,\"address\":self.address,\"ware\":self.ware})\n",
    "        \n",
    "c1=Customer(\"cust1\",\"address1\")\n",
    "s=Sup(\"sup1\",\"address2\",\"ware1\")\n",
    "c1.insert()\n",
    "s.insert()"
   ]
  },
  {
   "cell_type": "code",
   "execution_count": 84,
   "metadata": {},
   "outputs": [
    {
     "name": "stdout",
     "output_type": "stream",
     "text": [
      "insert:{'name': 'cust1', 'address': 'address1'}, customer\n",
      "insert:{'ware': 'ware1', 'name': 'sup1', 'address': 'address2'}, supplier\n"
     ]
    }
   ],
   "source": [
    "class Model:\n",
    "    def __init__(self, data):\n",
    "        self.data=data\n",
    "    def insert(self):\n",
    "        print \"insert:%s, %s\"%(self.data,self.table)\n",
    "    def update(self):\n",
    "        print \"update:%s, %s\"%(self.data,self.table)\n",
    "    def delete(self):\n",
    "        print \"delete:%s, %s\"%(self.data,self.table)\n",
    "class Customer(Model):\n",
    "    def __init__(self, name, address):\n",
    "        self.name=name\n",
    "        self.address=address\n",
    "        self.table=\"customer\"\n",
    "        Model.__init__(self,data={\"name\":self.name,\"address\":self.address})\n",
    "class Sup(Model):\n",
    "    def __init__(self,name, address, ware):\n",
    "        self.name=name\n",
    "        self.address=address\n",
    "        self.ware=ware\n",
    "        self.table=\"supplier\"\n",
    "        Model.__init__(self,data={\"name\":self.name,\"address\":self.address,\"ware\":self.ware})\n",
    "        \n",
    "c1=Customer(\"cust1\",\"address1\")\n",
    "s=Sup(\"sup1\",\"address2\",\"ware1\")\n",
    "c1.insert()\n",
    "s.insert()"
   ]
  },
  {
   "cell_type": "code",
   "execution_count": 85,
   "metadata": {},
   "outputs": [
    {
     "name": "stdout",
     "output_type": "stream",
     "text": [
      "insert:{'name': 'cust1', 'address': 'address1'}, customer\n",
      "validate\n",
      "insert:{'ware': 'ware1', 'name': 'sup1', 'address': 'address2'}, supplier\n"
     ]
    }
   ],
   "source": [
    "class Model:\n",
    "    def __init__(self, data):\n",
    "        self.data=data\n",
    "    def insert(self):\n",
    "        print \"insert:%s, %s\"%(self.data,self.table)\n",
    "    def update(self):\n",
    "        print \"update:%s, %s\"%(self.data,self.table)\n",
    "    def delete(self):\n",
    "        print \"delete:%s, %s\"%(self.data,self.table)\n",
    "class Customer(Model):\n",
    "    def __init__(self, name, address):\n",
    "        self.name=name\n",
    "        self.address=address\n",
    "        self.table=\"customer\"\n",
    "        Model.__init__(self,data={\"name\":self.name,\"address\":self.address})\n",
    "class Sup(Model):\n",
    "    def __init__(self,name, address, ware):\n",
    "        self.name=name\n",
    "        self.address=address\n",
    "        self.ware=ware\n",
    "        self.table=\"supplier\"\n",
    "        Model.__init__(self,data={\"name\":self.name,\"address\":self.address,\"ware\":self.ware})\n",
    "    def validate_insert(self):\n",
    "        print \"validate\"\n",
    "        print \"insert:%s, %s\"%(self.data,self.table)\n",
    "        \n",
    "c1=Customer(\"cust1\",\"address1\")\n",
    "s=Sup(\"sup1\",\"address2\",\"ware1\")\n",
    "c1.insert()\n",
    "s.validate_insert()"
   ]
  },
  {
   "cell_type": "code",
   "execution_count": 86,
   "metadata": {},
   "outputs": [
    {
     "name": "stdout",
     "output_type": "stream",
     "text": [
      "insert:{'name': 'cust1', 'address': 'address1'}, customer\n",
      "validate\n",
      "insert:{'ware': 'ware1', 'name': 'sup1', 'address': 'address2'}, supplier\n"
     ]
    }
   ],
   "source": [
    "class Model:\n",
    "    def __init__(self, data):\n",
    "        self.data=data\n",
    "    def insert(self):\n",
    "        print \"insert:%s, %s\"%(self.data,self.table)\n",
    "    def update(self):\n",
    "        print \"update:%s, %s\"%(self.data,self.table)\n",
    "    def delete(self):\n",
    "        print \"delete:%s, %s\"%(self.data,self.table)\n",
    "class Customer(Model):\n",
    "    def __init__(self, name, address):\n",
    "        self.name=name\n",
    "        self.address=address\n",
    "        self.table=\"customer\"\n",
    "        Model.__init__(self,data={\"name\":self.name,\"address\":self.address})\n",
    "class Sup(Model):\n",
    "    def __init__(self,name, address, ware):\n",
    "        self.name=name\n",
    "        self.address=address\n",
    "        self.ware=ware\n",
    "        self.table=\"supplier\"\n",
    "        Model.__init__(self,data={\"name\":self.name,\"address\":self.address,\"ware\":self.ware})\n",
    "    def validate_insert(self):\n",
    "        print \"validate\"\n",
    "        self.insert()\n",
    "        \n",
    "c1=Customer(\"cust1\",\"address1\")\n",
    "s=Sup(\"sup1\",\"address2\",\"ware1\")\n",
    "c1.insert()\n",
    "s.validate_insert()"
   ]
  },
  {
   "cell_type": "code",
   "execution_count": 87,
   "metadata": {},
   "outputs": [
    {
     "name": "stdout",
     "output_type": "stream",
     "text": [
      "insert:{'name': 'cust1', 'address': 'address1'}, customer\n",
      "insert:{'ware': 'ware1', 'name': 'sup1', 'address': 'address2'}, supplier\n"
     ]
    }
   ],
   "source": [
    "class Model:\n",
    "    def __init__(self, data):\n",
    "        self.data=data\n",
    "    def insert(self):\n",
    "        print \"insert:%s, %s\"%(self.data,self.table)\n",
    "    def update(self):\n",
    "        print \"update:%s, %s\"%(self.data,self.table)\n",
    "    def delete(self):\n",
    "        print \"delete:%s, %s\"%(self.data,self.table)\n",
    "class Customer(Model):\n",
    "    def __init__(self, name, address):\n",
    "        self.name=name\n",
    "        self.address=address\n",
    "        self.table=\"customer\"\n",
    "        Model.__init__(self,data={\"name\":self.name,\"address\":self.address})\n",
    "class Sup(Model):\n",
    "    def __init__(self,name, address, ware):\n",
    "        self.name=name\n",
    "        self.address=address\n",
    "        self.ware=ware\n",
    "        self.table=\"supplier\"\n",
    "        Model.__init__(self,data={\"name\":self.name,\"address\":self.address,\"ware\":self.ware})\n",
    "    def validate_insert(self):\n",
    "        print \"validate\"\n",
    "        self.insert()\n",
    "        \n",
    "c1=Customer(\"cust1\",\"address1\")\n",
    "s=Sup(\"sup1\",\"address2\",\"ware1\")\n",
    "c1.insert()\n",
    "s.insert()"
   ]
  },
  {
   "cell_type": "code",
   "execution_count": 88,
   "metadata": {},
   "outputs": [
    {
     "name": "stdout",
     "output_type": "stream",
     "text": [
      "insert:{'name': 'cust1', 'address': 'address1'}, customer\n",
      "validate\n",
      "insert:{'ware': 'ware1', 'name': 'sup1', 'address': 'address2'}, supplier\n"
     ]
    }
   ],
   "source": [
    "class Model:\n",
    "    def __init__(self, data):\n",
    "        self.data=data\n",
    "    def insert(self):\n",
    "        print \"insert:%s, %s\"%(self.data,self.table)\n",
    "    def update(self):\n",
    "        print \"update:%s, %s\"%(self.data,self.table)\n",
    "    def delete(self):\n",
    "        print \"delete:%s, %s\"%(self.data,self.table)\n",
    "class Customer(Model):\n",
    "    def __init__(self, name, address):\n",
    "        self.name=name\n",
    "        self.address=address\n",
    "        self.table=\"customer\"\n",
    "        Model.__init__(self,data={\"name\":self.name,\"address\":self.address})\n",
    "class Sup(Model):\n",
    "    def __init__(self,name, address, ware):\n",
    "        self.name=name\n",
    "        self.address=address\n",
    "        self.ware=ware\n",
    "        self.table=\"supplier\"\n",
    "        Model.__init__(self,data={\"name\":self.name,\"address\":self.address,\"ware\":self.ware})\n",
    "    def insert(self):\n",
    "        print \"validate\"\n",
    "        print \"insert:%s, %s\"%(self.data,self.table)\n",
    "        \n",
    "c1=Customer(\"cust1\",\"address1\")\n",
    "s=Sup(\"sup1\",\"address2\",\"ware1\")\n",
    "c1.insert()\n",
    "s.insert()"
   ]
  },
  {
   "cell_type": "code",
   "execution_count": 89,
   "metadata": {},
   "outputs": [
    {
     "name": "stdout",
     "output_type": "stream",
     "text": [
      "insert:{'name': 'cust1', 'address': 'address1'}, customer\n",
      "validate\n",
      "insert:{'ware': 'ware1', 'name': 'sup1', 'address': 'address2'}, supplier\n"
     ]
    }
   ],
   "source": [
    "class Model:\n",
    "    def __init__(self, data):\n",
    "        self.data=data\n",
    "    def insert(self):\n",
    "        print \"insert:%s, %s\"%(self.data,self.table)\n",
    "    def update(self):\n",
    "        print \"update:%s, %s\"%(self.data,self.table)\n",
    "    def delete(self):\n",
    "        print \"delete:%s, %s\"%(self.data,self.table)\n",
    "class Customer(Model):\n",
    "    def __init__(self, name, address):\n",
    "        self.name=name\n",
    "        self.address=address\n",
    "        self.table=\"customer\"\n",
    "        Model.__init__(self,data={\"name\":self.name,\"address\":self.address})\n",
    "class Sup(Model):\n",
    "    def __init__(self,name, address, ware):\n",
    "        self.name=name\n",
    "        self.address=address\n",
    "        self.ware=ware\n",
    "        self.table=\"supplier\"\n",
    "        Model.__init__(self,data={\"name\":self.name,\"address\":self.address,\"ware\":self.ware})\n",
    "    def insert(self):\n",
    "        print \"validate\"\n",
    "        Model.insert(self)\n",
    "        \n",
    "c1=Customer(\"cust1\",\"address1\")\n",
    "s=Sup(\"sup1\",\"address2\",\"ware1\")\n",
    "c1.insert()\n",
    "s.insert()"
   ]
  },
  {
   "cell_type": "code",
   "execution_count": 2,
   "metadata": {
    "collapsed": true
   },
   "outputs": [],
   "source": [
    "# method overloading\n",
    "# calling a same function with different number of arguments and different types of arguments\n",
    "# in pytthon can achieve this using defalut arguments, *args, **kwargs\n",
    "class Emp:\n",
    "    def __init__(self, name, age=0, weight=0, height=0):\n",
    "        self.name=name\n",
    "        self.age=age\n",
    "        self.weight=weight\n",
    "        self.height=height\n",
    "anil=Emp(\"Anil kumar\")\n",
    "jay=Emp(\"jayaram\",1.5, 12)\n",
    "vedha=Emp(\"Vedhanvesh\",0.5,7,1)\n",
    "\n",
    "\n",
    "        "
   ]
  },
  {
   "cell_type": "code",
   "execution_count": 5,
   "metadata": {},
   "outputs": [
    {
     "name": "stdout",
     "output_type": "stream",
     "text": [
      "new is called\n",
      "None\n"
     ]
    }
   ],
   "source": [
    "# singleton\n",
    "\"\"\"\n",
    "Three steps are involved in data object creation i.e : anil=Emp(\"Anil kumar\")\n",
    "1. it will call __new__ method to create data object\n",
    "2. by taking the data object from __new__, it will call constructor. do.__init__(params)\n",
    "3. return the dataobject. that is refer by anil in the below program.\n",
    "\"\"\"\n",
    "class Emp(object):\n",
    "    def __new__(cls, *args):\n",
    "        print \"new is called\"\n",
    "        return None\n",
    "    def __init__(self, name, age=0, weight=0, height=0):\n",
    "        print \"init called\"\n",
    "        self.name=name\n",
    "        self.age=age\n",
    "        self.weight=weight\n",
    "        self.height=height\n",
    "anil=Emp(\"Anil kumar\")\n",
    "print anil"
   ]
  },
  {
   "cell_type": "code",
   "execution_count": 6,
   "metadata": {},
   "outputs": [
    {
     "name": "stdout",
     "output_type": "stream",
     "text": [
      "new is called\n",
      "None\n"
     ]
    }
   ],
   "source": [
    "# singleton\n",
    "\"\"\"\n",
    "Three steps are involved in data object creation i.e : anil=Emp(\"Anil kumar\")\n",
    "1. it will call __new__ method to create data object\n",
    "2. by taking the data object from __new__, it will call constructor. do.__init__(params)\n",
    "3. return the dataobject. that is refer by anil in the below program.\n",
    "\"\"\"\n",
    "class Emp(object):\n",
    "    def __new__(cls, *args):\n",
    "        print \"new is called\"\n",
    "        return None\n",
    "    def __init__(self, name, age=0, weight=0, height=0):\n",
    "        print \"init called\"\n",
    "        self.name=name\n",
    "        self.age=age\n",
    "        self.weight=weight\n",
    "        self.height=height\n",
    "    def get(self):\n",
    "        return self.name, self.age, self.weight, self.height\n",
    "anil=Emp(\"Anil kumar\")\n",
    "print anil"
   ]
  },
  {
   "cell_type": "code",
   "execution_count": 7,
   "metadata": {},
   "outputs": [
    {
     "name": "stdout",
     "output_type": "stream",
     "text": [
      "new is called\n"
     ]
    },
    {
     "ename": "AttributeError",
     "evalue": "'NoneType' object has no attribute 'name'",
     "output_type": "error",
     "traceback": [
      "\u001b[0;31m---------------------------------------------------------------------------\u001b[0m",
      "\u001b[0;31mAttributeError\u001b[0m                            Traceback (most recent call last)",
      "\u001b[0;32m<ipython-input-7-1b9041e96b38>\u001b[0m in \u001b[0;36m<module>\u001b[0;34m()\u001b[0m\n\u001b[1;32m     19\u001b[0m         \u001b[0;32mreturn\u001b[0m \u001b[0mself\u001b[0m\u001b[0;34m.\u001b[0m\u001b[0mname\u001b[0m\u001b[0;34m,\u001b[0m \u001b[0mself\u001b[0m\u001b[0;34m.\u001b[0m\u001b[0mage\u001b[0m\u001b[0;34m,\u001b[0m \u001b[0mself\u001b[0m\u001b[0;34m.\u001b[0m\u001b[0mweight\u001b[0m\u001b[0;34m,\u001b[0m \u001b[0mself\u001b[0m\u001b[0;34m.\u001b[0m\u001b[0mheight\u001b[0m\u001b[0;34m\u001b[0m\u001b[0m\n\u001b[1;32m     20\u001b[0m \u001b[0manil\u001b[0m\u001b[0;34m=\u001b[0m\u001b[0mEmp\u001b[0m\u001b[0;34m(\u001b[0m\u001b[0;34m\"Anil kumar\"\u001b[0m\u001b[0;34m)\u001b[0m\u001b[0;34m\u001b[0m\u001b[0m\n\u001b[0;32m---> 21\u001b[0;31m \u001b[0;32mprint\u001b[0m \u001b[0manil\u001b[0m\u001b[0;34m.\u001b[0m\u001b[0mname\u001b[0m\u001b[0;34m\u001b[0m\u001b[0m\n\u001b[0m",
      "\u001b[0;31mAttributeError\u001b[0m: 'NoneType' object has no attribute 'name'"
     ]
    }
   ],
   "source": [
    "# singleton\n",
    "\"\"\"\n",
    "Three steps are involved in data object creation i.e : anil=Emp(\"Anil kumar\")\n",
    "1. it will call __new__ method to create data object\n",
    "2. by taking the data object from __new__, it will call constructor. do.__init__(params)\n",
    "3. return the dataobject. that is refer by anil in the below program.\n",
    "\"\"\"\n",
    "class Emp(object):\n",
    "    def __new__(cls, *args):\n",
    "        print \"new is called\"\n",
    "        return None\n",
    "    def __init__(self, name, age=0, weight=0, height=0):\n",
    "        print \"init called\"\n",
    "        self.name=name\n",
    "        self.age=age\n",
    "        self.weight=weight\n",
    "        self.height=height\n",
    "    def get(self):\n",
    "        return self.name, self.age, self.weight, self.height\n",
    "anil=Emp(\"Anil kumar\")\n",
    "print anil.name"
   ]
  },
  {
   "cell_type": "code",
   "execution_count": 8,
   "metadata": {},
   "outputs": [
    {
     "name": "stdout",
     "output_type": "stream",
     "text": [
      "new is called\n"
     ]
    },
    {
     "ename": "AttributeError",
     "evalue": "'NoneType' object has no attribute 'get'",
     "output_type": "error",
     "traceback": [
      "\u001b[0;31m---------------------------------------------------------------------------\u001b[0m",
      "\u001b[0;31mAttributeError\u001b[0m                            Traceback (most recent call last)",
      "\u001b[0;32m<ipython-input-8-718ed9a46fa3>\u001b[0m in \u001b[0;36m<module>\u001b[0;34m()\u001b[0m\n\u001b[1;32m     19\u001b[0m         \u001b[0;32mreturn\u001b[0m \u001b[0mself\u001b[0m\u001b[0;34m.\u001b[0m\u001b[0mname\u001b[0m\u001b[0;34m,\u001b[0m \u001b[0mself\u001b[0m\u001b[0;34m.\u001b[0m\u001b[0mage\u001b[0m\u001b[0;34m,\u001b[0m \u001b[0mself\u001b[0m\u001b[0;34m.\u001b[0m\u001b[0mweight\u001b[0m\u001b[0;34m,\u001b[0m \u001b[0mself\u001b[0m\u001b[0;34m.\u001b[0m\u001b[0mheight\u001b[0m\u001b[0;34m\u001b[0m\u001b[0m\n\u001b[1;32m     20\u001b[0m \u001b[0manil\u001b[0m\u001b[0;34m=\u001b[0m\u001b[0mEmp\u001b[0m\u001b[0;34m(\u001b[0m\u001b[0;34m\"Anil kumar\"\u001b[0m\u001b[0;34m)\u001b[0m\u001b[0;34m\u001b[0m\u001b[0m\n\u001b[0;32m---> 21\u001b[0;31m \u001b[0;32mprint\u001b[0m \u001b[0manil\u001b[0m\u001b[0;34m.\u001b[0m\u001b[0mget\u001b[0m\u001b[0;34m(\u001b[0m\u001b[0;34m)\u001b[0m\u001b[0;34m\u001b[0m\u001b[0m\n\u001b[0m",
      "\u001b[0;31mAttributeError\u001b[0m: 'NoneType' object has no attribute 'get'"
     ]
    }
   ],
   "source": [
    "# singleton\n",
    "\"\"\"\n",
    "Three steps are involved in data object creation i.e : anil=Emp(\"Anil kumar\")\n",
    "1. it will call __new__ method to create data object\n",
    "2. by taking the data object from __new__, it will call constructor. do.__init__(params)\n",
    "3. return the dataobject. that is refer by anil in the below program.\n",
    "\"\"\"\n",
    "class Emp(object):\n",
    "    def __new__(cls, *args):\n",
    "        print \"new is called\"\n",
    "        return None\n",
    "    def __init__(self, name, age=0, weight=0, height=0):\n",
    "        print \"init called\"\n",
    "        self.name=name\n",
    "        self.age=age\n",
    "        self.weight=weight\n",
    "        self.height=height\n",
    "    def get(self):\n",
    "        return self.name, self.age, self.weight, self.height\n",
    "anil=Emp(\"Anil kumar\")\n",
    "print anil.get()"
   ]
  },
  {
   "cell_type": "code",
   "execution_count": 9,
   "metadata": {},
   "outputs": [
    {
     "name": "stdout",
     "output_type": "stream",
     "text": [
      "new is called\n",
      "init called\n",
      "('Anil kumar', 0, 0, 0)\n"
     ]
    },
    {
     "name": "stderr",
     "output_type": "stream",
     "text": [
      "/home/khyaathi-python/anaconda2/lib/python2.7/site-packages/ipykernel_launcher.py:11: DeprecationWarning: object() takes no parameters\n",
      "  # This is added back by InteractiveShellApp.init_path()\n"
     ]
    }
   ],
   "source": [
    "# singleton\n",
    "\"\"\"\n",
    "Three steps are involved in data object creation i.e : anil=Emp(\"Anil kumar\")\n",
    "1. it will call __new__ method to create data object\n",
    "2. by taking the data object from __new__, it will call constructor. do.__init__(params)\n",
    "3. return the dataobject. that is refer by anil in the below program.\n",
    "\"\"\"\n",
    "class Emp(object):\n",
    "    def __new__(cls, *args):\n",
    "        print \"new is called\"\n",
    "        return object.__new__(cls, *args)\n",
    "    def __init__(self, name, age=0, weight=0, height=0):\n",
    "        print \"init called\"\n",
    "        self.name=name\n",
    "        self.age=age\n",
    "        self.weight=weight\n",
    "        self.height=height\n",
    "    def get(self):\n",
    "        return self.name, self.age, self.weight, self.height\n",
    "anil=Emp(\"Anil kumar\")\n",
    "print anil.get()"
   ]
  },
  {
   "cell_type": "code",
   "execution_count": 10,
   "metadata": {},
   "outputs": [
    {
     "name": "stdout",
     "output_type": "stream",
     "text": [
      "new is called\n",
      "init called\n",
      "('Anil kumar', 0, 0, 0)\n"
     ]
    },
    {
     "name": "stderr",
     "output_type": "stream",
     "text": [
      "/home/khyaathi-python/anaconda2/lib/python2.7/site-packages/ipykernel_launcher.py:15: DeprecationWarning: object() takes no parameters\n",
      "  from ipykernel import kernelapp as app\n"
     ]
    }
   ],
   "source": [
    "# singleton\n",
    "\"\"\"\n",
    "Three steps are involved in data object creation i.e : anil=Emp(\"Anil kumar\")\n",
    "1. it will call __new__ method to create data object\n",
    "2. by taking the data object from __new__, it will call constructor. do.__init__(params)\n",
    "3. return the dataobject. that is refer by anil in the below program.\n",
    "\"\"\"\n",
    "class Emp(object):\n",
    "    obj_count=0\n",
    "    def __new__(cls, *args):\n",
    "        print \"new is called\"\n",
    "        if cls.obj_count>2:\n",
    "            raise Exception(\"Can create only two objects.\")\n",
    "        else:\n",
    "            obj = object.__new__(cls, *args)\n",
    "            return obj\n",
    "        \n",
    "    def __init__(self, name, age=0, weight=0, height=0):\n",
    "        print \"init called\"\n",
    "        self.name=name\n",
    "        self.age=age\n",
    "        self.weight=weight\n",
    "        self.height=height\n",
    "    def get(self):\n",
    "        return self.name, self.age, self.weight, self.height\n",
    "anil=Emp(\"Anil kumar\")\n",
    "print anil.get()"
   ]
  },
  {
   "cell_type": "code",
   "execution_count": 11,
   "metadata": {},
   "outputs": [
    {
     "name": "stdout",
     "output_type": "stream",
     "text": [
      "new is called\n",
      "init called\n",
      "('Anil kumar', 0, 0, 0)\n",
      "new is called\n",
      "init called\n",
      "('jayaram', 0, 0, 0)\n"
     ]
    },
    {
     "name": "stderr",
     "output_type": "stream",
     "text": [
      "/home/khyaathi-python/anaconda2/lib/python2.7/site-packages/ipykernel_launcher.py:15: DeprecationWarning: object() takes no parameters\n",
      "  from ipykernel import kernelapp as app\n"
     ]
    }
   ],
   "source": [
    "# singleton\n",
    "\"\"\"\n",
    "Three steps are involved in data object creation i.e : anil=Emp(\"Anil kumar\")\n",
    "1. it will call __new__ method to create data object\n",
    "2. by taking the data object from __new__, it will call constructor. do.__init__(params)\n",
    "3. return the dataobject. that is refer by anil in the below program.\n",
    "\"\"\"\n",
    "class Emp(object):\n",
    "    obj_count=0\n",
    "    def __new__(cls, *args):\n",
    "        print \"new is called\"\n",
    "        if cls.obj_count>2:\n",
    "            raise Exception(\"Can create only two objects.\")\n",
    "        else:\n",
    "            obj = object.__new__(cls, *args)\n",
    "            return obj\n",
    "        \n",
    "    def __init__(self, name, age=0, weight=0, height=0):\n",
    "        print \"init called\"\n",
    "        self.name=name\n",
    "        self.age=age\n",
    "        self.weight=weight\n",
    "        self.height=height\n",
    "    def get(self):\n",
    "        return self.name, self.age, self.weight, self.height\n",
    "anil=Emp(\"Anil kumar\")\n",
    "print anil.get()\n",
    "jay=Emp(\"jayaram\")\n",
    "print jay.get()"
   ]
  },
  {
   "cell_type": "code",
   "execution_count": 14,
   "metadata": {},
   "outputs": [
    {
     "name": "stdout",
     "output_type": "stream",
     "text": [
      "new is called\n",
      "init called\n",
      "('Anil kumar', 0, 0, 0)\n",
      "new is called\n",
      "init called\n",
      "('jayaram', 0, 0, 0)\n",
      "new is called\n"
     ]
    },
    {
     "name": "stderr",
     "output_type": "stream",
     "text": [
      "/home/khyaathi-python/anaconda2/lib/python2.7/site-packages/ipykernel_launcher.py:16: DeprecationWarning: object() takes no parameters\n",
      "  app.launch_new_instance()\n"
     ]
    },
    {
     "ename": "Exception",
     "evalue": "Can create only two objects.",
     "output_type": "error",
     "traceback": [
      "\u001b[0;31m---------------------------------------------------------------------------\u001b[0m",
      "\u001b[0;31mException\u001b[0m                                 Traceback (most recent call last)",
      "\u001b[0;32m<ipython-input-14-88a8cc63dd99>\u001b[0m in \u001b[0;36m<module>\u001b[0;34m()\u001b[0m\n\u001b[1;32m     29\u001b[0m \u001b[0mjay\u001b[0m\u001b[0;34m=\u001b[0m\u001b[0mEmp\u001b[0m\u001b[0;34m(\u001b[0m\u001b[0;34m\"jayaram\"\u001b[0m\u001b[0;34m)\u001b[0m\u001b[0;34m\u001b[0m\u001b[0m\n\u001b[1;32m     30\u001b[0m \u001b[0;32mprint\u001b[0m \u001b[0mjay\u001b[0m\u001b[0;34m.\u001b[0m\u001b[0mget\u001b[0m\u001b[0;34m(\u001b[0m\u001b[0;34m)\u001b[0m\u001b[0;34m\u001b[0m\u001b[0m\n\u001b[0;32m---> 31\u001b[0;31m \u001b[0mvedha\u001b[0m\u001b[0;34m=\u001b[0m\u001b[0mEmp\u001b[0m\u001b[0;34m(\u001b[0m\u001b[0;34m\"Vedhanvesh\"\u001b[0m\u001b[0;34m)\u001b[0m\u001b[0;34m\u001b[0m\u001b[0m\n\u001b[0m",
      "\u001b[0;32m<ipython-input-14-88a8cc63dd99>\u001b[0m in \u001b[0;36m__new__\u001b[0;34m(cls, *args)\u001b[0m\n\u001b[1;32m     11\u001b[0m         \u001b[0;32mprint\u001b[0m \u001b[0;34m\"new is called\"\u001b[0m\u001b[0;34m\u001b[0m\u001b[0m\n\u001b[1;32m     12\u001b[0m         \u001b[0;32mif\u001b[0m \u001b[0mcls\u001b[0m\u001b[0;34m.\u001b[0m\u001b[0mobj_count\u001b[0m\u001b[0;34m>=\u001b[0m\u001b[0;36m2\u001b[0m\u001b[0;34m:\u001b[0m\u001b[0;34m\u001b[0m\u001b[0m\n\u001b[0;32m---> 13\u001b[0;31m             \u001b[0;32mraise\u001b[0m \u001b[0mException\u001b[0m\u001b[0;34m(\u001b[0m\u001b[0;34m\"Can create only two objects.\"\u001b[0m\u001b[0;34m)\u001b[0m\u001b[0;34m\u001b[0m\u001b[0m\n\u001b[0m\u001b[1;32m     14\u001b[0m         \u001b[0;32melse\u001b[0m\u001b[0;34m:\u001b[0m\u001b[0;34m\u001b[0m\u001b[0m\n\u001b[1;32m     15\u001b[0m             \u001b[0mcls\u001b[0m\u001b[0;34m.\u001b[0m\u001b[0mobj_count\u001b[0m \u001b[0;34m=\u001b[0m \u001b[0mcls\u001b[0m\u001b[0;34m.\u001b[0m\u001b[0mobj_count\u001b[0m\u001b[0;34m+\u001b[0m\u001b[0;36m1\u001b[0m\u001b[0;34m\u001b[0m\u001b[0m\n",
      "\u001b[0;31mException\u001b[0m: Can create only two objects."
     ]
    }
   ],
   "source": [
    "# singleton\n",
    "\"\"\"\n",
    "Three steps are involved in data object creation i.e : anil=Emp(\"Anil kumar\")\n",
    "1. it will call __new__ method to create data object\n",
    "2. by taking the data object from __new__, it will call constructor. do.__init__(params)\n",
    "3. return the dataobject. that is refer by anil in the below program.\n",
    "\"\"\"\n",
    "class Emp(object):\n",
    "    obj_count=0\n",
    "    def __new__(cls, *args):\n",
    "        print \"new is called\"\n",
    "        if cls.obj_count>=2:\n",
    "            raise Exception(\"Can create only two objects.\")\n",
    "        else:\n",
    "            cls.obj_count = cls.obj_count+1\n",
    "            obj = object.__new__(cls, *args)\n",
    "            return obj\n",
    "        \n",
    "    def __init__(self, name, age=0, weight=0, height=0):\n",
    "        print \"init called\"\n",
    "        self.name=name\n",
    "        self.age=age\n",
    "        self.weight=weight\n",
    "        self.height=height\n",
    "    def get(self):\n",
    "        return self.name, self.age, self.weight, self.height\n",
    "anil=Emp(\"Anil kumar\")\n",
    "print anil.get()\n",
    "jay=Emp(\"jayaram\")\n",
    "print jay.get()\n",
    "vedha=Emp(\"Vedhanvesh\")"
   ]
  },
  {
   "cell_type": "code",
   "execution_count": 15,
   "metadata": {},
   "outputs": [
    {
     "ename": "ServerNotReachable",
     "evalue": "Not able to connect to server",
     "output_type": "error",
     "traceback": [
      "\u001b[0;31m---------------------------------------------------------------------------\u001b[0m",
      "\u001b[0;31mServerNotReachable\u001b[0m                        Traceback (most recent call last)",
      "\u001b[0;32m<ipython-input-15-ebf9b24606fd>\u001b[0m in \u001b[0;36m<module>\u001b[0;34m()\u001b[0m\n\u001b[1;32m      1\u001b[0m \u001b[0;32mclass\u001b[0m \u001b[0mServerNotReachable\u001b[0m\u001b[0;34m(\u001b[0m\u001b[0mException\u001b[0m\u001b[0;34m)\u001b[0m\u001b[0;34m:\u001b[0m\u001b[0;34m\u001b[0m\u001b[0m\n\u001b[1;32m      2\u001b[0m     \u001b[0;32mpass\u001b[0m\u001b[0;34m\u001b[0m\u001b[0m\n\u001b[0;32m----> 3\u001b[0;31m \u001b[0;32mraise\u001b[0m \u001b[0mServerNotReachable\u001b[0m\u001b[0;34m(\u001b[0m\u001b[0;34m\"Not able to connect to server\"\u001b[0m\u001b[0;34m)\u001b[0m\u001b[0;34m\u001b[0m\u001b[0m\n\u001b[0m",
      "\u001b[0;31mServerNotReachable\u001b[0m: Not able to connect to server"
     ]
    }
   ],
   "source": [
    "class ServerNotReachable(Exception):\n",
    "    pass\n",
    "raise ServerNotReachable(\"Not able to connect to server\")"
   ]
  },
  {
   "cell_type": "code",
   "execution_count": 17,
   "metadata": {},
   "outputs": [
    {
     "name": "stdout",
     "output_type": "stream",
     "text": [
      "30\n",
      "str1str2\n",
      "(3+5j)\n"
     ]
    }
   ],
   "source": [
    "# operator overloading..\n",
    "a=10\n",
    "b=20\n",
    "print a+b\n",
    "a=\"str1\"\n",
    "b=\"str2\"\n",
    "print a+b\n",
    "c1=1+2j\n",
    "c2=2+3j\n",
    "print c1+c2\n"
   ]
  },
  {
   "cell_type": "code",
   "execution_count": 18,
   "metadata": {},
   "outputs": [
    {
     "name": "stdout",
     "output_type": "stream",
     "text": [
      "init called\n",
      "('Anil kumar', 0, 0, 0)\n",
      "init called\n",
      "('jayaram', 0, 0, 0)\n"
     ]
    },
    {
     "ename": "TypeError",
     "evalue": "unsupported operand type(s) for +: 'Emp' and 'Emp'",
     "output_type": "error",
     "traceback": [
      "\u001b[0;31m---------------------------------------------------------------------------\u001b[0m",
      "\u001b[0;31mTypeError\u001b[0m                                 Traceback (most recent call last)",
      "\u001b[0;32m<ipython-input-18-64ce9188b36d>\u001b[0m in \u001b[0;36m<module>\u001b[0;34m()\u001b[0m\n\u001b[1;32m     12\u001b[0m \u001b[0mjay\u001b[0m\u001b[0;34m=\u001b[0m\u001b[0mEmp\u001b[0m\u001b[0;34m(\u001b[0m\u001b[0;34m\"jayaram\"\u001b[0m\u001b[0;34m)\u001b[0m\u001b[0;34m\u001b[0m\u001b[0m\n\u001b[1;32m     13\u001b[0m \u001b[0;32mprint\u001b[0m \u001b[0mjay\u001b[0m\u001b[0;34m.\u001b[0m\u001b[0mget\u001b[0m\u001b[0;34m(\u001b[0m\u001b[0;34m)\u001b[0m\u001b[0;34m\u001b[0m\u001b[0m\n\u001b[0;32m---> 14\u001b[0;31m \u001b[0;32mprint\u001b[0m \u001b[0manil\u001b[0m\u001b[0;34m+\u001b[0m\u001b[0mjay\u001b[0m\u001b[0;34m\u001b[0m\u001b[0m\n\u001b[0m",
      "\u001b[0;31mTypeError\u001b[0m: unsupported operand type(s) for +: 'Emp' and 'Emp'"
     ]
    }
   ],
   "source": [
    "class Emp(object):    \n",
    "    def __init__(self, name, age=0, weight=0, height=0):\n",
    "        print \"init called\"\n",
    "        self.name=name\n",
    "        self.age=age\n",
    "        self.weight=weight\n",
    "        self.height=height\n",
    "    def get(self):\n",
    "        return self.name, self.age, self.weight, self.height\n",
    "anil=Emp(\"Anil kumar\")\n",
    "print anil.get()\n",
    "jay=Emp(\"jayaram\")\n",
    "print jay.get()\n",
    "print anil+jay"
   ]
  },
  {
   "cell_type": "code",
   "execution_count": 19,
   "metadata": {},
   "outputs": [
    {
     "name": "stdout",
     "output_type": "stream",
     "text": [
      "init called\n",
      "('Anil kumar', 0, 0, 0)\n",
      "init called\n",
      "('jayaram', 0, 0, 0)\n"
     ]
    },
    {
     "ename": "TypeError",
     "evalue": "'Emp' object is not iterable",
     "output_type": "error",
     "traceback": [
      "\u001b[0;31m---------------------------------------------------------------------------\u001b[0m",
      "\u001b[0;31mTypeError\u001b[0m                                 Traceback (most recent call last)",
      "\u001b[0;32m<ipython-input-19-aa353a9b3e09>\u001b[0m in \u001b[0;36m<module>\u001b[0;34m()\u001b[0m\n\u001b[1;32m     13\u001b[0m \u001b[0;32mprint\u001b[0m \u001b[0mjay\u001b[0m\u001b[0;34m.\u001b[0m\u001b[0mget\u001b[0m\u001b[0;34m(\u001b[0m\u001b[0;34m)\u001b[0m\u001b[0;34m\u001b[0m\u001b[0m\n\u001b[1;32m     14\u001b[0m \u001b[0;31m#print anil+jay\u001b[0m\u001b[0;34m\u001b[0m\u001b[0;34m\u001b[0m\u001b[0m\n\u001b[0;32m---> 15\u001b[0;31m \u001b[0;32mfor\u001b[0m \u001b[0mi\u001b[0m \u001b[0;32min\u001b[0m \u001b[0mjay\u001b[0m\u001b[0;34m:\u001b[0m\u001b[0;34m\u001b[0m\u001b[0m\n\u001b[0m\u001b[1;32m     16\u001b[0m     \u001b[0;32mprint\u001b[0m \u001b[0mi\u001b[0m\u001b[0;34m\u001b[0m\u001b[0m\n",
      "\u001b[0;31mTypeError\u001b[0m: 'Emp' object is not iterable"
     ]
    }
   ],
   "source": [
    "class Emp(object):    \n",
    "    def __init__(self, name, age=0, weight=0, height=0):\n",
    "        print \"init called\"\n",
    "        self.name=name\n",
    "        self.age=age\n",
    "        self.weight=weight\n",
    "        self.height=height\n",
    "    def get(self):\n",
    "        return self.name, self.age, self.weight, self.height\n",
    "anil=Emp(\"Anil kumar\")\n",
    "print anil.get()\n",
    "jay=Emp(\"jayaram\")\n",
    "print jay.get()\n",
    "#print anil+jay\n",
    "for i in jay:\n",
    "    print i"
   ]
  },
  {
   "cell_type": "code",
   "execution_count": 20,
   "metadata": {},
   "outputs": [
    {
     "name": "stdout",
     "output_type": "stream",
     "text": [
      "init called\n",
      "('Anil kumar', 0, 0, 0)\n",
      "init called\n",
      "('jayaram', 0, 0, 0)\n",
      "dummy\n"
     ]
    }
   ],
   "source": [
    "class Emp(object):    \n",
    "    def __init__(self, name, age=0, weight=0, height=0):\n",
    "        print \"init called\"\n",
    "        self.name=name\n",
    "        self.age=age\n",
    "        self.weight=weight\n",
    "        self.height=height\n",
    "    def get(self):\n",
    "        return self.name, self.age, self.weight, self.height\n",
    "    def __add__(self1,self2):\n",
    "        return \"dummy\"\n",
    "anil=Emp(\"Anil kumar\")\n",
    "print anil.get()\n",
    "jay=Emp(\"jayaram\")\n",
    "print jay.get()\n",
    "print anil+jay\n"
   ]
  },
  {
   "cell_type": "code",
   "execution_count": 21,
   "metadata": {},
   "outputs": [
    {
     "name": "stdout",
     "output_type": "stream",
     "text": [
      "init called\n",
      "('Anil kumar', 0, 0, 0)\n",
      "init called\n",
      "('jayaram', 0, 0, 0)\n",
      "(0, 0)\n"
     ]
    }
   ],
   "source": [
    "class Emp(object):    \n",
    "    def __init__(self, name, age=0, weight=0, height=0):\n",
    "        print \"init called\"\n",
    "        self.name=name\n",
    "        self.age=age\n",
    "        self.weight=weight\n",
    "        self.height=height\n",
    "    def get(self):\n",
    "        return self.name, self.age, self.weight, self.height\n",
    "    def __add__(self1,self2):\n",
    "        return self1.age+self2.age, self1.height+self2.height\n",
    "anil=Emp(\"Anil kumar\")\n",
    "print anil.get()\n",
    "jay=Emp(\"jayaram\")\n",
    "print jay.get()\n",
    "print anil+jay\n"
   ]
  },
  {
   "cell_type": "code",
   "execution_count": 22,
   "metadata": {},
   "outputs": [
    {
     "name": "stdout",
     "output_type": "stream",
     "text": [
      "init called\n",
      "('Anil kumar', 0, 0, 0)\n",
      "init called\n",
      "('jayaram', 0, 0, 0)\n",
      "(0, 0)\n"
     ]
    },
    {
     "ename": "TypeError",
     "evalue": "'Emp' object is not iterable",
     "output_type": "error",
     "traceback": [
      "\u001b[0;31m---------------------------------------------------------------------------\u001b[0m",
      "\u001b[0;31mTypeError\u001b[0m                                 Traceback (most recent call last)",
      "\u001b[0;32m<ipython-input-22-245da0f99c8c>\u001b[0m in \u001b[0;36m<module>\u001b[0;34m()\u001b[0m\n\u001b[1;32m     15\u001b[0m \u001b[0;32mprint\u001b[0m \u001b[0mjay\u001b[0m\u001b[0;34m.\u001b[0m\u001b[0mget\u001b[0m\u001b[0;34m(\u001b[0m\u001b[0;34m)\u001b[0m\u001b[0;34m\u001b[0m\u001b[0m\n\u001b[1;32m     16\u001b[0m \u001b[0;32mprint\u001b[0m \u001b[0manil\u001b[0m\u001b[0;34m+\u001b[0m\u001b[0mjay\u001b[0m\u001b[0;34m\u001b[0m\u001b[0m\n\u001b[0;32m---> 17\u001b[0;31m \u001b[0;32mfor\u001b[0m \u001b[0mi\u001b[0m \u001b[0;32min\u001b[0m \u001b[0mjay\u001b[0m\u001b[0;34m:\u001b[0m\u001b[0;34m\u001b[0m\u001b[0m\n\u001b[0m\u001b[1;32m     18\u001b[0m     \u001b[0;32mprint\u001b[0m \u001b[0mi\u001b[0m\u001b[0;34m\u001b[0m\u001b[0m\n",
      "\u001b[0;31mTypeError\u001b[0m: 'Emp' object is not iterable"
     ]
    }
   ],
   "source": [
    "class Emp(object):    \n",
    "    def __init__(self, name, age=0, weight=0, height=0):\n",
    "        print \"init called\"\n",
    "        self.name=name\n",
    "        self.age=age\n",
    "        self.weight=weight\n",
    "        self.height=height\n",
    "    def get(self):\n",
    "        return self.name, self.age, self.weight, self.height\n",
    "    def __add__(self1,self2):\n",
    "        return self1.age+self2.age, self1.height+self2.height\n",
    "anil=Emp(\"Anil kumar\")\n",
    "print anil.get()\n",
    "jay=Emp(\"jayaram\")\n",
    "print jay.get()\n",
    "print anil+jay\n",
    "for i in jay:\n",
    "    print i"
   ]
  },
  {
   "cell_type": "code",
   "execution_count": 23,
   "metadata": {},
   "outputs": [
    {
     "data": {
      "text/plain": [
       "{'age': 0, 'height': 0, 'name': 'jayaram', 'weight': 0}"
      ]
     },
     "execution_count": 23,
     "metadata": {},
     "output_type": "execute_result"
    }
   ],
   "source": [
    "jay.__dict__"
   ]
  },
  {
   "cell_type": "code",
   "execution_count": 24,
   "metadata": {},
   "outputs": [
    {
     "name": "stdout",
     "output_type": "stream",
     "text": [
      "init called\n",
      "('Anil kumar', 0, 0, 0)\n",
      "init called\n",
      "('jayaram', 0, 0, 0)\n",
      "(0, 0)\n",
      "age\n",
      "name\n",
      "weight\n",
      "height\n"
     ]
    }
   ],
   "source": [
    "class Emp(object):    \n",
    "    def __init__(self, name, age=0, weight=0, height=0):\n",
    "        print \"init called\"\n",
    "        self.name=name\n",
    "        self.age=age\n",
    "        self.weight=weight\n",
    "        self.height=height\n",
    "    def get(self):\n",
    "        return self.name, self.age, self.weight, self.height\n",
    "    def __add__(self1,self2):\n",
    "        return self1.age+self2.age, self1.height+self2.height\n",
    "anil=Emp(\"Anil kumar\")\n",
    "print anil.get()\n",
    "jay=Emp(\"jayaram\")\n",
    "print jay.get()\n",
    "print anil+jay\n",
    "for i in jay.__dict__:\n",
    "    print i"
   ]
  },
  {
   "cell_type": "code",
   "execution_count": 26,
   "metadata": {},
   "outputs": [
    {
     "name": "stdout",
     "output_type": "stream",
     "text": [
      "init called\n",
      "('Anil kumar', 0, 0, 0)\n",
      "init called\n",
      "('jayaram', 0, 0, 0)\n",
      "(0, 0)\n",
      "jayaram\n",
      "0\n",
      "0\n",
      "0\n"
     ]
    }
   ],
   "source": [
    "class Emp(object):    \n",
    "    def __init__(self, name, age=0, weight=0, height=0):\n",
    "        print \"init called\"\n",
    "        self.name=name\n",
    "        self.age=age\n",
    "        self.weight=weight\n",
    "        self.height=height\n",
    "    def get(self):\n",
    "        return self.name, self.age, self.weight, self.height\n",
    "    def __add__(self1,self2):\n",
    "        return self1.age+self2.age, self1.height+self2.height\n",
    "    def __iter__(self):\n",
    "        yield self.name\n",
    "        yield self.age\n",
    "        yield self.weight\n",
    "        yield self.height\n",
    "anil=Emp(\"Anil kumar\")\n",
    "print anil.get()\n",
    "jay=Emp(\"jayaram\")\n",
    "print jay.get()\n",
    "print anil+jay\n",
    "for i in jay:\n",
    "    print i"
   ]
  },
  {
   "cell_type": "code",
   "execution_count": 27,
   "metadata": {},
   "outputs": [
    {
     "name": "stdout",
     "output_type": "stream",
     "text": [
      "init called\n",
      "('Anil kumar', 0, 0, 0)\n",
      "init called\n",
      "('jayaram', 0, 0, 0)\n",
      "(0, 0)\n",
      "0\n",
      "jayaram\n",
      "0\n",
      "0\n"
     ]
    }
   ],
   "source": [
    "class Emp(object):    \n",
    "    def __init__(self, name, age=0, weight=0, height=0):\n",
    "        print \"init called\"\n",
    "        self.name=name\n",
    "        self.age=age\n",
    "        self.weight=weight\n",
    "        self.height=height\n",
    "    def get(self):\n",
    "        return self.name, self.age, self.weight, self.height\n",
    "    def __add__(self1,self2):\n",
    "        return self1.age+self2.age, self1.height+self2.height\n",
    "    def __iter__(self):\n",
    "        for i in self.__dict__.iteritems():\n",
    "            yield i[1]\n",
    "anil=Emp(\"Anil kumar\")\n",
    "print anil.get()\n",
    "jay=Emp(\"jayaram\")\n",
    "print jay.get()\n",
    "print anil+jay\n",
    "for i in jay:\n",
    "    print i"
   ]
  },
  {
   "cell_type": "code",
   "execution_count": 28,
   "metadata": {
    "collapsed": true
   },
   "outputs": [],
   "source": [
    "a=10\n"
   ]
  },
  {
   "cell_type": "code",
   "execution_count": 29,
   "metadata": {},
   "outputs": [
    {
     "name": "stdout",
     "output_type": "stream",
     "text": [
      "['__abs__', '__add__', '__and__', '__class__', '__cmp__', '__coerce__', '__delattr__', '__div__', '__divmod__', '__doc__', '__float__', '__floordiv__', '__format__', '__getattribute__', '__getnewargs__', '__hash__', '__hex__', '__index__', '__init__', '__int__', '__invert__', '__long__', '__lshift__', '__mod__', '__mul__', '__neg__', '__new__', '__nonzero__', '__oct__', '__or__', '__pos__', '__pow__', '__radd__', '__rand__', '__rdiv__', '__rdivmod__', '__reduce__', '__reduce_ex__', '__repr__', '__rfloordiv__', '__rlshift__', '__rmod__', '__rmul__', '__ror__', '__rpow__', '__rrshift__', '__rshift__', '__rsub__', '__rtruediv__', '__rxor__', '__setattr__', '__sizeof__', '__str__', '__sub__', '__subclasshook__', '__truediv__', '__trunc__', '__xor__', 'bit_length', 'conjugate', 'denominator', 'imag', 'numerator', 'real']\n"
     ]
    }
   ],
   "source": [
    "print dir(a)"
   ]
  },
  {
   "cell_type": "code",
   "execution_count": 31,
   "metadata": {},
   "outputs": [
    {
     "name": "stdout",
     "output_type": "stream",
     "text": [
      "init called\n",
      "('Anil kumar', 0, 0, 0)\n",
      "init called\n",
      "('jayaram', 0, 0, 0)\n",
      "(0, 0)\n",
      "0\n",
      "jayaram\n",
      "0\n",
      "0\n",
      "jayaram\n"
     ]
    }
   ],
   "source": [
    "class Emp(object):    \n",
    "    def __init__(self, name, age=0, weight=0, height=0):\n",
    "        print \"init called\"\n",
    "        self.name=name\n",
    "        self.age=age\n",
    "        self.weight=weight\n",
    "        self.height=height\n",
    "    def get(self):\n",
    "        return self.name, self.age, self.weight, self.height\n",
    "    def __add__(self1,self2):\n",
    "        return self1.age+self2.age, self1.height+self2.height\n",
    "    def __iter__(self):\n",
    "        for i in self.__dict__.iteritems():\n",
    "            yield i[1]\n",
    "    def __str__(self):\n",
    "            return self.name\n",
    "anil=Emp(\"Anil kumar\")\n",
    "print anil.get()\n",
    "jay=Emp(\"jayaram\")\n",
    "print jay.get()\n",
    "print anil+jay\n",
    "for i in jay:\n",
    "    print i\n",
    "print str(jay)"
   ]
  },
  {
   "cell_type": "code",
   "execution_count": 32,
   "metadata": {},
   "outputs": [
    {
     "name": "stdout",
     "output_type": "stream",
     "text": [
      "init called\n",
      "('Anil kumar', 0, 0, 0)\n",
      "init called\n",
      "('jayaram', 0, 0, 0)\n",
      "(0, 0)\n",
      "0\n",
      "jayaram\n",
      "0\n",
      "0\n",
      "jayaram\n",
      "4\n"
     ]
    }
   ],
   "source": [
    "class Emp(object):    \n",
    "    def __init__(self, name, age=0, weight=0, height=0):\n",
    "        print \"init called\"\n",
    "        self.name=name\n",
    "        self.age=age\n",
    "        self.weight=weight\n",
    "        self.height=height\n",
    "    def get(self):\n",
    "        return self.name, self.age, self.weight, self.height\n",
    "    def __add__(self1,self2):\n",
    "        return self1.age+self2.age, self1.height+self2.height\n",
    "    def __iter__(self):\n",
    "        for i in self.__dict__.iteritems():\n",
    "            yield i[1]\n",
    "    def __str__(self):\n",
    "            return self.name\n",
    "    def __len__(self):\n",
    "        return len(self.__dict__)\n",
    "anil=Emp(\"Anil kumar\")\n",
    "print anil.get()\n",
    "jay=Emp(\"jayaram\")\n",
    "print jay.get()\n",
    "print anil+jay\n",
    "for i in jay:\n",
    "    print i\n",
    "print str(jay)\n",
    "print len(jay)"
   ]
  },
  {
   "cell_type": "code",
   "execution_count": 33,
   "metadata": {},
   "outputs": [
    {
     "ename": "TypeError",
     "evalue": "unsupported operand type(s) for +: 'dict' and 'dict'",
     "output_type": "error",
     "traceback": [
      "\u001b[0;31m---------------------------------------------------------------------------\u001b[0m",
      "\u001b[0;31mTypeError\u001b[0m                                 Traceback (most recent call last)",
      "\u001b[0;32m<ipython-input-33-4f7aa6ec0c21>\u001b[0m in \u001b[0;36m<module>\u001b[0;34m()\u001b[0m\n\u001b[1;32m      1\u001b[0m \u001b[0md1\u001b[0m\u001b[0;34m=\u001b[0m\u001b[0;34m{\u001b[0m\u001b[0;36m1\u001b[0m\u001b[0;34m:\u001b[0m\u001b[0;36m2\u001b[0m\u001b[0;34m,\u001b[0m\u001b[0;36m3\u001b[0m\u001b[0;34m:\u001b[0m\u001b[0;36m4\u001b[0m\u001b[0;34m}\u001b[0m\u001b[0;34m\u001b[0m\u001b[0m\n\u001b[1;32m      2\u001b[0m \u001b[0md2\u001b[0m\u001b[0;34m=\u001b[0m\u001b[0;34m{\u001b[0m\u001b[0;36m5\u001b[0m\u001b[0;34m:\u001b[0m\u001b[0;36m6\u001b[0m\u001b[0;34m,\u001b[0m\u001b[0;36m7\u001b[0m\u001b[0;34m:\u001b[0m\u001b[0;36m8\u001b[0m\u001b[0;34m}\u001b[0m\u001b[0;34m\u001b[0m\u001b[0m\n\u001b[0;32m----> 3\u001b[0;31m \u001b[0;32mprint\u001b[0m \u001b[0md1\u001b[0m\u001b[0;34m+\u001b[0m\u001b[0md2\u001b[0m\u001b[0;34m\u001b[0m\u001b[0m\n\u001b[0m",
      "\u001b[0;31mTypeError\u001b[0m: unsupported operand type(s) for +: 'dict' and 'dict'"
     ]
    }
   ],
   "source": [
    "d1={1:2,3:4}\n",
    "d2={5:6,7:8}\n",
    "print d1+d2"
   ]
  },
  {
   "cell_type": "code",
   "execution_count": 34,
   "metadata": {},
   "outputs": [
    {
     "name": "stdout",
     "output_type": "stream",
     "text": [
      "dummy\n"
     ]
    }
   ],
   "source": [
    "class OwnDict(dict):\n",
    "    def __add__(self1,self2):\n",
    "        return \"dummy\"\n",
    "d1=OwnDict({1:2,3:4})\n",
    "d2=OwnDict({5:6,7:8})\n",
    "print d1+d2"
   ]
  },
  {
   "cell_type": "code",
   "execution_count": 36,
   "metadata": {},
   "outputs": [
    {
     "name": "stdout",
     "output_type": "stream",
     "text": [
      "[(1, 8), (3, 12)]\n",
      "2\n"
     ]
    }
   ],
   "source": [
    "class OwnDict(dict):\n",
    "    def __add__(self1,self2):\n",
    "        return [(i,self1[i]+self2[i]) for i in self1.keys()]\n",
    "d1=OwnDict({1:2,3:4})\n",
    "d2=OwnDict({1:6,3:8})\n",
    "print d1+d2\n",
    "print d1.get(1)"
   ]
  },
  {
   "cell_type": "code",
   "execution_count": null,
   "metadata": {
    "collapsed": true
   },
   "outputs": [],
   "source": []
  }
 ],
 "metadata": {
  "kernelspec": {
   "display_name": "Python 2",
   "language": "python",
   "name": "python2"
  },
  "language_info": {
   "codemirror_mode": {
    "name": "ipython",
    "version": 2
   },
   "file_extension": ".py",
   "mimetype": "text/x-python",
   "name": "python",
   "nbconvert_exporter": "python",
   "pygments_lexer": "ipython2",
   "version": "2.7.14"
  }
 },
 "nbformat": 4,
 "nbformat_minor": 2
}
