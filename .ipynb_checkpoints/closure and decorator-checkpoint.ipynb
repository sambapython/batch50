{
 "cells": [
  {
   "cell_type": "code",
   "execution_count": 1,
   "metadata": {},
   "outputs": [
    {
     "name": "stdout",
     "output_type": "stream",
     "text": [
      "30\n"
     ]
    }
   ],
   "source": [
    "def fun(a,b):\n",
    "    return a+b\n",
    "print fun(10,20)"
   ]
  },
  {
   "cell_type": "code",
   "execution_count": 2,
   "metadata": {},
   "outputs": [
    {
     "name": "stdout",
     "output_type": "stream",
     "text": [
      "<function fun at 0x7f856c453cf8>\n"
     ]
    }
   ],
   "source": [
    "def fun(a,b):\n",
    "    return a+b\n",
    "print fun"
   ]
  },
  {
   "cell_type": "code",
   "execution_count": 3,
   "metadata": {},
   "outputs": [
    {
     "name": "stdout",
     "output_type": "stream",
     "text": [
      "30\n"
     ]
    }
   ],
   "source": [
    "def fun(a,b):\n",
    "    return a+b\n",
    "f1 = fun\n",
    "print f1(10,20)"
   ]
  },
  {
   "cell_type": "code",
   "execution_count": 4,
   "metadata": {},
   "outputs": [
    {
     "name": "stdout",
     "output_type": "stream",
     "text": [
      "this is upper\n",
      "f= <function lower at 0x7f856c453cf8>\n"
     ]
    }
   ],
   "source": [
    "def upper():\n",
    "    print \"this is upper\"\n",
    "    def lower():\n",
    "        print \"this is lower\"\n",
    "        return 20\n",
    "    return lower\n",
    "f=upper()\n",
    "print \"f=\",f\n",
    "        "
   ]
  },
  {
   "cell_type": "code",
   "execution_count": 5,
   "metadata": {},
   "outputs": [
    {
     "name": "stdout",
     "output_type": "stream",
     "text": [
      "this is upper\n",
      "f= <function lower at 0x7f856c453f50>\n",
      "this is lower\n",
      "f1= 20\n"
     ]
    }
   ],
   "source": [
    "def upper():\n",
    "    print \"this is upper\"\n",
    "    def lower():\n",
    "        print \"this is lower\"\n",
    "        return 20\n",
    "    return lower\n",
    "f=upper()\n",
    "print \"f=\",f\n",
    "f1=f()\n",
    "print \"f1=\",f1"
   ]
  },
  {
   "cell_type": "code",
   "execution_count": 6,
   "metadata": {},
   "outputs": [
    {
     "name": "stdout",
     "output_type": "stream",
     "text": [
      "f= <function lower at 0x7f856c453e60>\n",
      "f1= result:30\n"
     ]
    }
   ],
   "source": [
    "def upper(f2):\n",
    "    def lower(a,b):\n",
    "        return \"result:\"+str(f2(a,b))\n",
    "    return lower\n",
    "def fun(a,b):\n",
    "    return a+b\n",
    "f=upper(fun)\n",
    "print \"f=\",f\n",
    "f1=f(10,20)\n",
    "print \"f1=\",f1"
   ]
  },
  {
   "cell_type": "code",
   "execution_count": 7,
   "metadata": {},
   "outputs": [
    {
     "name": "stdout",
     "output_type": "stream",
     "text": [
      "result:30\n"
     ]
    }
   ],
   "source": [
    "def upper(f2):\n",
    "    def lower(a,b):\n",
    "        return \"result:\"+str(f2(a,b))\n",
    "    return lower\n",
    "def fun(a,b):\n",
    "    return a+b\n",
    "f=upper(fun)\n",
    "f1=f(10,20)\n",
    "print f1"
   ]
  },
  {
   "cell_type": "code",
   "execution_count": 8,
   "metadata": {},
   "outputs": [
    {
     "name": "stdout",
     "output_type": "stream",
     "text": [
      "result:30\n",
      "30\n"
     ]
    }
   ],
   "source": [
    "def upper(f2):\n",
    "    def lower(a,b):\n",
    "        return \"result:\"+str(f2(a,b))\n",
    "    return lower\n",
    "def fun(a,b):\n",
    "    return a+b\n",
    "f=upper(fun)\n",
    "f1=f(10,20)\n",
    "print f1\n",
    "\n",
    "print fun(10,20)"
   ]
  },
  {
   "cell_type": "code",
   "execution_count": 9,
   "metadata": {},
   "outputs": [
    {
     "name": "stdout",
     "output_type": "stream",
     "text": [
      "30\n"
     ]
    }
   ],
   "source": [
    "def upper(f2):\n",
    "    def lower(a,b):\n",
    "        return \"result:\"+str(f2(a,b))\n",
    "    return lower\n",
    "def fun(a,b):\n",
    "    return a+b\n",
    "#f=upper(fun)\n",
    "#f1=f(10,20)\n",
    "#print f1\n",
    "print fun(10,20)"
   ]
  },
  {
   "cell_type": "code",
   "execution_count": 10,
   "metadata": {},
   "outputs": [
    {
     "name": "stdout",
     "output_type": "stream",
     "text": [
      "result:30\n"
     ]
    }
   ],
   "source": [
    "def upper(f2):\n",
    "    def lower(a,b):\n",
    "        return \"result:\"+str(f2(a,b))\n",
    "    return lower\n",
    "@upper\n",
    "def fun(a,b):\n",
    "    return a+b\n",
    "#f=upper(fun)\n",
    "#f1=f(10,20)\n",
    "#print f1\n",
    "print fun(10,20)"
   ]
  },
  {
   "cell_type": "code",
   "execution_count": null,
   "metadata": {
    "collapsed": true
   },
   "outputs": [],
   "source": []
  }
 ],
 "metadata": {
  "kernelspec": {
   "display_name": "Python 2",
   "language": "python",
   "name": "python2"
  },
  "language_info": {
   "codemirror_mode": {
    "name": "ipython",
    "version": 2
   },
   "file_extension": ".py",
   "mimetype": "text/x-python",
   "name": "python",
   "nbconvert_exporter": "python",
   "pygments_lexer": "ipython2",
   "version": "2.7.14"
  }
 },
 "nbformat": 4,
 "nbformat_minor": 2
}
