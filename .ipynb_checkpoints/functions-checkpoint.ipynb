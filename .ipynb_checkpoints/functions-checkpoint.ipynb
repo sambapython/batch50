{
 "cells": [
  {
   "cell_type": "code",
   "execution_count": 1,
   "metadata": {
    "collapsed": true
   },
   "outputs": [],
   "source": [
    "def fun():\n",
    "    pass"
   ]
  },
  {
   "cell_type": "code",
   "execution_count": 2,
   "metadata": {
    "collapsed": true
   },
   "outputs": [],
   "source": [
    "def FUN():\n",
    "    pass"
   ]
  },
  {
   "cell_type": "code",
   "execution_count": 3,
   "metadata": {
    "collapsed": true
   },
   "outputs": [],
   "source": [
    "def FunName():\n",
    "    pass"
   ]
  },
  {
   "cell_type": "code",
   "execution_count": 4,
   "metadata": {},
   "outputs": [
    {
     "name": "stdout",
     "output_type": "stream",
     "text": [
      "program started\n",
      "program ended\n"
     ]
    }
   ],
   "source": [
    "print \"program started\"\n",
    "def fun():\n",
    "    print \"this is function\"\n",
    "print \"program ended\""
   ]
  },
  {
   "cell_type": "code",
   "execution_count": 5,
   "metadata": {},
   "outputs": [
    {
     "name": "stdout",
     "output_type": "stream",
     "text": [
      "program started\n",
      "this is function\n",
      "program ended\n"
     ]
    }
   ],
   "source": [
    "print \"program started\"\n",
    "def fun():\n",
    "    print \"this is function\"\n",
    "fun()\n",
    "print \"program ended\""
   ]
  },
  {
   "cell_type": "code",
   "execution_count": 6,
   "metadata": {},
   "outputs": [
    {
     "name": "stdout",
     "output_type": "stream",
     "text": [
      "program started\n",
      "this is function\n",
      "program ended\n"
     ]
    }
   ],
   "source": [
    "print \"program started\"\n",
    "def fun(a,b):\n",
    "    print \"this is function\"\n",
    "fun(10,20)\n",
    "print \"program ended\""
   ]
  },
  {
   "cell_type": "code",
   "execution_count": 7,
   "metadata": {},
   "outputs": [
    {
     "name": "stdout",
     "output_type": "stream",
     "text": [
      "program started\n",
      "30\n",
      "this is function\n",
      "program ended\n"
     ]
    }
   ],
   "source": [
    "print \"program started\"\n",
    "def fun(a,b):\n",
    "    print a+b\n",
    "    print \"this is function\"\n",
    "fun(10,20)\n",
    "print \"program ended\""
   ]
  },
  {
   "cell_type": "code",
   "execution_count": 8,
   "metadata": {},
   "outputs": [
    {
     "name": "stdout",
     "output_type": "stream",
     "text": [
      "program started\n",
      "program ended\n",
      "this is function\n"
     ]
    }
   ],
   "source": [
    "print \"program started\"\n",
    "def fun():\n",
    "    print \"this is function\"\n",
    "print \"program ended\"\n",
    "fun()"
   ]
  },
  {
   "cell_type": "code",
   "execution_count": 9,
   "metadata": {},
   "outputs": [
    {
     "name": "stdout",
     "output_type": "stream",
     "text": [
      "program started\n",
      "this is function\n",
      "program ended\n",
      "this is function\n"
     ]
    }
   ],
   "source": [
    "print \"program started\"\n",
    "def fun():\n",
    "    print \"this is function\"\n",
    "fun()\n",
    "print \"program ended\"\n",
    "fun()"
   ]
  },
  {
   "cell_type": "code",
   "execution_count": 10,
   "metadata": {},
   "outputs": [
    {
     "name": "stdout",
     "output_type": "stream",
     "text": [
      "program started\n",
      "this is function\n",
      "program ended\n",
      "this is function\n",
      "this is function\n",
      "this is function\n"
     ]
    }
   ],
   "source": [
    "print \"program started\"\n",
    "def fun():\n",
    "    print \"this is function\"\n",
    "fun()\n",
    "print \"program ended\"\n",
    "fun()\n",
    "fun()\n",
    "fun()"
   ]
  },
  {
   "cell_type": "code",
   "execution_count": 13,
   "metadata": {},
   "outputs": [
    {
     "name": "stdout",
     "output_type": "stream",
     "text": [
      "a=10, b=20\n",
      "summation= 30\n",
      "a=100, b=200\n",
      "summation= 300\n",
      "a=1000, b=2000\n",
      "summation= 3000\n",
      "a=1, b=2\n",
      "summation= 3\n"
     ]
    }
   ],
   "source": [
    "def add(a,b):\n",
    "    print \"a=%s, b=%s\"%(a,b)\n",
    "    print \"summation=\",a+b\n",
    "add(10,20)\n",
    "add(100,200)\n",
    "add(1000,2000)\n",
    "add(1,2)"
   ]
  },
  {
   "cell_type": "code",
   "execution_count": 14,
   "metadata": {},
   "outputs": [
    {
     "name": "stdout",
     "output_type": "stream",
     "text": [
      "a=10, b=20\n",
      "summation= 30\n",
      "a=100, b=200\n",
      "summation= 300\n",
      "a=1000, b=2000\n",
      "summation= 3000\n",
      "a=1, b=2\n",
      "summation= 3\n"
     ]
    }
   ],
   "source": [
    "def add(a,b):\n",
    "    print \"a=%s, b=%s\"%(a,b)\n",
    "    print \"summation=\",a+b\n",
    "\n",
    "add(10,20)\n",
    "add(100,200)\n",
    "add(1000,2000)\n",
    "add(1,2)"
   ]
  },
  {
   "cell_type": "code",
   "execution_count": 15,
   "metadata": {},
   "outputs": [
    {
     "name": "stdout",
     "output_type": "stream",
     "text": [
      "a=10, b=20, c=30, d=40, e=50\n",
      "150\n"
     ]
    }
   ],
   "source": [
    "def add(a,b,c,d,e):\n",
    "    print \"a=%s, b=%s, c=%s, d=%s, e=%s\"%(a,b,c,d,e)\n",
    "    print a+b+c+d+e\n",
    "add(10,20,30,40,50)"
   ]
  },
  {
   "cell_type": "code",
   "execution_count": 16,
   "metadata": {},
   "outputs": [
    {
     "ename": "TypeError",
     "evalue": "add() takes exactly 5 arguments (2 given)",
     "output_type": "error",
     "traceback": [
      "\u001b[0;31m---------------------------------------------------------------------------\u001b[0m",
      "\u001b[0;31mTypeError\u001b[0m                                 Traceback (most recent call last)",
      "\u001b[0;32m<ipython-input-16-cdc908555dd1>\u001b[0m in \u001b[0;36m<module>\u001b[0;34m()\u001b[0m\n\u001b[1;32m      2\u001b[0m     \u001b[0;32mprint\u001b[0m \u001b[0;34m\"a=%s, b=%s, c=%s, d=%s, e=%s\"\u001b[0m\u001b[0;34m%\u001b[0m\u001b[0;34m(\u001b[0m\u001b[0ma\u001b[0m\u001b[0;34m,\u001b[0m\u001b[0mb\u001b[0m\u001b[0;34m,\u001b[0m\u001b[0mc\u001b[0m\u001b[0;34m,\u001b[0m\u001b[0md\u001b[0m\u001b[0;34m,\u001b[0m\u001b[0me\u001b[0m\u001b[0;34m)\u001b[0m\u001b[0;34m\u001b[0m\u001b[0m\n\u001b[1;32m      3\u001b[0m     \u001b[0;32mprint\u001b[0m \u001b[0ma\u001b[0m\u001b[0;34m+\u001b[0m\u001b[0mb\u001b[0m\u001b[0;34m+\u001b[0m\u001b[0mc\u001b[0m\u001b[0;34m+\u001b[0m\u001b[0md\u001b[0m\u001b[0;34m+\u001b[0m\u001b[0me\u001b[0m\u001b[0;34m\u001b[0m\u001b[0m\n\u001b[0;32m----> 4\u001b[0;31m \u001b[0madd\u001b[0m\u001b[0;34m(\u001b[0m\u001b[0;36m10\u001b[0m\u001b[0;34m,\u001b[0m\u001b[0;36m20\u001b[0m\u001b[0;34m)\u001b[0m\u001b[0;34m\u001b[0m\u001b[0m\n\u001b[0m",
      "\u001b[0;31mTypeError\u001b[0m: add() takes exactly 5 arguments (2 given)"
     ]
    }
   ],
   "source": [
    "def add(a,b,c,d,e):\n",
    "    print \"a=%s, b=%s, c=%s, d=%s, e=%s\"%(a,b,c,d,e)\n",
    "    print a+b+c+d+e\n",
    "add(10,20)"
   ]
  },
  {
   "cell_type": "code",
   "execution_count": 17,
   "metadata": {},
   "outputs": [
    {
     "name": "stdout",
     "output_type": "stream",
     "text": [
      "a=10, b=0, c=0, d=0, e=0\n",
      "10\n",
      "a=10, b=20, c=0, d=0, e=0\n",
      "30\n",
      "a=10, b=20, c=30, d=0, e=0\n",
      "60\n",
      "a=10, b=20, c=30, d=40, e=0\n",
      "100\n",
      "a=10, b=20, c=30, d=40, e=50\n",
      "150\n"
     ]
    }
   ],
   "source": [
    "#default arg/param\n",
    "def add(a,b=0,c=0,d=0,e=0):\n",
    "    print \"a=%s, b=%s, c=%s, d=%s, e=%s\"%(a,b,c,d,e)\n",
    "    print a+b+c+d+e\n",
    "add(10)\n",
    "add(10,20)\n",
    "add(10,20,30)\n",
    "add(10,20,30,40)\n",
    "add(10,20,30,40,50)"
   ]
  },
  {
   "cell_type": "code",
   "execution_count": 18,
   "metadata": {},
   "outputs": [
    {
     "name": "stdout",
     "output_type": "stream",
     "text": [
      "a=10, b=0, c=0, d=0, e=0\n",
      "10\n",
      "a=10, b=20, c=0, d=0, e=0\n",
      "30\n",
      "a=10, b=20, c=30, d=0, e=0\n",
      "60\n",
      "a=10, b=20, c=30, d=40, e=0\n",
      "100\n",
      "a=10, b=20, c=30, d=40, e=50\n",
      "150\n"
     ]
    }
   ],
   "source": [
    "#default arg/param\n",
    "def add(a,b=0,c=0,d=0,e=0):\n",
    "    \"\"\"\n",
    "    this function will add given a,b,c,d,e\n",
    "    type: int,float\n",
    "    mandatory params: a\n",
    "    optional params: b,c,d,e\n",
    "    \"\"\"\n",
    "    print \"a=%s, b=%s, c=%s, d=%s, e=%s\"%(a,b,c,d,e)\n",
    "    print a+b+c+d+e\n",
    "add(10)\n",
    "add(10,20)\n",
    "add(10,20,30)\n",
    "add(10,20,30,40)\n",
    "add(10,20,30,40,50)"
   ]
  },
  {
   "cell_type": "code",
   "execution_count": 19,
   "metadata": {},
   "outputs": [
    {
     "name": "stdout",
     "output_type": "stream",
     "text": [
      "a=10, b=0, c=0, d=20, e=30\n",
      "60\n"
     ]
    }
   ],
   "source": [
    "#default arg/param\n",
    "def add(a,b=0,c=0,d=0,e=0):\n",
    "    \"\"\"\n",
    "    this function will add given a,b,c,d,e\n",
    "    type: int,float\n",
    "    mandatory params: a\n",
    "    optional params: b,c,d,e\n",
    "    \"\"\"\n",
    "    print \"a=%s, b=%s, c=%s, d=%s, e=%s\"%(a,b,c,d,e)\n",
    "    print a+b+c+d+e\n",
    "add(10,0,0,20,30)\n"
   ]
  },
  {
   "cell_type": "code",
   "execution_count": 20,
   "metadata": {
    "collapsed": true
   },
   "outputs": [],
   "source": [
    "import pandas as pd\n",
    "pd.read_csv?"
   ]
  },
  {
   "cell_type": "code",
   "execution_count": 21,
   "metadata": {},
   "outputs": [
    {
     "name": "stdout",
     "output_type": "stream",
     "text": [
      "a=10, b=0, c=0, d=20, e=30\n",
      "60\n"
     ]
    }
   ],
   "source": [
    "#default arg/param\n",
    "def add(a,b=0,c=0,d=0,e=0):\n",
    "    \"\"\"\n",
    "    this function will add given a,b,c,d,e\n",
    "    type: int,float\n",
    "    mandatory params: a\n",
    "    optional params: b,c,d,e\n",
    "    \"\"\"\n",
    "    print \"a=%s, b=%s, c=%s, d=%s, e=%s\"%(a,b,c,d,e)\n",
    "    print a+b+c+d+e\n",
    "#keyword arguments\n",
    "add(10,d=20,e=30)\n"
   ]
  },
  {
   "cell_type": "code",
   "execution_count": 22,
   "metadata": {},
   "outputs": [
    {
     "name": "stdout",
     "output_type": "stream",
     "text": [
      "a=10, b=0, c=0, d=20, e=30\n",
      "60\n"
     ]
    }
   ],
   "source": [
    "#default arg/param\n",
    "def add(a,b=0,c=0,d=0,e=0):\n",
    "    \"\"\"\n",
    "    this function will add given a,b,c,d,e\n",
    "    type: int,float\n",
    "    mandatory params: a\n",
    "    optional params: b,c,d,e\n",
    "    \"\"\"\n",
    "    print \"a=%s, b=%s, c=%s, d=%s, e=%s\"%(a,b,c,d,e)\n",
    "    print a+b+c+d+e\n",
    "#keyword arguments\n",
    "add(d=20,e=30,a=10)"
   ]
  },
  {
   "cell_type": "code",
   "execution_count": 23,
   "metadata": {},
   "outputs": [
    {
     "ename": "TypeError",
     "evalue": "add() got an unexpected keyword argument 'f'",
     "output_type": "error",
     "traceback": [
      "\u001b[0;31m---------------------------------------------------------------------------\u001b[0m",
      "\u001b[0;31mTypeError\u001b[0m                                 Traceback (most recent call last)",
      "\u001b[0;32m<ipython-input-23-71cc6869c092>\u001b[0m in \u001b[0;36m<module>\u001b[0;34m()\u001b[0m\n\u001b[1;32m     10\u001b[0m     \u001b[0;32mprint\u001b[0m \u001b[0ma\u001b[0m\u001b[0;34m+\u001b[0m\u001b[0mb\u001b[0m\u001b[0;34m+\u001b[0m\u001b[0mc\u001b[0m\u001b[0;34m+\u001b[0m\u001b[0md\u001b[0m\u001b[0;34m+\u001b[0m\u001b[0me\u001b[0m\u001b[0;34m\u001b[0m\u001b[0m\n\u001b[1;32m     11\u001b[0m \u001b[0;31m#keyword arguments\u001b[0m\u001b[0;34m\u001b[0m\u001b[0;34m\u001b[0m\u001b[0m\n\u001b[0;32m---> 12\u001b[0;31m \u001b[0madd\u001b[0m\u001b[0;34m(\u001b[0m\u001b[0md\u001b[0m\u001b[0;34m=\u001b[0m\u001b[0;36m20\u001b[0m\u001b[0;34m,\u001b[0m\u001b[0me\u001b[0m\u001b[0;34m=\u001b[0m\u001b[0;36m30\u001b[0m\u001b[0;34m,\u001b[0m\u001b[0ma\u001b[0m\u001b[0;34m=\u001b[0m\u001b[0;36m10\u001b[0m\u001b[0;34m,\u001b[0m\u001b[0mf\u001b[0m\u001b[0;34m=\u001b[0m\u001b[0;36m50\u001b[0m\u001b[0;34m)\u001b[0m\u001b[0;34m\u001b[0m\u001b[0m\n\u001b[0m",
      "\u001b[0;31mTypeError\u001b[0m: add() got an unexpected keyword argument 'f'"
     ]
    }
   ],
   "source": [
    "#default arg/param\n",
    "def add(a,b=0,c=0,d=0,e=0):\n",
    "    \"\"\"\n",
    "    this function will add given a,b,c,d,e\n",
    "    type: int,float\n",
    "    mandatory params: a\n",
    "    optional params: b,c,d,e\n",
    "    \"\"\"\n",
    "    print \"a=%s, b=%s, c=%s, d=%s, e=%s\"%(a,b,c,d,e)\n",
    "    print a+b+c+d+e\n",
    "#keyword arguments\n",
    "add(d=20,e=30,a=10,f=50)"
   ]
  },
  {
   "cell_type": "code",
   "execution_count": 24,
   "metadata": {},
   "outputs": [
    {
     "ename": "TypeError",
     "evalue": "add() takes at least 1 argument (2 given)",
     "output_type": "error",
     "traceback": [
      "\u001b[0;31m---------------------------------------------------------------------------\u001b[0m",
      "\u001b[0;31mTypeError\u001b[0m                                 Traceback (most recent call last)",
      "\u001b[0;32m<ipython-input-24-b2028f524761>\u001b[0m in \u001b[0;36m<module>\u001b[0;34m()\u001b[0m\n\u001b[1;32m     10\u001b[0m     \u001b[0;32mprint\u001b[0m \u001b[0ma\u001b[0m\u001b[0;34m+\u001b[0m\u001b[0mb\u001b[0m\u001b[0;34m+\u001b[0m\u001b[0mc\u001b[0m\u001b[0;34m+\u001b[0m\u001b[0md\u001b[0m\u001b[0;34m+\u001b[0m\u001b[0me\u001b[0m\u001b[0;34m\u001b[0m\u001b[0m\n\u001b[1;32m     11\u001b[0m \u001b[0;31m#keyword arguments\u001b[0m\u001b[0;34m\u001b[0m\u001b[0;34m\u001b[0m\u001b[0m\n\u001b[0;32m---> 12\u001b[0;31m \u001b[0madd\u001b[0m\u001b[0;34m(\u001b[0m\u001b[0md\u001b[0m\u001b[0;34m=\u001b[0m\u001b[0;36m20\u001b[0m\u001b[0;34m,\u001b[0m\u001b[0me\u001b[0m\u001b[0;34m=\u001b[0m\u001b[0;36m30\u001b[0m\u001b[0;34m)\u001b[0m\u001b[0;34m\u001b[0m\u001b[0m\n\u001b[0m",
      "\u001b[0;31mTypeError\u001b[0m: add() takes at least 1 argument (2 given)"
     ]
    }
   ],
   "source": [
    "#default arg/param\n",
    "def add(a,b=0,c=0,d=0,e=0):\n",
    "    \"\"\"\n",
    "    this function will add given a,b,c,d,e\n",
    "    type: int,float\n",
    "    mandatory params: a\n",
    "    optional params: b,c,d,e\n",
    "    \"\"\"\n",
    "    print \"a=%s, b=%s, c=%s, d=%s, e=%s\"%(a,b,c,d,e)\n",
    "    print a+b+c+d+e\n",
    "#keyword arguments\n",
    "add(d=20,e=30)"
   ]
  },
  {
   "cell_type": "code",
   "execution_count": 25,
   "metadata": {},
   "outputs": [
    {
     "ename": "SyntaxError",
     "evalue": "non-default argument follows default argument (<ipython-input-25-5978437a72b9>, line 2)",
     "output_type": "error",
     "traceback": [
      "\u001b[0;36m  File \u001b[0;32m\"<ipython-input-25-5978437a72b9>\"\u001b[0;36m, line \u001b[0;32m2\u001b[0m\n\u001b[0;31m    def add(a=0,b,c=0,d=0,e=0):\u001b[0m\n\u001b[0;31mSyntaxError\u001b[0m\u001b[0;31m:\u001b[0m non-default argument follows default argument\n"
     ]
    }
   ],
   "source": [
    "#default arg/param\n",
    "def add(a=0,b,c=0,d=0,e=0):\n",
    "    \"\"\"\n",
    "    this function will add given a,b,c,d,e\n",
    "    type: int,float\n",
    "    mandatory params: a\n",
    "    optional params: b,c,d,e\n",
    "    \"\"\"\n",
    "    print \"a=%s, b=%s, c=%s, d=%s, e=%s\"%(a,b,c,d,e)\n",
    "    print a+b+c+d+e\n",
    "#keyword arguments\n",
    "add(d=20,e=30)"
   ]
  },
  {
   "cell_type": "code",
   "execution_count": 26,
   "metadata": {},
   "outputs": [
    {
     "name": "stdout",
     "output_type": "stream",
     "text": [
      "() <type 'tuple'>\n",
      "(10,) <type 'tuple'>\n",
      "(10, 20) <type 'tuple'>\n",
      "(10, 20, 30, 40, 50, 560, 760, 70, 80, 80, 90, 90, 90, 90, 90, 9) <type 'tuple'>\n"
     ]
    }
   ],
   "source": [
    "#*args\n",
    "def fun(*k):\n",
    "    print k,type(k)\n",
    "fun()\n",
    "fun(10)\n",
    "fun(10,20)\n",
    "fun(10,20,30,40,50,560,760,70,80,80,90,90,90,90,90,9)"
   ]
  },
  {
   "cell_type": "code",
   "execution_count": 27,
   "metadata": {},
   "outputs": [
    {
     "ename": "TypeError",
     "evalue": "fun() takes at least 2 arguments (0 given)",
     "output_type": "error",
     "traceback": [
      "\u001b[0;31m---------------------------------------------------------------------------\u001b[0m",
      "\u001b[0;31mTypeError\u001b[0m                                 Traceback (most recent call last)",
      "\u001b[0;32m<ipython-input-27-2e3f20b5d623>\u001b[0m in \u001b[0;36m<module>\u001b[0;34m()\u001b[0m\n\u001b[1;32m      2\u001b[0m \u001b[0;32mdef\u001b[0m \u001b[0mfun\u001b[0m\u001b[0;34m(\u001b[0m\u001b[0ma\u001b[0m\u001b[0;34m,\u001b[0m\u001b[0mb\u001b[0m\u001b[0;34m,\u001b[0m\u001b[0;34m*\u001b[0m\u001b[0mk\u001b[0m\u001b[0;34m)\u001b[0m\u001b[0;34m:\u001b[0m\u001b[0;34m\u001b[0m\u001b[0m\n\u001b[1;32m      3\u001b[0m     \u001b[0;32mprint\u001b[0m \u001b[0mk\u001b[0m\u001b[0;34m,\u001b[0m\u001b[0mtype\u001b[0m\u001b[0;34m(\u001b[0m\u001b[0mk\u001b[0m\u001b[0;34m)\u001b[0m\u001b[0;34m\u001b[0m\u001b[0m\n\u001b[0;32m----> 4\u001b[0;31m \u001b[0mfun\u001b[0m\u001b[0;34m(\u001b[0m\u001b[0;34m)\u001b[0m\u001b[0;34m\u001b[0m\u001b[0m\n\u001b[0m",
      "\u001b[0;31mTypeError\u001b[0m: fun() takes at least 2 arguments (0 given)"
     ]
    }
   ],
   "source": [
    "#*args\n",
    "def fun(a,b,*k):\n",
    "    print k,type(k)\n",
    "fun()\n"
   ]
  },
  {
   "cell_type": "code",
   "execution_count": 29,
   "metadata": {},
   "outputs": [
    {
     "name": "stdout",
     "output_type": "stream",
     "text": [
      "10 20\n",
      "(30, 40, 50, 60, 70, 80, 909, 80) <type 'tuple'>\n"
     ]
    }
   ],
   "source": [
    "#*args\n",
    "def fun(a,b,*k):\n",
    "    print a,b\n",
    "    print k,type(k)\n",
    "fun(10,20,30,40,50,60,70,80,909,80)\n"
   ]
  },
  {
   "cell_type": "code",
   "execution_count": 30,
   "metadata": {},
   "outputs": [
    {
     "ename": "TypeError",
     "evalue": "fun() got an unexpected keyword argument 'c'",
     "output_type": "error",
     "traceback": [
      "\u001b[0;31m---------------------------------------------------------------------------\u001b[0m",
      "\u001b[0;31mTypeError\u001b[0m                                 Traceback (most recent call last)",
      "\u001b[0;32m<ipython-input-30-f8c3eb5e53dd>\u001b[0m in \u001b[0;36m<module>\u001b[0;34m()\u001b[0m\n\u001b[1;32m      3\u001b[0m     \u001b[0;32mprint\u001b[0m \u001b[0ma\u001b[0m\u001b[0;34m,\u001b[0m\u001b[0mb\u001b[0m\u001b[0;34m\u001b[0m\u001b[0m\n\u001b[1;32m      4\u001b[0m     \u001b[0;32mprint\u001b[0m \u001b[0mk\u001b[0m\u001b[0;34m,\u001b[0m\u001b[0mtype\u001b[0m\u001b[0;34m(\u001b[0m\u001b[0mk\u001b[0m\u001b[0;34m)\u001b[0m\u001b[0;34m\u001b[0m\u001b[0m\n\u001b[0;32m----> 5\u001b[0;31m \u001b[0mfun\u001b[0m\u001b[0;34m(\u001b[0m\u001b[0;36m10\u001b[0m\u001b[0;34m,\u001b[0m\u001b[0;36m20\u001b[0m\u001b[0;34m,\u001b[0m\u001b[0mc\u001b[0m\u001b[0;34m=\u001b[0m\u001b[0;36m30\u001b[0m\u001b[0;34m,\u001b[0m\u001b[0md\u001b[0m\u001b[0;34m=\u001b[0m\u001b[0;36m40\u001b[0m\u001b[0;34m,\u001b[0m\u001b[0me\u001b[0m\u001b[0;34m=\u001b[0m\u001b[0;36m50\u001b[0m\u001b[0;34m,\u001b[0m\u001b[0mf\u001b[0m\u001b[0;34m=\u001b[0m\u001b[0;36m60\u001b[0m\u001b[0;34m)\u001b[0m\u001b[0;34m\u001b[0m\u001b[0m\n\u001b[0m",
      "\u001b[0;31mTypeError\u001b[0m: fun() got an unexpected keyword argument 'c'"
     ]
    }
   ],
   "source": [
    "#*args\n",
    "def fun(a,b,*k):\n",
    "    print a,b\n",
    "    print k,type(k)\n",
    "fun(10,20,c=30,d=40,e=50,f=60)\n"
   ]
  },
  {
   "cell_type": "code",
   "execution_count": 31,
   "metadata": {},
   "outputs": [
    {
     "name": "stdout",
     "output_type": "stream",
     "text": [
      "10 20\n",
      "{'c': 30, 'e': 50, 'd': 40, 'f': 60} <type 'dict'>\n"
     ]
    }
   ],
   "source": [
    "#**kwargs\n",
    "def fun(a,b,**k):\n",
    "    print a,b\n",
    "    print k,type(k)\n",
    "fun(10,20,c=30,d=40,e=50,f=60)\n"
   ]
  },
  {
   "cell_type": "code",
   "execution_count": 32,
   "metadata": {},
   "outputs": [
    {
     "name": "stdout",
     "output_type": "stream",
     "text": [
      "20 10\n",
      "{'c': 30, 'e': 50, 'd': 40, 'f': 60} <type 'dict'>\n"
     ]
    }
   ],
   "source": [
    "#**kwargs\n",
    "def fun(a,b,**k):\n",
    "    print a,b\n",
    "    print k,type(k)\n",
    "fun(b=10,a=20,c=30,d=40,e=50,f=60)\n"
   ]
  },
  {
   "cell_type": "code",
   "execution_count": 33,
   "metadata": {},
   "outputs": [
    {
     "name": "stdout",
     "output_type": "stream",
     "text": [
      "a=10,b=20\n",
      "(30, 40, 50) <type 'tuple'>\n",
      "{'c': 30, 'e': 56, 'd': 50} <type 'dict'>\n"
     ]
    }
   ],
   "source": [
    "def fun(a,b,*args,**kwargs):\n",
    "    print \"a=%s,b=%s\"%(a,b)\n",
    "    print args,type(args)\n",
    "    print kwargs,type(kwargs)\n",
    "fun(10,20,30,40,50,c=30,d=50,e=56)"
   ]
  },
  {
   "cell_type": "code",
   "execution_count": 34,
   "metadata": {},
   "outputs": [
    {
     "ename": "SyntaxError",
     "evalue": "non-keyword arg after keyword arg (<ipython-input-34-eaf6493dd33f>, line 5)",
     "output_type": "error",
     "traceback": [
      "\u001b[0;36m  File \u001b[0;32m\"<ipython-input-34-eaf6493dd33f>\"\u001b[0;36m, line \u001b[0;32m5\u001b[0m\n\u001b[0;31m    fun(10,20,30,40,50,c=30,d=50,e=56,100)\u001b[0m\n\u001b[0;31mSyntaxError\u001b[0m\u001b[0;31m:\u001b[0m non-keyword arg after keyword arg\n"
     ]
    }
   ],
   "source": [
    "def fun(a,b,*args,**kwargs):\n",
    "    print \"a=%s,b=%s\"%(a,b)\n",
    "    print args,type(args)\n",
    "    print kwargs,type(kwargs)\n",
    "fun(10,20,30,40,50,c=30,d=50,e=56,100)"
   ]
  },
  {
   "cell_type": "code",
   "execution_count": 35,
   "metadata": {},
   "outputs": [
    {
     "ename": "SyntaxError",
     "evalue": "invalid syntax (<ipython-input-35-2aeae7b8f58b>, line 1)",
     "output_type": "error",
     "traceback": [
      "\u001b[0;36m  File \u001b[0;32m\"<ipython-input-35-2aeae7b8f58b>\"\u001b[0;36m, line \u001b[0;32m1\u001b[0m\n\u001b[0;31m    def fun(a,b,**kwargs,*args):\u001b[0m\n\u001b[0m                        ^\u001b[0m\n\u001b[0;31mSyntaxError\u001b[0m\u001b[0;31m:\u001b[0m invalid syntax\n"
     ]
    }
   ],
   "source": [
    "def fun(a,b,**kwargs,*args):\n",
    "    print \"a=%s,b=%s\"%(a,b)\n",
    "    print args,type(args)\n",
    "    print kwargs,type(kwargs)\n",
    "fun(10,20,30,40,50,c=30,d=50,e=56,100)"
   ]
  },
  {
   "cell_type": "code",
   "execution_count": 36,
   "metadata": {},
   "outputs": [
    {
     "name": "stdout",
     "output_type": "stream",
     "text": [
      "{'a': 10, 'c': 30, 'b': 20, 'e': 56, 'g': 67}\n"
     ]
    }
   ],
   "source": [
    "def fun(**k):\n",
    "    print k\n",
    "fun(a=10,b=20,c=30,e=56,g=67)"
   ]
  },
  {
   "cell_type": "code",
   "execution_count": 37,
   "metadata": {},
   "outputs": [
    {
     "ename": "TypeError",
     "evalue": "fun() takes exactly 0 arguments (4 given)",
     "output_type": "error",
     "traceback": [
      "\u001b[0;31m---------------------------------------------------------------------------\u001b[0m",
      "\u001b[0;31mTypeError\u001b[0m                                 Traceback (most recent call last)",
      "\u001b[0;32m<ipython-input-37-38a71d960d10>\u001b[0m in \u001b[0;36m<module>\u001b[0;34m()\u001b[0m\n\u001b[1;32m      1\u001b[0m \u001b[0;32mdef\u001b[0m \u001b[0mfun\u001b[0m\u001b[0;34m(\u001b[0m\u001b[0;34m**\u001b[0m\u001b[0mk\u001b[0m\u001b[0;34m)\u001b[0m\u001b[0;34m:\u001b[0m\u001b[0;34m\u001b[0m\u001b[0m\n\u001b[1;32m      2\u001b[0m     \u001b[0;32mprint\u001b[0m \u001b[0mk\u001b[0m\u001b[0;34m\u001b[0m\u001b[0m\n\u001b[0;32m----> 3\u001b[0;31m \u001b[0mfun\u001b[0m\u001b[0;34m(\u001b[0m\u001b[0;36m10\u001b[0m\u001b[0;34m,\u001b[0m\u001b[0;36m20\u001b[0m\u001b[0;34m,\u001b[0m\u001b[0;36m30\u001b[0m\u001b[0;34m,\u001b[0m\u001b[0;36m4\u001b[0m\u001b[0;34m)\u001b[0m\u001b[0;34m\u001b[0m\u001b[0m\n\u001b[0m",
      "\u001b[0;31mTypeError\u001b[0m: fun() takes exactly 0 arguments (4 given)"
     ]
    }
   ],
   "source": [
    "def fun(**k):\n",
    "    print k\n",
    "fun(10,20,30,4)"
   ]
  },
  {
   "cell_type": "code",
   "execution_count": 38,
   "metadata": {},
   "outputs": [
    {
     "name": "stdout",
     "output_type": "stream",
     "text": [
      "{'deliverycharges': 30, 'discount': 2, 'profit': 4, 'costprice': 200}\n"
     ]
    }
   ],
   "source": [
    "#def get_sale_price(costprice, discount, deliverycharges,profit):\n",
    "def get_sale_price(**kwargs):\n",
    "    \"\"\"\n",
    "    can pass: costprice, discount, deliverycharges,profit. if you pass some other key we \n",
    "    are ignoring that\n",
    "    \"\"\"\n",
    "    print kwargs\n",
    "    #print costprice+deliverycharges-discount+profit\n",
    "\n",
    "get_sale_price(costprice=200, discount=2, deliverycharges=30,profit=4)"
   ]
  },
  {
   "cell_type": "code",
   "execution_count": 40,
   "metadata": {},
   "outputs": [
    {
     "name": "stdout",
     "output_type": "stream",
     "text": [
      "{'deliverycharges': 30, 'discount': 2, 'profit': 4, 'costprice': 200}\n",
      "232\n"
     ]
    }
   ],
   "source": [
    "#def get_sale_price(costprice, discount, deliverycharges,profit):\n",
    "def get_sale_price(**kwargs):\n",
    "    \"\"\"\n",
    "    can pass: costprice, discount, deliverycharges,profit. if you pass some other key we \n",
    "    are ignoring that\n",
    "    \"\"\"\n",
    "    print kwargs\n",
    "    print kwargs.get('costprice')+kwargs.get('deliverycharges')-kwargs.get('discount')+kwargs.get('profit')\n",
    "\n",
    "get_sale_price(costprice=200, discount=2, deliverycharges=30,profit=4)"
   ]
  },
  {
   "cell_type": "code",
   "execution_count": 42,
   "metadata": {},
   "outputs": [
    {
     "name": "stdout",
     "output_type": "stream",
     "text": [
      "232\n",
      "232\n"
     ]
    }
   ],
   "source": [
    "def get_sale_price(costprice, discount=0, deliverycharges=0,profit=0,*args,**kwargs):\n",
    "    print costprice+deliverycharges-discount+profit\n",
    "\n",
    "get_sale_price(costprice=200, discount=2, deliverycharges=30,profit=4)\n",
    "get_sale_price(200, 2,30,4)"
   ]
  },
  {
   "cell_type": "code",
   "execution_count": 43,
   "metadata": {},
   "outputs": [
    {
     "name": "stdout",
     "output_type": "stream",
     "text": [
      "100\n"
     ]
    }
   ],
   "source": [
    "a=100\n",
    "def fun():\n",
    "    a=1000\n",
    "fun()\n",
    "print a"
   ]
  },
  {
   "cell_type": "code",
   "execution_count": 45,
   "metadata": {},
   "outputs": [
    {
     "name": "stdout",
     "output_type": "stream",
     "text": [
      "inside fun: 100\n",
      "100\n"
     ]
    }
   ],
   "source": [
    "a=100\n",
    "def fun():\n",
    "    print \"inside fun:\",a\n",
    "fun()\n",
    "print a"
   ]
  },
  {
   "cell_type": "code",
   "execution_count": 46,
   "metadata": {},
   "outputs": [
    {
     "ename": "NameError",
     "evalue": "name 'xyz' is not defined",
     "output_type": "error",
     "traceback": [
      "\u001b[0;31m---------------------------------------------------------------------------\u001b[0m",
      "\u001b[0;31mNameError\u001b[0m                                 Traceback (most recent call last)",
      "\u001b[0;32m<ipython-input-46-826ec9e5eb24>\u001b[0m in \u001b[0;36m<module>\u001b[0;34m()\u001b[0m\n\u001b[1;32m      2\u001b[0m     \u001b[0mxyz\u001b[0m\u001b[0;34m=\u001b[0m\u001b[0;36m2000\u001b[0m\u001b[0;34m\u001b[0m\u001b[0m\n\u001b[1;32m      3\u001b[0m \u001b[0mfun\u001b[0m\u001b[0;34m(\u001b[0m\u001b[0;34m)\u001b[0m\u001b[0;34m\u001b[0m\u001b[0m\n\u001b[0;32m----> 4\u001b[0;31m \u001b[0;32mprint\u001b[0m \u001b[0mxyz\u001b[0m\u001b[0;34m\u001b[0m\u001b[0m\n\u001b[0m",
      "\u001b[0;31mNameError\u001b[0m: name 'xyz' is not defined"
     ]
    }
   ],
   "source": [
    "def fun():\n",
    "    xyz=2000\n",
    "fun()\n",
    "print xyz"
   ]
  },
  {
   "cell_type": "code",
   "execution_count": null,
   "metadata": {
    "collapsed": true
   },
   "outputs": [],
   "source": []
  }
 ],
 "metadata": {
  "kernelspec": {
   "display_name": "Python 2",
   "language": "python",
   "name": "python2"
  },
  "language_info": {
   "codemirror_mode": {
    "name": "ipython",
    "version": 2
   },
   "file_extension": ".py",
   "mimetype": "text/x-python",
   "name": "python",
   "nbconvert_exporter": "python",
   "pygments_lexer": "ipython2",
   "version": "2.7.14"
  }
 },
 "nbformat": 4,
 "nbformat_minor": 2
}
