{
 "cells": [
  {
   "cell_type": "code",
   "execution_count": 1,
   "metadata": {},
   "outputs": [
    {
     "name": "stdout",
     "output_type": "stream",
     "text": [
      "30\n",
      "-10\n",
      "200\n"
     ]
    }
   ],
   "source": [
    "def add(a,b):\n",
    "    c3=a+20\n",
    "    return a+b\n",
    "def minus(a,b):\n",
    "    return a-b\n",
    "def mul(a,b):\n",
    "    return a*b\n",
    "c1=10\n",
    "c2=20\n",
    "print add(c1,c2)\n",
    "print minus(c1,c2)\n",
    "print mul(c1,c2)"
   ]
  },
  {
   "cell_type": "code",
   "execution_count": 2,
   "metadata": {},
   "outputs": [
    {
     "name": "stdout",
     "output_type": "stream",
     "text": [
      "30\n"
     ]
    }
   ],
   "source": [
    "a=10\n",
    "b=20\n",
    "print a+b"
   ]
  },
  {
   "cell_type": "code",
   "execution_count": 3,
   "metadata": {},
   "outputs": [
    {
     "ename": "TypeError",
     "evalue": "unsupported operand type(s) for +: 'dict' and 'dict'",
     "output_type": "error",
     "traceback": [
      "\u001b[0;31m---------------------------------------------------------------------------\u001b[0m",
      "\u001b[0;31mTypeError\u001b[0m                                 Traceback (most recent call last)",
      "\u001b[0;32m<ipython-input-3-b19255c28504>\u001b[0m in \u001b[0;36m<module>\u001b[0;34m()\u001b[0m\n\u001b[1;32m      1\u001b[0m \u001b[0md1\u001b[0m\u001b[0;34m=\u001b[0m\u001b[0;34m{\u001b[0m\u001b[0;36m1\u001b[0m\u001b[0;34m:\u001b[0m\u001b[0;36m2\u001b[0m\u001b[0;34m}\u001b[0m\u001b[0;34m\u001b[0m\u001b[0m\n\u001b[1;32m      2\u001b[0m \u001b[0md2\u001b[0m\u001b[0;34m=\u001b[0m\u001b[0;34m{\u001b[0m\u001b[0;36m2\u001b[0m\u001b[0;34m:\u001b[0m\u001b[0;36m3\u001b[0m\u001b[0;34m}\u001b[0m\u001b[0;34m\u001b[0m\u001b[0m\n\u001b[0;32m----> 3\u001b[0;31m \u001b[0md1\u001b[0m\u001b[0;34m+\u001b[0m\u001b[0md2\u001b[0m\u001b[0;34m\u001b[0m\u001b[0m\n\u001b[0m",
      "\u001b[0;31mTypeError\u001b[0m: unsupported operand type(s) for +: 'dict' and 'dict'"
     ]
    }
   ],
   "source": [
    "d1={1:2}\n",
    "d2={2:3}\n",
    "d1+d2"
   ]
  },
  {
   "cell_type": "code",
   "execution_count": 4,
   "metadata": {},
   "outputs": [
    {
     "data": {
      "text/plain": [
       "30"
      ]
     },
     "execution_count": 4,
     "metadata": {},
     "output_type": "execute_result"
    }
   ],
   "source": [
    "a=10\n",
    "b=20\n",
    "a+b"
   ]
  },
  {
   "cell_type": "code",
   "execution_count": 5,
   "metadata": {},
   "outputs": [
    {
     "data": {
      "text/plain": [
       "'str1str2'"
      ]
     },
     "execution_count": 5,
     "metadata": {},
     "output_type": "execute_result"
    }
   ],
   "source": [
    "a=\"str1\"\n",
    "b=\"str2\"\n",
    "a+b"
   ]
  },
  {
   "cell_type": "code",
   "execution_count": 6,
   "metadata": {},
   "outputs": [
    {
     "name": "stdout",
     "output_type": "stream",
     "text": [
      "this is class\n"
     ]
    }
   ],
   "source": [
    "def fun():\n",
    "    print \"this is fun\"\n",
    "class c1:\n",
    "    print \"this is class\""
   ]
  },
  {
   "cell_type": "code",
   "execution_count": 7,
   "metadata": {},
   "outputs": [
    {
     "name": "stdout",
     "output_type": "stream",
     "text": [
      "this is class\n"
     ]
    }
   ],
   "source": [
    "\n",
    "class c1:\n",
    "    print \"this is class\"\n",
    "    def fun():\n",
    "        print \"this is fun\""
   ]
  },
  {
   "cell_type": "code",
   "execution_count": 8,
   "metadata": {},
   "outputs": [
    {
     "name": "stdout",
     "output_type": "stream",
     "text": [
      "this is class\n",
      "this is fun\n"
     ]
    }
   ],
   "source": [
    "\n",
    "class c1:\n",
    "    print \"this is class\"\n",
    "    def fun():\n",
    "        print \"this is fun\"\n",
    "    fun()"
   ]
  },
  {
   "cell_type": "code",
   "execution_count": 9,
   "metadata": {},
   "outputs": [
    {
     "name": "stdout",
     "output_type": "stream",
     "text": [
      "this is class\n",
      "10 20 30\n"
     ]
    }
   ],
   "source": [
    "class c1:\n",
    "    print \"this is class\"\n",
    "    a=10\n",
    "    b=20\n",
    "    c=30\n",
    "    def fun(c1,c2):\n",
    "        print \"c1=%s, c2=%s\"%(c1,c2)\n",
    "print c1.a, c1.b,c1.c"
   ]
  },
  {
   "cell_type": "code",
   "execution_count": 10,
   "metadata": {},
   "outputs": [
    {
     "name": "stdout",
     "output_type": "stream",
     "text": [
      "this is class\n",
      "10 20 30\n"
     ]
    },
    {
     "ename": "TypeError",
     "evalue": "unbound method fun() must be called with c1 instance as first argument (got int instance instead)",
     "output_type": "error",
     "traceback": [
      "\u001b[0;31m---------------------------------------------------------------------------\u001b[0m",
      "\u001b[0;31mTypeError\u001b[0m                                 Traceback (most recent call last)",
      "\u001b[0;32m<ipython-input-10-954fcfae6377>\u001b[0m in \u001b[0;36m<module>\u001b[0;34m()\u001b[0m\n\u001b[1;32m      7\u001b[0m         \u001b[0;32mprint\u001b[0m \u001b[0;34m\"c1=%s, c2=%s\"\u001b[0m\u001b[0;34m%\u001b[0m\u001b[0;34m(\u001b[0m\u001b[0mc1\u001b[0m\u001b[0;34m,\u001b[0m\u001b[0mc2\u001b[0m\u001b[0;34m)\u001b[0m\u001b[0;34m\u001b[0m\u001b[0m\n\u001b[1;32m      8\u001b[0m \u001b[0;32mprint\u001b[0m \u001b[0mc1\u001b[0m\u001b[0;34m.\u001b[0m\u001b[0ma\u001b[0m\u001b[0;34m,\u001b[0m \u001b[0mc1\u001b[0m\u001b[0;34m.\u001b[0m\u001b[0mb\u001b[0m\u001b[0;34m,\u001b[0m\u001b[0mc1\u001b[0m\u001b[0;34m.\u001b[0m\u001b[0mc\u001b[0m\u001b[0;34m\u001b[0m\u001b[0m\n\u001b[0;32m----> 9\u001b[0;31m \u001b[0mc1\u001b[0m\u001b[0;34m.\u001b[0m\u001b[0mfun\u001b[0m\u001b[0;34m(\u001b[0m\u001b[0;36m10\u001b[0m\u001b[0;34m,\u001b[0m\u001b[0;36m20\u001b[0m\u001b[0;34m)\u001b[0m\u001b[0;34m\u001b[0m\u001b[0m\n\u001b[0m",
      "\u001b[0;31mTypeError\u001b[0m: unbound method fun() must be called with c1 instance as first argument (got int instance instead)"
     ]
    }
   ],
   "source": [
    "class c1:\n",
    "    print \"this is class\"\n",
    "    a=10\n",
    "    b=20\n",
    "    c=30\n",
    "    def fun(c1,c2):\n",
    "        print \"c1=%s, c2=%s\"%(c1,c2)\n",
    "print c1.a, c1.b,c1.c\n",
    "c1.fun(10,20)"
   ]
  },
  {
   "cell_type": "code",
   "execution_count": 11,
   "metadata": {},
   "outputs": [
    {
     "name": "stdout",
     "output_type": "stream",
     "text": [
      "this is class\n",
      "10 20 30\n",
      "c1=<__main__.c1 instance at 0x7fe8012ff908>, c2=20\n"
     ]
    }
   ],
   "source": [
    "class c1:\n",
    "    print \"this is class\"\n",
    "    a=10\n",
    "    b=20\n",
    "    c=30\n",
    "    def fun(c1,c2):\n",
    "        print \"c1=%s, c2=%s\"%(c1,c2)\n",
    "print c1.a, c1.b,c1.c\n",
    "o1=c1()\n",
    "c1.fun(o1,20)"
   ]
  },
  {
   "cell_type": "code",
   "execution_count": 12,
   "metadata": {},
   "outputs": [
    {
     "name": "stdout",
     "output_type": "stream",
     "text": [
      "this is class\n",
      "10 20 30\n",
      "c1=<__main__.c1 instance at 0x7fe801317200>, c2=20\n",
      "using instance\n",
      "10 20 30\n",
      "c1=<__main__.c1 instance at 0x7fe801317200>, c2=20\n",
      "None\n"
     ]
    }
   ],
   "source": [
    "class c1:\n",
    "    print \"this is class\"\n",
    "    a=10\n",
    "    b=20\n",
    "    c=30\n",
    "    def fun(c1,c2):\n",
    "        print \"c1=%s, c2=%s\"%(c1,c2)\n",
    "print c1.a, c1.b,c1.c\n",
    "o1=c1()\n",
    "# c1 class object. It will create while it is executing a class definition\n",
    "# o1 is data object. It will create while you are creating an object. o1=c1(). o1 is a reference of the\n",
    "# data object, we called o1 as an instance.\n",
    "c1.fun(o1,20)\n",
    "print \"using instance\"\n",
    "print o1.a,o1.b,o1.c\n",
    "print o1.fun(20)"
   ]
  },
  {
   "cell_type": "code",
   "execution_count": 13,
   "metadata": {},
   "outputs": [
    {
     "name": "stdout",
     "output_type": "stream",
     "text": [
      "anil kumar 23\n",
      "jayaram 25\n"
     ]
    }
   ],
   "source": [
    "class Emp:\n",
    "    def get(e1):\n",
    "        print e1.name,e1.age\n",
    "anil = Emp()\n",
    "anil.name=\"anil kumar\"\n",
    "anil.age=23\n",
    "anil.doj=\"2018-09-02\"\n",
    "jay = Emp()\n",
    "jay.name=\"jayaram\"\n",
    "jay.age=25\n",
    "Emp.get(anil)\n",
    "Emp.get(jay)"
   ]
  },
  {
   "cell_type": "code",
   "execution_count": 14,
   "metadata": {},
   "outputs": [
    {
     "name": "stdout",
     "output_type": "stream",
     "text": [
      "anil kumar 23\n",
      "jayaram 25\n"
     ]
    }
   ],
   "source": [
    "class Emp:\n",
    "    def get(e1):\n",
    "        print e1.name,e1.age\n",
    "anil = Emp()\n",
    "anil.name=\"anil kumar\"\n",
    "anil.age=23\n",
    "anil.doj=\"2018-09-02\"\n",
    "jay = Emp()\n",
    "jay.name=\"jayaram\"\n",
    "jay.age=25\n",
    "#Emp.get(anil)\n",
    "anil.get()\n",
    "Emp.get(jay)"
   ]
  },
  {
   "cell_type": "code",
   "execution_count": 15,
   "metadata": {},
   "outputs": [
    {
     "name": "stdout",
     "output_type": "stream",
     "text": [
      "anil kumar 23\n",
      "jayaram 25\n"
     ]
    }
   ],
   "source": [
    "class Emp:\n",
    "    def get(e1):\n",
    "        print e1.name,e1.age\n",
    "anil = Emp()\n",
    "anil.name=\"anil kumar\"\n",
    "anil.age=23\n",
    "anil.doj=\"2018-09-02\"\n",
    "jay = Emp()\n",
    "jay.name=\"jayaram\"\n",
    "jay.age=25\n",
    "#Emp.get(anil)\n",
    "anil.get()\n",
    "#Emp.get(jay)\n",
    "jay.get()"
   ]
  },
  {
   "cell_type": "code",
   "execution_count": 16,
   "metadata": {},
   "outputs": [
    {
     "name": "stdout",
     "output_type": "stream",
     "text": [
      "anil kumar 23\n",
      "jayaram 25\n"
     ]
    },
    {
     "ename": "AttributeError",
     "evalue": "Emp instance has no attribute 'doj'",
     "output_type": "error",
     "traceback": [
      "\u001b[0;31m---------------------------------------------------------------------------\u001b[0m",
      "\u001b[0;31mAttributeError\u001b[0m                            Traceback (most recent call last)",
      "\u001b[0;32m<ipython-input-16-59a386bbfbb4>\u001b[0m in \u001b[0;36m<module>\u001b[0;34m()\u001b[0m\n\u001b[1;32m     13\u001b[0m \u001b[0;31m#Emp.get(jay)\u001b[0m\u001b[0;34m\u001b[0m\u001b[0;34m\u001b[0m\u001b[0m\n\u001b[1;32m     14\u001b[0m \u001b[0mjay\u001b[0m\u001b[0;34m.\u001b[0m\u001b[0mget\u001b[0m\u001b[0;34m(\u001b[0m\u001b[0;34m)\u001b[0m\u001b[0;34m\u001b[0m\u001b[0m\n\u001b[0;32m---> 15\u001b[0;31m \u001b[0;32mprint\u001b[0m \u001b[0mjay\u001b[0m\u001b[0;34m.\u001b[0m\u001b[0mdoj\u001b[0m\u001b[0;34m\u001b[0m\u001b[0m\n\u001b[0m",
      "\u001b[0;31mAttributeError\u001b[0m: Emp instance has no attribute 'doj'"
     ]
    }
   ],
   "source": [
    "class Emp:\n",
    "    def get(e1):\n",
    "        print e1.name,e1.age\n",
    "anil = Emp()\n",
    "anil.name=\"anil kumar\"\n",
    "anil.age=23\n",
    "anil.doj=\"2018-09-02\"\n",
    "jay = Emp()\n",
    "jay.name=\"jayaram\"\n",
    "jay.age=25\n",
    "#Emp.get(anil)\n",
    "anil.get()\n",
    "#Emp.get(jay)\n",
    "jay.get()\n",
    "print jay.doj"
   ]
  },
  {
   "cell_type": "code",
   "execution_count": 17,
   "metadata": {},
   "outputs": [
    {
     "name": "stdout",
     "output_type": "stream",
     "text": [
      "anil kumar 23\n",
      "jayaram 25\n"
     ]
    },
    {
     "ename": "AttributeError",
     "evalue": "class Emp has no attribute 'name'",
     "output_type": "error",
     "traceback": [
      "\u001b[0;31m---------------------------------------------------------------------------\u001b[0m",
      "\u001b[0;31mAttributeError\u001b[0m                            Traceback (most recent call last)",
      "\u001b[0;32m<ipython-input-17-ab22155b0cde>\u001b[0m in \u001b[0;36m<module>\u001b[0;34m()\u001b[0m\n\u001b[1;32m     14\u001b[0m \u001b[0;31m#Emp.get(jay)\u001b[0m\u001b[0;34m\u001b[0m\u001b[0;34m\u001b[0m\u001b[0m\n\u001b[1;32m     15\u001b[0m \u001b[0mjay\u001b[0m\u001b[0;34m.\u001b[0m\u001b[0mget\u001b[0m\u001b[0;34m(\u001b[0m\u001b[0;34m)\u001b[0m\u001b[0;34m\u001b[0m\u001b[0m\n\u001b[0;32m---> 16\u001b[0;31m \u001b[0;32mprint\u001b[0m \u001b[0mEmp\u001b[0m\u001b[0;34m.\u001b[0m\u001b[0mname\u001b[0m\u001b[0;34m\u001b[0m\u001b[0m\n\u001b[0m",
      "\u001b[0;31mAttributeError\u001b[0m: class Emp has no attribute 'name'"
     ]
    }
   ],
   "source": [
    "class Emp:\n",
    "    company_name=\"KHYAATHI\"\n",
    "    def get(e1):\n",
    "        print e1.name,e1.age\n",
    "anil = Emp()\n",
    "anil.name=\"anil kumar\"\n",
    "anil.age=23\n",
    "anil.doj=\"2018-09-02\"\n",
    "jay = Emp()\n",
    "jay.name=\"jayaram\"\n",
    "jay.age=25\n",
    "#Emp.get(anil)\n",
    "anil.get()\n",
    "#Emp.get(jay)\n",
    "jay.get()\n",
    "print Emp.name"
   ]
  },
  {
   "cell_type": "code",
   "execution_count": 18,
   "metadata": {},
   "outputs": [
    {
     "name": "stdout",
     "output_type": "stream",
     "text": [
      "anil kumar 23 KHYAATHI\n",
      "jayaram 25 KHYAATHI\n"
     ]
    }
   ],
   "source": [
    "class Emp:\n",
    "    company_name=\"KHYAATHI\"\n",
    "    def get(e1):\n",
    "        print e1.name,e1.age, e1.company_name\n",
    "anil = Emp()\n",
    "anil.name=\"anil kumar\"\n",
    "anil.age=23\n",
    "anil.doj=\"2018-09-02\"\n",
    "jay = Emp()\n",
    "jay.name=\"jayaram\"\n",
    "jay.age=25\n",
    "#Emp.get(anil)\n",
    "anil.get()\n",
    "#Emp.get(jay)\n",
    "jay.get()\n"
   ]
  },
  {
   "cell_type": "code",
   "execution_count": 19,
   "metadata": {},
   "outputs": [
    {
     "name": "stdout",
     "output_type": "stream",
     "text": [
      "Enter name:anil kumar\n",
      "Enter an age:23\n",
      "anil kumar 23 KHYAATHI\n"
     ]
    }
   ],
   "source": [
    "class Emp:\n",
    "    company_name=\"KHYAATHI\"\n",
    "    def get(e1):\n",
    "        print e1.name,e1.age, e1.company_name\n",
    "anil = Emp()\n",
    "n=raw_input(\"Enter name:\")\n",
    "a=raw_input(\"Enter an age:\")\n",
    "a=int(a)\n",
    "anil.name=n\n",
    "anil.age=a\n",
    "anil.get()"
   ]
  },
  {
   "cell_type": "code",
   "execution_count": 21,
   "metadata": {},
   "outputs": [
    {
     "name": "stdout",
     "output_type": "stream",
     "text": [
      "Enter name:anil\n",
      "Enter an age:23\n",
      "anil 23 KHYAATHI\n"
     ]
    }
   ],
   "source": [
    "class Emp:\n",
    "    company_name=\"KHYAATHI\"\n",
    "    def set_data(self, name1, age1):\n",
    "        self.name=name1\n",
    "        self.age=age1\n",
    "    def get(self):\n",
    "        print self.name,self.age, self.company_name\n",
    "anil = Emp()\n",
    "n=raw_input(\"Enter name:\")\n",
    "a=raw_input(\"Enter an age:\")\n",
    "a=int(a)\n",
    "anil.set_data(n,a) # anil,n,a\n",
    "#anil.name=n\n",
    "#anil.age=a\n",
    "anil.get()"
   ]
  },
  {
   "cell_type": "code",
   "execution_count": 22,
   "metadata": {},
   "outputs": [
    {
     "name": "stdout",
     "output_type": "stream",
     "text": [
      "anil 23 KHYAATHI\n"
     ]
    }
   ],
   "source": [
    "class Emp:\n",
    "    company_name=\"KHYAATHI\"\n",
    "    def set_data(self, name1, age1):\n",
    "        self.name=name1\n",
    "        self.age=age1\n",
    "    def get(self):\n",
    "        print self.name,self.age, self.company_name\n",
    "anil = Emp()\n",
    "anil.set_data(\"anil\",23) # anil,n,a\n",
    "anil.get()"
   ]
  },
  {
   "cell_type": "code",
   "execution_count": 23,
   "metadata": {},
   "outputs": [
    {
     "name": "stdout",
     "output_type": "stream",
     "text": [
      "anil 23 KHYAATHI\n"
     ]
    },
    {
     "ename": "AttributeError",
     "evalue": "Emp instance has no attribute 'name'",
     "output_type": "error",
     "traceback": [
      "\u001b[0;31m---------------------------------------------------------------------------\u001b[0m",
      "\u001b[0;31mAttributeError\u001b[0m                            Traceback (most recent call last)",
      "\u001b[0;32m<ipython-input-23-54ec6c820905>\u001b[0m in \u001b[0;36m<module>\u001b[0;34m()\u001b[0m\n\u001b[1;32m     10\u001b[0m \u001b[0manil\u001b[0m\u001b[0;34m.\u001b[0m\u001b[0mget\u001b[0m\u001b[0;34m(\u001b[0m\u001b[0;34m)\u001b[0m\u001b[0;34m\u001b[0m\u001b[0m\n\u001b[1;32m     11\u001b[0m \u001b[0mjay\u001b[0m\u001b[0;34m=\u001b[0m\u001b[0mEmp\u001b[0m\u001b[0;34m(\u001b[0m\u001b[0;34m)\u001b[0m\u001b[0;34m\u001b[0m\u001b[0m\n\u001b[0;32m---> 12\u001b[0;31m \u001b[0mjay\u001b[0m\u001b[0;34m.\u001b[0m\u001b[0mget\u001b[0m\u001b[0;34m(\u001b[0m\u001b[0;34m)\u001b[0m\u001b[0;34m\u001b[0m\u001b[0m\n\u001b[0m",
      "\u001b[0;32m<ipython-input-23-54ec6c820905>\u001b[0m in \u001b[0;36mget\u001b[0;34m(self)\u001b[0m\n\u001b[1;32m      5\u001b[0m         \u001b[0mself\u001b[0m\u001b[0;34m.\u001b[0m\u001b[0mage\u001b[0m\u001b[0;34m=\u001b[0m\u001b[0mage1\u001b[0m\u001b[0;34m\u001b[0m\u001b[0m\n\u001b[1;32m      6\u001b[0m     \u001b[0;32mdef\u001b[0m \u001b[0mget\u001b[0m\u001b[0;34m(\u001b[0m\u001b[0mself\u001b[0m\u001b[0;34m)\u001b[0m\u001b[0;34m:\u001b[0m\u001b[0;34m\u001b[0m\u001b[0m\n\u001b[0;32m----> 7\u001b[0;31m         \u001b[0;32mprint\u001b[0m \u001b[0mself\u001b[0m\u001b[0;34m.\u001b[0m\u001b[0mname\u001b[0m\u001b[0;34m,\u001b[0m\u001b[0mself\u001b[0m\u001b[0;34m.\u001b[0m\u001b[0mage\u001b[0m\u001b[0;34m,\u001b[0m \u001b[0mself\u001b[0m\u001b[0;34m.\u001b[0m\u001b[0mcompany_name\u001b[0m\u001b[0;34m\u001b[0m\u001b[0m\n\u001b[0m\u001b[1;32m      8\u001b[0m \u001b[0manil\u001b[0m \u001b[0;34m=\u001b[0m \u001b[0mEmp\u001b[0m\u001b[0;34m(\u001b[0m\u001b[0;34m)\u001b[0m\u001b[0;34m\u001b[0m\u001b[0m\n\u001b[1;32m      9\u001b[0m \u001b[0manil\u001b[0m\u001b[0;34m.\u001b[0m\u001b[0mset_data\u001b[0m\u001b[0;34m(\u001b[0m\u001b[0;34m\"anil\"\u001b[0m\u001b[0;34m,\u001b[0m\u001b[0;36m23\u001b[0m\u001b[0;34m)\u001b[0m \u001b[0;31m# anil,n,a\u001b[0m\u001b[0;34m\u001b[0m\u001b[0m\n",
      "\u001b[0;31mAttributeError\u001b[0m: Emp instance has no attribute 'name'"
     ]
    }
   ],
   "source": [
    "class Emp:\n",
    "    company_name=\"KHYAATHI\"\n",
    "    def set_data(self, name1, age1):\n",
    "        self.name=name1\n",
    "        self.age=age1\n",
    "    def get(self):\n",
    "        print self.name,self.age, self.company_name\n",
    "anil = Emp()\n",
    "anil.set_data(\"anil\",23) # anil,n,a\n",
    "anil.get()\n",
    "jay=Emp()\n",
    "jay.get()"
   ]
  },
  {
   "cell_type": "code",
   "execution_count": null,
   "metadata": {
    "collapsed": true
   },
   "outputs": [],
   "source": []
  }
 ],
 "metadata": {
  "kernelspec": {
   "display_name": "Python 2",
   "language": "python",
   "name": "python2"
  },
  "language_info": {
   "codemirror_mode": {
    "name": "ipython",
    "version": 2
   },
   "file_extension": ".py",
   "mimetype": "text/x-python",
   "name": "python",
   "nbconvert_exporter": "python",
   "pygments_lexer": "ipython2",
   "version": "2.7.14"
  }
 },
 "nbformat": 4,
 "nbformat_minor": 2
}
