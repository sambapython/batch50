{
 "cells": [
  {
   "cell_type": "code",
   "execution_count": 1,
   "metadata": {},
   "outputs": [
    {
     "name": "stdout",
     "output_type": "stream",
     "text": [
      "id,name,phone,email\n",
      "1,Anil kumar,9676622023,Anil123@gmail.com\n",
      "2,jayaram,9676622024,jay#$@gmail.com\n"
     ]
    }
   ],
   "source": [
    "s=\"id,name,phone,email\\n1,Anil kumar,9676622023,Anil123@gmail.com\\n2,jayaram,9676622024,jay#$@gmail.com\"\n",
    "print s"
   ]
  },
  {
   "cell_type": "code",
   "execution_count": 2,
   "metadata": {},
   "outputs": [
    {
     "name": "stdout",
     "output_type": "stream",
     "text": [
      "id\n",
      "name\n",
      "phone\n",
      "email\n",
      "1\n",
      "Anil kumar\n",
      "9676622023\n",
      "Anil123@gmail.com\n",
      "2\n",
      "jayaram\n",
      "9676622024\n",
      "jay#$@gmail.com\n"
     ]
    }
   ],
   "source": [
    "for i in s.split(\",\"):\n",
    "    print i"
   ]
  },
  {
   "cell_type": "code",
   "execution_count": 3,
   "metadata": {},
   "outputs": [
    {
     "name": "stdout",
     "output_type": "stream",
     "text": [
      "id,name,phone,email\n",
      "1,Anil kumar,9676622023,Anil123@gmail.com\n",
      "2,jayaram,9676622024,jay#$@gmail.com\n"
     ]
    }
   ],
   "source": [
    "for i in s.splitlines():\n",
    "    print i"
   ]
  },
  {
   "cell_type": "code",
   "execution_count": 4,
   "metadata": {},
   "outputs": [
    {
     "name": "stdout",
     "output_type": "stream",
     "text": [
      "['id', 'name', 'phone', 'email']\n",
      "['1', 'Anil kumar', '9676622023', 'Anil123@gmail.com']\n",
      "['2', 'jayaram', '9676622024', 'jay#$@gmail.com']\n"
     ]
    }
   ],
   "source": [
    "for i in s.splitlines():\n",
    "    print i.split(\",\")"
   ]
  },
  {
   "cell_type": "code",
   "execution_count": 5,
   "metadata": {},
   "outputs": [
    {
     "name": "stdout",
     "output_type": "stream",
     "text": [
      "phone\n",
      "9676622023\n",
      "9676622024\n"
     ]
    }
   ],
   "source": [
    "for i in s.splitlines():\n",
    "    print i.split(\",\")[2]"
   ]
  },
  {
   "cell_type": "code",
   "execution_count": 6,
   "metadata": {},
   "outputs": [
    {
     "name": "stdout",
     "output_type": "stream",
     "text": [
      "email\n",
      "Anil123@gmail.com\n",
      "jay#$@gmail.com\n"
     ]
    }
   ],
   "source": [
    "for i in s.splitlines():\n",
    "    print i.split(\",\")[-1]"
   ]
  },
  {
   "cell_type": "code",
   "execution_count": 7,
   "metadata": {},
   "outputs": [
    {
     "name": "stdout",
     "output_type": "stream",
     "text": [
      "1,Anil kumar,9676622023,Anil123@gmail.com\n",
      "jayaram,9676622024,jay#$@gmail.com,2\n",
      "Vedhanvesh,3,Vedha@yahoo.co.in,9676622025\n"
     ]
    }
   ],
   "source": [
    "s=\"1,Anil kumar,9676622023,Anil123@gmail.com\\njayaram,9676622024,jay#$@gmail.com,2\\n\\\n",
    "Vedhanvesh,3,Vedha@yahoo.co.in,9676622025\"\n",
    "print s"
   ]
  },
  {
   "cell_type": "code",
   "execution_count": 9,
   "metadata": {},
   "outputs": [
    {
     "name": "stdout",
     "output_type": "stream",
     "text": [
      "Anil123@gmail.com\n",
      "2\n",
      "9676622025\n"
     ]
    }
   ],
   "source": [
    "s=\"1,Anil kumar,9676622023,Anil123@gmail.com\\njayaram,9676622024,jay#$@gmail.com,2\\n\\\n",
    "Vedhanvesh,3,Vedha@yahoo.co.in,9676622025\"\n",
    "for i in s.splitlines():\n",
    "    print i.split(\",\")[-1]"
   ]
  },
  {
   "cell_type": "code",
   "execution_count": 10,
   "metadata": {},
   "outputs": [
    {
     "data": {
      "text/plain": [
       "['9676622023', '9676622024', '9676622025']"
      ]
     },
     "execution_count": 10,
     "metadata": {},
     "output_type": "execute_result"
    }
   ],
   "source": [
    "s=\"1,Anil kumar,9676622023,Anil123@gmail.com\\njayaram,9676622024,jay#$@gmail.com,2\\n\\\n",
    "Vedhanvesh,3,Vedha@yahoo.co.in,9676622025\"\n",
    "import re\n",
    "re.findall(\"[0-9]{10}\",s)"
   ]
  },
  {
   "cell_type": "code",
   "execution_count": 12,
   "metadata": {},
   "outputs": [
    {
     "name": "stdout",
     "output_type": "stream",
     "text": [
      "['a', 'a', 'c', 'a', 'a', 'a', 'a', 'a', 'c', 'a', 'a', 'a', 'c']\n"
     ]
    }
   ],
   "source": [
    "s=\"1,Anil kumar,9676622023,Anil123@gmail.com\\njayaram,9676622024,jay#$@gmail.com,2\\n\\\n",
    "Vedhanvesh,3,Vedha@yahoo.co.in,9676622025\"\n",
    "print re.findall(\"[abc]\",s)"
   ]
  },
  {
   "cell_type": "code",
   "execution_count": 13,
   "metadata": {},
   "outputs": [
    {
     "name": "stdout",
     "output_type": "stream",
     "text": [
      "['n', 'i', 'l', 'k', 'u', 'm', 'a', 'r', 'n', 'i', 'l', 'g', 'm', 'a', 'i', 'l', 'c', 'o', 'm', 'j', 'a', 'y', 'a', 'r', 'a', 'm', 'j', 'a', 'y', 'g', 'm', 'a', 'i', 'l', 'c', 'o', 'm', 'e', 'd', 'h', 'a', 'n', 'v', 'e', 's', 'h', 'e', 'd', 'h', 'a', 'y', 'a', 'h', 'o', 'o', 'c', 'o', 'i', 'n']\n"
     ]
    }
   ],
   "source": [
    "s=\"1,Anil kumar,9676622023,Anil123@gmail.com\\njayaram,9676622024,jay#$@gmail.com,2\\n\\\n",
    "Vedhanvesh,3,Vedha@yahoo.co.in,9676622025\"\n",
    "print re.findall(\"[a-z]\",s)"
   ]
  },
  {
   "cell_type": "code",
   "execution_count": 14,
   "metadata": {},
   "outputs": [
    {
     "name": "stdout",
     "output_type": "stream",
     "text": [
      "['A', 'n', 'i', 'l', 'k', 'u', 'm', 'a', 'r', 'A', 'n', 'i', 'l', 'g', 'm', 'a', 'i', 'l', 'c', 'o', 'm', 'j', 'a', 'y', 'a', 'r', 'a', 'm', 'j', 'a', 'y', 'g', 'm', 'a', 'i', 'l', 'c', 'o', 'm', 'V', 'e', 'd', 'h', 'a', 'n', 'v', 'e', 's', 'h', 'V', 'e', 'd', 'h', 'a', 'y', 'a', 'h', 'o', 'o', 'c', 'o', 'i', 'n']\n"
     ]
    }
   ],
   "source": [
    "s=\"1,Anil kumar,9676622023,Anil123@gmail.com\\njayaram,9676622024,jay#$@gmail.com,2\\n\\\n",
    "Vedhanvesh,3,Vedha@yahoo.co.in,9676622025\"\n",
    "print re.findall(\"[a-zA-Z]\",s)"
   ]
  },
  {
   "cell_type": "code",
   "execution_count": 15,
   "metadata": {},
   "outputs": [
    {
     "name": "stdout",
     "output_type": "stream",
     "text": [
      "['A', 'n', 'i', 'l', 'k', 'u', 'm', 'a', 'r', 'A', 'n', 'i', 'l', 'g', 'm', 'a', 'i', 'l', 'c', 'o', 'm', 'j', 'a', 'y', 'a', 'r', 'a', 'm', 'j', 'a', 'y', 'g', 'm', 'a', 'i', 'l', 'c', 'o', 'm', 'V', 'e', 'd', 'h', 'a', 'n', 'v', 'e', 's', 'h', 'V', 'e', 'd', 'h', 'a', 'y', 'a', 'h', 'o', 'o', 'c', 'o', 'i', 'n']\n"
     ]
    }
   ],
   "source": [
    "s=\"1,Anil kumar,9676622023,Anil123@gmail.com\\njayaram,9676622024,jay#$@gmail.com,2\\n\\\n",
    "Vedhanvesh,3,Vedha@yahoo.co.in,9676622025\"\n",
    "print re.findall(\"[a-z]\",s,re.I)"
   ]
  },
  {
   "cell_type": "code",
   "execution_count": 16,
   "metadata": {},
   "outputs": [
    {
     "name": "stdout",
     "output_type": "stream",
     "text": [
      "['1', 'A', 'n', 'i', 'l', 'k', 'u', 'm', 'a', 'r', '9', '6', '7', '6', '6', '2', '2', '0', '2', '3', 'A', 'n', 'i', 'l', '1', '2', '3', 'g', 'm', 'a', 'i', 'l', 'c', 'o', 'm', 'j', 'a', 'y', 'a', 'r', 'a', 'm', '9', '6', '7', '6', '6', '2', '2', '0', '2', '4', 'j', 'a', 'y', 'g', 'm', 'a', 'i', 'l', 'c', 'o', 'm', '2', 'V', 'e', 'd', 'h', 'a', 'n', 'v', 'e', 's', 'h', '3', 'V', 'e', 'd', 'h', 'a', 'y', 'a', 'h', 'o', 'o', 'c', 'o', 'i', 'n', '9', '6', '7', '6', '6', '2', '2', '0', '2', '5']\n"
     ]
    }
   ],
   "source": [
    "s=\"1,Anil kumar,9676622023,Anil123@gmail.com\\njayaram,9676622024,jay#$@gmail.com,2\\n\\\n",
    "Vedhanvesh,3,Vedha@yahoo.co.in,9676622025\"\n",
    "print re.findall(\"[a-z0-9]\",s,re.I)"
   ]
  },
  {
   "cell_type": "code",
   "execution_count": 17,
   "metadata": {},
   "outputs": [
    {
     "name": "stdout",
     "output_type": "stream",
     "text": [
      "['1', 'A', 'n', 'i', 'l', 'k', 'u', 'm', 'a', 'r', '9', '6', '7', '6', '6', '2', '2', '0', '2', '3', 'A', 'n', 'i', 'l', '1', '2', '3', '@', 'g', 'm', 'a', 'i', 'l', 'c', 'o', 'm', 'j', 'a', 'y', 'a', 'r', 'a', 'm', '9', '6', '7', '6', '6', '2', '2', '0', '2', '4', 'j', 'a', 'y', '@', 'g', 'm', 'a', 'i', 'l', 'c', 'o', 'm', '2', 'V', 'e', 'd', 'h', 'a', 'n', 'v', 'e', 's', 'h', '3', 'V', 'e', 'd', 'h', 'a', '@', 'y', 'a', 'h', 'o', 'o', 'c', 'o', 'i', 'n', '9', '6', '7', '6', '6', '2', '2', '0', '2', '5']\n"
     ]
    }
   ],
   "source": [
    "s=\"1,Anil kumar,9676622023,Anil123@gmail.com\\njayaram,9676622024,jay#$@gmail.com,2\\n\\\n",
    "Vedhanvesh,3,Vedha@yahoo.co.in,9676622025\"\n",
    "print re.findall(\"[a-z0-9@]\",s,re.I)"
   ]
  },
  {
   "cell_type": "code",
   "execution_count": 18,
   "metadata": {},
   "outputs": [
    {
     "name": "stdout",
     "output_type": "stream",
     "text": [
      "['96', '76', '62', '20', '23', '12', '96', '76', '62', '20', '24', '96', '76', '62', '20', '25']\n"
     ]
    }
   ],
   "source": [
    "s=\"1,Anil kumar,9676622023,Anil123@gmail.com\\njayaram,9676622024,jay#$@gmail.com,2\\n\\\n",
    "Vedhanvesh,3,Vedha@yahoo.co.in,9676622025\"\n",
    "print re.findall(\"[0-9][0-9]\",s,re.I)"
   ]
  },
  {
   "cell_type": "code",
   "execution_count": 19,
   "metadata": {},
   "outputs": [
    {
     "name": "stdout",
     "output_type": "stream",
     "text": [
      "['967', '662', '202', '123', '967', '662', '202', '967', '662', '202']\n"
     ]
    }
   ],
   "source": [
    "s=\"1,Anil kumar,9676622023,Anil123@gmail.com\\njayaram,9676622024,jay#$@gmail.com,2\\n\\\n",
    "Vedhanvesh,3,Vedha@yahoo.co.in,9676622025\"\n",
    "print re.findall(\"[0-9][0-9][0-9]\",s,re.I)"
   ]
  },
  {
   "cell_type": "code",
   "execution_count": 20,
   "metadata": {},
   "outputs": [
    {
     "name": "stdout",
     "output_type": "stream",
     "text": [
      "['9676622023', '9676622024', '9676622025']\n"
     ]
    }
   ],
   "source": [
    "s=\"1,Anil kumar,9676622023,Anil123@gmail.com\\njayaram,9676622024,jay#$@gmail.com,2\\n\\\n",
    "Vedhanvesh,3,Vedha@yahoo.co.in,9676622025\"\n",
    "print re.findall(\"[0-9][0-9][0-9][0-9][0-9][0-9][0-9][0-9][0-9][0-9]\",s,re.I)"
   ]
  },
  {
   "cell_type": "code",
   "execution_count": 21,
   "metadata": {},
   "outputs": [
    {
     "name": "stdout",
     "output_type": "stream",
     "text": [
      "['9676622023', '9676622024', '9676622025']\n"
     ]
    }
   ],
   "source": [
    "s=\"1,Anil kumar,9676622023,Anil123@gmail.com\\njayaram,9676622024,jay#$@gmail.com,2\\n\\\n",
    "Vedhanvesh,3,Vedha@yahoo.co.in,9676622025\"\n",
    "print re.findall(\"[0-9]{10}\",s,re.I)"
   ]
  },
  {
   "cell_type": "code",
   "execution_count": 22,
   "metadata": {},
   "outputs": [
    {
     "name": "stdout",
     "output_type": "stream",
     "text": [
      "['1', '9676622023', '123', '9676622024', '2', '3', '9676622025']\n"
     ]
    }
   ],
   "source": [
    "s=\"1,Anil kumar,9676622023,Anil123@gmail.com\\njayaram,9676622024,jay#$@gmail.com,2\\n\\\n",
    "Vedhanvesh,3,Vedha@yahoo.co.in,9676622025\"\n",
    "print re.findall(\"[0-9]{1,10}\",s)"
   ]
  },
  {
   "cell_type": "code",
   "execution_count": 23,
   "metadata": {},
   "outputs": [
    {
     "name": "stdout",
     "output_type": "stream",
     "text": [
      "['1', '9676622023', '123', '9676622024', '2', '3', '9676622025']\n"
     ]
    }
   ],
   "source": [
    "s=\"1,Anil kumar,9676622023,Anil123@gmail.com\\njayaram,9676622024,jay#$@gmail.com,2\\n\\\n",
    "Vedhanvesh,3,Vedha@yahoo.co.in,9676622025\"\n",
    "print re.findall(\"[0-9]{1,}\",s)"
   ]
  },
  {
   "cell_type": "code",
   "execution_count": 24,
   "metadata": {},
   "outputs": [
    {
     "name": "stdout",
     "output_type": "stream",
     "text": [
      "['1', '9676622023', '123', '9676622024', '2', '3', '9676622025']\n"
     ]
    }
   ],
   "source": [
    "s=\"1,Anil kumar,9676622023,Anil123@gmail.com\\njayaram,9676622024,jay#$@gmail.com,2\\n\\\n",
    "Vedhanvesh,3,Vedha@yahoo.co.in,9676622025\"\n",
    "print re.findall(\"[0-9]+\",s)"
   ]
  },
  {
   "cell_type": "code",
   "execution_count": 25,
   "metadata": {},
   "outputs": [
    {
     "name": "stdout",
     "output_type": "stream",
     "text": [
      "['1', '', '', '', '', '', '', '', '', '', '', '', '', '9676622023', '', '', '', '', '', '123', '', '', '', '', '', '', '', '', '', '', '', '', '', '', '', '', '', '', '', '9676622024', '', '', '', '', '', '', '', '', '', '', '', '', '', '', '', '', '', '2', '', '', '', '', '', '', '', '', '', '', '', '', '3', '', '', '', '', '', '', '', '', '', '', '', '', '', '', '', '', '', '', '', '9676622025', '']\n"
     ]
    }
   ],
   "source": [
    "s=\"1,Anil kumar,9676622023,Anil123@gmail.com\\njayaram,9676622024,jay#$@gmail.com,2\\n\\\n",
    "Vedhanvesh,3,Vedha@yahoo.co.in,9676622025\"\n",
    "print re.findall(\"[0-9]{0,}\",s)"
   ]
  },
  {
   "cell_type": "code",
   "execution_count": 26,
   "metadata": {},
   "outputs": [
    {
     "name": "stdout",
     "output_type": "stream",
     "text": [
      "['1', '', '', '', '', '', '', '', '', '', '', '', '', '9676622023', '', '', '', '', '', '123', '', '', '', '', '', '', '', '', '', '', '', '', '', '', '', '', '', '', '', '9676622024', '', '', '', '', '', '', '', '', '', '', '', '', '', '', '', '', '', '2', '', '', '', '', '', '', '', '', '', '', '', '', '3', '', '', '', '', '', '', '', '', '', '', '', '', '', '', '', '', '', '', '', '9676622025', '']\n"
     ]
    }
   ],
   "source": [
    "s=\"1,Anil kumar,9676622023,Anil123@gmail.com\\njayaram,9676622024,jay#$@gmail.com,2\\n\\\n",
    "Vedhanvesh,3,Vedha@yahoo.co.in,9676622025\"\n",
    "print re.findall(\"[0-9]*\",s)"
   ]
  },
  {
   "cell_type": "code",
   "execution_count": 27,
   "metadata": {},
   "outputs": [
    {
     "name": "stdout",
     "output_type": "stream",
     "text": [
      "['1', '', '', '', '', '', '', '', '', '', '', '', '', '9', '6', '7', '6', '6', '2', '2', '0', '2', '3', '', '', '', '', '', '1', '2', '3', '', '', '', '', '', '', '', '', '', '', '', '', '', '', '', '', '', '', '', '9', '6', '7', '6', '6', '2', '2', '0', '2', '4', '', '', '', '', '', '', '', '', '', '', '', '', '', '', '', '', '', '2', '', '', '', '', '', '', '', '', '', '', '', '', '3', '', '', '', '', '', '', '', '', '', '', '', '', '', '', '', '', '', '', '', '9', '6', '7', '6', '6', '2', '2', '0', '2', '5', '']\n"
     ]
    }
   ],
   "source": [
    "s=\"1,Anil kumar,9676622023,Anil123@gmail.com\\njayaram,9676622024,jay#$@gmail.com,2\\n\\\n",
    "Vedhanvesh,3,Vedha@yahoo.co.in,9676622025\"\n",
    "print re.findall(\"[0-9]{0,1}\",s)"
   ]
  },
  {
   "cell_type": "code",
   "execution_count": 28,
   "metadata": {},
   "outputs": [
    {
     "name": "stdout",
     "output_type": "stream",
     "text": [
      "['1', '', '', '', '', '', '', '', '', '', '', '', '', '9', '6', '7', '6', '6', '2', '2', '0', '2', '3', '', '', '', '', '', '1', '2', '3', '', '', '', '', '', '', '', '', '', '', '', '', '', '', '', '', '', '', '', '9', '6', '7', '6', '6', '2', '2', '0', '2', '4', '', '', '', '', '', '', '', '', '', '', '', '', '', '', '', '', '', '2', '', '', '', '', '', '', '', '', '', '', '', '', '3', '', '', '', '', '', '', '', '', '', '', '', '', '', '', '', '', '', '', '', '9', '6', '7', '6', '6', '2', '2', '0', '2', '5', '']\n"
     ]
    }
   ],
   "source": [
    "s=\"1,Anil kumar,9676622023,Anil123@gmail.com\\njayaram,9676622024,jay#$@gmail.com,2\\n\\\n",
    "Vedhanvesh,3,Vedha@yahoo.co.in,9676622025\"\n",
    "print re.findall(\"[0-9]?\",s)"
   ]
  },
  {
   "cell_type": "code",
   "execution_count": 29,
   "metadata": {},
   "outputs": [
    {
     "name": "stdout",
     "output_type": "stream",
     "text": [
      "[',', 'A', 'n', 'i', 'l', ' ', 'k', 'u', 'm', 'a', 'r', ',', ',', 'A', 'n', 'i', 'l', '@', 'g', 'm', 'a', 'i', 'l', '.', 'c', 'o', 'm', '\\n', 'j', 'a', 'y', 'a', 'r', 'a', 'm', ',', ',', 'j', 'a', 'y', '#', '$', '@', 'g', 'm', 'a', 'i', 'l', '.', 'c', 'o', 'm', ',', '\\n', 'V', 'e', 'd', 'h', 'a', 'n', 'v', 'e', 's', 'h', ',', ',', 'V', 'e', 'd', 'h', 'a', '@', 'y', 'a', 'h', 'o', 'o', '.', 'c', 'o', '.', 'i', 'n', ',']\n"
     ]
    }
   ],
   "source": [
    "s=\"1,Anil kumar,9676622023,Anil123@gmail.com\\njayaram,9676622024,jay#$@gmail.com,2\\n\\\n",
    "Vedhanvesh,3,Vedha@yahoo.co.in,9676622025\"\n",
    "print re.findall(\"[^0-9]\",s)"
   ]
  },
  {
   "cell_type": "code",
   "execution_count": 30,
   "metadata": {},
   "outputs": [
    {
     "name": "stdout",
     "output_type": "stream",
     "text": [
      "['1']\n"
     ]
    }
   ],
   "source": [
    "s=\"1,Anil kumar,9676622023,Anil123@gmail.com\\njayaram,9676622024,jay#$@gmail.com,2\\n\\\n",
    "Vedhanvesh,3,Vedha@yahoo.co.in,9676622025\"\n",
    "print re.findall(\"^[0-9]\",s)"
   ]
  },
  {
   "cell_type": "code",
   "execution_count": 31,
   "metadata": {},
   "outputs": [
    {
     "name": "stdout",
     "output_type": "stream",
     "text": [
      "['5']\n"
     ]
    }
   ],
   "source": [
    "s=\"1,Anil kumar,9676622023,Anil123@gmail.com\\njayaram,9676622024,jay#$@gmail.com,2\\n\\\n",
    "Vedhanvesh,3,Vedha@yahoo.co.in,9676622025\"\n",
    "print re.findall(\"[0-9]$\",s)"
   ]
  },
  {
   "cell_type": "code",
   "execution_count": 32,
   "metadata": {},
   "outputs": [
    {
     "name": "stdout",
     "output_type": "stream",
     "text": [
      "['1', ',', 'A', 'n', 'i', 'l', ' ', 'k', 'u', 'm', 'a', 'r', ',', '9', '6', '7', '6', '6', '2', '2', '0', '2', '3', ',', 'A', 'n', 'i', 'l', '1', '2', '3', '@', 'g', 'm', 'a', 'i', 'l', '.', 'c', 'o', 'm', 'j', 'a', 'y', 'a', 'r', 'a', 'm', ',', '9', '6', '7', '6', '6', '2', '2', '0', '2', '4', ',', 'j', 'a', 'y', '#', '$', '@', 'g', 'm', 'a', 'i', 'l', '.', 'c', 'o', 'm', ',', '2', 'V', 'e', 'd', 'h', 'a', 'n', 'v', 'e', 's', 'h', ',', '3', ',', 'V', 'e', 'd', 'h', 'a', '@', 'y', 'a', 'h', 'o', 'o', '.', 'c', 'o', '.', 'i', 'n', ',', '9', '6', '7', '6', '6', '2', '2', '0', '2', '5']\n"
     ]
    }
   ],
   "source": [
    "s=\"1,Anil kumar,9676622023,Anil123@gmail.com\\njayaram,9676622024,jay#$@gmail.com,2\\n\\\n",
    "Vedhanvesh,3,Vedha@yahoo.co.in,9676622025\"\n",
    "print re.findall(\".\",s)"
   ]
  },
  {
   "cell_type": "code",
   "execution_count": 33,
   "metadata": {},
   "outputs": [
    {
     "name": "stdout",
     "output_type": "stream",
     "text": [
      "['1', ',', 'A', 'n', 'i', 'l', ' ', 'k', 'u', 'm', 'a', 'r', ',', '9', '6', '7', '6', '6', '2', '2', '0', '2', '3', ',', 'A', 'n', 'i', 'l', '1', '2', '3', '@', 'g', 'm', 'a', 'i', 'l', '.', 'c', 'o', 'm', '\\n', 'j', 'a', 'y', 'a', 'r', 'a', 'm', ',', '9', '6', '7', '6', '6', '2', '2', '0', '2', '4', ',', 'j', 'a', 'y', '#', '$', '@', 'g', 'm', 'a', 'i', 'l', '.', 'c', 'o', 'm', ',', '2', '\\n', 'V', 'e', 'd', 'h', 'a', 'n', 'v', 'e', 's', 'h', ',', '3', ',', 'V', 'e', 'd', 'h', 'a', '@', 'y', 'a', 'h', 'o', 'o', '.', 'c', 'o', '.', 'i', 'n', ',', '9', '6', '7', '6', '6', '2', '2', '0', '2', '5']\n"
     ]
    }
   ],
   "source": [
    "s=\"1,Anil kumar,9676622023,Anil123@gmail.com\\njayaram,9676622024,jay#$@gmail.com,2\\n\\\n",
    "Vedhanvesh,3,Vedha@yahoo.co.in,9676622025\"\n",
    "print re.findall(\".\",s,re.DOTALL)"
   ]
  },
  {
   "cell_type": "code",
   "execution_count": 34,
   "metadata": {},
   "outputs": [
    {
     "name": "stdout",
     "output_type": "stream",
     "text": [
      "1,Anil kumar,9676622023,Anil123@gmail.com\n",
      "jayaram,9676622024,jay#$@gmail.com,2\n",
      "Vedhanvesh,3,Vedha@yahoo.co.in,9676622025\n"
     ]
    }
   ],
   "source": [
    "s=\"1,Anil kumar,9676622023,Anil123@gmail.com\\njayaram,9676622024,jay#$@gmail.com,2\\n\\\n",
    "Vedhanvesh,3,Vedha@yahoo.co.in,9676622025\"\n",
    "print s"
   ]
  },
  {
   "cell_type": "code",
   "execution_count": 35,
   "metadata": {},
   "outputs": [
    {
     "name": "stdout",
     "output_type": "stream",
     "text": [
      "['1']\n"
     ]
    }
   ],
   "source": [
    "s=\"1,Anil kumar,9676622023,Anil123@gmail.com\\njayaram,9676622024,jay#$@gmail.com,2\\n\\\n",
    "Vedhanvesh,3,Vedha@yahoo.co.in,9676622025\"\n",
    "print re.findall(\"^[0-9]\",s,re.M)"
   ]
  },
  {
   "cell_type": "code",
   "execution_count": 36,
   "metadata": {},
   "outputs": [
    {
     "name": "stdout",
     "output_type": "stream",
     "text": [
      "['2', '5']\n"
     ]
    }
   ],
   "source": [
    "s=\"1,Anil kumar,9676622023,Anil123@gmail.com\\njayaram,9676622024,jay#$@gmail.com,2\\n\\\n",
    "Vedhanvesh,3,Vedha@yahoo.co.in,9676622025\"\n",
    "print re.findall(\"[0-9]$\",s,re.M)"
   ]
  },
  {
   "cell_type": "code",
   "execution_count": 39,
   "metadata": {},
   "outputs": [
    {
     "name": "stdout",
     "output_type": "stream",
     "text": [
      "['1,Anil kumar,9676622023,Anil123@gmail.com', 'jayaram,9676622024,jay#$@gmail.com', 'Vedhanvesh,3,Vedha@yahoo.co.in']\n"
     ]
    }
   ],
   "source": [
    "s=\"1,Anil kumar,9676622023,Anil123@gmail.com\\njayaram,9676622024,jay#$@gmail.com,2\\n\\\n",
    "Vedhanvesh,3,Vedha@yahoo.co.in,9676622025\"\n",
    "'''\n",
    "username: .+\n",
    "@:@\n",
    "domain name: [a-z]+\n",
    ".: \\.\n",
    "[a-z.]+\n",
    "'''\n",
    "print re.findall(\".+@[a-z]+\\.[a-z.]+\",s,re.I)"
   ]
  },
  {
   "cell_type": "code",
   "execution_count": 40,
   "metadata": {},
   "outputs": [
    {
     "name": "stdout",
     "output_type": "stream",
     "text": [
      "['Anil123@gmail.com', 'jay123@gmail.com', 'Vedha@yahoo.co.in']\n"
     ]
    }
   ],
   "source": [
    "s=\"1,Anil kumar,9676622023,Anil123@gmail.com\\njayaram,9676622024,jay123@gmail.com,2\\n\\\n",
    "Vedhanvesh,3,Vedha@yahoo.co.in,9676622025\"\n",
    "'''\n",
    "username: .+\n",
    "@:@\n",
    "domain name: [a-z]+\n",
    ".: \\.\n",
    "[a-z.]+\n",
    "'''\n",
    "print re.findall(\"[a-z0-9]+@[a-z]+\\.[a-z.]+\",s,re.I)"
   ]
  },
  {
   "cell_type": "code",
   "execution_count": 41,
   "metadata": {},
   "outputs": [
    {
     "name": "stdout",
     "output_type": "stream",
     "text": [
      "['Anil123@gmail.com', 'jay123@gmail.com', 'Vedha@yahoo.co.in']\n"
     ]
    }
   ],
   "source": [
    "s=\"1,Anil kumar,9676622023,Anil123@gmail.com\\njayaram,9676622024,jay123@gmail.com,2\\n\\\n",
    "Vedhanvesh,3,Vedha@yahoo.co.in,9676622025\"\n",
    "'''\n",
    "username: .+\n",
    "@:@\n",
    "domain name: [a-z]+\n",
    ".: \\.\n",
    "[a-z.]+\n",
    "'''\n",
    "print re.findall(\"[a-z0-9-_]+@[a-z]+\\.[a-z.]+\",s,re.I)"
   ]
  },
  {
   "cell_type": "code",
   "execution_count": 42,
   "metadata": {},
   "outputs": [
    {
     "name": "stdout",
     "output_type": "stream",
     "text": [
      "['Anil123@gmail.com', 'jay123@gmail.com', 'Vedha@yahoo.co.in']\n"
     ]
    }
   ],
   "source": [
    "s=\"1,Anil kumar,9676622023,Anil123@gmail.com\\njayaram,9676622024,jay123@gmail.com,2\\n\\\n",
    "Vedhanvesh,3,Vedha@yahoo.co.in,9676622025\"\n",
    "'''\n",
    "username: .+\n",
    "@:@\n",
    "domain name: [a-z]+\n",
    ".: \\.\n",
    "[a-z.]+\n",
    "'''\n",
    "print re.findall(\"\\w+@[a-z]+\\.[a-z.]+\",s,re.I)"
   ]
  },
  {
   "cell_type": "code",
   "execution_count": 43,
   "metadata": {},
   "outputs": [
    {
     "name": "stdout",
     "output_type": "stream",
     "text": [
      "['Anil123@gmail.com', 'jay123@gmail.com', 'Vedha@yahoo.co.in']\n"
     ]
    }
   ],
   "source": [
    "s=\"1,Anil kumar,9676622023,Anil123@gmail.com\\njayaram,9676622024,jay123@gmail.com,2\\n\\\n",
    "Vedhanvesh,3,Vedha@yahoo.co.in,9676622025\"\n",
    "'''\n",
    "username: .+\n",
    "@:@\n",
    "domain name: [a-z]+\n",
    ".: \\.\n",
    "[a-z.]+\n",
    "'''\n",
    "print re.findall(\"\\w+@[a-z]+\\.[a-z.]+\",s,re.I|re.M)"
   ]
  },
  {
   "cell_type": "code",
   "execution_count": 44,
   "metadata": {},
   "outputs": [
    {
     "name": "stdout",
     "output_type": "stream",
     "text": [
      "<callable-iterator object at 0x7f95a05ea910>\n"
     ]
    }
   ],
   "source": [
    "#match, serach, finditer, compile. \n",
    "s=\"1,Anil kumar,9676622023,Anil123@gmail.com\\njayaram,9676622024,jay123@gmail.com,2\\n\\\n",
    "Vedhanvesh,3,Vedha@yahoo.co.in,9676622025\"\n",
    "'''\n",
    "username: .+\n",
    "@:@\n",
    "domain name: [a-z]+\n",
    ".: \\.\n",
    "[a-z.]+\n",
    "'''\n",
    "print re.finditer(\"\\w+@[a-z]+\\.[a-z.]+\",s,re.I|re.M)"
   ]
  },
  {
   "cell_type": "code",
   "execution_count": 48,
   "metadata": {},
   "outputs": [
    {
     "name": "stdout",
     "output_type": "stream",
     "text": [
      "Anil123@gmail.com\n",
      "jay123@gmail.com\n",
      "Vedha@yahoo.co.in\n"
     ]
    }
   ],
   "source": [
    "#match, serach, finditer, compile. \n",
    "s=\"1,Anil kumar,9676622023,Anil123@gmail.com\\njayaram,9676622024,jay123@gmail.com,2\\n\\\n",
    "Vedhanvesh,3,Vedha@yahoo.co.in,9676622025\"\n",
    "'''\n",
    "username: .+\n",
    "@:@\n",
    "domain name: [a-z]+\n",
    ".: \\.\n",
    "[a-z.]+\n",
    "'''\n",
    "res = re.finditer(\"\\w+@[a-z]+\\.[a-z.]+\",s,re.I|re.M)\n",
    "for i in res:\n",
    "    print i.group(0)"
   ]
  },
  {
   "cell_type": "code",
   "execution_count": 46,
   "metadata": {
    "collapsed": true
   },
   "outputs": [],
   "source": [
    "for i in res:\n",
    "    print i"
   ]
  },
  {
   "cell_type": "code",
   "execution_count": 49,
   "metadata": {},
   "outputs": [
    {
     "name": "stdout",
     "output_type": "stream",
     "text": [
      "<_sre.SRE_Match object at 0x7f95a04e2238>\n"
     ]
    }
   ],
   "source": [
    "#match, serach, finditer, compile. \n",
    "s=\"1,Anil kumar,9676622023,Anil123@gmail.com\\njayaram,9676622024,jay123@gmail.com,2\\n\\\n",
    "Vedhanvesh,3,Vedha@yahoo.co.in,9676622025\"\n",
    "'''\n",
    "username: .+\n",
    "@:@\n",
    "domain name: [a-z]+\n",
    ".: \\.\n",
    "[a-z.]+\n",
    "'''\n",
    "res = re.search(\"\\w+@[a-z]+\\.[a-z.]+\",s,re.I|re.M)\n",
    "print res"
   ]
  },
  {
   "cell_type": "code",
   "execution_count": 51,
   "metadata": {},
   "outputs": [
    {
     "name": "stdout",
     "output_type": "stream",
     "text": [
      "None\n"
     ]
    }
   ],
   "source": [
    "#match, serach, finditer, compile. \n",
    "s=\"1,Anil kumar,9676622023,Anil123@gmail.com\\njayaram,9676622024,jay123@gmail.com,2\\n\\\n",
    "Vedhanvesh,3,Vedha@yahoo.co.in,9676622025\"\n",
    "'''\n",
    "username: .+\n",
    "@:@\n",
    "domain name: [a-z]+\n",
    ".: \\.\n",
    "[a-z.]+\n",
    "'''\n",
    "res = re.match(\"\\w+@[a-z]+\\.[a-z.]+\",s,re.I|re.M)\n",
    "print res"
   ]
  },
  {
   "cell_type": "code",
   "execution_count": 52,
   "metadata": {},
   "outputs": [
    {
     "name": "stdout",
     "output_type": "stream",
     "text": [
      "['Anil123@gmail.com', 'jay123@gmail.com', 'Vedha@yahoo.co.in']\n"
     ]
    }
   ],
   "source": [
    "s=\"1,Anil kumar,9676622023,Anil123@gmail.com\\njayaram,9676622024,jay123@gmail.com,2\\n\\\n",
    "Vedhanvesh,3,Vedha@yahoo.co.in,9676622025\"\n",
    "'''\n",
    "username: .+\n",
    "@:@\n",
    "domain name: [a-z]+\n",
    ".: \\.\n",
    "[a-z.]+\n",
    "'''\n",
    "print re.findall(\"\\w+@[a-z]+\\.[a-z.]+\",s,re.I)"
   ]
  },
  {
   "cell_type": "code",
   "execution_count": 53,
   "metadata": {},
   "outputs": [
    {
     "data": {
      "text/plain": [
       "['Anil123@gmail.com', 'jay123@gmail.com', 'Vedha@yahoo.co.in']"
      ]
     },
     "execution_count": 53,
     "metadata": {},
     "output_type": "execute_result"
    }
   ],
   "source": [
    "s=\"1,Anil kumar,9676622023,Anil123@gmail.com\\njayaram,9676622024,jay123@gmail.com,2\\n\\\n",
    "Vedhanvesh,3,Vedha@yahoo.co.in,9676622025\"\n",
    "'''\n",
    "username: .+\n",
    "@:@\n",
    "domain name: [a-z]+\n",
    ".: \\.\n",
    "[a-z.]+\n",
    "'''\n",
    "# constants.py\n",
    "email_pattern = re.compile(\"\\w+@[a-z]+\\.[a-z.]+\")\n",
    "email_pattern.findall(s)"
   ]
  },
  {
   "cell_type": "code",
   "execution_count": 56,
   "metadata": {},
   "outputs": [
    {
     "data": {
      "text/plain": [
       "'1\\\\,Anil\\\\ kumar\\\\,9676622023\\\\,Anil123\\\\@gmail\\\\.com\\\\\\njayaram\\\\,9676622024\\\\,jay123\\\\@gmail\\\\.com\\\\,2\\\\\\nVedhanvesh\\\\,3\\\\,Vedha\\\\@yahoo\\\\.co\\\\.in\\\\,9676622025'"
      ]
     },
     "execution_count": 56,
     "metadata": {},
     "output_type": "execute_result"
    }
   ],
   "source": [
    "re.escape(s)"
   ]
  },
  {
   "cell_type": "code",
   "execution_count": 59,
   "metadata": {},
   "outputs": [],
   "source": [
    "s=\"1,Anil kumar,9676622023,Anil123@gmail.com\\njayaram,9676622024,jay123@gmail.com,2\\n\\\n",
    "Vedhanvesh,3,Vedha@yahoo.co.in,9676622025\"\n",
    "'''\n",
    "username: .+\n",
    "@:@\n",
    "domain name: [a-z]+\n",
    ".: \\.\n",
    "[a-z.]+\n",
    "'''\n",
    "# constants.py\n",
    "email_pattern = re.compile(\"\\w+@[a-z]+\\.[a-z.]+\")\n",
    "re.purge()"
   ]
  },
  {
   "cell_type": "code",
   "execution_count": 60,
   "metadata": {},
   "outputs": [
    {
     "data": {
      "text/plain": [
       "['1,Anil kumar,9676622023,',\n",
       " '\\njayaram,9676622024,',\n",
       " ',2\\nVedhanvesh,3,',\n",
       " ',9676622025']"
      ]
     },
     "execution_count": 60,
     "metadata": {},
     "output_type": "execute_result"
    }
   ],
   "source": [
    "s=\"1,Anil kumar,9676622023,Anil123@gmail.com\\njayaram,9676622024,jay123@gmail.com,2\\n\\\n",
    "Vedhanvesh,3,Vedha@yahoo.co.in,9676622025\"\n",
    "'''\n",
    "username: .+\n",
    "@:@\n",
    "domain name: [a-z]+\n",
    ".: \\.\n",
    "[a-z.]+\n",
    "'''\n",
    "# constants.py\n",
    "email_pattern = re.compile(\"\\w+@[a-z]+\\.[a-z.]+\")\n",
    "email_pattern.split(s)"
   ]
  },
  {
   "cell_type": "code",
   "execution_count": 64,
   "metadata": {},
   "outputs": [
    {
     "data": {
      "text/plain": [
       "'1,Anil kumar,9676622023,\\njayaram,9676622024,,2\\nVedhanvesh,3,,9676622025'"
      ]
     },
     "execution_count": 64,
     "metadata": {},
     "output_type": "execute_result"
    }
   ],
   "source": [
    "s=\"1,Anil kumar,9676622023,Anil123@gmail.com\\njayaram,9676622024,jay123@gmail.com,2\\n\\\n",
    "Vedhanvesh,3,Vedha@yahoo.co.in,9676622025\"\n",
    "'''\n",
    "username: .+\n",
    "@:@\n",
    "domain name: [a-z]+\n",
    ".: \\.\n",
    "[a-z.]+\n",
    "'''\n",
    "# constants.py\n",
    "email_pattern = re.compile(\"\\w+@[a-z]+\\.[a-z.]+\")\n",
    "re.sub(\"\\w+@[a-z]+\\.[a-z.]+\",\"\",s)"
   ]
  },
  {
   "cell_type": "code",
   "execution_count": 65,
   "metadata": {},
   "outputs": [
    {
     "data": {
      "text/plain": [
       "'1,Anil kumar,9676622023,EMAIL\\njayaram,9676622024,EMAIL,2\\nVedhanvesh,3,EMAIL,9676622025'"
      ]
     },
     "execution_count": 65,
     "metadata": {},
     "output_type": "execute_result"
    }
   ],
   "source": [
    "s=\"1,Anil kumar,9676622023,Anil123@gmail.com\\njayaram,9676622024,jay123@gmail.com,2\\n\\\n",
    "Vedhanvesh,3,Vedha@yahoo.co.in,9676622025\"\n",
    "'''\n",
    "username: .+\n",
    "@:@\n",
    "domain name: [a-z]+\n",
    ".: \\.\n",
    "[a-z.]+\n",
    "'''\n",
    "# constants.py\n",
    "email_pattern = re.compile(\"\\w+@[a-z]+\\.[a-z.]+\")\n",
    "re.sub(\"\\w+@[a-z]+\\.[a-z.]+\",\"EMAIL\",s)"
   ]
  },
  {
   "cell_type": "code",
   "execution_count": 66,
   "metadata": {},
   "outputs": [
    {
     "data": {
      "text/plain": [
       "'1,Anil kumar,9676622023,EMAIL\\njayaram,9676622024,EMAIL,2\\nVedhanvesh,3,Vedha@yahoo.co.in,9676622025'"
      ]
     },
     "execution_count": 66,
     "metadata": {},
     "output_type": "execute_result"
    }
   ],
   "source": [
    "s=\"1,Anil kumar,9676622023,Anil123@gmail.com\\njayaram,9676622024,jay123@gmail.com,2\\n\\\n",
    "Vedhanvesh,3,Vedha@yahoo.co.in,9676622025\"\n",
    "'''\n",
    "username: .+\n",
    "@:@\n",
    "domain name: [a-z]+\n",
    ".: \\.\n",
    "[a-z.]+\n",
    "'''\n",
    "# constants.py\n",
    "email_pattern = re.compile(\"\\w+@[a-z]+\\.[a-z.]+\")\n",
    "re.sub(\"\\w+@[a-z]+\\.[a-z.]+\",\"EMAIL\",s,2)"
   ]
  },
  {
   "cell_type": "code",
   "execution_count": null,
   "metadata": {
    "collapsed": true
   },
   "outputs": [],
   "source": []
  }
 ],
 "metadata": {
  "kernelspec": {
   "display_name": "Python 2",
   "language": "python",
   "name": "python2"
  },
  "language_info": {
   "codemirror_mode": {
    "name": "ipython",
    "version": 2
   },
   "file_extension": ".py",
   "mimetype": "text/x-python",
   "name": "python",
   "nbconvert_exporter": "python",
   "pygments_lexer": "ipython2",
   "version": "2.7.14"
  }
 },
 "nbformat": 4,
 "nbformat_minor": 2
}
