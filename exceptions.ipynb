{
 "cells": [
  {
   "cell_type": "code",
   "execution_count": 1,
   "metadata": {},
   "outputs": [
    {
     "name": "stdout",
     "output_type": "stream",
     "text": [
      "DIVISION PROGRAM\n",
      "Enter number1:12\n",
      "Enter number2:6\n",
      "before conversion:n1=12,n2=6\n",
      "after conversion:n1=12,n2=6\n",
      "result=2\n",
      "thank you\n",
      "Use me again\n"
     ]
    }
   ],
   "source": [
    "print \"DIVISION PROGRAM\"\n",
    "num1=raw_input(\"Enter number1:\")\n",
    "num2=raw_input(\"Enter number2:\")\n",
    "print \"before conversion:n1=%s,n2=%s\"%(num1, num2)\n",
    "num1=int(num1)\n",
    "num2=int(num2)\n",
    "print \"after conversion:n1=%s,n2=%s\"%(num1, num2)\n",
    "res=num1/num2\n",
    "print \"result=%s\"%res\n",
    "print \"thank you\"\n",
    "print \"Use me again\""
   ]
  },
  {
   "cell_type": "code",
   "execution_count": 2,
   "metadata": {},
   "outputs": [
    {
     "name": "stdout",
     "output_type": "stream",
     "text": [
      "DIVISION PROGRAM\n",
      "Enter number1:12.34\n",
      "Enter number2:56.78\n",
      "before conversion:n1=12.34,n2=56.78\n"
     ]
    },
    {
     "ename": "ValueError",
     "evalue": "invalid literal for int() with base 10: '12.34'",
     "output_type": "error",
     "traceback": [
      "\u001b[0;31m---------------------------------------------------------------------------\u001b[0m",
      "\u001b[0;31mValueError\u001b[0m                                Traceback (most recent call last)",
      "\u001b[0;32m<ipython-input-2-79a7a5e1fbb3>\u001b[0m in \u001b[0;36m<module>\u001b[0;34m()\u001b[0m\n\u001b[1;32m      3\u001b[0m \u001b[0mnum2\u001b[0m\u001b[0;34m=\u001b[0m\u001b[0mraw_input\u001b[0m\u001b[0;34m(\u001b[0m\u001b[0;34m\"Enter number2:\"\u001b[0m\u001b[0;34m)\u001b[0m\u001b[0;34m\u001b[0m\u001b[0m\n\u001b[1;32m      4\u001b[0m \u001b[0;32mprint\u001b[0m \u001b[0;34m\"before conversion:n1=%s,n2=%s\"\u001b[0m\u001b[0;34m%\u001b[0m\u001b[0;34m(\u001b[0m\u001b[0mnum1\u001b[0m\u001b[0;34m,\u001b[0m \u001b[0mnum2\u001b[0m\u001b[0;34m)\u001b[0m\u001b[0;34m\u001b[0m\u001b[0m\n\u001b[0;32m----> 5\u001b[0;31m \u001b[0mnum1\u001b[0m\u001b[0;34m=\u001b[0m\u001b[0mint\u001b[0m\u001b[0;34m(\u001b[0m\u001b[0mnum1\u001b[0m\u001b[0;34m)\u001b[0m\u001b[0;34m\u001b[0m\u001b[0m\n\u001b[0m\u001b[1;32m      6\u001b[0m \u001b[0mnum2\u001b[0m\u001b[0;34m=\u001b[0m\u001b[0mint\u001b[0m\u001b[0;34m(\u001b[0m\u001b[0mnum2\u001b[0m\u001b[0;34m)\u001b[0m\u001b[0;34m\u001b[0m\u001b[0m\n\u001b[1;32m      7\u001b[0m \u001b[0;32mprint\u001b[0m \u001b[0;34m\"after conversion:n1=%s,n2=%s\"\u001b[0m\u001b[0;34m%\u001b[0m\u001b[0;34m(\u001b[0m\u001b[0mnum1\u001b[0m\u001b[0;34m,\u001b[0m \u001b[0mnum2\u001b[0m\u001b[0;34m)\u001b[0m\u001b[0;34m\u001b[0m\u001b[0m\n",
      "\u001b[0;31mValueError\u001b[0m: invalid literal for int() with base 10: '12.34'"
     ]
    }
   ],
   "source": [
    "print \"DIVISION PROGRAM\"\n",
    "num1=raw_input(\"Enter number1:\")\n",
    "num2=raw_input(\"Enter number2:\")\n",
    "print \"before conversion:n1=%s,n2=%s\"%(num1, num2)\n",
    "num1=int(num1)\n",
    "num2=int(num2)\n",
    "print \"after conversion:n1=%s,n2=%s\"%(num1, num2)\n",
    "res=num1/num2\n",
    "print \"result=%s\"%res\n",
    "print \"thank you\"\n",
    "print \"Use me again\""
   ]
  },
  {
   "cell_type": "code",
   "execution_count": 3,
   "metadata": {},
   "outputs": [
    {
     "name": "stdout",
     "output_type": "stream",
     "text": [
      "DIVISION PROGRAM\n",
      "Enter number1:\n",
      "Enter number2:\n",
      "before conversion:n1=,n2=\n"
     ]
    },
    {
     "ename": "ValueError",
     "evalue": "invalid literal for int() with base 10: ''",
     "output_type": "error",
     "traceback": [
      "\u001b[0;31m---------------------------------------------------------------------------\u001b[0m",
      "\u001b[0;31mValueError\u001b[0m                                Traceback (most recent call last)",
      "\u001b[0;32m<ipython-input-3-79a7a5e1fbb3>\u001b[0m in \u001b[0;36m<module>\u001b[0;34m()\u001b[0m\n\u001b[1;32m      3\u001b[0m \u001b[0mnum2\u001b[0m\u001b[0;34m=\u001b[0m\u001b[0mraw_input\u001b[0m\u001b[0;34m(\u001b[0m\u001b[0;34m\"Enter number2:\"\u001b[0m\u001b[0;34m)\u001b[0m\u001b[0;34m\u001b[0m\u001b[0m\n\u001b[1;32m      4\u001b[0m \u001b[0;32mprint\u001b[0m \u001b[0;34m\"before conversion:n1=%s,n2=%s\"\u001b[0m\u001b[0;34m%\u001b[0m\u001b[0;34m(\u001b[0m\u001b[0mnum1\u001b[0m\u001b[0;34m,\u001b[0m \u001b[0mnum2\u001b[0m\u001b[0;34m)\u001b[0m\u001b[0;34m\u001b[0m\u001b[0m\n\u001b[0;32m----> 5\u001b[0;31m \u001b[0mnum1\u001b[0m\u001b[0;34m=\u001b[0m\u001b[0mint\u001b[0m\u001b[0;34m(\u001b[0m\u001b[0mnum1\u001b[0m\u001b[0;34m)\u001b[0m\u001b[0;34m\u001b[0m\u001b[0m\n\u001b[0m\u001b[1;32m      6\u001b[0m \u001b[0mnum2\u001b[0m\u001b[0;34m=\u001b[0m\u001b[0mint\u001b[0m\u001b[0;34m(\u001b[0m\u001b[0mnum2\u001b[0m\u001b[0;34m)\u001b[0m\u001b[0;34m\u001b[0m\u001b[0m\n\u001b[1;32m      7\u001b[0m \u001b[0;32mprint\u001b[0m \u001b[0;34m\"after conversion:n1=%s,n2=%s\"\u001b[0m\u001b[0;34m%\u001b[0m\u001b[0;34m(\u001b[0m\u001b[0mnum1\u001b[0m\u001b[0;34m,\u001b[0m \u001b[0mnum2\u001b[0m\u001b[0;34m)\u001b[0m\u001b[0;34m\u001b[0m\u001b[0m\n",
      "\u001b[0;31mValueError\u001b[0m: invalid literal for int() with base 10: ''"
     ]
    }
   ],
   "source": [
    "print \"DIVISION PROGRAM\"\n",
    "num1=raw_input(\"Enter number1:\")\n",
    "num2=raw_input(\"Enter number2:\")\n",
    "print \"before conversion:n1=%s,n2=%s\"%(num1, num2)\n",
    "num1=int(num1)\n",
    "num2=int(num2)\n",
    "print \"after conversion:n1=%s,n2=%s\"%(num1, num2)\n",
    "res=num1/num2\n",
    "print \"result=%s\"%res\n",
    "print \"thank you\"\n",
    "print \"Use me again\""
   ]
  },
  {
   "cell_type": "code",
   "execution_count": 4,
   "metadata": {},
   "outputs": [
    {
     "name": "stdout",
     "output_type": "stream",
     "text": [
      "DIVISION PROGRAM\n",
      "Enter number1:werwe\n",
      "Enter number2:2434\n",
      "before conversion:n1=werwe,n2=2434\n"
     ]
    },
    {
     "ename": "ValueError",
     "evalue": "invalid literal for int() with base 10: 'werwe'",
     "output_type": "error",
     "traceback": [
      "\u001b[0;31m---------------------------------------------------------------------------\u001b[0m",
      "\u001b[0;31mValueError\u001b[0m                                Traceback (most recent call last)",
      "\u001b[0;32m<ipython-input-4-79a7a5e1fbb3>\u001b[0m in \u001b[0;36m<module>\u001b[0;34m()\u001b[0m\n\u001b[1;32m      3\u001b[0m \u001b[0mnum2\u001b[0m\u001b[0;34m=\u001b[0m\u001b[0mraw_input\u001b[0m\u001b[0;34m(\u001b[0m\u001b[0;34m\"Enter number2:\"\u001b[0m\u001b[0;34m)\u001b[0m\u001b[0;34m\u001b[0m\u001b[0m\n\u001b[1;32m      4\u001b[0m \u001b[0;32mprint\u001b[0m \u001b[0;34m\"before conversion:n1=%s,n2=%s\"\u001b[0m\u001b[0;34m%\u001b[0m\u001b[0;34m(\u001b[0m\u001b[0mnum1\u001b[0m\u001b[0;34m,\u001b[0m \u001b[0mnum2\u001b[0m\u001b[0;34m)\u001b[0m\u001b[0;34m\u001b[0m\u001b[0m\n\u001b[0;32m----> 5\u001b[0;31m \u001b[0mnum1\u001b[0m\u001b[0;34m=\u001b[0m\u001b[0mint\u001b[0m\u001b[0;34m(\u001b[0m\u001b[0mnum1\u001b[0m\u001b[0;34m)\u001b[0m\u001b[0;34m\u001b[0m\u001b[0m\n\u001b[0m\u001b[1;32m      6\u001b[0m \u001b[0mnum2\u001b[0m\u001b[0;34m=\u001b[0m\u001b[0mint\u001b[0m\u001b[0;34m(\u001b[0m\u001b[0mnum2\u001b[0m\u001b[0;34m)\u001b[0m\u001b[0;34m\u001b[0m\u001b[0m\n\u001b[1;32m      7\u001b[0m \u001b[0;32mprint\u001b[0m \u001b[0;34m\"after conversion:n1=%s,n2=%s\"\u001b[0m\u001b[0;34m%\u001b[0m\u001b[0;34m(\u001b[0m\u001b[0mnum1\u001b[0m\u001b[0;34m,\u001b[0m \u001b[0mnum2\u001b[0m\u001b[0;34m)\u001b[0m\u001b[0;34m\u001b[0m\u001b[0m\n",
      "\u001b[0;31mValueError\u001b[0m: invalid literal for int() with base 10: 'werwe'"
     ]
    }
   ],
   "source": [
    "print \"DIVISION PROGRAM\"\n",
    "num1=raw_input(\"Enter number1:\")\n",
    "num2=raw_input(\"Enter number2:\")\n",
    "print \"before conversion:n1=%s,n2=%s\"%(num1, num2)\n",
    "num1=int(num1)\n",
    "num2=int(num2)\n",
    "print \"after conversion:n1=%s,n2=%s\"%(num1, num2)\n",
    "res=num1/num2\n",
    "print \"result=%s\"%res\n",
    "print \"thank you\"\n",
    "print \"Use me again\""
   ]
  },
  {
   "cell_type": "code",
   "execution_count": 5,
   "metadata": {},
   "outputs": [
    {
     "name": "stdout",
     "output_type": "stream",
     "text": [
      "DIVISION PROGRAM\n",
      "Enter number1:12\n",
      "Enter number2:6\n",
      "before conversion:n1=12,n2=6\n",
      "after conversion:n1=12.0,n2=6.0\n",
      "result=2.0\n",
      "thank you\n",
      "Use me again\n"
     ]
    }
   ],
   "source": [
    "print \"DIVISION PROGRAM\"\n",
    "num1=raw_input(\"Enter number1:\")\n",
    "num2=raw_input(\"Enter number2:\")\n",
    "print \"before conversion:n1=%s,n2=%s\"%(num1, num2)\n",
    "num1=float(num1)\n",
    "num2=float(num2)\n",
    "print \"after conversion:n1=%s,n2=%s\"%(num1, num2)\n",
    "res=num1/num2\n",
    "print \"result=%s\"%res\n",
    "print \"thank you\"\n",
    "print \"Use me again\""
   ]
  },
  {
   "cell_type": "code",
   "execution_count": 6,
   "metadata": {},
   "outputs": [
    {
     "name": "stdout",
     "output_type": "stream",
     "text": [
      "DIVISION PROGRAM\n",
      "Enter number1:1.2\n",
      "Enter number2:0.6\n",
      "before conversion:n1=1.2,n2=0.6\n",
      "after conversion:n1=1.2,n2=0.6\n",
      "result=2.0\n",
      "thank you\n",
      "Use me again\n"
     ]
    }
   ],
   "source": [
    "print \"DIVISION PROGRAM\"\n",
    "num1=raw_input(\"Enter number1:\")\n",
    "num2=raw_input(\"Enter number2:\")\n",
    "print \"before conversion:n1=%s,n2=%s\"%(num1, num2)\n",
    "num1=float(num1)\n",
    "num2=float(num2)\n",
    "print \"after conversion:n1=%s,n2=%s\"%(num1, num2)\n",
    "res=num1/num2\n",
    "print \"result=%s\"%res\n",
    "print \"thank you\"\n",
    "print \"Use me again\""
   ]
  },
  {
   "cell_type": "code",
   "execution_count": 7,
   "metadata": {},
   "outputs": [
    {
     "name": "stdout",
     "output_type": "stream",
     "text": [
      "DIVISION PROGRAM\n",
      "Enter number1:werew\n",
      "Enter number2:werw\n",
      "before conversion:n1=werew,n2=werw\n"
     ]
    },
    {
     "ename": "ValueError",
     "evalue": "could not convert string to float: werew",
     "output_type": "error",
     "traceback": [
      "\u001b[0;31m---------------------------------------------------------------------------\u001b[0m",
      "\u001b[0;31mValueError\u001b[0m                                Traceback (most recent call last)",
      "\u001b[0;32m<ipython-input-7-4ead93bdd703>\u001b[0m in \u001b[0;36m<module>\u001b[0;34m()\u001b[0m\n\u001b[1;32m      3\u001b[0m \u001b[0mnum2\u001b[0m\u001b[0;34m=\u001b[0m\u001b[0mraw_input\u001b[0m\u001b[0;34m(\u001b[0m\u001b[0;34m\"Enter number2:\"\u001b[0m\u001b[0;34m)\u001b[0m\u001b[0;34m\u001b[0m\u001b[0m\n\u001b[1;32m      4\u001b[0m \u001b[0;32mprint\u001b[0m \u001b[0;34m\"before conversion:n1=%s,n2=%s\"\u001b[0m\u001b[0;34m%\u001b[0m\u001b[0;34m(\u001b[0m\u001b[0mnum1\u001b[0m\u001b[0;34m,\u001b[0m \u001b[0mnum2\u001b[0m\u001b[0;34m)\u001b[0m\u001b[0;34m\u001b[0m\u001b[0m\n\u001b[0;32m----> 5\u001b[0;31m \u001b[0mnum1\u001b[0m\u001b[0;34m=\u001b[0m\u001b[0mfloat\u001b[0m\u001b[0;34m(\u001b[0m\u001b[0mnum1\u001b[0m\u001b[0;34m)\u001b[0m\u001b[0;34m\u001b[0m\u001b[0m\n\u001b[0m\u001b[1;32m      6\u001b[0m \u001b[0mnum2\u001b[0m\u001b[0;34m=\u001b[0m\u001b[0mfloat\u001b[0m\u001b[0;34m(\u001b[0m\u001b[0mnum2\u001b[0m\u001b[0;34m)\u001b[0m\u001b[0;34m\u001b[0m\u001b[0m\n\u001b[1;32m      7\u001b[0m \u001b[0;32mprint\u001b[0m \u001b[0;34m\"after conversion:n1=%s,n2=%s\"\u001b[0m\u001b[0;34m%\u001b[0m\u001b[0;34m(\u001b[0m\u001b[0mnum1\u001b[0m\u001b[0;34m,\u001b[0m \u001b[0mnum2\u001b[0m\u001b[0;34m)\u001b[0m\u001b[0;34m\u001b[0m\u001b[0m\n",
      "\u001b[0;31mValueError\u001b[0m: could not convert string to float: werew"
     ]
    }
   ],
   "source": [
    "print \"DIVISION PROGRAM\"\n",
    "num1=raw_input(\"Enter number1:\")\n",
    "num2=raw_input(\"Enter number2:\")\n",
    "print \"before conversion:n1=%s,n2=%s\"%(num1, num2)\n",
    "num1=float(num1)\n",
    "num2=float(num2)\n",
    "print \"after conversion:n1=%s,n2=%s\"%(num1, num2)\n",
    "res=num1/num2\n",
    "print \"result=%s\"%res\n",
    "print \"thank you\"\n",
    "print \"Use me again\""
   ]
  },
  {
   "cell_type": "code",
   "execution_count": 8,
   "metadata": {},
   "outputs": [
    {
     "name": "stdout",
     "output_type": "stream",
     "text": [
      "DIVISION PROGRAM\n",
      "Enter number1:12\n",
      "Enter number2:6\n",
      "before conversion:n1=12,n2=6\n",
      "after conversion:n1=12.0,n2=6.0\n",
      "result=2.0\n",
      "thank you\n",
      "Use me again\n"
     ]
    }
   ],
   "source": [
    "try:\n",
    "    print \"DIVISION PROGRAM\"\n",
    "    num1=raw_input(\"Enter number1:\")\n",
    "    num2=raw_input(\"Enter number2:\")\n",
    "    print \"before conversion:n1=%s,n2=%s\"%(num1, num2)\n",
    "    num1=float(num1)\n",
    "    num2=float(num2)\n",
    "    print \"after conversion:n1=%s,n2=%s\"%(num1, num2)\n",
    "    res=num1/num2\n",
    "    print \"result=%s\"%res\n",
    "    print \"thank you\"\n",
    "    print \"Use me again\"\n",
    "except:\n",
    "    print \"Invalid input\""
   ]
  },
  {
   "cell_type": "code",
   "execution_count": 9,
   "metadata": {},
   "outputs": [
    {
     "name": "stdout",
     "output_type": "stream",
     "text": [
      "DIVISION PROGRAM\n",
      "Enter number1:12\n",
      "Enter number2:wer\n",
      "before conversion:n1=12,n2=wer\n",
      "Invalid input\n"
     ]
    }
   ],
   "source": [
    "try:\n",
    "    print \"DIVISION PROGRAM\"\n",
    "    num1=raw_input(\"Enter number1:\")\n",
    "    num2=raw_input(\"Enter number2:\")\n",
    "    print \"before conversion:n1=%s,n2=%s\"%(num1, num2)\n",
    "    num1=float(num1)\n",
    "    num2=float(num2)\n",
    "    print \"after conversion:n1=%s,n2=%s\"%(num1, num2)\n",
    "    res=num1/num2\n",
    "    print \"result=%s\"%res\n",
    "    print \"thank you\"\n",
    "    print \"Use me again\"\n",
    "except:\n",
    "    print \"Invalid input\""
   ]
  },
  {
   "cell_type": "code",
   "execution_count": 10,
   "metadata": {},
   "outputs": [
    {
     "name": "stdout",
     "output_type": "stream",
     "text": [
      "DIVISION PROGRAM\n",
      "Enter number1:12\n",
      "Enter number2:0\n",
      "before conversion:n1=12,n2=0\n",
      "after conversion:n1=12.0,n2=0.0\n",
      "Invalid input\n"
     ]
    }
   ],
   "source": [
    "try:\n",
    "    print \"DIVISION PROGRAM\"\n",
    "    num1=raw_input(\"Enter number1:\")\n",
    "    num2=raw_input(\"Enter number2:\")\n",
    "    print \"before conversion:n1=%s,n2=%s\"%(num1, num2)\n",
    "    num1=float(num1)\n",
    "    num2=float(num2)\n",
    "    print \"after conversion:n1=%s,n2=%s\"%(num1, num2)\n",
    "    res=num1/num2\n",
    "    print \"result=%s\"%res\n",
    "    print \"thank you\"\n",
    "    print \"Use me again\"\n",
    "except:\n",
    "    print \"Invalid input\""
   ]
  },
  {
   "cell_type": "code",
   "execution_count": 11,
   "metadata": {},
   "outputs": [
    {
     "ename": "ZeroDivisionError",
     "evalue": "float division by zero",
     "output_type": "error",
     "traceback": [
      "\u001b[0;31m---------------------------------------------------------------------------\u001b[0m",
      "\u001b[0;31mZeroDivisionError\u001b[0m                         Traceback (most recent call last)",
      "\u001b[0;32m<ipython-input-11-da2e5664d529>\u001b[0m in \u001b[0;36m<module>\u001b[0;34m()\u001b[0m\n\u001b[0;32m----> 1\u001b[0;31m \u001b[0;36m12.0\u001b[0m\u001b[0;34m/\u001b[0m\u001b[0;36m0.0\u001b[0m\u001b[0;34m\u001b[0m\u001b[0m\n\u001b[0m",
      "\u001b[0;31mZeroDivisionError\u001b[0m: float division by zero"
     ]
    }
   ],
   "source": [
    "12.0/0.0"
   ]
  },
  {
   "cell_type": "code",
   "execution_count": 12,
   "metadata": {},
   "outputs": [
    {
     "name": "stdout",
     "output_type": "stream",
     "text": [
      "DIVISION PROGRAM\n",
      "Enter number1:12\n",
      "Enter number2:6\n",
      "before conversion:n1=12,n2=6\n",
      "after conversion:n1=12.0,n2=6.0\n",
      "result=2.0\n",
      "thank you\n",
      "Use me again\n"
     ]
    }
   ],
   "source": [
    "print \"DIVISION PROGRAM\"\n",
    "num1=raw_input(\"Enter number1:\")\n",
    "num2=raw_input(\"Enter number2:\")\n",
    "print \"before conversion:n1=%s,n2=%s\"%(num1, num2)\n",
    "try: \n",
    "    num1=float(num1)\n",
    "    num2=float(num2)\n",
    "    print \"after conversion:n1=%s,n2=%s\"%(num1, num2)\n",
    "    res=num1/num2\n",
    "    print \"result=%s\"%res\n",
    "except:\n",
    "    print \"Invalid input\"\n",
    "print \"thank you\"\n",
    "print \"Use me again\""
   ]
  },
  {
   "cell_type": "code",
   "execution_count": 13,
   "metadata": {},
   "outputs": [
    {
     "name": "stdout",
     "output_type": "stream",
     "text": [
      "DIVISION PROGRAM\n",
      "Enter number1:12\n",
      "Enter number2:0\n",
      "before conversion:n1=12,n2=0\n",
      "after conversion:n1=12.0,n2=0.0\n",
      "Invalid input\n",
      "thank you\n",
      "Use me again\n"
     ]
    }
   ],
   "source": [
    "print \"DIVISION PROGRAM\"\n",
    "num1=raw_input(\"Enter number1:\")\n",
    "num2=raw_input(\"Enter number2:\")\n",
    "print \"before conversion:n1=%s,n2=%s\"%(num1, num2)\n",
    "try: \n",
    "    num1=float(num1)\n",
    "    num2=float(num2)\n",
    "    print \"after conversion:n1=%s,n2=%s\"%(num1, num2)\n",
    "    res=num1/num2\n",
    "    print \"result=%s\"%res\n",
    "except:\n",
    "    print \"Invalid input\"\n",
    "print \"thank you\"\n",
    "print \"Use me again\""
   ]
  },
  {
   "cell_type": "code",
   "execution_count": 14,
   "metadata": {},
   "outputs": [
    {
     "name": "stdout",
     "output_type": "stream",
     "text": [
      "DIVISION PROGRAM\n",
      "Enter number1:12\n",
      "Enter number2:6\n",
      "before conversion:n1=12,n2=6\n",
      "after conversion:n1=12.0,n2=6.0\n",
      "result=2.0\n",
      "thank you\n",
      "Use me again\n"
     ]
    }
   ],
   "source": [
    "print \"DIVISION PROGRAM\"\n",
    "num1=raw_input(\"Enter number1:\")\n",
    "num2=raw_input(\"Enter number2:\")\n",
    "print \"before conversion:n1=%s,n2=%s\"%(num1, num2)\n",
    "try: \n",
    "    num1=float(num1)\n",
    "    num2=float(num2)\n",
    "    print \"after conversion:n1=%s,n2=%s\"%(num1, num2)\n",
    "    res=num1/num2\n",
    "    print \"result=%s\"%res\n",
    "except Exception as err:\n",
    "    print \"Invalid input\"\n",
    "    print err\n",
    "print \"thank you\"\n",
    "print \"Use me again\""
   ]
  },
  {
   "cell_type": "code",
   "execution_count": 15,
   "metadata": {},
   "outputs": [
    {
     "name": "stdout",
     "output_type": "stream",
     "text": [
      "DIVISION PROGRAM\n",
      "Enter number1:12\n",
      "Enter number2:0\n",
      "before conversion:n1=12,n2=0\n",
      "after conversion:n1=12.0,n2=0.0\n",
      "Invalid input\n",
      "float division by zero\n",
      "thank you\n",
      "Use me again\n"
     ]
    }
   ],
   "source": [
    "print \"DIVISION PROGRAM\"\n",
    "num1=raw_input(\"Enter number1:\")\n",
    "num2=raw_input(\"Enter number2:\")\n",
    "print \"before conversion:n1=%s,n2=%s\"%(num1, num2)\n",
    "try: \n",
    "    num1=float(num1)\n",
    "    num2=float(num2)\n",
    "    print \"after conversion:n1=%s,n2=%s\"%(num1, num2)\n",
    "    res=num1/num2\n",
    "    print \"result=%s\"%res\n",
    "except Exception as err:\n",
    "    print \"Invalid input\"\n",
    "    print err\n",
    "print \"thank you\"\n",
    "print \"Use me again\""
   ]
  },
  {
   "cell_type": "code",
   "execution_count": 16,
   "metadata": {},
   "outputs": [
    {
     "name": "stdout",
     "output_type": "stream",
     "text": [
      "DIVISION PROGRAM\n",
      "Enter number1:werwer\n",
      "Enter number2:wer\n",
      "before conversion:n1=werwer,n2=wer\n",
      "Invalid input\n",
      "could not convert string to float: werwer\n",
      "thank you\n",
      "Use me again\n"
     ]
    }
   ],
   "source": [
    "print \"DIVISION PROGRAM\"\n",
    "num1=raw_input(\"Enter number1:\")\n",
    "num2=raw_input(\"Enter number2:\")\n",
    "print \"before conversion:n1=%s,n2=%s\"%(num1, num2)\n",
    "try: \n",
    "    num1=float(num1)\n",
    "    num2=float(num2)\n",
    "    print \"after conversion:n1=%s,n2=%s\"%(num1, num2)\n",
    "    res=num1/num2\n",
    "    print \"result=%s\"%res\n",
    "except Exception as err:\n",
    "    print \"Invalid input\"\n",
    "    print err\n",
    "print \"thank you\"\n",
    "print \"Use me again\""
   ]
  },
  {
   "cell_type": "code",
   "execution_count": 17,
   "metadata": {},
   "outputs": [
    {
     "name": "stdout",
     "output_type": "stream",
     "text": [
      "DIVISION PROGRAM\n",
      "Enter number1:12\n",
      "Enter number2:6\n",
      "before conversion:n1=12,n2=6\n",
      "after conversion:n1=12.0,n2=6.0\n",
      "result=2.0\n",
      "thank you\n",
      "Use me again\n"
     ]
    }
   ],
   "source": [
    "print \"DIVISION PROGRAM\"\n",
    "num1=raw_input(\"Enter number1:\")\n",
    "num2=raw_input(\"Enter number2:\")\n",
    "print \"before conversion:n1=%s,n2=%s\"%(num1, num2)\n",
    "try: \n",
    "    num1=float(num1)\n",
    "    num2=float(num2)\n",
    "    print \"after conversion:n1=%s,n2=%s\"%(num1, num2)\n",
    "    res=num1/num2\n",
    "    print \"result=%s\"%res\n",
    "except ValueError as err:\n",
    "    print \"we are expecting only digits\"\n",
    "except ZeroDivisionError as err:\n",
    "    print err\n",
    "    print \"b!=0\"\n",
    "except Exception as err:\n",
    "    print \"Invalid input\"\n",
    "    print err\n",
    "print \"thank you\"\n",
    "print \"Use me again\""
   ]
  },
  {
   "cell_type": "code",
   "execution_count": 18,
   "metadata": {},
   "outputs": [
    {
     "name": "stdout",
     "output_type": "stream",
     "text": [
      "DIVISION PROGRAM\n",
      "Enter number1:23\n",
      "Enter number2:0\n",
      "before conversion:n1=23,n2=0\n",
      "after conversion:n1=23.0,n2=0.0\n",
      "float division by zero\n",
      "b!=0\n",
      "thank you\n",
      "Use me again\n"
     ]
    }
   ],
   "source": [
    "print \"DIVISION PROGRAM\"\n",
    "num1=raw_input(\"Enter number1:\")\n",
    "num2=raw_input(\"Enter number2:\")\n",
    "print \"before conversion:n1=%s,n2=%s\"%(num1, num2)\n",
    "try: \n",
    "    num1=float(num1)\n",
    "    num2=float(num2)\n",
    "    print \"after conversion:n1=%s,n2=%s\"%(num1, num2)\n",
    "    res=num1/num2\n",
    "    print \"result=%s\"%res\n",
    "except ValueError as err:\n",
    "    print \"we are expecting only digits\"\n",
    "except ZeroDivisionError as err:\n",
    "    print err\n",
    "    print \"b!=0\"\n",
    "except Exception as err:\n",
    "    print \"Invalid input\"\n",
    "    print err\n",
    "print \"thank you\"\n",
    "print \"Use me again\""
   ]
  },
  {
   "cell_type": "code",
   "execution_count": 19,
   "metadata": {},
   "outputs": [
    {
     "name": "stdout",
     "output_type": "stream",
     "text": [
      "DIVISION PROGRAM\n",
      "Enter number1:12\n",
      "Enter number2:werwe\n",
      "before conversion:n1=12,n2=werwe\n",
      "we are expecting only digits\n",
      "thank you\n",
      "Use me again\n"
     ]
    }
   ],
   "source": [
    "print \"DIVISION PROGRAM\"\n",
    "num1=raw_input(\"Enter number1:\")\n",
    "num2=raw_input(\"Enter number2:\")\n",
    "print \"before conversion:n1=%s,n2=%s\"%(num1, num2)\n",
    "try: \n",
    "    num1=float(num1)\n",
    "    num2=float(num2)\n",
    "    print \"after conversion:n1=%s,n2=%s\"%(num1, num2)\n",
    "    res=num1/num2\n",
    "    print \"result=%s\"%res\n",
    "except ValueError as err:\n",
    "    print \"we are expecting only digits\"\n",
    "except ZeroDivisionError as err:\n",
    "    print err\n",
    "    print \"b!=0\"\n",
    "except Exception as err:\n",
    "    print \"Invalid input\"\n",
    "    print err\n",
    "print \"thank you\"\n",
    "print \"Use me again\""
   ]
  },
  {
   "cell_type": "code",
   "execution_count": 20,
   "metadata": {},
   "outputs": [
    {
     "name": "stdout",
     "output_type": "stream",
     "text": [
      "DIVISION PROGRAM\n",
      "Enter number1:12\n",
      "Enter number2:34\n",
      "before conversion:n1=12,n2=34\n",
      "after conversion:n1=12.0,n2=34.0\n",
      "result=0.352941176471\n",
      "thank you\n",
      "Use me again\n"
     ]
    }
   ],
   "source": [
    "import time\n",
    "print \"DIVISION PROGRAM\"\n",
    "num1=raw_input(\"Enter number1:\")\n",
    "num2=raw_input(\"Enter number2:\")\n",
    "print \"before conversion:n1=%s,n2=%s\"%(num1, num2)\n",
    "try: \n",
    "    num1=float(num1)\n",
    "    num2=float(num2)\n",
    "    time.sleep(5)\n",
    "    print \"after conversion:n1=%s,n2=%s\"%(num1, num2)\n",
    "    res=num1/num2\n",
    "    print \"result=%s\"%res\n",
    "except ValueError as err:\n",
    "    print \"we are expecting only digits\"\n",
    "except ZeroDivisionError as err:\n",
    "    print err\n",
    "    print \"b!=0\"\n",
    "except Exception as err:\n",
    "    print \"Invalid input\"\n",
    "    print err\n",
    "print \"thank you\"\n",
    "print \"Use me again\""
   ]
  },
  {
   "cell_type": "code",
   "execution_count": 1,
   "metadata": {},
   "outputs": [
    {
     "name": "stdout",
     "output_type": "stream",
     "text": [
      "DIVISION PROGRAM\n",
      "Enter number1:12\n",
      "Enter number2:6\n",
      "before conversion:n1=12,n2=6\n",
      "after conversion:n1=12.0,n2=6.0\n",
      "result=2.0\n",
      "thank you\n",
      "Use me again\n"
     ]
    }
   ],
   "source": [
    "\n",
    "print \"DIVISION PROGRAM\"\n",
    "num1=raw_input(\"Enter number1:\")\n",
    "num2=raw_input(\"Enter number2:\")\n",
    "print \"before conversion:n1=%s,n2=%s\"%(num1, num2)\n",
    "f=open(\"track.csv\",\"a\")\n",
    "f.write(\"\\n%s//%s=\")\n",
    "try: \n",
    "    num1=float(num1)\n",
    "    num2=float(num2)\n",
    "\n",
    "    print \"after conversion:n1=%s,n2=%s\"%(num1, num2)\n",
    "    res=num1/num2\n",
    "    print \"result=%s\"%res\n",
    "    f.write(\"%s\"%res)\n",
    "    f.close()\n",
    "except ValueError as err:\n",
    "    print \"we are expecting only digits\"\n",
    "except ZeroDivisionError as err:\n",
    "    print err\n",
    "    print \"b!=0\"\n",
    "except Exception as err:\n",
    "    print \"Invalid input\"\n",
    "    print err\n",
    "\n",
    "print \"thank you\"\n",
    "print \"Use me again\"\n"
   ]
  },
  {
   "cell_type": "code",
   "execution_count": 3,
   "metadata": {},
   "outputs": [
    {
     "name": "stdout",
     "output_type": "stream",
     "text": [
      "DIVISION PROGRAM\n",
      "Enter number1:12\n",
      "Enter number2:6\n",
      "before conversion:n1=12,n2=6\n",
      "after conversion:n1=12.0,n2=6.0\n",
      "result=2.0\n",
      "thank you\n",
      "Use me again\n"
     ]
    }
   ],
   "source": [
    "\n",
    "print \"DIVISION PROGRAM\"\n",
    "num1=raw_input(\"Enter number1:\")\n",
    "num2=raw_input(\"Enter number2:\")\n",
    "print \"before conversion:n1=%s,n2=%s\"%(num1, num2)\n",
    "f=open(\"track.csv\",\"a\")\n",
    "f.write(\"\\n%s/%s=\"%(num1,num2))\n",
    "try: \n",
    "    num1=float(num1)\n",
    "    num2=float(num2)\n",
    "\n",
    "    print \"after conversion:n1=%s,n2=%s\"%(num1, num2)\n",
    "    res=num1/num2\n",
    "    print \"result=%s\"%res\n",
    "    f.write(\"%s\"%res)\n",
    "    f.close()\n",
    "except ValueError as err:\n",
    "    print \"we are expecting only digits\"\n",
    "except ZeroDivisionError as err:\n",
    "    print err\n",
    "    print \"b!=0\"\n",
    "except Exception as err:\n",
    "    print \"Invalid input\"\n",
    "    print err\n",
    "\n",
    "print \"thank you\"\n",
    "print \"Use me again\"\n"
   ]
  },
  {
   "cell_type": "code",
   "execution_count": 4,
   "metadata": {},
   "outputs": [
    {
     "name": "stdout",
     "output_type": "stream",
     "text": [
      "DIVISION PROGRAM\n",
      "Enter number1:12\n",
      "Enter number2:0\n",
      "before conversion:n1=12,n2=0\n",
      "after conversion:n1=12.0,n2=0.0\n",
      "float division by zero\n",
      "b!=0\n",
      "thank you\n",
      "Use me again\n"
     ]
    }
   ],
   "source": [
    "\n",
    "print \"DIVISION PROGRAM\"\n",
    "num1=raw_input(\"Enter number1:\")\n",
    "num2=raw_input(\"Enter number2:\")\n",
    "print \"before conversion:n1=%s,n2=%s\"%(num1, num2)\n",
    "f=open(\"track.csv\",\"a\")\n",
    "f.write(\"\\n%s/%s=\"%(num1,num2))\n",
    "try: \n",
    "    num1=float(num1)\n",
    "    num2=float(num2)\n",
    "    print \"after conversion:n1=%s,n2=%s\"%(num1, num2)\n",
    "    res=num1/num2\n",
    "    print \"result=%s\"%res\n",
    "    f.write(\"%s\"%res)\n",
    "    f.close()\n",
    "except ValueError as err:\n",
    "    print \"we are expecting only digits\"\n",
    "except ZeroDivisionError as err:\n",
    "    print err\n",
    "    print \"b!=0\"\n",
    "except Exception as err:\n",
    "    print \"Invalid input\"\n",
    "    print err\n",
    "\n",
    "print \"thank you\"\n",
    "print \"Use me again\"\n"
   ]
  },
  {
   "cell_type": "code",
   "execution_count": 5,
   "metadata": {},
   "outputs": [
    {
     "name": "stdout",
     "output_type": "stream",
     "text": [
      "DIVISION PROGRAM\n",
      "Enter number1:12\n",
      "Enter number2:0\n",
      "before conversion:n1=12,n2=0\n",
      "after conversion:n1=12.0,n2=0.0\n",
      "float division by zero\n",
      "b!=0\n",
      "thank you\n",
      "Use me again\n"
     ]
    }
   ],
   "source": [
    "\n",
    "print \"DIVISION PROGRAM\"\n",
    "num1=raw_input(\"Enter number1:\")\n",
    "num2=raw_input(\"Enter number2:\")\n",
    "print \"before conversion:n1=%s,n2=%s\"%(num1, num2)\n",
    "f=open(\"track.csv\",\"a\")\n",
    "f.write(\"\\n%s/%s=\"%(num1,num2))\n",
    "try: \n",
    "    num1=float(num1)\n",
    "    num2=float(num2)\n",
    "    print \"after conversion:n1=%s,n2=%s\"%(num1, num2)\n",
    "    res=num1/num2\n",
    "    print \"result=%s\"%res\n",
    "    f.write(\"%s\"%res)\n",
    "except ValueError as err:\n",
    "    print \"we are expecting only digits\"\n",
    "except ZeroDivisionError as err:\n",
    "    print err\n",
    "    print \"b!=0\"\n",
    "except Exception as err:\n",
    "    print \"Invalid input\"\n",
    "    print err\n",
    "finally:\n",
    "    f.close()\n",
    "print \"thank you\"\n",
    "print \"Use me again\"\n"
   ]
  },
  {
   "cell_type": "code",
   "execution_count": 6,
   "metadata": {},
   "outputs": [
    {
     "name": "stdout",
     "output_type": "stream",
     "text": [
      "DIVISION PROGRAM\n",
      "Enter number1:were\n",
      "Enter number2:werwe\n",
      "before conversion:n1=were,n2=werwe\n",
      "we are expecting only digits\n",
      "thank you\n",
      "Use me again\n"
     ]
    }
   ],
   "source": [
    "\n",
    "print \"DIVISION PROGRAM\"\n",
    "num1=raw_input(\"Enter number1:\")\n",
    "num2=raw_input(\"Enter number2:\")\n",
    "print \"before conversion:n1=%s,n2=%s\"%(num1, num2)\n",
    "f=open(\"track.csv\",\"a\")\n",
    "f.write(\"\\n%s/%s=\"%(num1,num2))\n",
    "try: \n",
    "    num1=float(num1)\n",
    "    num2=float(num2)\n",
    "    print \"after conversion:n1=%s,n2=%s\"%(num1, num2)\n",
    "    res=num1/num2\n",
    "    print \"result=%s\"%res\n",
    "    f.write(\"%s\"%res)\n",
    "except ValueError as err:\n",
    "    print \"we are expecting only digits\"\n",
    "except ZeroDivisionError as err:\n",
    "    print err\n",
    "    print \"b!=0\"\n",
    "except Exception as err:\n",
    "    print \"Invalid input\"\n",
    "    print err\n",
    "finally:\n",
    "    f.close()\n",
    "print \"thank you\"\n",
    "print \"Use me again\"\n"
   ]
  },
  {
   "cell_type": "code",
   "execution_count": 7,
   "metadata": {},
   "outputs": [
    {
     "name": "stdout",
     "output_type": "stream",
     "text": [
      "DIVISION PROGRAM\n",
      "Enter number1:12\n",
      "Enter number2:0\n",
      "before conversion:n1=12,n2=0\n",
      "after conversion:n1=12.0,n2=0.0\n",
      "float division by zero\n",
      "b!=0\n",
      "thank you\n",
      "Use me again\n"
     ]
    }
   ],
   "source": [
    "\n",
    "print \"DIVISION PROGRAM\"\n",
    "num1=raw_input(\"Enter number1:\")\n",
    "num2=raw_input(\"Enter number2:\")\n",
    "print \"before conversion:n1=%s,n2=%s\"%(num1, num2)\n",
    "f=open(\"track.csv\",\"a\")\n",
    "f.write(\"\\n%s/%s=\"%(num1,num2))\n",
    "try: \n",
    "    num1=float(num1)\n",
    "    num2=float(num2)\n",
    "    print \"after conversion:n1=%s,n2=%s\"%(num1, num2)\n",
    "    res=num1/num2\n",
    "    print \"result=%s\"%res\n",
    "    f.write(\"%s\"%res)\n",
    "except ValueError as err:\n",
    "    print \"we are expecting only digits\"\n",
    "except ZeroDivisionError as err:\n",
    "    print err\n",
    "    print \"b!=0\"\n",
    "except Exception as err:\n",
    "    print \"Invalid input\"\n",
    "    print err\n",
    "f.close()\n",
    "print \"thank you\"\n",
    "print \"Use me again\"\n"
   ]
  },
  {
   "cell_type": "code",
   "execution_count": 8,
   "metadata": {},
   "outputs": [
    {
     "name": "stdout",
     "output_type": "stream",
     "text": [
      "fun block started\n",
      "try\n",
      "try after return\n",
      "finally\n",
      "fun block ended\n",
      "res= None\n"
     ]
    }
   ],
   "source": [
    "def fun():\n",
    "    print \"fun block started\"\n",
    "    try:\n",
    "        print \"try\"\n",
    "        print \"try after return\"\n",
    "    except:\n",
    "        print \"except\"\n",
    "        return 20\n",
    "    finally:\n",
    "        print \"finally\"\n",
    "    print \"fun block ended\"\n",
    "res=fun()\n",
    "print \"res=\",res\n",
    "    "
   ]
  },
  {
   "cell_type": "code",
   "execution_count": 9,
   "metadata": {},
   "outputs": [
    {
     "name": "stdout",
     "output_type": "stream",
     "text": [
      "fun block started\n",
      "try\n",
      "finally\n",
      "res= 10\n"
     ]
    }
   ],
   "source": [
    "def fun():\n",
    "    print \"fun block started\"\n",
    "    try:\n",
    "        print \"try\"\n",
    "        return 10\n",
    "        print \"try after return\"\n",
    "    except:\n",
    "        print \"except\"\n",
    "        return 20\n",
    "    finally:\n",
    "        print \"finally\"\n",
    "    print \"fun block ended\"\n",
    "res=fun()\n",
    "print \"res=\",res\n",
    "    "
   ]
  },
  {
   "cell_type": "code",
   "execution_count": 10,
   "metadata": {},
   "outputs": [
    {
     "name": "stdout",
     "output_type": "stream",
     "text": [
      "fun block started\n",
      "try\n",
      "finally\n",
      "res= 10\n"
     ]
    }
   ],
   "source": [
    "def fun():\n",
    "    print \"fun block started\"\n",
    "    try:\n",
    "        print \"try\"\n",
    "        return 10\n",
    "        print 1/0\n",
    "        print \"try after return\"\n",
    "    except:\n",
    "        print \"except\"\n",
    "        return 20\n",
    "    finally:\n",
    "        print \"finally\"\n",
    "    print \"fun block ended\"\n",
    "res=fun()\n",
    "print \"res=\",res\n",
    "    "
   ]
  },
  {
   "cell_type": "code",
   "execution_count": 11,
   "metadata": {},
   "outputs": [
    {
     "name": "stdout",
     "output_type": "stream",
     "text": [
      "fun block started\n",
      "try\n",
      "except\n",
      "finally\n",
      "res= 20\n"
     ]
    }
   ],
   "source": [
    "def fun():\n",
    "    print \"fun block started\"\n",
    "    try:\n",
    "        print \"try\"\n",
    "        print 1/0\n",
    "        return 10\n",
    "        print \"try after return\"\n",
    "    except:\n",
    "        print \"except\"\n",
    "        return 20\n",
    "    finally:\n",
    "        print \"finally\"\n",
    "    print \"fun block ended\"\n",
    "res=fun()\n",
    "print \"res=\",res\n",
    "    "
   ]
  },
  {
   "cell_type": "code",
   "execution_count": 12,
   "metadata": {},
   "outputs": [
    {
     "name": "stdout",
     "output_type": "stream",
     "text": [
      "fun block started\n",
      "try\n",
      "except\n",
      "finally\n",
      "res= 30\n"
     ]
    }
   ],
   "source": [
    "def fun():\n",
    "    print \"fun block started\"\n",
    "    try:\n",
    "        print \"try\"\n",
    "        print 1/0\n",
    "        return 10\n",
    "        print \"try after return\"\n",
    "    except:\n",
    "        print \"except\"\n",
    "        return 20\n",
    "    finally:\n",
    "        print \"finally\"\n",
    "        return 30\n",
    "    print \"fun block ended\"\n",
    "res=fun()\n",
    "print \"res=\",res\n",
    "    "
   ]
  },
  {
   "cell_type": "code",
   "execution_count": 13,
   "metadata": {},
   "outputs": [
    {
     "name": "stdout",
     "output_type": "stream",
     "text": [
      "main started\n",
      "try\n",
      "finally\n",
      "main ended\n"
     ]
    }
   ],
   "source": [
    "print \"main started\"\n",
    "try:\n",
    "    print \"try\"\n",
    "except:\n",
    "    print \"except\"\n",
    "finally:\n",
    "    print \"finally\"\n",
    "print \"main ended\""
   ]
  },
  {
   "cell_type": "code",
   "execution_count": 14,
   "metadata": {},
   "outputs": [
    {
     "name": "stdout",
     "output_type": "stream",
     "text": [
      "main started\n",
      "try\n",
      "except\n",
      "finally\n",
      "main ended\n"
     ]
    }
   ],
   "source": [
    "print \"main started\"\n",
    "try:\n",
    "    print \"try\"\n",
    "    print 1/0\n",
    "except:\n",
    "    print \"except\"\n",
    "finally:\n",
    "    print \"finally\"\n",
    "print \"main ended\""
   ]
  },
  {
   "cell_type": "code",
   "execution_count": 15,
   "metadata": {},
   "outputs": [
    {
     "name": "stdout",
     "output_type": "stream",
     "text": [
      "main started\n",
      "try\n",
      "except\n",
      "finally\n",
      "main ended\n"
     ]
    }
   ],
   "source": [
    "print \"main started\"\n",
    "try:\n",
    "    print \"try\"\n",
    "    print 1/0\n",
    "except:\n",
    "    print \"except\"\n",
    "else:\n",
    "    print \"else\"\n",
    "finally:\n",
    "    print \"finally\"\n",
    "print \"main ended\""
   ]
  },
  {
   "cell_type": "code",
   "execution_count": 16,
   "metadata": {},
   "outputs": [
    {
     "name": "stdout",
     "output_type": "stream",
     "text": [
      "main started\n",
      "try\n",
      "else\n",
      "finally\n",
      "main ended\n"
     ]
    }
   ],
   "source": [
    "print \"main started\"\n",
    "try:\n",
    "    print \"try\"\n",
    "except:\n",
    "    print \"except\"\n",
    "else:\n",
    "    print \"else\"\n",
    "finally:\n",
    "    print \"finally\"\n",
    "print \"main ended\""
   ]
  },
  {
   "cell_type": "code",
   "execution_count": 17,
   "metadata": {},
   "outputs": [
    {
     "ename": "SyntaxError",
     "evalue": "invalid syntax (<ipython-input-17-c92de7c7126d>, line 4)",
     "output_type": "error",
     "traceback": [
      "\u001b[0;36m  File \u001b[0;32m\"<ipython-input-17-c92de7c7126d>\"\u001b[0;36m, line \u001b[0;32m4\u001b[0m\n\u001b[0;31m    else:\u001b[0m\n\u001b[0m       ^\u001b[0m\n\u001b[0;31mSyntaxError\u001b[0m\u001b[0;31m:\u001b[0m invalid syntax\n"
     ]
    }
   ],
   "source": [
    "print \"main started\"\n",
    "try:\n",
    "    print \"try\"\n",
    "else:\n",
    "    print \"else\"\n",
    "finally:\n",
    "    print \"finally\"\n",
    "print \"main ended\""
   ]
  },
  {
   "cell_type": "code",
   "execution_count": 18,
   "metadata": {},
   "outputs": [
    {
     "name": "stdout",
     "output_type": "stream",
     "text": [
      "main started\n",
      "try\n",
      "finally\n",
      "main ended\n"
     ]
    }
   ],
   "source": [
    "print \"main started\"\n",
    "try:\n",
    "    print \"try\"\n",
    "finally:\n",
    "    print \"finally\"\n",
    "print \"main ended\""
   ]
  },
  {
   "cell_type": "code",
   "execution_count": 19,
   "metadata": {},
   "outputs": [
    {
     "ename": "SyntaxError",
     "evalue": "invalid syntax (<ipython-input-19-4812ef38434e>, line 5)",
     "output_type": "error",
     "traceback": [
      "\u001b[0;36m  File \u001b[0;32m\"<ipython-input-19-4812ef38434e>\"\u001b[0;36m, line \u001b[0;32m5\u001b[0m\n\u001b[0;31m    print \"main ended\"\u001b[0m\n\u001b[0m        ^\u001b[0m\n\u001b[0;31mSyntaxError\u001b[0m\u001b[0;31m:\u001b[0m invalid syntax\n"
     ]
    }
   ],
   "source": [
    "print \"main started\"\n",
    "try:\n",
    "    print \"try\"\n",
    "    print 1/0\n",
    "print \"main ended\""
   ]
  },
  {
   "cell_type": "code",
   "execution_count": 20,
   "metadata": {},
   "outputs": [
    {
     "name": "stdout",
     "output_type": "stream",
     "text": [
      "main started\n",
      "try\n"
     ]
    },
    {
     "ename": "ZeroDivisionError",
     "evalue": "integer division or modulo by zero",
     "output_type": "error",
     "traceback": [
      "\u001b[0;31m---------------------------------------------------------------------------\u001b[0m",
      "\u001b[0;31mZeroDivisionError\u001b[0m                         Traceback (most recent call last)",
      "\u001b[0;32m<ipython-input-20-8495da9a3024>\u001b[0m in \u001b[0;36m<module>\u001b[0;34m()\u001b[0m\n\u001b[1;32m      1\u001b[0m \u001b[0;32mprint\u001b[0m \u001b[0;34m\"main started\"\u001b[0m\u001b[0;34m\u001b[0m\u001b[0m\n\u001b[1;32m      2\u001b[0m \u001b[0;32mprint\u001b[0m \u001b[0;34m\"try\"\u001b[0m\u001b[0;34m\u001b[0m\u001b[0m\n\u001b[0;32m----> 3\u001b[0;31m \u001b[0;32mprint\u001b[0m \u001b[0;36m1\u001b[0m\u001b[0;34m/\u001b[0m\u001b[0;36m0\u001b[0m\u001b[0;34m\u001b[0m\u001b[0m\n\u001b[0m\u001b[1;32m      4\u001b[0m \u001b[0;32mprint\u001b[0m \u001b[0;34m\"main ended\"\u001b[0m\u001b[0;34m\u001b[0m\u001b[0m\n",
      "\u001b[0;31mZeroDivisionError\u001b[0m: integer division or modulo by zero"
     ]
    }
   ],
   "source": [
    "print \"main started\"\n",
    "print \"try\"\n",
    "print 1/0\n",
    "print \"main ended\""
   ]
  },
  {
   "cell_type": "code",
   "execution_count": 21,
   "metadata": {},
   "outputs": [
    {
     "name": "stdout",
     "output_type": "stream",
     "text": [
      "main started\n",
      "try\n",
      "finally!!\n"
     ]
    },
    {
     "ename": "ZeroDivisionError",
     "evalue": "integer division or modulo by zero",
     "output_type": "error",
     "traceback": [
      "\u001b[0;31m---------------------------------------------------------------------------\u001b[0m",
      "\u001b[0;31mZeroDivisionError\u001b[0m                         Traceback (most recent call last)",
      "\u001b[0;32m<ipython-input-21-b69ad427380e>\u001b[0m in \u001b[0;36m<module>\u001b[0;34m()\u001b[0m\n\u001b[1;32m      2\u001b[0m \u001b[0;32mtry\u001b[0m\u001b[0;34m:\u001b[0m\u001b[0;34m\u001b[0m\u001b[0m\n\u001b[1;32m      3\u001b[0m     \u001b[0;32mprint\u001b[0m \u001b[0;34m\"try\"\u001b[0m\u001b[0;34m\u001b[0m\u001b[0m\n\u001b[0;32m----> 4\u001b[0;31m     \u001b[0;32mprint\u001b[0m \u001b[0;36m1\u001b[0m\u001b[0;34m/\u001b[0m\u001b[0;36m0\u001b[0m\u001b[0;34m\u001b[0m\u001b[0m\n\u001b[0m\u001b[1;32m      5\u001b[0m \u001b[0;32mfinally\u001b[0m\u001b[0;34m:\u001b[0m\u001b[0;34m\u001b[0m\u001b[0m\n\u001b[1;32m      6\u001b[0m     \u001b[0;32mprint\u001b[0m \u001b[0;34m\"finally!!\"\u001b[0m\u001b[0;34m\u001b[0m\u001b[0m\n",
      "\u001b[0;31mZeroDivisionError\u001b[0m: integer division or modulo by zero"
     ]
    }
   ],
   "source": [
    "print \"main started\"\n",
    "try:\n",
    "    print \"try\"\n",
    "    print 1/0\n",
    "finally:\n",
    "    print \"finally!!\"\n",
    "    \n",
    "print \"main ended\""
   ]
  },
  {
   "cell_type": "code",
   "execution_count": null,
   "metadata": {
    "collapsed": true
   },
   "outputs": [],
   "source": []
  }
 ],
 "metadata": {
  "kernelspec": {
   "display_name": "Python 2",
   "language": "python",
   "name": "python2"
  },
  "language_info": {
   "codemirror_mode": {
    "name": "ipython",
    "version": 2
   },
   "file_extension": ".py",
   "mimetype": "text/x-python",
   "name": "python",
   "nbconvert_exporter": "python",
   "pygments_lexer": "ipython2",
   "version": "2.7.14"
  }
 },
 "nbformat": 4,
 "nbformat_minor": 2
}
