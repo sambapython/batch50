{
 "cells": [
  {
   "cell_type": "code",
   "execution_count": null,
   "metadata": {
    "collapsed": true
   },
   "outputs": [],
   "source": [
    "def update_customer():\n",
    "    cur,con=postgres_getcon()\n",
    "    new_name=raw_input(\"Enter New Name:\")\n",
    "    rec=int(raw_input(\"enter id to be updated\"))\n",
    "    print rec\n",
    "#q=\"update customer set name = new_name where id = rec\"\n",
    "#q=\"update customer set name = new_name where id = 121223\"\n",
    "    q=\"update customer set name = '%s' where id = %s\"%(new_namw, rec)\n",
    "    cur.execute(q)\n",
    "    con.commit()\n",
    "    con.close()"
   ]
  }
 ],
 "metadata": {
  "kernelspec": {
   "display_name": "Python 2",
   "language": "python",
   "name": "python2"
  },
  "language_info": {
   "codemirror_mode": {
    "name": "ipython",
    "version": 2
   },
   "file_extension": ".py",
   "mimetype": "text/x-python",
   "name": "python",
   "nbconvert_exporter": "python",
   "pygments_lexer": "ipython2",
   "version": "2.7.14"
  }
 },
 "nbformat": 4,
 "nbformat_minor": 2
}
