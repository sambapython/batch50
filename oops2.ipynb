{
 "cells": [
  {
   "cell_type": "code",
   "execution_count": 3,
   "metadata": {},
   "outputs": [
    {
     "name": "stdout",
     "output_type": "stream",
     "text": [
      "('Anil kumar', 23, 'KHYAATHI', 'ameerpet')\n",
      "('KHYAATHI', 'ameerpet')\n"
     ]
    }
   ],
   "source": [
    "class Emp:\n",
    "    comapny_name=\"KHYAATHI\"\n",
    "    comapny_address = \"ameerpet\"\n",
    "    def __init__(self, name, age):\n",
    "        self.name=name\n",
    "        self.age=age\n",
    "    def get_companydetails(self):\n",
    "        return self.comapny_name, self.comapny_address\n",
    "    def get(self):\n",
    "        return self.name, self.age, self.comapny_name, self.comapny_address\n",
    "anil = Emp(\"Anil kumar\",23)\n",
    "print anil.get()\n",
    "print anil.get_companydetails()"
   ]
  },
  {
   "cell_type": "code",
   "execution_count": 4,
   "metadata": {},
   "outputs": [
    {
     "name": "stdout",
     "output_type": "stream",
     "text": [
      "('Anil kumar', 23, 'KHYAATHI', 'ameerpet')\n",
      "('KHYAATHI', 'ameerpet')\n"
     ]
    }
   ],
   "source": [
    "class Emp:\n",
    "    comapny_name=\"KHYAATHI\"\n",
    "    comapny_address = \"ameerpet\"\n",
    "    def __init__(self, name, age):\n",
    "        self.name=name\n",
    "        self.age=age\n",
    "    @classmethod\n",
    "    def get_companydetails(self):\n",
    "        return self.comapny_name, self.comapny_address\n",
    "    def get(self):\n",
    "        return self.name, self.age, self.comapny_name, self.comapny_address\n",
    "anil = Emp(\"Anil kumar\",23)\n",
    "print anil.get()\n",
    "print anil.get_companydetails()"
   ]
  },
  {
   "cell_type": "code",
   "execution_count": 5,
   "metadata": {},
   "outputs": [
    {
     "name": "stdout",
     "output_type": "stream",
     "text": [
      "('Anil kumar', 23, 'KHYAATHI', 'ameerpet')\n",
      "('KHYAATHI', 'ameerpet')\n"
     ]
    }
   ],
   "source": [
    "class Emp:\n",
    "    comapny_name=\"KHYAATHI\"\n",
    "    comapny_address = \"ameerpet\"\n",
    "    def __init__(self, name, age):\n",
    "        self.name=name\n",
    "        self.age=age\n",
    "    @classmethod\n",
    "    def get_companydetails(cls):\n",
    "        return cls.comapny_name, cls.comapny_address\n",
    "    def get(self):\n",
    "        return self.name, self.age, self.comapny_name, self.comapny_address\n",
    "anil = Emp(\"Anil kumar\",23)\n",
    "print anil.get()\n",
    "print anil.get_companydetails()"
   ]
  },
  {
   "cell_type": "code",
   "execution_count": 6,
   "metadata": {},
   "outputs": [
    {
     "name": "stdout",
     "output_type": "stream",
     "text": [
      "('Anil kumar', 23, 'KHYAATHI', 'ameerpet')\n",
      "('KHYAATHI', 'ameerpet')\n",
      "('KHYAATHI', 'ameerpet')\n"
     ]
    }
   ],
   "source": [
    "class Emp:\n",
    "    comapny_name=\"KHYAATHI\"\n",
    "    comapny_address = \"ameerpet\"\n",
    "    def __init__(self, name, age):\n",
    "        self.name=name\n",
    "        self.age=age\n",
    "    @classmethod\n",
    "    def get_companydetails(cls):\n",
    "        return cls.comapny_name, cls.comapny_address\n",
    "    def get(self):\n",
    "        return self.name, self.age, self.comapny_name, self.comapny_address\n",
    "anil = Emp(\"Anil kumar\",23)\n",
    "print anil.get()\n",
    "print anil.get_companydetails()\n",
    "print Emp.get_companydetails()"
   ]
  },
  {
   "cell_type": "code",
   "execution_count": 8,
   "metadata": {},
   "outputs": [
    {
     "name": "stdout",
     "output_type": "stream",
     "text": [
      "('Anil kumar', 23, 'KHYAATHI', 'ameerpet')\n",
      "('KHYAATHI', 'ameerpet')\n",
      "('KHYAATHI', 'ameerpet')\n",
      "10 20\n",
      "100 200\n"
     ]
    }
   ],
   "source": [
    "class Emp:\n",
    "    comapny_name=\"KHYAATHI\"\n",
    "    comapny_address = \"ameerpet\"\n",
    "    def __init__(self, name, age):\n",
    "        self.name=name\n",
    "        self.age=age\n",
    "    @classmethod\n",
    "    def get_companydetails(cls):\n",
    "        return cls.comapny_name, cls.comapny_address\n",
    "    def get(self):\n",
    "        return self.name, self.age, self.comapny_name, self.comapny_address\n",
    "    @staticmethod\n",
    "    def sta(a,b):\n",
    "        print a,b\n",
    "anil = Emp(\"Anil kumar\",23)\n",
    "print anil.get()\n",
    "print anil.get_companydetails()\n",
    "print Emp.get_companydetails()\n",
    "Emp.sta(10,20)\n",
    "anil.sta(100,200)"
   ]
  },
  {
   "cell_type": "code",
   "execution_count": null,
   "metadata": {
    "collapsed": true
   },
   "outputs": [],
   "source": []
  }
 ],
 "metadata": {
  "kernelspec": {
   "display_name": "Python 2",
   "language": "python",
   "name": "python2"
  },
  "language_info": {
   "codemirror_mode": {
    "name": "ipython",
    "version": 2
   },
   "file_extension": ".py",
   "mimetype": "text/x-python",
   "name": "python",
   "nbconvert_exporter": "python",
   "pygments_lexer": "ipython2",
   "version": "2.7.14"
  }
 },
 "nbformat": 4,
 "nbformat_minor": 2
}
