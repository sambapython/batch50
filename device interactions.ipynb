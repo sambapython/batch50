{
 "cells": [
  {
   "cell_type": "code",
   "execution_count": 1,
   "metadata": {
    "collapsed": true
   },
   "outputs": [],
   "source": [
    "import os"
   ]
  },
  {
   "cell_type": "code",
   "execution_count": 2,
   "metadata": {},
   "outputs": [
    {
     "data": {
      "text/plain": [
       "0"
      ]
     },
     "execution_count": 2,
     "metadata": {},
     "output_type": "execute_result"
    }
   ],
   "source": [
    "os.system(\"mkdir folder1\")"
   ]
  },
  {
   "cell_type": "code",
   "execution_count": 3,
   "metadata": {},
   "outputs": [
    {
     "data": {
      "text/plain": [
       "256"
      ]
     },
     "execution_count": 3,
     "metadata": {},
     "output_type": "execute_result"
    }
   ],
   "source": [
    "os.system(\"mkdir folder1\")"
   ]
  },
  {
   "cell_type": "code",
   "execution_count": 1,
   "metadata": {
    "collapsed": true
   },
   "outputs": [],
   "source": [
    "from github import Github\n",
    "username=\"\"\n",
    "password=\"\"\n",
    "git = Github(username, password)"
   ]
  },
  {
   "cell_type": "code",
   "execution_count": 2,
   "metadata": {},
   "outputs": [
    {
     "name": "stdout",
     "output_type": "stream",
     "text": [
      "['FIX_REPO_GET_GIT_REF', '_Github__get_FIX_REPO_GET_GIT_REF', '_Github__get_per_page', '_Github__requester', '_Github__set_FIX_REPO_GET_GIT_REF', '_Github__set_per_page', '__class__', '__delattr__', '__dict__', '__doc__', '__format__', '__getattribute__', '__hash__', '__init__', '__module__', '__new__', '__reduce__', '__reduce_ex__', '__repr__', '__setattr__', '__sizeof__', '__str__', '__subclasshook__', '__weakref__', 'create_from_raw_data', 'dump', 'get_api_status', 'get_api_status_messages', 'get_emojis', 'get_gist', 'get_gists', 'get_gitignore_template', 'get_gitignore_templates', 'get_hook', 'get_hooks', 'get_installation', 'get_last_api_status_message', 'get_organization', 'get_rate_limit', 'get_repo', 'get_repos', 'get_user', 'get_users', 'legacy_search_repos', 'legacy_search_user_by_email', 'legacy_search_users', 'load', 'oauth_scopes', 'per_page', 'rate_limiting', 'rate_limiting_resettime', 'render_markdown', 'search_code', 'search_issues', 'search_repositories', 'search_users']\n"
     ]
    }
   ],
   "source": [
    "print dir(git)"
   ]
  },
  {
   "cell_type": "code",
   "execution_count": 3,
   "metadata": {
    "collapsed": true
   },
   "outputs": [],
   "source": [
    "user = git.get_user?"
   ]
  },
  {
   "cell_type": "code",
   "execution_count": 4,
   "metadata": {
    "collapsed": true
   },
   "outputs": [],
   "source": [
    "user = git.get_user()"
   ]
  },
  {
   "cell_type": "code",
   "execution_count": 6,
   "metadata": {},
   "outputs": [
    {
     "name": "stdout",
     "output_type": "stream",
     "text": [
      "['CHECK_AFTER_INIT_FLAG', '_CompletableGithubObject__complete', '_CompletableGithubObject__completed', '_GithubObject__makeSimpleAttribute', '_GithubObject__makeSimpleListAttribute', '_GithubObject__makeTransformedAttribute', '__class__', '__delattr__', '__dict__', '__doc__', '__eq__', '__format__', '__getattribute__', '__hash__', '__init__', '__module__', '__ne__', '__new__', '__reduce__', '__reduce_ex__', '__repr__', '__setattr__', '__sizeof__', '__str__', '__subclasshook__', '__weakref__', '_avatar_url', '_bio', '_blog', '_collaborators', '_company', '_completeIfNeeded', '_completeIfNotSet', '_created_at', '_disk_usage', '_email', '_events_url', '_followers', '_followers_url', '_following', '_following_url', '_gists_url', '_gravatar_id', '_headers', '_hireable', '_html_url', '_id', '_initAttributes', '_location', '_login', '_makeBoolAttribute', '_makeClassAttribute', '_makeDatetimeAttribute', '_makeDictAttribute', '_makeDictOfStringsToClassesAttribute', '_makeIntAttribute', '_makeListOfClassesAttribute', '_makeListOfIntsAttribute', '_makeListOfListOfStringsAttribute', '_makeListOfStringsAttribute', '_makeStringAttribute', '_makeTimestampAttribute', '_name', '_organizations_url', '_owned_private_repos', '_parentUrl', '_plan', '_private_gists', '_public_gists', '_public_repos', '_rawData', '_received_events_url', '_repos_url', '_requester', '_site_admin', '_starred_url', '_storeAndUseAttributes', '_subscriptions_url', '_total_private_repos', '_type', '_updated_at', '_url', '_useAttributes', 'accept_invitation', 'add_to_emails', 'add_to_following', 'add_to_starred', 'add_to_subscriptions', 'add_to_watched', 'avatar_url', 'bio', 'blog', 'collaborators', 'company', 'create_authorization', 'create_fork', 'create_gist', 'create_key', 'create_repo', 'created_at', 'disk_usage', 'edit', 'email', 'etag', 'events_url', 'followers', 'followers_url', 'following', 'following_url', 'get__repr__', 'get_authorization', 'get_authorizations', 'get_emails', 'get_events', 'get_followers', 'get_following', 'get_gists', 'get_issues', 'get_key', 'get_keys', 'get_notification', 'get_notifications', 'get_organization_events', 'get_orgs', 'get_repo', 'get_repos', 'get_starred', 'get_starred_gists', 'get_subscriptions', 'get_teams', 'get_user_issues', 'get_watched', 'gists_url', 'gravatar_id', 'has_in_following', 'has_in_starred', 'has_in_subscriptions', 'has_in_watched', 'hireable', 'html_url', 'id', 'last_modified', 'location', 'login', 'name', 'organizations_url', 'owned_private_repos', 'plan', 'private_gists', 'public_gists', 'public_repos', 'raw_data', 'raw_headers', 'received_events_url', 'remove_from_emails', 'remove_from_following', 'remove_from_starred', 'remove_from_subscriptions', 'remove_from_watched', 'repos_url', 'setCheckAfterInitFlag', 'site_admin', 'starred_url', 'subscriptions_url', 'total_private_repos', 'type', 'update', 'updated_at', 'url']\n"
     ]
    }
   ],
   "source": [
    "print dir(user)"
   ]
  },
  {
   "cell_type": "code",
   "execution_count": 7,
   "metadata": {},
   "outputs": [
    {
     "data": {
      "text/plain": [
       "<github.PaginatedList.PaginatedList instance at 0x7f99b426c4d0>"
      ]
     },
     "execution_count": 7,
     "metadata": {},
     "output_type": "execute_result"
    }
   ],
   "source": [
    "user.get_orgs()"
   ]
  },
  {
   "cell_type": "code",
   "execution_count": 8,
   "metadata": {},
   "outputs": [
    {
     "name": "stdout",
     "output_type": "stream",
     "text": [
      "Organization(name=None, id=34699715)\n",
      "Organization(name=None, id=34699732)\n",
      "Organization(name=None, id=37465038)\n"
     ]
    }
   ],
   "source": [
    "for i in user.get_orgs():\n",
    "    print i"
   ]
  },
  {
   "cell_type": "code",
   "execution_count": 9,
   "metadata": {},
   "outputs": [
    {
     "name": "stdout",
     "output_type": "stream",
     "text": [
      "['CHECK_AFTER_INIT_FLAG', '_CompletableGithubObject__complete', '_CompletableGithubObject__completed', '_GithubObject__makeSimpleAttribute', '_GithubObject__makeSimpleListAttribute', '_GithubObject__makeTransformedAttribute', '__class__', '__delattr__', '__dict__', '__doc__', '__eq__', '__format__', '__getattribute__', '__hash__', '__init__', '__module__', '__ne__', '__new__', '__reduce__', '__reduce_ex__', '__repr__', '__setattr__', '__sizeof__', '__str__', '__subclasshook__', '__weakref__', '_avatar_url', '_billing_email', '_blog', '_collaborators', '_company', '_completeIfNeeded', '_completeIfNotSet', '_created_at', '_disk_usage', '_email', '_events_url', '_followers', '_following', '_gravatar_id', '_headers', '_html_url', '_id', '_initAttributes', '_location', '_login', '_makeBoolAttribute', '_makeClassAttribute', '_makeDatetimeAttribute', '_makeDictAttribute', '_makeDictOfStringsToClassesAttribute', '_makeIntAttribute', '_makeListOfClassesAttribute', '_makeListOfIntsAttribute', '_makeListOfListOfStringsAttribute', '_makeListOfStringsAttribute', '_makeStringAttribute', '_makeTimestampAttribute', '_members_url', '_name', '_owned_private_repos', '_parentUrl', '_plan', '_private_gists', '_public_gists', '_public_members_url', '_public_repos', '_rawData', '_repos_url', '_requester', '_storeAndUseAttributes', '_total_private_repos', '_type', '_updated_at', '_url', '_useAttributes', 'add_to_public_members', 'avatar_url', 'billing_email', 'blog', 'collaborators', 'company', 'create_fork', 'create_repo', 'create_team', 'created_at', 'disk_usage', 'edit', 'email', 'etag', 'events_url', 'followers', 'following', 'get__repr__', 'get_events', 'get_issues', 'get_members', 'get_public_members', 'get_repo', 'get_repos', 'get_team', 'get_teams', 'gravatar_id', 'has_in_members', 'has_in_public_members', 'html_url', 'id', 'last_modified', 'location', 'login', 'members_url', 'name', 'owned_private_repos', 'plan', 'private_gists', 'public_gists', 'public_members_url', 'public_repos', 'raw_data', 'raw_headers', 'remove_from_members', 'remove_from_public_members', 'repos_url', 'setCheckAfterInitFlag', 'total_private_repos', 'type', 'update', 'updated_at', 'url']\n"
     ]
    }
   ],
   "source": [
    "print dir(i)"
   ]
  },
  {
   "cell_type": "code",
   "execution_count": 10,
   "metadata": {},
   "outputs": [
    {
     "name": "stdout",
     "output_type": "stream",
     "text": [
      "https://api.github.com/orgs/khyaathi\n",
      "https://api.github.com/orgs/tcloud123\n",
      "https://api.github.com/orgs/khyaathiinstitute\n"
     ]
    }
   ],
   "source": [
    "for i in user.get_orgs():\n",
    "    print i.url"
   ]
  },
  {
   "cell_type": "code",
   "execution_count": 11,
   "metadata": {},
   "outputs": [
    {
     "name": "stdout",
     "output_type": "stream",
     "text": [
      "https://api.github.com/orgs/khyaathi\n",
      "Repository(full_name=\"khyaathi/khyaathirepo1\")\n",
      "Repository(full_name=\"khyaathi/khyaathirepo2\")\n",
      "Repository(full_name=\"khyaathi/python_repo\")\n",
      "Repository(full_name=\"khyaathi/repo410\")\n",
      "Repository(full_name=\"khyaathi/repo_api\")\n",
      "Repository(full_name=\"khyaathi/batch44_repo0\")\n",
      "Repository(full_name=\"khyaathi/repocreatedbyAPI\")\n",
      "Repository(full_name=\"khyaathi/batch48\")\n",
      "Repository(full_name=\"khyaathi/batch48_API\")\n",
      "Repository(full_name=\"khyaathi/batch48_b\")\n",
      "https://api.github.com/orgs/tcloud123\n",
      "Repository(full_name=\"tcloud123/repo411\")\n",
      "Repository(full_name=\"tcloud123/newrepo\")\n",
      "Repository(full_name=\"tcloud123/batch44_repo1\")\n",
      "Repository(full_name=\"tcloud123/batch48\")\n",
      "https://api.github.com/orgs/khyaathiinstitute\n",
      "Repository(full_name=\"khyaathiinstitute/batch44\")\n",
      "Repository(full_name=\"khyaathiinstitute/batch44_repo2\")\n",
      "Repository(full_name=\"khyaathiinstitute/batch44_auto\")\n",
      "Repository(full_name=\"khyaathiinstitute/batch46\")\n",
      "Repository(full_name=\"khyaathiinstitute/batch48\")\n",
      "Repository(full_name=\"khyaathiinstitute/newrepo\")\n"
     ]
    }
   ],
   "source": [
    "for i in user.get_orgs():\n",
    "    print i.url\n",
    "    for repo in i.get_repos():\n",
    "        print repo"
   ]
  },
  {
   "cell_type": "code",
   "execution_count": 13,
   "metadata": {},
   "outputs": [
    {
     "name": "stdout",
     "output_type": "stream",
     "text": [
      "Object `user.get_org` not found.\n"
     ]
    }
   ],
   "source": [
    "user."
   ]
  },
  {
   "cell_type": "code",
   "execution_count": 14,
   "metadata": {
    "collapsed": true
   },
   "outputs": [],
   "source": []
  },
  {
   "cell_type": "code",
   "execution_count": 15,
   "metadata": {},
   "outputs": [
    {
     "name": "stdout",
     "output_type": "stream",
     "text": [
      "https://api.github.com/orgs/khyaathi\n"
     ]
    }
   ],
   "source": [
    "for i in user.get_orgs():\n",
    "    if \"khyaathi\" in i.url:\n",
    "        break\n",
    "print i.url"
   ]
  },
  {
   "cell_type": "code",
   "execution_count": 16,
   "metadata": {},
   "outputs": [
    {
     "name": "stdout",
     "output_type": "stream",
     "text": [
      "['CHECK_AFTER_INIT_FLAG', '_CompletableGithubObject__complete', '_CompletableGithubObject__completed', '_GithubObject__makeSimpleAttribute', '_GithubObject__makeSimpleListAttribute', '_GithubObject__makeTransformedAttribute', '__class__', '__delattr__', '__dict__', '__doc__', '__eq__', '__format__', '__getattribute__', '__hash__', '__init__', '__module__', '__ne__', '__new__', '__reduce__', '__reduce_ex__', '__repr__', '__setattr__', '__sizeof__', '__str__', '__subclasshook__', '__weakref__', '_avatar_url', '_billing_email', '_blog', '_collaborators', '_company', '_completeIfNeeded', '_completeIfNotSet', '_created_at', '_disk_usage', '_email', '_events_url', '_followers', '_following', '_gravatar_id', '_headers', '_html_url', '_id', '_initAttributes', '_location', '_login', '_makeBoolAttribute', '_makeClassAttribute', '_makeDatetimeAttribute', '_makeDictAttribute', '_makeDictOfStringsToClassesAttribute', '_makeIntAttribute', '_makeListOfClassesAttribute', '_makeListOfIntsAttribute', '_makeListOfListOfStringsAttribute', '_makeListOfStringsAttribute', '_makeStringAttribute', '_makeTimestampAttribute', '_members_url', '_name', '_owned_private_repos', '_parentUrl', '_plan', '_private_gists', '_public_gists', '_public_members_url', '_public_repos', '_rawData', '_repos_url', '_requester', '_storeAndUseAttributes', '_total_private_repos', '_type', '_updated_at', '_url', '_useAttributes', 'add_to_public_members', 'avatar_url', 'billing_email', 'blog', 'collaborators', 'company', 'create_fork', 'create_repo', 'create_team', 'created_at', 'disk_usage', 'edit', 'email', 'etag', 'events_url', 'followers', 'following', 'get__repr__', 'get_events', 'get_issues', 'get_members', 'get_public_members', 'get_repo', 'get_repos', 'get_team', 'get_teams', 'gravatar_id', 'has_in_members', 'has_in_public_members', 'html_url', 'id', 'last_modified', 'location', 'login', 'members_url', 'name', 'owned_private_repos', 'plan', 'private_gists', 'public_gists', 'public_members_url', 'public_repos', 'raw_data', 'raw_headers', 'remove_from_members', 'remove_from_public_members', 'repos_url', 'setCheckAfterInitFlag', 'total_private_repos', 'type', 'update', 'updated_at', 'url']\n"
     ]
    }
   ],
   "source": [
    "print dir(i)"
   ]
  },
  {
   "cell_type": "code",
   "execution_count": 17,
   "metadata": {},
   "outputs": [
    {
     "name": "stdout",
     "output_type": "stream",
     "text": [
      "Repository(full_name=\"khyaathi/khyaathirepo1\")\n",
      "Repository(full_name=\"khyaathi/khyaathirepo2\")\n",
      "Repository(full_name=\"khyaathi/python_repo\")\n",
      "Repository(full_name=\"khyaathi/repo410\")\n",
      "Repository(full_name=\"khyaathi/repo_api\")\n",
      "Repository(full_name=\"khyaathi/batch44_repo0\")\n",
      "Repository(full_name=\"khyaathi/repocreatedbyAPI\")\n",
      "Repository(full_name=\"khyaathi/batch48\")\n",
      "Repository(full_name=\"khyaathi/batch48_API\")\n",
      "Repository(full_name=\"khyaathi/batch48_b\")\n"
     ]
    }
   ],
   "source": [
    "khyaathi_org=i\n",
    "for repo in khyaathi_org.get_repos():\n",
    "    print repo"
   ]
  },
  {
   "cell_type": "code",
   "execution_count": 18,
   "metadata": {},
   "outputs": [
    {
     "name": "stdout",
     "output_type": "stream",
     "text": [
      "['CHECK_AFTER_INIT_FLAG', '_CompletableGithubObject__complete', '_CompletableGithubObject__completed', '_GithubObject__makeSimpleAttribute', '_GithubObject__makeSimpleListAttribute', '_GithubObject__makeTransformedAttribute', '_Repository__create_pull', '_Repository__create_pull_1', '_Repository__create_pull_2', '__class__', '__delattr__', '__dict__', '__doc__', '__eq__', '__format__', '__getattribute__', '__hash__', '__init__', '__module__', '__ne__', '__new__', '__reduce__', '__reduce_ex__', '__repr__', '__setattr__', '__sizeof__', '__str__', '__subclasshook__', '__weakref__', '_archive_url', '_assignees_url', '_blobs_url', '_branches_url', '_clone_url', '_collaborators_url', '_comments_url', '_commits_url', '_compare_url', '_completeIfNeeded', '_completeIfNotSet', '_contents_url', '_contributors_url', '_created_at', '_default_branch', '_description', '_downloads_url', '_events_url', '_fork', '_forks', '_forks_count', '_forks_url', '_full_name', '_git_commits_url', '_git_refs_url', '_git_tags_url', '_git_url', '_has_downloads', '_has_issues', '_has_wiki', '_headers', '_homepage', '_hooks_url', '_html_url', '_hub', '_id', '_identity', '_initAttributes', '_issue_comment_url', '_issue_events_url', '_issues_url', '_keys_url', '_labels_url', '_language', '_languages_url', '_makeBoolAttribute', '_makeClassAttribute', '_makeDatetimeAttribute', '_makeDictAttribute', '_makeDictOfStringsToClassesAttribute', '_makeIntAttribute', '_makeListOfClassesAttribute', '_makeListOfIntsAttribute', '_makeListOfListOfStringsAttribute', '_makeListOfStringsAttribute', '_makeStringAttribute', '_makeTimestampAttribute', '_master_branch', '_merges_url', '_milestones_url', '_mirror_url', '_name', '_network_count', '_notifications_url', '_open_issues', '_open_issues_count', '_organization', '_owner', '_parent', '_parentUrl', '_permissions', '_private', '_pulls_url', '_pushed_at', '_rawData', '_requester', '_size', '_source', '_ssh_url', '_stargazers_count', '_stargazers_url', '_statuses_url', '_storeAndUseAttributes', '_subscribers_count', '_subscribers_url', '_subscription_url', '_svn_url', '_tags_url', '_teams_url', '_trees_url', '_updated_at', '_url', '_useAttributes', '_watchers', '_watchers_count', 'add_to_collaborators', 'archive_url', 'assignees_url', 'blobs_url', 'branches_url', 'clone_url', 'collaborators_url', 'comments_url', 'commits_url', 'compare', 'compare_url', 'contents_url', 'contributors_url', 'create_file', 'create_git_blob', 'create_git_commit', 'create_git_ref', 'create_git_release', 'create_git_tag', 'create_git_tag_and_release', 'create_git_tree', 'create_hook', 'create_issue', 'create_key', 'create_label', 'create_milestone', 'create_pull', 'created_at', 'default_branch', 'delete', 'delete_file', 'description', 'downloads_url', 'edit', 'etag', 'events_url', 'fork', 'forks', 'forks_count', 'forks_url', 'full_name', 'get__repr__', 'get_archive_link', 'get_assignees', 'get_branch', 'get_branches', 'get_collaborators', 'get_comment', 'get_comments', 'get_commit', 'get_commits', 'get_contents', 'get_contributors', 'get_dir_contents', 'get_download', 'get_downloads', 'get_events', 'get_file_contents', 'get_forks', 'get_git_blob', 'get_git_commit', 'get_git_ref', 'get_git_refs', 'get_git_tag', 'get_git_tree', 'get_hook', 'get_hooks', 'get_issue', 'get_issues', 'get_issues_comments', 'get_issues_event', 'get_issues_events', 'get_key', 'get_keys', 'get_label', 'get_labels', 'get_languages', 'get_milestone', 'get_milestones', 'get_network_events', 'get_protected_branch', 'get_pull', 'get_pulls', 'get_pulls_comments', 'get_pulls_review_comments', 'get_readme', 'get_release', 'get_releases', 'get_stargazers', 'get_stargazers_with_dates', 'get_stats_code_frequency', 'get_stats_commit_activity', 'get_stats_contributors', 'get_stats_participation', 'get_stats_punch_card', 'get_subscribers', 'get_tags', 'get_teams', 'get_watchers', 'git_commits_url', 'git_refs_url', 'git_tags_url', 'git_url', 'has_downloads', 'has_in_assignees', 'has_in_collaborators', 'has_issues', 'has_wiki', 'homepage', 'hooks_url', 'html_url', 'id', 'issue_comment_url', 'issue_events_url', 'issues_url', 'keys_url', 'labels_url', 'language', 'languages_url', 'last_modified', 'legacy_search_issues', 'master_branch', 'merge', 'merges_url', 'milestones_url', 'mirror_url', 'name', 'network_count', 'notifications_url', 'open_issues', 'open_issues_count', 'organization', 'owner', 'parent', 'permissions', 'private', 'protect_branch', 'pulls_url', 'pushed_at', 'raw_data', 'raw_headers', 'remove_from_collaborators', 'setCheckAfterInitFlag', 'size', 'source', 'ssh_url', 'stargazers_count', 'stargazers_url', 'statuses_url', 'subscribe_to_hub', 'subscribers_count', 'subscribers_url', 'subscription_url', 'svn_url', 'tags_url', 'teams_url', 'trees_url', 'unsubscribe_from_hub', 'update', 'update_file', 'updated_at', 'url', 'watchers', 'watchers_count']\n"
     ]
    }
   ],
   "source": [
    "print dir(repo)"
   ]
  },
  {
   "cell_type": "code",
   "execution_count": 20,
   "metadata": {},
   "outputs": [],
   "source": [
    "khyaathi_org=i\n",
    "for repo in khyaathi_org.get_repos():\n",
    "    repo.delete()"
   ]
  },
  {
   "cell_type": "code",
   "execution_count": 21,
   "metadata": {},
   "outputs": [
    {
     "data": {
      "text/plain": [
       "Repository(full_name=\"khyaathi/batch51\")"
      ]
     },
     "execution_count": 21,
     "metadata": {},
     "output_type": "execute_result"
    }
   ],
   "source": [
    "khyaathi_org.create_repo(name=\"batch51\")"
   ]
  },
  {
   "cell_type": "code",
   "execution_count": 22,
   "metadata": {},
   "outputs": [
    {
     "name": "stdout",
     "output_type": "stream",
     "text": [
      "<Response [200]>\n"
     ]
    }
   ],
   "source": [
    "# base_url, username, password\n",
    "import requests\n",
    "base_url=\"https://api.github.com\"\n",
    "url = \"%s/orgs/khyaathi/repos\"%(base_url)\n",
    "resp = requests.get(url)\n",
    "print resp"
   ]
  },
  {
   "cell_type": "code",
   "execution_count": 23,
   "metadata": {},
   "outputs": [
    {
     "name": "stdout",
     "output_type": "stream",
     "text": [
      "[{u'issues_url': u'https://api.github.com/repos/khyaathi/batch51/issues{/number}', u'deployments_url': u'https://api.github.com/repos/khyaathi/batch51/deployments', u'stargazers_count': 0, u'forks_url': u'https://api.github.com/repos/khyaathi/batch51/forks', u'mirror_url': None, u'subscription_url': u'https://api.github.com/repos/khyaathi/batch51/subscription', u'notifications_url': u'https://api.github.com/repos/khyaathi/batch51/notifications{?since,all,participating}', u'collaborators_url': u'https://api.github.com/repos/khyaathi/batch51/collaborators{/collaborator}', u'updated_at': u'2018-10-27T05:41:20Z', u'private': False, u'pulls_url': u'https://api.github.com/repos/khyaathi/batch51/pulls{/number}', u'issue_comment_url': u'https://api.github.com/repos/khyaathi/batch51/issues/comments{/number}', u'labels_url': u'https://api.github.com/repos/khyaathi/batch51/labels{/name}', u'has_wiki': True, u'full_name': u'khyaathi/batch51', u'owner': {u'following_url': u'https://api.github.com/users/khyaathi/following{/other_user}', u'events_url': u'https://api.github.com/users/khyaathi/events{/privacy}', u'avatar_url': u'https://avatars2.githubusercontent.com/u/34699715?v=4', u'url': u'https://api.github.com/users/khyaathi', u'gists_url': u'https://api.github.com/users/khyaathi/gists{/gist_id}', u'html_url': u'https://github.com/khyaathi', u'subscriptions_url': u'https://api.github.com/users/khyaathi/subscriptions', u'node_id': u'MDEyOk9yZ2FuaXphdGlvbjM0Njk5NzE1', u'repos_url': u'https://api.github.com/users/khyaathi/repos', u'received_events_url': u'https://api.github.com/users/khyaathi/received_events', u'gravatar_id': u'', u'starred_url': u'https://api.github.com/users/khyaathi/starred{/owner}{/repo}', u'site_admin': False, u'login': u'khyaathi', u'type': u'Organization', u'id': 34699715, u'followers_url': u'https://api.github.com/users/khyaathi/followers', u'organizations_url': u'https://api.github.com/users/khyaathi/orgs'}, u'statuses_url': u'https://api.github.com/repos/khyaathi/batch51/statuses/{sha}', u'id': 154930303, u'keys_url': u'https://api.github.com/repos/khyaathi/batch51/keys{/key_id}', u'description': None, u'tags_url': u'https://api.github.com/repos/khyaathi/batch51/tags', u'archived': False, u'downloads_url': u'https://api.github.com/repos/khyaathi/batch51/downloads', u'assignees_url': u'https://api.github.com/repos/khyaathi/batch51/assignees{/user}', u'contents_url': u'https://api.github.com/repos/khyaathi/batch51/contents/{+path}', u'has_pages': False, u'git_refs_url': u'https://api.github.com/repos/khyaathi/batch51/git/refs{/sha}', u'open_issues_count': 0, u'has_projects': True, u'clone_url': u'https://github.com/khyaathi/batch51.git', u'watchers_count': 0, u'git_tags_url': u'https://api.github.com/repos/khyaathi/batch51/git/tags{/sha}', u'milestones_url': u'https://api.github.com/repos/khyaathi/batch51/milestones{/number}', u'languages_url': u'https://api.github.com/repos/khyaathi/batch51/languages', u'size': 0, u'homepage': None, u'fork': False, u'commits_url': u'https://api.github.com/repos/khyaathi/batch51/commits{/sha}', u'releases_url': u'https://api.github.com/repos/khyaathi/batch51/releases{/id}', u'issue_events_url': u'https://api.github.com/repos/khyaathi/batch51/issues/events{/number}', u'archive_url': u'https://api.github.com/repos/khyaathi/batch51/{archive_format}{/ref}', u'comments_url': u'https://api.github.com/repos/khyaathi/batch51/comments{/number}', u'events_url': u'https://api.github.com/repos/khyaathi/batch51/events', u'contributors_url': u'https://api.github.com/repos/khyaathi/batch51/contributors', u'html_url': u'https://github.com/khyaathi/batch51', u'forks': 0, u'compare_url': u'https://api.github.com/repos/khyaathi/batch51/compare/{base}...{head}', u'open_issues': 0, u'node_id': u'MDEwOlJlcG9zaXRvcnkxNTQ5MzAzMDM=', u'git_url': u'git://github.com/khyaathi/batch51.git', u'svn_url': u'https://github.com/khyaathi/batch51', u'merges_url': u'https://api.github.com/repos/khyaathi/batch51/merges', u'has_issues': True, u'ssh_url': u'git@github.com:khyaathi/batch51.git', u'blobs_url': u'https://api.github.com/repos/khyaathi/batch51/git/blobs{/sha}', u'git_commits_url': u'https://api.github.com/repos/khyaathi/batch51/git/commits{/sha}', u'hooks_url': u'https://api.github.com/repos/khyaathi/batch51/hooks', u'has_downloads': True, u'license': None, u'name': u'batch51', u'language': None, u'url': u'https://api.github.com/repos/khyaathi/batch51', u'created_at': u'2018-10-27T05:41:20Z', u'watchers': 0, u'pushed_at': u'2018-10-27T05:41:20Z', u'forks_count': 0, u'default_branch': u'master', u'teams_url': u'https://api.github.com/repos/khyaathi/batch51/teams', u'trees_url': u'https://api.github.com/repos/khyaathi/batch51/git/trees{/sha}', u'branches_url': u'https://api.github.com/repos/khyaathi/batch51/branches{/branch}', u'subscribers_url': u'https://api.github.com/repos/khyaathi/batch51/subscribers', u'permissions': {u'admin': False, u'push': False, u'pull': True}, u'stargazers_url': u'https://api.github.com/repos/khyaathi/batch51/stargazers'}]\n"
     ]
    }
   ],
   "source": [
    "# base_url, username, password\n",
    "import requests\n",
    "base_url=\"https://api.github.com\"\n",
    "url = \"%s/orgs/khyaathi/repos\"%(base_url)\n",
    "resp = requests.get(url)\n",
    "print resp.json()"
   ]
  },
  {
   "cell_type": "code",
   "execution_count": 24,
   "metadata": {},
   "outputs": [
    {
     "name": "stdout",
     "output_type": "stream",
     "text": [
      "<Response [401]>\n"
     ]
    }
   ],
   "source": [
    "# base_url, username, password\n",
    "import requests\n",
    "base_url=\"https://api.github.com\"\n",
    "url = \"%s/orgs/khyaathi/repos\"%(base_url)\n",
    "resp = requests.post(url,json={\"name\":\"batch51_1\"})\n",
    "print resp"
   ]
  },
  {
   "cell_type": "code",
   "execution_count": 25,
   "metadata": {},
   "outputs": [
    {
     "name": "stdout",
     "output_type": "stream",
     "text": [
      "<Response [201]>\n"
     ]
    }
   ],
   "source": [
    "# base_url, username, password\n",
    "import requests\n",
    "base_url=\"https://api.github.com\"\n",
    "url = \"%s/orgs/khyaathi/repos\"%(base_url)\n",
    "resp = requests.post(url,json={\"name\":\"batch51_1\"}, auth=(username, password))\n",
    "print resp"
   ]
  },
  {
   "cell_type": "code",
   "execution_count": null,
   "metadata": {
    "collapsed": true
   },
   "outputs": [],
   "source": [
    "# connect to RSA\n",
    "# token = Gettoke_RSA()\n",
    "resp = requests.post(url,json={\"name\":\"batch51_1\"}, auth=(username, password),\n",
    "                     headers={\"Authoeization\": \"Token sdfwr23r32jewlrweujr3w2\"})"
   ]
  },
  {
   "cell_type": "code",
   "execution_count": 26,
   "metadata": {
    "collapsed": true
   },
   "outputs": [],
   "source": [
    "import paramiko as pmk\n",
    "hostname=\"localhost\"\n",
    "username=\"khyaathi-python\"\n",
    "password=\"pythonkhyaathi\"\n",
    "ssh = pmk.SSHClient()\n",
    "ssh.set_missing_host_key_policy(pmk.AutoAddPolicy())\n",
    "ssh.connect(hostname, username=username,password=password)"
   ]
  },
  {
   "cell_type": "code",
   "execution_count": 27,
   "metadata": {},
   "outputs": [
    {
     "data": {
      "text/plain": [
       "(<paramiko.ChannelFile from <paramiko.Channel 0 (closed) -> <paramiko.Transport at 0xb410c550L (cipher aes128-ctr, 128 bits) (active; 0 open channel(s))>>>,\n",
       " <paramiko.ChannelFile from <paramiko.Channel 0 (closed) -> <paramiko.Transport at 0xb410c550L (cipher aes128-ctr, 128 bits) (active; 0 open channel(s))>>>,\n",
       " <paramiko.ChannelFile from <paramiko.Channel 0 (closed) -> <paramiko.Transport at 0xb410c550L (cipher aes128-ctr, 128 bits) (active; 0 open channel(s))>>>)"
      ]
     },
     "execution_count": 27,
     "metadata": {},
     "output_type": "execute_result"
    }
   ],
   "source": [
    "ssh.exec_command(\"mkdir batch51_2\")"
   ]
  },
  {
   "cell_type": "code",
   "execution_count": 29,
   "metadata": {},
   "outputs": [
    {
     "data": {
      "text/plain": [
       "(<paramiko.ChannelFile from <paramiko.Channel 2 (closed) -> <paramiko.Transport at 0xb410c550L (cipher aes128-ctr, 128 bits) (active; 0 open channel(s))>>>,\n",
       " <paramiko.ChannelFile from <paramiko.Channel 2 (closed) -> <paramiko.Transport at 0xb410c550L (cipher aes128-ctr, 128 bits) (active; 0 open channel(s))>>>,\n",
       " <paramiko.ChannelFile from <paramiko.Channel 2 (closed) -> <paramiko.Transport at 0xb410c550L (cipher aes128-ctr, 128 bits) (active; 0 open channel(s))>>>)"
      ]
     },
     "execution_count": 29,
     "metadata": {},
     "output_type": "execute_result"
    }
   ],
   "source": [
    "ssh.exec_command(\"rm -r batch51_2\")"
   ]
  },
  {
   "cell_type": "code",
   "execution_count": 30,
   "metadata": {},
   "outputs": [
    {
     "data": {
      "text/plain": [
       "(<paramiko.ChannelFile from <paramiko.Channel 3 (open) window=2097152 -> <paramiko.Transport at 0xb410c550L (cipher aes128-ctr, 128 bits) (active; 1 open channel(s))>>>,\n",
       " <paramiko.ChannelFile from <paramiko.Channel 3 (open) window=2097152 -> <paramiko.Transport at 0xb410c550L (cipher aes128-ctr, 128 bits) (active; 1 open channel(s))>>>,\n",
       " <paramiko.ChannelFile from <paramiko.Channel 3 (open) window=2097152 -> <paramiko.Transport at 0xb410c550L (cipher aes128-ctr, 128 bits) (active; 1 open channel(s))>>>)"
      ]
     },
     "execution_count": 30,
     "metadata": {},
     "output_type": "execute_result"
    }
   ],
   "source": [
    "# ps -aux\n",
    "ssh.exec_command(\"ps -aux\")"
   ]
  },
  {
   "cell_type": "code",
   "execution_count": 31,
   "metadata": {
    "collapsed": true
   },
   "outputs": [],
   "source": [
    "inp,outp,erp = ssh.exec_command(\"ps -aux\")"
   ]
  },
  {
   "cell_type": "code",
   "execution_count": 32,
   "metadata": {},
   "outputs": [
    {
     "name": "stdout",
     "output_type": "stream",
     "text": [
      "USER       PID %CPU %MEM    VSZ   RSS TTY      STAT START   TIME COMMAND\n",
      "root         1  0.0  0.1 202916  7424 ?        Ss   Oct26   0:03 /sbin/init splash\n",
      "root         2  0.0  0.0      0     0 ?        S    Oct26   0:00 [kthreadd]\n",
      "root         3  0.0  0.0      0     0 ?        S    Oct26   0:02 [ksoftirqd/0]\n",
      "root         5  0.0  0.0      0     0 ?        S<   Oct26   0:00 [kworker/0:0H]\n",
      "root         7  0.0  0.0      0     0 ?        S    Oct26   0:27 [rcu_sched]\n",
      "root         8  0.0  0.0      0     0 ?        S    Oct26   0:00 [rcu_bh]\n",
      "root         9  0.0  0.0      0     0 ?        S    Oct26   0:00 [migration/0]\n",
      "root        10  0.0  0.0      0     0 ?        S<   Oct26   0:00 [lru-add-drain]\n",
      "root        11  0.0  0.0      0     0 ?        S    Oct26   0:00 [watchdog/0]\n",
      "root        12  0.0  0.0      0     0 ?        S    Oct26   0:00 [cpuhp/0]\n",
      "root        13  0.0  0.0      0     0 ?        S    Oct26   0:00 [kdevtmpfs]\n",
      "root        14  0.0  0.0      0     0 ?        S<   Oct26   0:00 [netns]\n",
      "root        15  0.0  0.0      0     0 ?        S    Oct26   0:00 [khungtaskd]\n",
      "root        16  0.0  0.0      0     0 ?        S    Oct26   0:00 [oom_reaper]\n",
      "root        17  0.0  0.0      0     0 ?        S<   Oct26   0:00 [writeback]\n",
      "root        18  0.0  0.0      0     0 ?        S    Oct26   0:00 [kcompactd0]\n",
      "root        19  0.0  0.0      0     0 ?        SN   Oct26   0:00 [ksmd]\n",
      "root        20  0.0  0.0      0     0 ?        SN   Oct26   0:12 [khugepaged]\n",
      "root        21  0.0  0.0      0     0 ?        S<   Oct26   0:00 [crypto]\n",
      "root        22  0.0  0.0      0     0 ?        S<   Oct26   0:00 [kintegrityd]\n",
      "root        23  0.0  0.0      0     0 ?        S<   Oct26   0:00 [bioset]\n",
      "root        24  0.0  0.0      0     0 ?        S<   Oct26   0:00 [kblockd]\n",
      "root        25  0.0  0.0      0     0 ?        S<   Oct26   0:00 [ata_sff]\n",
      "root        26  0.0  0.0      0     0 ?        S<   Oct26   0:00 [md]\n",
      "root        27  0.0  0.0      0     0 ?        S<   Oct26   0:00 [devfreq_wq]\n",
      "root        28  0.0  0.0      0     0 ?        S<   Oct26   0:00 [watchdogd]\n",
      "root        32  0.0  0.0      0     0 ?        S    Oct26   0:00 [kswapd0]\n",
      "root        33  0.0  0.0      0     0 ?        S<   Oct26   0:00 [vmstat]\n",
      "root        34  0.0  0.0      0     0 ?        S    Oct26   0:00 [ecryptfs-kthrea]\n",
      "root        73  0.0  0.0      0     0 ?        S<   Oct26   0:00 [kthrotld]\n",
      "root        74  0.0  0.0      0     0 ?        S<   Oct26   0:00 [acpi_thermal_pm]\n",
      "root        75  0.0  0.0      0     0 ?        S<   Oct26   0:00 [bioset]\n",
      "root        76  0.0  0.0      0     0 ?        S<   Oct26   0:00 [bioset]\n",
      "root        77  0.0  0.0      0     0 ?        S<   Oct26   0:00 [bioset]\n",
      "root        78  0.0  0.0      0     0 ?        S<   Oct26   0:00 [bioset]\n",
      "root        79  0.0  0.0      0     0 ?        S<   Oct26   0:00 [bioset]\n",
      "root        80  0.0  0.0      0     0 ?        S<   Oct26   0:00 [bioset]\n",
      "root        81  0.0  0.0      0     0 ?        S<   Oct26   0:00 [bioset]\n",
      "root        82  0.0  0.0      0     0 ?        S<   Oct26   0:00 [bioset]\n",
      "root        83  0.0  0.0      0     0 ?        S    Oct26   0:00 [scsi_eh_0]\n",
      "root        84  0.0  0.0      0     0 ?        S<   Oct26   0:00 [scsi_tmf_0]\n",
      "root        85  0.0  0.0      0     0 ?        S    Oct26   0:00 [scsi_eh_1]\n",
      "root        86  0.0  0.0      0     0 ?        S<   Oct26   0:00 [scsi_tmf_1]\n",
      "root        92  0.0  0.0      0     0 ?        S<   Oct26   0:00 [ipv6_addrconf]\n",
      "root       113  0.0  0.0      0     0 ?        S<   Oct26   0:00 [deferwq]\n",
      "root       114  0.0  0.0      0     0 ?        S<   Oct26   0:00 [charger_manager]\n",
      "root       115  0.0  0.0      0     0 ?        S<   Oct26   0:00 [bioset]\n",
      "root       154  0.0  0.0      0     0 ?        S<   Oct26   0:00 [kpsmoused]\n",
      "root       155  0.0  0.0      0     0 ?        S    Oct26   0:00 [scsi_eh_2]\n",
      "root       157  0.0  0.0      0     0 ?        S<   Oct26   0:00 [scsi_tmf_2]\n",
      "root       164  0.0  0.0      0     0 ?        S<   Oct26   0:00 [bioset]\n",
      "root       185  0.0  0.0      0     0 ?        S<   Oct26   0:01 [kworker/0:1H]\n",
      "root       187  0.0  0.0      0     0 ?        S    Oct26   0:03 [jbd2/sda1-8]\n",
      "root       188  0.0  0.0      0     0 ?        S<   Oct26   0:00 [ext4-rsv-conver]\n",
      "root       224  0.0  0.2  62880 10540 ?        Ss   Oct26   0:01 /lib/systemd/systemd-journald\n",
      "root       228  0.0  0.0      0     0 ?        S    Oct26   0:00 [kauditd]\n",
      "root       248  0.0  0.1  45776  4320 ?        Ss   Oct26   0:02 /lib/systemd/systemd-udevd\n",
      "root       332  0.0  0.0      0     0 ?        S<   Oct26   0:00 [iprt-VBoxWQueue]\n",
      "root       381  0.0  0.0      0     0 ?        S<   Oct26   0:00 [ttm_swap]\n",
      "root       502  0.0  0.0      0     0 ?        S    12:04   0:00 [kworker/0:1]\n",
      "root       539  0.0  0.0      0     0 ?        S    12:04   0:00 [kworker/u2:1]\n",
      "message+   593  0.0  0.1  44616  5448 ?        Ss   Oct26   0:20 /usr/bin/dbus-daemon --system --address=systemd: --nofork --nopidfile --systemd-activation\n",
      "root       617  0.0  0.2 293980 10516 ?        Ssl  Oct26   0:01 /usr/lib/accountsservice/accounts-daemon\n",
      "root       624  0.0  0.0  30088  1584 ?        Ss   Oct26   0:00 /sbin/cgmanager -m name=systemd\n",
      "root       627  0.0  0.1  44412  4776 ?        Ss   Oct26   0:00 /lib/systemd/systemd-logind\n",
      "root       635  0.0  0.2 346820 11080 ?        Ssl  Oct26   0:00 /usr/sbin/ModemManager\n",
      "syslog     636  0.0  0.0 256404  3464 ?        Ssl  Oct26   0:00 /usr/sbin/rsyslogd -n\n",
      "root       637  0.0  0.4 400872 17664 ?        Ssl  Oct26   0:00 /usr/sbin/NetworkManager --no-daemon\n",
      "avahi      638  0.0  0.0  45136  3208 ?        Ss   Oct26   0:00 avahi-daemon: running [khyaathipython.local]\n",
      "whoopsie   642  0.0  0.3 529412 13056 ?        Ssl  Oct26   0:00 /usr/bin/whoopsie -f\n",
      "root       646  0.0  0.0   4384  1372 ?        Ss   Oct26   0:01 /usr/sbin/acpid\n",
      "root       650  0.0  0.0  31100  3104 ?        Ss   Oct26   0:00 /usr/sbin/cron -f\n",
      "root       656  0.0  0.4 207780 19656 ?        Ssl  Oct26   0:00 /usr/lib/snapd/snapd\n",
      "avahi      680  0.0  0.0  45008   352 ?        S    Oct26   0:00 avahi-daemon: chroot helper\n",
      "root       701  0.0  0.2 304640 11256 ?        Ssl  Oct26   0:02 /usr/lib/policykit-1/polkitd --no-debug\n",
      "root       828  0.0  0.0 248720  2088 ?        Sl   Oct26   0:21 /usr/sbin/VBoxService\n",
      "systemd+   851  0.0  0.1  47552  4124 ?        Ss   Oct26   0:03 /lib/systemd/systemd-resolved\n",
      "root       854  0.0  0.1  67820  6148 ?        Ss   Oct26   0:00 /usr/sbin/sshd -D\n",
      "root       879  0.0  0.2 377104  8692 ?        SLsl Oct26   0:00 /usr/sbin/lightdm\n",
      "root       920  1.5  4.2 500200 169960 tty7    Ss+  Oct26  32:35 /usr/lib/xorg/Xorg -core :0 -seat seat0 -auth /var/run/lightdm/root/:0 -nolisten tcp vt7 -novtswitch\n",
      "root       926  0.0  0.0  16060  1752 tty1     Ss+  Oct26   0:00 /sbin/agetty --noclear tty1 linux\n",
      "postgres   933  0.0  0.6 296984 24444 ?        S    Oct26   0:03 /usr/lib/postgresql/9.5/bin/postgres -D /var/lib/postgresql/9.5/main -c config_file=/etc/postgresql/9.5/main/postgresql.conf\n",
      "nobody     946  0.0  0.1  53084  4200 ?        S    Oct26   0:02 /usr/sbin/dnsmasq --no-resolv --keep-in-foreground --no-hosts --bind-interfaces --pid-file=/var/run/NetworkManager/dnsmasq.pid --listen-address=127.0.1.1 --cache-size=0 --conf-file=/dev/null --proxy-dnssec --enable-dbus=org.freedesktop.NetworkManager.dnsmasq --conf-dir=/etc/NetworkManager/dnsmasq.d\n",
      "root      1016  0.0  0.1 105972  6972 ?        Ss   12:10   0:00 sshd: khyaathi-python [priv]\n",
      "khyaath+  1077  0.0  0.1 105972  4464 ?        S    12:10   0:00 sshd: khyaathi-python@notty\n",
      "root      1154  0.0  0.0      0     0 ?        S    12:11   0:00 [kworker/0:2]\n",
      "root      1214  0.0  0.0      0     0 ?        S    12:12   0:00 [kworker/u2:2]\n",
      "khyaath+  1215  0.0  0.0  37604  3356 ?        Rs   12:12   0:00 ps -aux\n",
      "snmp      1359  0.0  0.1  59624  7780 ?        S    Oct26   0:39 /usr/sbin/snmpd -Lsd -Lf /dev/null -u snmp -g snmp -I -smux mteTrigger mteTriggerConf -p /run/snmpd.pid\n",
      "root      1361  0.0  0.3 702120 14304 ?        Sl   Oct26   1:16 /opt/teamviewer/tv_bin/teamviewerd -d\n",
      "root      1387  0.0  0.1  71576  4924 ?        Ss   Oct26   0:03 /usr/sbin/apache2 -k start\n",
      "postgres  1517  0.0  0.1 297112  6844 ?        Ss   Oct26   0:00 postgres: 9.5/main: checkpointer process   \n",
      "postgres  1518  0.0  0.1 296984  5744 ?        Ss   Oct26   0:00 postgres: 9.5/main: writer process   \n",
      "postgres  1519  0.0  0.2 296984  8856 ?        Ss   Oct26   0:00 postgres: 9.5/main: wal writer process   \n",
      "postgres  1520  0.0  0.1 297360  6940 ?        Ss   Oct26   0:01 postgres: 9.5/main: autovacuum launcher process   \n",
      "postgres  1521  0.0  0.1 152224  4188 ?        Ss   Oct26   0:01 postgres: 9.5/main: stats collector process   \n",
      "root      1577  0.0  0.3 322156 12396 ?        Ssl  Oct26   0:00 /usr/lib/packagekit/packagekitd\n",
      "khyaath+  1690  0.0  1.2 758452 49536 ?        Sl   03:37   0:02 eog /home/khyaathi-python/pythonexamples/batch50/fun2_mem.jpg\n",
      "root      1691  0.0  0.2 354140  9952 ?        Ssl  Oct26   0:00 /usr/lib/upower/upowerd\n",
      "rtkit     1737  0.0  0.0 183760  2920 ?        SNsl Oct26   0:00 /usr/lib/rtkit/rtkit-daemon\n",
      "colord    1755  0.0  0.4 323920 16328 ?        Ssl  Oct26   0:00 /usr/lib/colord/colord\n",
      "root      1760  0.0  0.1 245696  6736 ?        Sl   Oct26   0:00 lightdm --session-child 12 19\n",
      "root      1774  0.0  0.1 260976  4844 ?        Sl   Oct26   0:00 /usr/lib/x86_64-linux-gnu/unity-greeter-session-broadcast/unity-greeter-session-broadcast-service\n",
      "khyaath+  1811  0.0  0.1  63060  6328 ?        Ss   Oct26   0:00 /lib/systemd/systemd --user\n",
      "khyaath+  1815  0.0  0.0 171184  2308 ?        S    Oct26   0:00 (sd-pam)\n",
      "khyaath+  2023  0.0  0.1  44400  5144 ?        Ss   Oct26   0:10 /usr/bin/dbus-daemon --session --address=systemd: --nofork --nopidfile --systemd-activation\n",
      "khyaath+  2053  0.0  0.1 283584  6512 ?        Ssl  Oct26   0:00 /usr/lib/gvfs/gvfsd\n",
      "khyaath+  2058  0.0  0.1 428864  6876 ?        Sl   Oct26   0:00 /usr/lib/gvfs/gvfsd-fuse /run/user/1000/gvfs -f -o big_writes\n",
      "khyaath+  2071  0.0  0.1 187676  5048 ?        Sl   Oct26   0:00 /usr/lib/dconf/dconf-service\n",
      "khyaath+  2101  0.0  0.2 288088  8432 ?        Sl   Oct26   0:00 /usr/bin/gnome-keyring-daemon --daemonize --login\n",
      "khyaath+  2104  0.0  0.1  46968  5124 ?        Ss   Oct26   0:17 /sbin/upstart --user\n",
      "khyaath+  2146  0.0  0.1  82260  5424 ?        S    Oct26   0:45 /usr/bin/xbrlapi -q\n",
      "khyaath+  2191  0.0  0.0  49720   924 ?        S    Oct26   0:05 /usr/bin/VBoxClient --checkhostversion\n",
      "khyaath+  2193  0.0  0.0  49720   892 ?        S    Oct26   0:05 /usr/bin/VBoxClient --clipboard\n",
      "khyaath+  2198  0.0  0.0  49720   384 ?        S    Oct26   0:00 /usr/bin/VBoxClient --display\n",
      "khyaath+  2199  0.0  0.0  49856  3404 ?        S    Oct26   0:00 /usr/bin/VBoxClient --display\n",
      "khyaath+  2203  0.0  0.0  49720   892 ?        S    Oct26   0:05 /usr/bin/VBoxClient --seamless\n",
      "khyaath+  2208  0.0  0.0  49720   860 ?        S    Oct26   0:05 /usr/bin/VBoxClient --draganddrop\n",
      "khyaath+  2228  0.0  0.7 493344 31336 ?        Sl   Oct26   0:03 /usr/lib/x86_64-linux-gnu/notify-osd\n",
      "khyaath+  2240  0.0  0.1 362656  7576 ?        Ssl  Oct26   0:00 /usr/lib/at-spi2-core/at-spi-bus-launcher\n",
      "khyaath+  2252  0.0  0.0  33084   284 ?        S    Oct26   0:03 upstart-udev-bridge --daemon --user\n",
      "khyaath+  2263  0.0  0.0   7280   648 ?        Ss   Oct26   0:00 sleep infinity\n",
      "khyaath+  2268  0.0  0.0  43256  3816 ?        S    Oct26   0:01 /usr/bin/dbus-daemon --config-file=/usr/share/defaults/at-spi2/accessibility.conf --nofork --print-address 3\n",
      "khyaath+  2272  0.0  0.1 213960  5132 ?        Sl   Oct26   0:04 /usr/lib/at-spi2-core/at-spi2-registryd --use-gnome-session\n",
      "khyaath+  2276  0.0  0.0   4492   748 ?        Ss   Oct26   0:00 /bin/sh -e /proc/self/fd/9\n",
      "khyaath+  2280  0.0  0.2 160344  9764 ?        Ssl  Oct26   0:00 /usr/lib/x86_64-linux-gnu/hud/window-stack-bridge\n",
      "khyaath+  2288  0.0  0.4 518704 17064 ?        Sl   Oct26   0:00 /usr/lib/x86_64-linux-gnu/url-dispatcher/url-dispatcher\n",
      "khyaath+  2296  0.0  0.6 453020 27676 ?        Ssl  Oct26   0:11 /usr/lib/x86_64-linux-gnu/bamf/bamfdaemon\n",
      "khyaath+  2309  0.0  0.0  33152  2004 ?        S    Oct26   0:06 upstart-dbus-bridge --daemon --session --user --bus-name session\n",
      "khyaath+  2315  0.0  0.0  33248  1996 ?        S    Oct26   0:03 upstart-dbus-bridge --daemon --system --user --bus-name system\n",
      "khyaath+  2327  0.0  0.0  41768  1828 ?        S    Oct26   0:02 upstart-file-bridge --daemon --user\n",
      "khyaath+  2407  0.0  0.7 864864 29804 ?        Ssl  Oct26   0:13 /usr/lib/unity-settings-daemon/unity-settings-daemon\n",
      "khyaath+  2422  0.0  0.4 375192 19252 ?        Rsl  Oct26   1:03 /usr/bin/ibus-daemon --daemonize --xim --address unix:tmpdir=/tmp/ibus\n",
      "khyaath+  2428  0.0  0.3 574228 14504 ?        Ssl  Oct26   0:00 /usr/lib/gnome-session/gnome-session-binary --session=ubuntu\n",
      "khyaath+  2460  0.0  0.1 286400  7780 ?        Sl   Oct26   0:00 /usr/lib/ibus/ibus-dconf\n",
      "khyaath+  2462  0.0  0.7 481104 31800 ?        Sl   Oct26   0:19 /usr/lib/ibus/ibus-ui-gtk3\n",
      "khyaath+  2468  0.0  0.5 356644 21288 ?        Sl   Oct26   0:02 /usr/lib/ibus/ibus-x11 --kill-daemon\n",
      "khyaath+  2557 14.5 11.8 1437504 481252 ?      Ssl  Oct26 306:38 /usr/bin/compiz\n",
      "khyaath+  2572  0.0  1.2 660828 49104 ?        Ssl  Oct26   0:14 /usr/lib/x86_64-linux-gnu/unity/unity-panel-service\n",
      "khyaath+  2587  0.0  0.1 210528  7960 ?        Sl   Oct26   0:10 /usr/lib/ibus/ibus-engine-simple\n",
      "khyaath+  2606  0.0  0.2 631828 11336 ?        S<l  Oct26   0:00 /usr/bin/pulseaudio --start --log-target=syslog\n",
      "khyaath+  2613  0.0  0.9 668168 40156 ?        Ssl  Oct26   0:10 /usr/lib/x86_64-linux-gnu/hud/hud-service\n",
      "khyaath+  2636  0.0  0.0   7280   656 ?        Ss   Oct26   0:00 sleep infinity\n",
      "khyaath+  2639  0.0  0.7 674320 31544 ?        Sl   Oct26   0:02 nm-applet\n",
      "khyaath+  2641  0.0  0.2 377136  9492 ?        Ssl  Oct26   0:00 /usr/lib/x86_64-linux-gnu/indicator-messages/indicator-messages-service\n",
      "khyaath+  2645  0.0  0.1 357992  7652 ?        Ssl  Oct26   0:00 /usr/lib/x86_64-linux-gnu/indicator-bluetooth/indicator-bluetooth-service\n",
      "khyaath+  2651  0.0  0.2 362368 10416 ?        Ssl  Oct26   0:00 /usr/lib/x86_64-linux-gnu/indicator-power/indicator-power-service\n",
      "khyaath+  2654  0.0  0.8 923580 34848 ?        Ssl  Oct26   0:01 /usr/lib/x86_64-linux-gnu/indicator-datetime/indicator-datetime-service\n",
      "khyaath+  2655  0.0  0.6 665920 27180 ?        Ssl  Oct26   0:02 /usr/lib/x86_64-linux-gnu/indicator-keyboard/indicator-keyboard-service --use-gtk\n",
      "khyaath+  2657  0.0  0.5 436440 21060 ?        Sl   Oct26   0:02 /usr/lib/policykit-1-gnome/polkit-gnome-authentication-agent-1\n",
      "khyaath+  2658  0.0  0.3 756592 12556 ?        Ssl  Oct26   0:00 /usr/lib/x86_64-linux-gnu/indicator-sound/indicator-sound-service\n",
      "khyaath+  2661  0.0  0.6 554504 27444 ?        Ssl  Oct26   0:02 /usr/lib/x86_64-linux-gnu/indicator-printers/indicator-printers-service\n",
      "khyaath+  2668  0.0  0.5 581784 21772 ?        Sl   Oct26   0:02 /usr/lib/unity-settings-daemon/unity-fallback-mount-helper\n",
      "khyaath+  2670  0.0  0.2 645292  8728 ?        Ssl  Oct26   0:00 /usr/lib/x86_64-linux-gnu/indicator-session/indicator-session-service\n",
      "khyaath+  2684  0.0  0.3 407460 13428 ?        Ssl  Oct26   0:00 /usr/lib/x86_64-linux-gnu/indicator-application/indicator-application-service\n",
      "khyaath+  2707  0.0  0.6 730640 25084 ?        Ssl  Oct26   0:00 /usr/lib/evolution/evolution-source-registry\n",
      "khyaath+  2721  0.0  2.2 989576 90156 ?        Sl   Oct26   0:06 /usr/bin/gnome-software --gapplication-service\n",
      "khyaath+  2724  0.0  1.6 996552 67236 ?        Sl   Oct26   1:08 nautilus -n\n",
      "khyaath+  2752  0.0  0.7 852312 31708 ?        Ssl  Oct26   0:00 /usr/lib/evolution/evolution-calendar-factory\n",
      "khyaath+  2755  0.0  0.2 303424  9952 ?        Ssl  Oct26   0:00 /usr/lib/gvfs/gvfs-udisks2-volume-monitor\n",
      "root      2761  0.0  0.2 389312 10436 ?        Ssl  Oct26   0:00 /usr/lib/udisks2/udisksd --no-debug\n",
      "khyaath+  2771  0.0  0.1 278532  5516 ?        Ssl  Oct26   0:00 /usr/lib/gvfs/gvfs-gphoto2-volume-monitor\n",
      "khyaath+  2779  0.0  0.1 266420  5292 ?        Ssl  Oct26   0:00 /usr/lib/gvfs/gvfs-goa-volume-monitor\n",
      "khyaath+  2783  0.0  0.2 412728  9540 ?        Ssl  Oct26   0:00 /usr/lib/gvfs/gvfs-afc-volume-monitor\n",
      "khyaath+  2788  0.0  0.1 266332  4852 ?        Ssl  Oct26   0:00 /usr/lib/gvfs/gvfs-mtp-volume-monitor\n",
      "khyaath+  2801  0.0  0.2 373240  9496 ?        Sl   Oct26   0:00 /usr/lib/gvfs/gvfsd-trash --spawner :1.6 /org/gtk/gvfs/exec_spaw/0\n",
      "khyaath+  2816  0.0  0.5 812104 22220 ?        Sl   Oct26   0:00 /usr/lib/evolution/evolution-calendar-factory-subprocess --factory contacts --bus-name org.gnome.evolution.dataserver.Subprocess.Backend.Calendarx2752x2 --own-path /org/gnome/evolution/dataserver/Subprocess/Backend/Calendar/2752/2\n",
      "khyaath+  2825  0.0  0.5 784728 23076 ?        Sl   Oct26   0:00 /usr/lib/evolution/evolution-calendar-factory-subprocess --factory local --bus-name org.gnome.evolution.dataserver.Subprocess.Backend.Calendarx2752x3 --own-path /org/gnome/evolution/dataserver/Subprocess/Backend/Calendar/2752/3\n",
      "khyaath+  2827  0.0  0.5 716532 20948 ?        Ssl  Oct26   0:00 /usr/lib/evolution/evolution-addressbook-factory\n",
      "khyaath+  2847  0.0  0.5 802396 20436 ?        Sl   Oct26   0:00 /usr/lib/evolution/evolution-addressbook-factory-subprocess --factory local --bus-name org.gnome.evolution.dataserver.Subprocess.Backend.AddressBookx2827x2 --own-path /org/gnome/evolution/dataserver/Subprocess/Backend/AddressBook/2827/2\n",
      "khyaath+  2879  0.0  0.1 193332  6168 ?        Ssl  Oct26   0:00 /usr/lib/gvfs/gvfsd-metadata\n",
      "khyaath+  2942  0.0  0.1  68160  5580 ?        S    Oct26   0:00 /usr/lib/x86_64-linux-gnu/gconf/gconfd-2\n",
      "khyaath+  2957  0.0  0.4 502944 17260 ?        Sl   Oct26   0:04 zeitgeist-datahub\n",
      "khyaath+  2965  0.0  0.0   4492   704 ?        S    Oct26   0:00 /bin/sh -c /usr/lib/x86_64-linux-gnu/zeitgeist/zeitgeist-maybe-vacuum; /usr/bin/zeitgeist-daemon\n",
      "khyaath+  2975  0.0  0.2 368104 10840 ?        Sl   Oct26   0:00 /usr/bin/zeitgeist-daemon\n",
      "khyaath+  2983  0.0  0.7 341216 29484 ?        Sl   Oct26   0:01 /usr/lib/x86_64-linux-gnu/zeitgeist-fts\n",
      "khyaath+  3141  0.0  0.6 610288 27728 ?        Sl   Oct26   0:04 update-notifier\n",
      "khyaath+  3511  0.0  0.2 450432  9072 ?        Sl   Oct26   0:00 /usr/lib/x86_64-linux-gnu/deja-dup/deja-dup-monitor\n",
      "khyaath+  4034  0.0  0.4 668692 20188 ?        Sl   Oct26   0:00 /usr/lib/x86_64-linux-gnu/unity-scope-home/unity-scope-home\n",
      "khyaath+  4046  0.0  0.5 584224 24108 ?        Sl   Oct26   0:02 /usr/bin/unity-scope-loader applications/applications.scope applications/scopes.scope commands.scope\n",
      "khyaath+  4047  0.0  0.3 714144 16000 ?        Sl   Oct26   0:00 /usr/lib/x86_64-linux-gnu/unity-lens-files/unity-files-daemon\n",
      "khyaath+  4214  0.0  0.2 422872  9816 ?        Sl   Oct26   0:00 /usr/lib/gvfs/gvfsd-http --spawner :1.6 /org/gtk/gvfs/exec_spaw/1\n",
      "khyaath+  4300  0.0  1.1 635456 47484 ?        Ssl  Oct26   0:06 /home/khyaathi-python/anaconda2/bin/python -m ipykernel_launcher -f /run/user/1000/jupyter/kernel-ce807a4f-e23f-4403-bef4-45b026fa08b9.json\n",
      "khyaath+  4859  0.0  0.3 347524 15200 ?        Sl   Oct26   0:01 /usr/lib/x86_64-linux-gnu/unity-lens-music/unity-music-daemon\n",
      "khyaath+ 11453  0.0  1.1 686280 46080 ?        Sl   06:05   0:02 /usr/bin/gedit --gapplication-service\n",
      "www-data 12740  0.0  0.1 557456  6776 ?        Sl   06:21   0:03 /usr/sbin/apache2 -k start\n",
      "www-data 12741  0.0  0.1 622992  6980 ?        Sl   06:21   0:03 /usr/sbin/apache2 -k start\n",
      "root     12813  0.0  0.1  95768  7780 ?        Ss   06:21   0:00 /usr/sbin/cupsd -l\n",
      "root     12818  0.0  0.2 282220 10208 ?        Ssl  06:21   0:00 /usr/sbin/cups-browsed\n",
      "khyaath+ 12936  0.0  1.4 917352 60052 ?        Ssl  06:22   0:02 /opt/sublime_text/sublime_text\n",
      "khyaath+ 12954  0.0  0.4 120292 18964 ?        Sl   06:22   0:00 /opt/sublime_text/plugin_host 12936\n",
      "khyaath+ 14951  5.3 12.2 2465036 496688 ?      Rl   06:56  16:54 /usr/lib/firefox/firefox http://localhost:8889/tree?token=f4631c3791a84cad82a923e76a37a7434a271b91a13f9345\n",
      "khyaath+ 17242  0.0  0.1 142388  5920 ?        Sl   07:37   0:00 /usr/lib/libreoffice/program/oosplash --writer file:///home/khyaathi-python/pythonexamples/batch51/Assignments.odt\n",
      "khyaath+ 17260  0.0  5.5 1338776 224764 ?      Sl   07:37   0:08 /usr/lib/libreoffice/program/soffice.bin --writer file:///home/khyaathi-python/pythonexamples/batch51/Assignments.odt --splash-pipe=5\n",
      "khyaath+ 18536  0.0  0.2 373180 10556 ?        Sl   Oct26   0:00 /usr/lib/gvfs/gvfsd-network --spawner :1.6 /org/gtk/gvfs/exec_spaw/3\n",
      "khyaath+ 18566  0.0  0.1 376920  6944 ?        Sl   Oct26   0:00 /usr/lib/gvfs/gvfsd-dnssd --spawner :1.6 /org/gtk/gvfs/exec_spaw/6\n",
      "root     21652  0.0  0.0  16108  3712 ?        S    08:55   0:00 /sbin/dhclient -d -q -sf /usr/lib/NetworkManager/nm-dhcp-helper -pf /var/run/dhclient-enp0s3.pid -lf /var/lib/NetworkManager/dhclient-95f3ca14-4e16-3f87-8f42-7af863a75f0d-enp0s3.lease -cf /var/lib/NetworkManager/dhclient-enp0s3.conf enp0s3\n",
      "khyaath+ 28852  0.0  0.9 677896 40224 ?        Ssl  10:53   0:01 /usr/lib/gnome-terminal/gnome-terminal-server\n",
      "khyaath+ 28861  0.0  0.1  22684  5472 pts/6    Ss   10:53   0:00 bash\n",
      "khyaath+ 28881  0.1  1.5 360040 64180 pts/6    Sl+  10:53   0:06 /home/khyaathi-python/anaconda2/bin/python /home/khyaathi-python/anaconda2/bin/ipython notebook\n",
      "khyaath+ 28917  0.0  1.6 821868 66040 ?        Ssl  10:53   0:03 /home/khyaathi-python/anaconda2/bin/python -m ipykernel_launcher -f /run/user/1000/jupyter/kernel-2c312877-f37f-4444-bcab-b846a3497c4a.json\n",
      "root     29558  0.0  0.0      0     0 ?        S    11:05   0:00 [kworker/0:0]\n",
      "khyaath+ 30762  0.6  4.3 1029212 176504 ?      Sl   11:26   0:18 /usr/bin/mono /usr/lib/pinta/Pinta.exe\n",
      "root     31781  0.0  0.0      0     0 ?        S    11:44   0:00 [kworker/u2:0]\n",
      "khyaath+ 32729  0.0  0.1  22680  5472 pts/7    Ss+  12:02   0:00 bash\n",
      "\n"
     ]
    }
   ],
   "source": [
    "print outp.read()"
   ]
  },
  {
   "cell_type": "code",
   "execution_count": 33,
   "metadata": {
    "collapsed": true
   },
   "outputs": [],
   "source": [
    "inp,outp,erp = ssh.exec_command(\"echo %s| sudo -S ls /proc\"%password)"
   ]
  },
  {
   "cell_type": "code",
   "execution_count": 34,
   "metadata": {},
   "outputs": [
    {
     "data": {
      "text/plain": [
       "'1\\n10\\n1016\\n1077\\n11\\n113\\n114\\n11453\\n115\\n1154\\n12\\n1214\\n1268\\n12740\\n12741\\n12813\\n12818\\n12936\\n12954\\n13\\n1303\\n1305\\n1308\\n1309\\n1359\\n1361\\n1387\\n14\\n14951\\n15\\n1517\\n1518\\n1519\\n1520\\n1521\\n154\\n155\\n157\\n1577\\n16\\n164\\n1690\\n1691\\n17\\n17242\\n17260\\n1737\\n1755\\n1760\\n1774\\n18\\n1811\\n1815\\n185\\n18536\\n18566\\n187\\n188\\n19\\n2\\n20\\n2023\\n2053\\n2058\\n2071\\n21\\n2101\\n2104\\n2146\\n21652\\n2191\\n2193\\n2198\\n2199\\n22\\n2203\\n2208\\n2228\\n224\\n2240\\n2252\\n2263\\n2268\\n2272\\n2276\\n228\\n2280\\n2288\\n2296\\n23\\n2309\\n2315\\n2327\\n24\\n2407\\n2422\\n2428\\n2460\\n2462\\n2468\\n248\\n25\\n2557\\n2572\\n2587\\n26\\n2606\\n2613\\n2636\\n2639\\n2641\\n2645\\n2651\\n2654\\n2655\\n2657\\n2658\\n2661\\n2668\\n2670\\n2684\\n27\\n2707\\n2721\\n2724\\n2752\\n2755\\n2761\\n2771\\n2779\\n2783\\n2788\\n28\\n2801\\n2816\\n2825\\n2827\\n2847\\n2879\\n28852\\n28861\\n28881\\n28917\\n2942\\n29558\\n2957\\n2965\\n2975\\n2983\\n3\\n30762\\n3141\\n31781\\n32\\n32729\\n33\\n332\\n34\\n3511\\n381\\n4034\\n4046\\n4047\\n4214\\n4300\\n4859\\n5\\n502\\n539\\n593\\n617\\n624\\n627\\n635\\n636\\n637\\n638\\n642\\n646\\n650\\n656\\n680\\n7\\n701\\n73\\n74\\n75\\n76\\n77\\n78\\n79\\n8\\n80\\n81\\n82\\n828\\n83\\n84\\n85\\n851\\n854\\n86\\n879\\n9\\n92\\n920\\n926\\n933\\n946\\nacpi\\nasound\\nbuddyinfo\\nbus\\ncgroups\\ncmdline\\nconsoles\\ncpuinfo\\ncrypto\\ndevices\\ndiskstats\\ndma\\ndriver\\nexecdomains\\nfb\\nfilesystems\\nfs\\ninterrupts\\niomem\\nioports\\nirq\\nkallsyms\\nkcore\\nkeys\\nkey-users\\nkmsg\\nkpagecgroup\\nkpagecount\\nkpageflags\\nloadavg\\nlocks\\nmdstat\\nmeminfo\\nmisc\\nmodules\\nmounts\\nmtrr\\nnet\\npagetypeinfo\\npartitions\\nsched_debug\\nschedstat\\nscsi\\nself\\nslabinfo\\nsoftirqs\\nstat\\nswaps\\nsys\\nsysrq-trigger\\nsysvipc\\nthread-self\\ntimer_list\\ntimer_stats\\ntty\\nuptime\\nversion\\nversion_signature\\nvmallocinfo\\nvmstat\\nzoneinfo\\n'"
      ]
     },
     "execution_count": 34,
     "metadata": {},
     "output_type": "execute_result"
    }
   ],
   "source": [
    "outp.read()"
   ]
  },
  {
   "cell_type": "code",
   "execution_count": 35,
   "metadata": {
    "collapsed": true
   },
   "outputs": [],
   "source": [
    "inp,outp,erp = ssh.exec_command(\"mkdir local\")"
   ]
  },
  {
   "cell_type": "code",
   "execution_count": 36,
   "metadata": {
    "collapsed": true
   },
   "outputs": [],
   "source": [
    "inp,outp,erp = ssh.exec_command(\"mkdir remote\")"
   ]
  },
  {
   "cell_type": "code",
   "execution_count": 37,
   "metadata": {
    "collapsed": true
   },
   "outputs": [],
   "source": [
    "sftp = ssh.open_sftp()"
   ]
  },
  {
   "cell_type": "code",
   "execution_count": 38,
   "metadata": {},
   "outputs": [
    {
     "data": {
      "text/plain": [
       "<SFTPAttributes: [ size=282 uid=1000 gid=1000 mode=0100664 atime=1540622899 mtime=1540622899 ]>"
      ]
     },
     "execution_count": 38,
     "metadata": {},
     "output_type": "execute_result"
    }
   ],
   "source": [
    "sftp.put(\"/home/khyaathi-python/local/a.html\",\"/home/khyaathi-python/remote/a1.html\")"
   ]
  },
  {
   "cell_type": "code",
   "execution_count": 39,
   "metadata": {
    "collapsed": true
   },
   "outputs": [],
   "source": [
    "sftp.get(\"/home/khyaathi-python/remote/a1.html\",\"/home/khyaathi-python/local/a2.html\")"
   ]
  },
  {
   "cell_type": "code",
   "execution_count": null,
   "metadata": {
    "collapsed": true
   },
   "outputs": [],
   "source": []
  }
 ],
 "metadata": {
  "kernelspec": {
   "display_name": "Python 2",
   "language": "python",
   "name": "python2"
  },
  "language_info": {
   "codemirror_mode": {
    "name": "ipython",
    "version": 2
   },
   "file_extension": ".py",
   "mimetype": "text/x-python",
   "name": "python",
   "nbconvert_exporter": "python",
   "pygments_lexer": "ipython2",
   "version": "2.7.14"
  }
 },
 "nbformat": 4,
 "nbformat_minor": 2
}
