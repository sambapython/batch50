{
 "cells": [
  {
   "cell_type": "code",
   "execution_count": 1,
   "metadata": {},
   "outputs": [
    {
     "name": "stdout",
     "output_type": "stream",
     "text": [
      "b is big\n"
     ]
    }
   ],
   "source": [
    "a=10\n",
    "b=20\n",
    "print \"b is big\""
   ]
  },
  {
   "cell_type": "code",
   "execution_count": 2,
   "metadata": {},
   "outputs": [
    {
     "name": "stdout",
     "output_type": "stream",
     "text": [
      "enter a value:12\n",
      "enter b value:23\n",
      "b is big\n"
     ]
    }
   ],
   "source": [
    "a=raw_input(\"enter a value:\")\n",
    "b=raw_input(\"enter b value:\")\n",
    "print \"b is big\""
   ]
  },
  {
   "cell_type": "code",
   "execution_count": 3,
   "metadata": {},
   "outputs": [
    {
     "name": "stdout",
     "output_type": "stream",
     "text": [
      "enter a value:12\n",
      "enter b value:6\n",
      "b is big\n"
     ]
    }
   ],
   "source": [
    "a=raw_input(\"enter a value:\")\n",
    "b=raw_input(\"enter b value:\")\n",
    "print \"b is big\""
   ]
  },
  {
   "cell_type": "code",
   "execution_count": 4,
   "metadata": {},
   "outputs": [
    {
     "name": "stdout",
     "output_type": "stream",
     "text": [
      "enter a value:12\n",
      "enter b value:6\n",
      "a is big\n",
      "b is big\n"
     ]
    }
   ],
   "source": [
    "a=raw_input(\"enter a value:\")\n",
    "b=raw_input(\"enter b value:\")\n",
    "print \"a is big\"\n",
    "print \"b is big\""
   ]
  },
  {
   "cell_type": "code",
   "execution_count": null,
   "metadata": {
    "collapsed": true
   },
   "outputs": [],
   "source": [
    "print \"program started\"\n",
    "if True:\n",
    "    print \"you are in hyd\"\n",
    "else:\n",
    "    print \"you are in maithrivanam\"\n",
    "print \"other statements in program\"\n",
    "print \"program ended\""
   ]
  },
  {
   "cell_type": "code",
   "execution_count": 5,
   "metadata": {},
   "outputs": [
    {
     "ename": "NameError",
     "evalue": "name 'python' is not defined",
     "output_type": "error",
     "traceback": [
      "\u001b[0;31m---------------------------------------------------------------------------\u001b[0m",
      "\u001b[0;31mNameError\u001b[0m                                 Traceback (most recent call last)",
      "\u001b[0;32m<ipython-input-5-f3678258c956>\u001b[0m in \u001b[0;36m<module>\u001b[0;34m()\u001b[0m\n\u001b[0;32m----> 1\u001b[0;31m \u001b[0ma\u001b[0m\u001b[0;34m=\u001b[0m\u001b[0mpython\u001b[0m\u001b[0;34m\u001b[0m\u001b[0m\n\u001b[0m\u001b[1;32m      2\u001b[0m \u001b[0;32mprint\u001b[0m \u001b[0ma\u001b[0m\u001b[0;34m\u001b[0m\u001b[0m\n",
      "\u001b[0;31mNameError\u001b[0m: name 'python' is not defined"
     ]
    }
   ],
   "source": [
    "a=python\n",
    "print a"
   ]
  },
  {
   "cell_type": "code",
   "execution_count": 6,
   "metadata": {},
   "outputs": [
    {
     "ename": "NameError",
     "evalue": "name 'true' is not defined",
     "output_type": "error",
     "traceback": [
      "\u001b[0;31m---------------------------------------------------------------------------\u001b[0m",
      "\u001b[0;31mNameError\u001b[0m                                 Traceback (most recent call last)",
      "\u001b[0;32m<ipython-input-6-0834b8a3a65c>\u001b[0m in \u001b[0;36m<module>\u001b[0;34m()\u001b[0m\n\u001b[0;32m----> 1\u001b[0;31m \u001b[0ma\u001b[0m\u001b[0;34m=\u001b[0m\u001b[0mtrue\u001b[0m\u001b[0;34m\u001b[0m\u001b[0m\n\u001b[0m",
      "\u001b[0;31mNameError\u001b[0m: name 'true' is not defined"
     ]
    }
   ],
   "source": [
    "a=true"
   ]
  },
  {
   "cell_type": "code",
   "execution_count": 7,
   "metadata": {
    "collapsed": true
   },
   "outputs": [],
   "source": [
    "a=True"
   ]
  },
  {
   "cell_type": "code",
   "execution_count": 8,
   "metadata": {
    "collapsed": true
   },
   "outputs": [],
   "source": [
    "b=False"
   ]
  },
  {
   "cell_type": "code",
   "execution_count": 9,
   "metadata": {},
   "outputs": [
    {
     "ename": "NameError",
     "evalue": "name 'false' is not defined",
     "output_type": "error",
     "traceback": [
      "\u001b[0;31m---------------------------------------------------------------------------\u001b[0m",
      "\u001b[0;31mNameError\u001b[0m                                 Traceback (most recent call last)",
      "\u001b[0;32m<ipython-input-9-70747a56336a>\u001b[0m in \u001b[0;36m<module>\u001b[0;34m()\u001b[0m\n\u001b[0;32m----> 1\u001b[0;31m \u001b[0mb\u001b[0m\u001b[0;34m=\u001b[0m\u001b[0mfalse\u001b[0m\u001b[0;34m\u001b[0m\u001b[0m\n\u001b[0m",
      "\u001b[0;31mNameError\u001b[0m: name 'false' is not defined"
     ]
    }
   ],
   "source": [
    "b=false"
   ]
  },
  {
   "cell_type": "code",
   "execution_count": 10,
   "metadata": {
    "collapsed": true
   },
   "outputs": [],
   "source": [
    "c=None"
   ]
  },
  {
   "cell_type": "code",
   "execution_count": 11,
   "metadata": {},
   "outputs": [
    {
     "ename": "NameError",
     "evalue": "name 'none' is not defined",
     "output_type": "error",
     "traceback": [
      "\u001b[0;31m---------------------------------------------------------------------------\u001b[0m",
      "\u001b[0;31mNameError\u001b[0m                                 Traceback (most recent call last)",
      "\u001b[0;32m<ipython-input-11-8dff59789a0d>\u001b[0m in \u001b[0;36m<module>\u001b[0;34m()\u001b[0m\n\u001b[0;32m----> 1\u001b[0;31m \u001b[0mc\u001b[0m\u001b[0;34m=\u001b[0m\u001b[0mnone\u001b[0m\u001b[0;34m\u001b[0m\u001b[0m\n\u001b[0m",
      "\u001b[0;31mNameError\u001b[0m: name 'none' is not defined"
     ]
    }
   ],
   "source": [
    "c=none"
   ]
  },
  {
   "cell_type": "code",
   "execution_count": 12,
   "metadata": {},
   "outputs": [
    {
     "name": "stdout",
     "output_type": "stream",
     "text": [
      "<type 'bool'>\n"
     ]
    }
   ],
   "source": [
    "b=False\n",
    "print type(b)"
   ]
  },
  {
   "cell_type": "code",
   "execution_count": 13,
   "metadata": {},
   "outputs": [
    {
     "name": "stdout",
     "output_type": "stream",
     "text": [
      "<type 'NoneType'>\n"
     ]
    }
   ],
   "source": [
    "a=None\n",
    "print type(a)"
   ]
  },
  {
   "cell_type": "code",
   "execution_count": 14,
   "metadata": {},
   "outputs": [
    {
     "name": "stdout",
     "output_type": "stream",
     "text": [
      "program started\n",
      "you are in hyd\n",
      "other statements in program\n",
      "program ended\n"
     ]
    }
   ],
   "source": [
    "print \"program started\"\n",
    "if True:\n",
    "    print \"you are in hyd\"\n",
    "else:\n",
    "    print \"you are in maithrivanam\"\n",
    "print \"other statements in program\"\n",
    "print \"program ended\""
   ]
  },
  {
   "cell_type": "code",
   "execution_count": 15,
   "metadata": {},
   "outputs": [
    {
     "name": "stdout",
     "output_type": "stream",
     "text": [
      "program started\n",
      "you are in maithrivanam\n",
      "other statements in program\n",
      "program ended\n"
     ]
    }
   ],
   "source": [
    "print \"program started\"\n",
    "if False:\n",
    "    print \"you are in hyd\"\n",
    "else:\n",
    "    print \"you are in maithrivanam\"\n",
    "print \"other statements in program\"\n",
    "print \"program ended\""
   ]
  },
  {
   "cell_type": "code",
   "execution_count": 16,
   "metadata": {},
   "outputs": [
    {
     "name": "stdout",
     "output_type": "stream",
     "text": [
      "False\n"
     ]
    }
   ],
   "source": [
    "# boolean expression\n",
    "a=10\n",
    "b=20\n",
    "print a>b"
   ]
  },
  {
   "cell_type": "code",
   "execution_count": 17,
   "metadata": {},
   "outputs": [
    {
     "name": "stdout",
     "output_type": "stream",
     "text": [
      "True\n"
     ]
    }
   ],
   "source": [
    "# boolean expression\n",
    "a=\"7\"\n",
    "b=\"60000\"\n",
    "print a>b"
   ]
  },
  {
   "cell_type": "code",
   "execution_count": 19,
   "metadata": {},
   "outputs": [
    {
     "data": {
      "text/plain": [
       "True"
      ]
     },
     "execution_count": 19,
     "metadata": {},
     "output_type": "execute_result"
    }
   ],
   "source": [
    "# \"bat\", \"cat\", \"apple\", \"ant\"\n",
    "# ant, apple, bat, cat\n",
    "# \"12\", \"3\", \"10000\", \"6\"\n",
    "#10000, 12,3,6\n",
    "\"3\">\"12\""
   ]
  },
  {
   "cell_type": "code",
   "execution_count": 20,
   "metadata": {},
   "outputs": [
    {
     "data": {
      "text/plain": [
       "False"
      ]
     },
     "execution_count": 20,
     "metadata": {},
     "output_type": "execute_result"
    }
   ],
   "source": [
    "bool(0)"
   ]
  },
  {
   "cell_type": "code",
   "execution_count": 21,
   "metadata": {},
   "outputs": [
    {
     "data": {
      "text/plain": [
       "True"
      ]
     },
     "execution_count": 21,
     "metadata": {},
     "output_type": "execute_result"
    }
   ],
   "source": [
    "bool(1)"
   ]
  },
  {
   "cell_type": "code",
   "execution_count": 22,
   "metadata": {},
   "outputs": [
    {
     "data": {
      "text/plain": [
       "True"
      ]
     },
     "execution_count": 22,
     "metadata": {},
     "output_type": "execute_result"
    }
   ],
   "source": [
    "bool(10)"
   ]
  },
  {
   "cell_type": "code",
   "execution_count": 23,
   "metadata": {},
   "outputs": [
    {
     "data": {
      "text/plain": [
       "True"
      ]
     },
     "execution_count": 23,
     "metadata": {},
     "output_type": "execute_result"
    }
   ],
   "source": [
    "bool(-10)"
   ]
  },
  {
   "cell_type": "code",
   "execution_count": 24,
   "metadata": {},
   "outputs": [
    {
     "data": {
      "text/plain": [
       "False"
      ]
     },
     "execution_count": 24,
     "metadata": {},
     "output_type": "execute_result"
    }
   ],
   "source": [
    "bool(0.0)"
   ]
  },
  {
   "cell_type": "code",
   "execution_count": 25,
   "metadata": {},
   "outputs": [
    {
     "data": {
      "text/plain": [
       "True"
      ]
     },
     "execution_count": 25,
     "metadata": {},
     "output_type": "execute_result"
    }
   ],
   "source": [
    "bool(0.1)"
   ]
  },
  {
   "cell_type": "code",
   "execution_count": 26,
   "metadata": {},
   "outputs": [
    {
     "data": {
      "text/plain": [
       "True"
      ]
     },
     "execution_count": 26,
     "metadata": {},
     "output_type": "execute_result"
    }
   ],
   "source": [
    "bool(0.01)"
   ]
  },
  {
   "cell_type": "code",
   "execution_count": 27,
   "metadata": {},
   "outputs": [
    {
     "data": {
      "text/plain": [
       "True"
      ]
     },
     "execution_count": 27,
     "metadata": {},
     "output_type": "execute_result"
    }
   ],
   "source": [
    "bool(0.00000000000000000000000000000000000000000000000001)"
   ]
  },
  {
   "cell_type": "code",
   "execution_count": 28,
   "metadata": {},
   "outputs": [
    {
     "data": {
      "text/plain": [
       "True"
      ]
     },
     "execution_count": 28,
     "metadata": {},
     "output_type": "execute_result"
    }
   ],
   "source": [
    "bool(\"python\")"
   ]
  },
  {
   "cell_type": "code",
   "execution_count": 29,
   "metadata": {},
   "outputs": [
    {
     "data": {
      "text/plain": [
       "True"
      ]
     },
     "execution_count": 29,
     "metadata": {},
     "output_type": "execute_result"
    }
   ],
   "source": [
    "bool(\"0\")"
   ]
  },
  {
   "cell_type": "code",
   "execution_count": 30,
   "metadata": {},
   "outputs": [
    {
     "data": {
      "text/plain": [
       "False"
      ]
     },
     "execution_count": 30,
     "metadata": {},
     "output_type": "execute_result"
    }
   ],
   "source": [
    "bool(\"\")"
   ]
  },
  {
   "cell_type": "code",
   "execution_count": 31,
   "metadata": {},
   "outputs": [
    {
     "data": {
      "text/plain": [
       "True"
      ]
     },
     "execution_count": 31,
     "metadata": {},
     "output_type": "execute_result"
    }
   ],
   "source": [
    "bool([1,2,3,4])"
   ]
  },
  {
   "cell_type": "code",
   "execution_count": 32,
   "metadata": {},
   "outputs": [
    {
     "data": {
      "text/plain": [
       "True"
      ]
     },
     "execution_count": 32,
     "metadata": {},
     "output_type": "execute_result"
    }
   ],
   "source": [
    "bool([0])"
   ]
  },
  {
   "cell_type": "code",
   "execution_count": 33,
   "metadata": {},
   "outputs": [
    {
     "data": {
      "text/plain": [
       "False"
      ]
     },
     "execution_count": 33,
     "metadata": {},
     "output_type": "execute_result"
    }
   ],
   "source": [
    "bool([])"
   ]
  },
  {
   "cell_type": "code",
   "execution_count": 34,
   "metadata": {},
   "outputs": [
    {
     "data": {
      "text/plain": [
       "False"
      ]
     },
     "execution_count": 34,
     "metadata": {},
     "output_type": "execute_result"
    }
   ],
   "source": [
    "bool({})"
   ]
  },
  {
   "cell_type": "code",
   "execution_count": 35,
   "metadata": {},
   "outputs": [
    {
     "data": {
      "text/plain": [
       "False"
      ]
     },
     "execution_count": 35,
     "metadata": {},
     "output_type": "execute_result"
    }
   ],
   "source": [
    "bool(())"
   ]
  },
  {
   "cell_type": "code",
   "execution_count": 36,
   "metadata": {},
   "outputs": [
    {
     "data": {
      "text/plain": [
       "False"
      ]
     },
     "execution_count": 36,
     "metadata": {},
     "output_type": "execute_result"
    }
   ],
   "source": [
    "bool((0))"
   ]
  },
  {
   "cell_type": "code",
   "execution_count": 37,
   "metadata": {},
   "outputs": [
    {
     "name": "stdout",
     "output_type": "stream",
     "text": [
      "<type 'tuple'>\n"
     ]
    }
   ],
   "source": [
    "a=(0,1,2,3,4)\n",
    "print type(a)"
   ]
  },
  {
   "cell_type": "code",
   "execution_count": 38,
   "metadata": {},
   "outputs": [
    {
     "name": "stdout",
     "output_type": "stream",
     "text": [
      "<type 'int'>\n"
     ]
    }
   ],
   "source": [
    "a=(10)\n",
    "print type(a)"
   ]
  },
  {
   "cell_type": "code",
   "execution_count": 39,
   "metadata": {},
   "outputs": [
    {
     "name": "stdout",
     "output_type": "stream",
     "text": [
      "<type 'tuple'>\n"
     ]
    }
   ],
   "source": [
    "a=(10,)\n",
    "print type(a)"
   ]
  },
  {
   "cell_type": "code",
   "execution_count": 40,
   "metadata": {},
   "outputs": [
    {
     "data": {
      "text/plain": [
       "True"
      ]
     },
     "execution_count": 40,
     "metadata": {},
     "output_type": "execute_result"
    }
   ],
   "source": [
    "bool((0,))"
   ]
  },
  {
   "cell_type": "code",
   "execution_count": 41,
   "metadata": {},
   "outputs": [
    {
     "name": "stdout",
     "output_type": "stream",
     "text": [
      "program started\n",
      "False\n",
      "you are in maithrivanam\n",
      "other statements in program\n",
      "program ended\n"
     ]
    }
   ],
   "source": [
    "print \"program started\"\n",
    "a=10\n",
    "b=20\n",
    "print a>b\n",
    "if a>b:\n",
    "    print \"you are in hyd\"\n",
    "else:\n",
    "    print \"you are in maithrivanam\"\n",
    "print \"other statements in program\"\n",
    "print \"program ended\""
   ]
  },
  {
   "cell_type": "code",
   "execution_count": 43,
   "metadata": {},
   "outputs": [
    {
     "name": "stdout",
     "output_type": "stream",
     "text": [
      "program started\n",
      "you are in hyd\n",
      "other statements in program\n",
      "program ended\n"
     ]
    }
   ],
   "source": [
    "print \"program started\"\n",
    "a=100\n",
    "b=20\n",
    "if a>b:\n",
    "    print \"you are in hyd\"\n",
    "else:\n",
    "    print \"you are in maithrivanam\"\n",
    "print \"other statements in program\"\n",
    "print \"program ended\""
   ]
  },
  {
   "cell_type": "code",
   "execution_count": 44,
   "metadata": {},
   "outputs": [
    {
     "name": "stdout",
     "output_type": "stream",
     "text": [
      "Enter a value:python\n"
     ]
    }
   ],
   "source": [
    "value=raw_input(\"Enter a value:\")"
   ]
  },
  {
   "cell_type": "code",
   "execution_count": 45,
   "metadata": {},
   "outputs": [
    {
     "name": "stdout",
     "output_type": "stream",
     "text": [
      "Enter a value:\n"
     ]
    }
   ],
   "source": [
    "value=raw_input(\"Enter a value:\")"
   ]
  },
  {
   "cell_type": "code",
   "execution_count": 46,
   "metadata": {},
   "outputs": [
    {
     "name": "stdout",
     "output_type": "stream",
     "text": [
      "enter a value:python\n",
      "6\n"
     ]
    }
   ],
   "source": [
    "value=raw_input(\"enter a value:\")\n",
    "print len(value)"
   ]
  },
  {
   "cell_type": "code",
   "execution_count": 47,
   "metadata": {},
   "outputs": [
    {
     "name": "stdout",
     "output_type": "stream",
     "text": [
      "enter a value:\n",
      "0\n"
     ]
    }
   ],
   "source": [
    "value=raw_input(\"enter a value:\")\n",
    "print len(value)"
   ]
  },
  {
   "cell_type": "code",
   "execution_count": 48,
   "metadata": {},
   "outputs": [
    {
     "name": "stdout",
     "output_type": "stream",
     "text": [
      "enter a value:sdfgds\n"
     ]
    },
    {
     "data": {
      "text/plain": [
       "False"
      ]
     },
     "execution_count": 48,
     "metadata": {},
     "output_type": "execute_result"
    }
   ],
   "source": [
    "value=raw_input(\"enter a value:\")\n",
    "0>0\n",
    "    "
   ]
  },
  {
   "cell_type": "code",
   "execution_count": 49,
   "metadata": {},
   "outputs": [
    {
     "name": "stdout",
     "output_type": "stream",
     "text": [
      "enter a value:python\n",
      "python\n",
      "thank you!!\n"
     ]
    }
   ],
   "source": [
    "value=raw_input(\"enter a value:\")\n",
    "if len(value)>0:\n",
    "    print value\n",
    "else:\n",
    "    print \"enter atleast one char\"\n",
    "print \"thank you!!\""
   ]
  },
  {
   "cell_type": "code",
   "execution_count": 50,
   "metadata": {},
   "outputs": [
    {
     "name": "stdout",
     "output_type": "stream",
     "text": [
      "enter a value:\n",
      "enter atleast one char\n",
      "thank you!!\n"
     ]
    }
   ],
   "source": [
    "value=raw_input(\"enter a value:\")\n",
    "if len(value)>0:\n",
    "    print value\n",
    "else:\n",
    "    print \"enter atleast one char\"\n",
    "print \"thank you!!\""
   ]
  },
  {
   "cell_type": "code",
   "execution_count": 51,
   "metadata": {},
   "outputs": [
    {
     "name": "stdout",
     "output_type": "stream",
     "text": [
      "enter a value:python\n",
      "True\n"
     ]
    }
   ],
   "source": [
    "value=raw_input(\"enter a value:\")\n",
    "print bool(value)"
   ]
  },
  {
   "cell_type": "code",
   "execution_count": 52,
   "metadata": {},
   "outputs": [
    {
     "name": "stdout",
     "output_type": "stream",
     "text": [
      "enter a value:\n",
      "False\n"
     ]
    }
   ],
   "source": [
    "value=raw_input(\"enter a value:\")\n",
    "print bool(value)"
   ]
  },
  {
   "cell_type": "code",
   "execution_count": 53,
   "metadata": {},
   "outputs": [
    {
     "name": "stdout",
     "output_type": "stream",
     "text": [
      "enter a value:python\n",
      "python\n",
      "thank you!!\n"
     ]
    }
   ],
   "source": [
    "value=raw_input(\"enter a value:\")\n",
    "if bool(value):\n",
    "    print value\n",
    "else:\n",
    "    print \"Enter a valid string\"\n",
    "print \"thank you!!\""
   ]
  },
  {
   "cell_type": "code",
   "execution_count": 54,
   "metadata": {},
   "outputs": [
    {
     "name": "stdout",
     "output_type": "stream",
     "text": [
      "enter a value:\n",
      "Enter a valid string\n",
      "thank you!!\n"
     ]
    }
   ],
   "source": [
    "value=raw_input(\"enter a value:\")\n",
    "if bool(value):\n",
    "    print value\n",
    "else:\n",
    "    print \"Enter a valid string\"\n",
    "print \"thank you!!\""
   ]
  },
  {
   "cell_type": "code",
   "execution_count": 55,
   "metadata": {},
   "outputs": [
    {
     "name": "stdout",
     "output_type": "stream",
     "text": [
      "b is big\n"
     ]
    }
   ],
   "source": [
    "a=10\n",
    "b=20\n",
    "if a>b:\n",
    "    print \" a is big\"\n",
    "else:\n",
    "    print \"b is big\""
   ]
  },
  {
   "cell_type": "code",
   "execution_count": 56,
   "metadata": {},
   "outputs": [
    {
     "data": {
      "text/plain": [
       "False"
      ]
     },
     "execution_count": 56,
     "metadata": {},
     "output_type": "execute_result"
    }
   ],
   "source": [
    "bool(a>b)"
   ]
  },
  {
   "cell_type": "code",
   "execution_count": 57,
   "metadata": {},
   "outputs": [
    {
     "name": "stdout",
     "output_type": "stream",
     "text": [
      "enter a value:python\n",
      "python\n",
      "thank you!!\n"
     ]
    }
   ],
   "source": [
    "value=raw_input(\"enter a value:\")\n",
    "if value:\n",
    "    print value\n",
    "else:\n",
    "    print \"Enter a valid string\"\n",
    "print \"thank you!!\""
   ]
  },
  {
   "cell_type": "code",
   "execution_count": 58,
   "metadata": {},
   "outputs": [
    {
     "name": "stdout",
     "output_type": "stream",
     "text": [
      "enter a value:\n",
      "Enter a valid string\n",
      "thank you!!\n"
     ]
    }
   ],
   "source": [
    "value=raw_input(\"enter a value:\")\n",
    "if value:\n",
    "    print value\n",
    "else:\n",
    "    print \"Enter a valid string\"\n",
    "print \"thank you!!\""
   ]
  },
  {
   "cell_type": "code",
   "execution_count": 59,
   "metadata": {},
   "outputs": [
    {
     "name": "stdout",
     "output_type": "stream",
     "text": [
      "[1, 2, 3, 4]\n",
      "thank you!!\n"
     ]
    }
   ],
   "source": [
    "value=[1,2,3,4]\n",
    "if value:\n",
    "    print value\n",
    "else:\n",
    "    print \"Enter a valid string\"\n",
    "print \"thank you!!\""
   ]
  },
  {
   "cell_type": "code",
   "execution_count": 60,
   "metadata": {},
   "outputs": [
    {
     "name": "stdout",
     "output_type": "stream",
     "text": [
      "Enter a valid string\n",
      "thank you!!\n"
     ]
    }
   ],
   "source": [
    "value=[]\n",
    "if value:\n",
    "    print value\n",
    "else:\n",
    "    print \"Enter a valid string\"\n",
    "print \"thank you!!\""
   ]
  },
  {
   "cell_type": "code",
   "execution_count": 61,
   "metadata": {},
   "outputs": [
    {
     "name": "stdout",
     "output_type": "stream",
     "text": [
      "this is else\n",
      "b is big\n",
      "other statements in else\n",
      "else ended\n",
      "thank you!!\n"
     ]
    }
   ],
   "source": [
    "a=10\n",
    "b=20\n",
    "if a>b:\n",
    "    print \"this is if\"\n",
    "    print \"a is big\"\n",
    "    print \"other statements in if\"\n",
    "    print \"if ended\"\n",
    "else:\n",
    "    print \"this is else\"\n",
    "    print \"b is big\"\n",
    "    print \"other statements in else\"\n",
    "    print \"else ended\"\n",
    "print \"thank you!!\""
   ]
  },
  {
   "cell_type": "code",
   "execution_count": 62,
   "metadata": {},
   "outputs": [
    {
     "name": "stdout",
     "output_type": "stream",
     "text": [
      "this is if\n",
      "a is big\n",
      "other statements in if\n",
      "if ended\n",
      "thank you!!\n"
     ]
    }
   ],
   "source": [
    "a=100\n",
    "b=20\n",
    "if a>b:\n",
    "    print \"this is if\"\n",
    "    print \"a is big\"\n",
    "    print \"other statements in if\"\n",
    "    print \"if ended\"\n",
    "else:\n",
    "    print \"this is else\"\n",
    "    print \"b is big\"\n",
    "    print \"other statements in else\"\n",
    "    print \"else ended\"\n",
    "print \"thank you!!\""
   ]
  },
  {
   "cell_type": "code",
   "execution_count": 63,
   "metadata": {},
   "outputs": [
    {
     "name": "stdout",
     "output_type": "stream",
     "text": [
      "this is if\n",
      "a is big\n",
      "other statements in if\n",
      "if ended\n",
      "thank you!!\n"
     ]
    }
   ],
   "source": [
    "a=100\n",
    "b=20\n",
    "if a>b:\n",
    " print \"this is if\"\n",
    " print \"a is big\"\n",
    " print \"other statements in if\"\n",
    " print \"if ended\"\n",
    "else:\n",
    "    print \"this is else\"\n",
    "    print \"b is big\"\n",
    "    print \"other statements in else\"\n",
    "    print \"else ended\"\n",
    "print \"thank you!!\""
   ]
  },
  {
   "cell_type": "code",
   "execution_count": 64,
   "metadata": {},
   "outputs": [
    {
     "ename": "IndentationError",
     "evalue": "unexpected indent (<ipython-input-64-b9bcf5f7bbef>, line 5)",
     "output_type": "error",
     "traceback": [
      "\u001b[0;36m  File \u001b[0;32m\"<ipython-input-64-b9bcf5f7bbef>\"\u001b[0;36m, line \u001b[0;32m5\u001b[0m\n\u001b[0;31m    print \"a is big\"\u001b[0m\n\u001b[0m    ^\u001b[0m\n\u001b[0;31mIndentationError\u001b[0m\u001b[0;31m:\u001b[0m unexpected indent\n"
     ]
    }
   ],
   "source": [
    "a=100\n",
    "b=20\n",
    "if a>b:\n",
    " print \"this is if\"\n",
    "  print \"a is big\"\n",
    "  print \"other statements in if\"\n",
    "  print \"if ended\"\n",
    "else:\n",
    "    print \"this is else\"\n",
    "    print \"b is big\"\n",
    "    print \"other statements in else\"\n",
    "    print \"else ended\"\n",
    "print \"thank you!!\""
   ]
  },
  {
   "cell_type": "code",
   "execution_count": 65,
   "metadata": {},
   "outputs": [
    {
     "name": "stdout",
     "output_type": "stream",
     "text": [
      "this is if\n",
      "a is big\n",
      "other statements in if\n",
      "if ended\n",
      "thank you!!\n"
     ]
    }
   ],
   "source": [
    "a=100\n",
    "b=20\n",
    "if a>b:\n",
    "  print \"this is if\"\n",
    "  print \"a is big\"\n",
    "  print \"other statements in if\"\n",
    "  print \"if ended\"\n",
    "else:\n",
    "    print \"this is else\"\n",
    "    print \"b is big\"\n",
    "    print \"other statements in else\"\n",
    "    print \"else ended\"\n",
    "print \"thank you!!\""
   ]
  },
  {
   "cell_type": "code",
   "execution_count": 66,
   "metadata": {},
   "outputs": [
    {
     "ename": "IndentationError",
     "evalue": "unindent does not match any outer indentation level (<ipython-input-66-44223345b01f>, line 13)",
     "output_type": "error",
     "traceback": [
      "\u001b[0;36m  File \u001b[0;32m\"<ipython-input-66-44223345b01f>\"\u001b[0;36m, line \u001b[0;32m13\u001b[0m\n\u001b[0;31m    print \"thank you!!\"\u001b[0m\n\u001b[0m                       ^\u001b[0m\n\u001b[0;31mIndentationError\u001b[0m\u001b[0;31m:\u001b[0m unindent does not match any outer indentation level\n"
     ]
    }
   ],
   "source": [
    "a=100\n",
    "b=20\n",
    "if a>b:\n",
    "  print \"this is if\"\n",
    "  print \"a is big\"\n",
    "  print \"other statements in if\"\n",
    "  print \"if ended\"\n",
    "else:\n",
    "    print \"this is else\"\n",
    "    print \"b is big\"\n",
    "    print \"other statements in else\"\n",
    "    print \"else ended\"\n",
    "  print \"thank you!!\""
   ]
  },
  {
   "cell_type": "code",
   "execution_count": 67,
   "metadata": {},
   "outputs": [
    {
     "name": "stdout",
     "output_type": "stream",
     "text": [
      "this is if\n",
      "a is big\n",
      "other statements in if\n",
      "if ended\n",
      "thank you!!\n"
     ]
    }
   ],
   "source": [
    "a=100\n",
    "b=20\n",
    "if a>b:\n",
    "  print \"this is if\"\n",
    "  print \"a is big\"\n",
    "  print \"other statements in if\"\n",
    "  print \"if ended\"\n",
    "else:\n",
    "    print \"this is else\"\n",
    "    print \"b is big\"\n",
    "    print \"other statements in else\"\n",
    "    print \"else ended\"\n",
    "print \"thank you!!\""
   ]
  },
  {
   "cell_type": "code",
   "execution_count": 68,
   "metadata": {},
   "outputs": [
    {
     "ename": "IndentationError",
     "evalue": "unexpected indent (<ipython-input-68-c2c3357befe1>, line 3)",
     "output_type": "error",
     "traceback": [
      "\u001b[0;36m  File \u001b[0;32m\"<ipython-input-68-c2c3357befe1>\"\u001b[0;36m, line \u001b[0;32m3\u001b[0m\n\u001b[0;31m    if a>b:\u001b[0m\n\u001b[0m    ^\u001b[0m\n\u001b[0;31mIndentationError\u001b[0m\u001b[0;31m:\u001b[0m unexpected indent\n"
     ]
    }
   ],
   "source": [
    "a=100\n",
    "b=20\n",
    "    if a>b:\n",
    "        print \"this is if\"\n",
    "        print \"a is big\"\n",
    "        print \"other statements in if\"\n",
    "        print \"if ended\"\n",
    "    else:\n",
    "        print \"this is else\"\n",
    "        print \"b is big\"\n",
    "        print \"other statements in else\"\n",
    "        print \"else ended\"\n",
    "print \"thank you!!\""
   ]
  },
  {
   "cell_type": "code",
   "execution_count": 69,
   "metadata": {},
   "outputs": [
    {
     "name": "stdout",
     "output_type": "stream",
     "text": [
      "this is if\n",
      "a is big\n",
      "other statements in if\n",
      "if ended\n",
      "thank you!!\n"
     ]
    }
   ],
   "source": [
    "a=100\n",
    "b=20\n",
    "if a>b:\n",
    "        print \"this is if\"\n",
    "        print \"a is big\"\n",
    "        print \"other statements in if\"\n",
    "        print \"if ended\"\n",
    "else:\n",
    "        print \"this is else\"\n",
    "        print \"b is big\"\n",
    "        print \"other statements in else\"\n",
    "        print \"else ended\"\n",
    "print \"thank you!!\""
   ]
  },
  {
   "cell_type": "code",
   "execution_count": 1,
   "metadata": {},
   "outputs": [
    {
     "name": "stdout",
     "output_type": "stream",
     "text": [
      "Product menu:\n",
      "\t1.Create\n",
      "\t2.update\n",
      "\t3.delete\n",
      "\t4.browse\n"
     ]
    }
   ],
   "source": [
    "print \"Product menu:\\n\\t1.Create\\n\\t2.update\\n\\t3.delete\\n\\t4.browse\""
   ]
  },
  {
   "cell_type": "code",
   "execution_count": 2,
   "metadata": {},
   "outputs": [
    {
     "name": "stdout",
     "output_type": "stream",
     "text": [
      "Product menu:\n",
      "\t1.Create\n",
      "\t2.update\n",
      "\t3.delete\n",
      "\t4.browse\n",
      "enter an option:1\n",
      "create a product\n",
      "thank you!!\n"
     ]
    }
   ],
   "source": [
    "print \"Product menu:\\n\\t1.Create\\n\\t2.update\\n\\t3.delete\\n\\t4.browse\"\n",
    "opt=raw_input(\"enter an option:\")\n",
    "if opt==\"1\":\n",
    "    print \"create a product\"\n",
    "if opt==\"2\":\n",
    "    print \"updating the product\"\n",
    "if opt==\"3\":\n",
    "    print \"delete a product\"\n",
    "if opt==4:\n",
    "    print \"browse a product\"\n",
    "print \"thank you!!\""
   ]
  },
  {
   "cell_type": "code",
   "execution_count": 3,
   "metadata": {},
   "outputs": [
    {
     "name": "stdout",
     "output_type": "stream",
     "text": [
      "Product menu:\n",
      "\t1.Create\n",
      "\t2.update\n",
      "\t3.delete\n",
      "\t4.browse\n",
      "enter an option:2\n",
      "updating the product\n",
      "thank you!!\n"
     ]
    }
   ],
   "source": [
    "print \"Product menu:\\n\\t1.Create\\n\\t2.update\\n\\t3.delete\\n\\t4.browse\"\n",
    "opt=raw_input(\"enter an option:\")\n",
    "if opt==\"1\":\n",
    "    print \"create a product\"\n",
    "if opt==\"2\":\n",
    "    print \"updating the product\"\n",
    "if opt==\"3\":\n",
    "    print \"delete a product\"\n",
    "if opt==4:\n",
    "    print \"browse a product\"\n",
    "print \"thank you!!\""
   ]
  },
  {
   "cell_type": "code",
   "execution_count": 4,
   "metadata": {},
   "outputs": [
    {
     "name": "stdout",
     "output_type": "stream",
     "text": [
      "Product menu:\n",
      "\t1.Create\n",
      "\t2.update\n",
      "\t3.delete\n",
      "\t4.browse\n",
      "enter an option:3\n",
      "delete a product\n",
      "thank you!!\n"
     ]
    }
   ],
   "source": [
    "print \"Product menu:\\n\\t1.Create\\n\\t2.update\\n\\t3.delete\\n\\t4.browse\"\n",
    "opt=raw_input(\"enter an option:\")\n",
    "if opt==\"1\":\n",
    "    print \"create a product\"\n",
    "if opt==\"2\":\n",
    "    print \"updating the product\"\n",
    "if opt==\"3\":\n",
    "    print \"delete a product\"\n",
    "if opt==4:\n",
    "    print \"browse a product\"\n",
    "print \"thank you!!\""
   ]
  },
  {
   "cell_type": "code",
   "execution_count": 5,
   "metadata": {},
   "outputs": [
    {
     "name": "stdout",
     "output_type": "stream",
     "text": [
      "Product menu:\n",
      "\t1.Create\n",
      "\t2.update\n",
      "\t3.delete\n",
      "\t4.browse\n",
      "enter an option:4\n",
      "thank you!!\n"
     ]
    }
   ],
   "source": [
    "print \"Product menu:\\n\\t1.Create\\n\\t2.update\\n\\t3.delete\\n\\t4.browse\"\n",
    "opt=raw_input(\"enter an option:\")\n",
    "if opt==\"1\":\n",
    "    print \"create a product\"\n",
    "if opt==\"2\":\n",
    "    print \"updating the product\"\n",
    "if opt==\"3\":\n",
    "    print \"delete a product\"\n",
    "if opt==4:\n",
    "    print \"browse a product\"\n",
    "print \"thank you!!\""
   ]
  },
  {
   "cell_type": "code",
   "execution_count": 6,
   "metadata": {},
   "outputs": [
    {
     "data": {
      "text/plain": [
       "True"
      ]
     },
     "execution_count": 6,
     "metadata": {},
     "output_type": "execute_result"
    }
   ],
   "source": [
    "4==4"
   ]
  },
  {
   "cell_type": "code",
   "execution_count": 7,
   "metadata": {},
   "outputs": [
    {
     "data": {
      "text/plain": [
       "False"
      ]
     },
     "execution_count": 7,
     "metadata": {},
     "output_type": "execute_result"
    }
   ],
   "source": [
    "\"4\"==4"
   ]
  },
  {
   "cell_type": "code",
   "execution_count": 8,
   "metadata": {},
   "outputs": [
    {
     "name": "stdout",
     "output_type": "stream",
     "text": [
      "Product menu:\n",
      "\t1.Create\n",
      "\t2.update\n",
      "\t3.delete\n",
      "\t4.browse\n",
      "enter an option:4\n",
      "browse a product\n",
      "thank you!!\n"
     ]
    }
   ],
   "source": [
    "print \"Product menu:\\n\\t1.Create\\n\\t2.update\\n\\t3.delete\\n\\t4.browse\"\n",
    "opt=raw_input(\"enter an option:\")\n",
    "if opt==\"1\":\n",
    "    print \"create a product\"\n",
    "if opt==\"2\":\n",
    "    print \"updating the product\"\n",
    "if opt==\"3\":\n",
    "    print \"delete a product\"\n",
    "if opt==\"4\":\n",
    "    print \"browse a product\"\n",
    "print \"thank you!!\""
   ]
  },
  {
   "cell_type": "code",
   "execution_count": 9,
   "metadata": {},
   "outputs": [
    {
     "name": "stdout",
     "output_type": "stream",
     "text": [
      "Product menu:\n",
      "\t1.Create\n",
      "\t2.update\n",
      "\t3.delete\n",
      "\t4.browse\n",
      "enter an option:5\n",
      "thank you!!\n"
     ]
    }
   ],
   "source": [
    "print \"Product menu:\\n\\t1.Create\\n\\t2.update\\n\\t3.delete\\n\\t4.browse\"\n",
    "opt=raw_input(\"enter an option:\")\n",
    "if opt==\"1\":\n",
    "    print \"create a product\"\n",
    "if opt==\"2\":\n",
    "    print \"updating the product\"\n",
    "if opt==\"3\":\n",
    "    print \"delete a product\"\n",
    "if opt==\"4\":\n",
    "    print \"browse a product\"\n",
    "print \"thank you!!\""
   ]
  },
  {
   "cell_type": "code",
   "execution_count": 10,
   "metadata": {},
   "outputs": [
    {
     "name": "stdout",
     "output_type": "stream",
     "text": [
      "Product menu:\n",
      "\t1.Create\n",
      "\t2.update\n",
      "\t3.delete\n",
      "\t4.browse\n",
      "enter an option:5\n",
      "there is only 4 options!! enter: 1 or 2 or 3 or 4\n",
      "thank you!!\n"
     ]
    }
   ],
   "source": [
    "print \"Product menu:\\n\\t1.Create\\n\\t2.update\\n\\t3.delete\\n\\t4.browse\"\n",
    "opt=raw_input(\"enter an option:\")\n",
    "if opt==\"1\":\n",
    "    print \"create a product\"\n",
    "if opt==\"2\":\n",
    "    print \"updating the product\"\n",
    "if opt==\"3\":\n",
    "    print \"delete a product\"\n",
    "if opt==\"4\":\n",
    "    print \"browse a product\"\n",
    "else:\n",
    "    print \"there is only 4 options!! enter: 1 or 2 or 3 or 4\"\n",
    "print \"thank you!!\""
   ]
  },
  {
   "cell_type": "code",
   "execution_count": 11,
   "metadata": {},
   "outputs": [
    {
     "name": "stdout",
     "output_type": "stream",
     "text": [
      "Product menu:\n",
      "\t1.Create\n",
      "\t2.update\n",
      "\t3.delete\n",
      "\t4.browse\n",
      "enter an option:4\n",
      "browse a product\n",
      "thank you!!\n"
     ]
    }
   ],
   "source": [
    "print \"Product menu:\\n\\t1.Create\\n\\t2.update\\n\\t3.delete\\n\\t4.browse\"\n",
    "opt=raw_input(\"enter an option:\")\n",
    "if opt==\"1\":\n",
    "    print \"create a product\"\n",
    "if opt==\"2\":\n",
    "    print \"updating the product\"\n",
    "if opt==\"3\":\n",
    "    print \"delete a product\"\n",
    "if opt==\"4\":\n",
    "    print \"browse a product\"\n",
    "else:\n",
    "    print \"there is only 4 options!! enter: 1 or 2 or 3 or 4\"\n",
    "print \"thank you!!\""
   ]
  },
  {
   "cell_type": "code",
   "execution_count": 12,
   "metadata": {},
   "outputs": [
    {
     "name": "stdout",
     "output_type": "stream",
     "text": [
      "Product menu:\n",
      "\t1.Create\n",
      "\t2.update\n",
      "\t3.delete\n",
      "\t4.browse\n",
      "enter an option:2\n",
      "updating the product\n",
      "there is only 4 options!! enter: 1 or 2 or 3 or 4\n",
      "thank you!!\n"
     ]
    }
   ],
   "source": [
    "print \"Product menu:\\n\\t1.Create\\n\\t2.update\\n\\t3.delete\\n\\t4.browse\"\n",
    "opt=raw_input(\"enter an option:\")\n",
    "if opt==\"1\":\n",
    "    print \"create a product\"\n",
    "if opt==\"2\":\n",
    "    print \"updating the product\"\n",
    "if opt==\"3\":\n",
    "    print \"delete a product\"\n",
    "if opt==\"4\":\n",
    "    print \"browse a product\"\n",
    "else:\n",
    "    print \"there is only 4 options!! enter: 1 or 2 or 3 or 4\"\n",
    "print \"thank you!!\""
   ]
  },
  {
   "cell_type": "code",
   "execution_count": 13,
   "metadata": {},
   "outputs": [
    {
     "name": "stdout",
     "output_type": "stream",
     "text": [
      "Product menu:\n",
      "\t1.Create\n",
      "\t2.update\n",
      "\t3.delete\n",
      "\t4.browse\n",
      "enter an option:1\n",
      "create a product\n",
      "thank you!!\n"
     ]
    }
   ],
   "source": [
    "print \"Product menu:\\n\\t1.Create\\n\\t2.update\\n\\t3.delete\\n\\t4.browse\"\n",
    "opt=raw_input(\"enter an option:\")\n",
    "if opt==\"1\":\n",
    "    print \"create a product\"\n",
    "elif opt==\"2\":\n",
    "    print \"updating the product\"\n",
    "elif opt==\"3\":\n",
    "    print \"delete a product\"\n",
    "elif opt==\"4\":\n",
    "    print \"browse a product\"\n",
    "else:\n",
    "    print \"there is only 4 options!! enter: 1 or 2 or 3 or 4\"\n",
    "print \"thank you!!\""
   ]
  },
  {
   "cell_type": "code",
   "execution_count": 14,
   "metadata": {},
   "outputs": [
    {
     "name": "stdout",
     "output_type": "stream",
     "text": [
      "Product menu:\n",
      "\t1.Create\n",
      "\t2.update\n",
      "\t3.delete\n",
      "\t4.browse\n",
      "enter an option:2\n",
      "updating the product\n",
      "thank you!!\n"
     ]
    }
   ],
   "source": [
    "print \"Product menu:\\n\\t1.Create\\n\\t2.update\\n\\t3.delete\\n\\t4.browse\"\n",
    "opt=raw_input(\"enter an option:\")\n",
    "if opt==\"1\":\n",
    "    print \"create a product\"\n",
    "elif opt==\"2\":\n",
    "    print \"updating the product\"\n",
    "elif opt==\"3\":\n",
    "    print \"delete a product\"\n",
    "elif opt==\"4\":\n",
    "    print \"browse a product\"\n",
    "else:\n",
    "    print \"there is only 4 options!! enter: 1 or 2 or 3 or 4\"\n",
    "print \"thank you!!\""
   ]
  },
  {
   "cell_type": "code",
   "execution_count": null,
   "metadata": {
    "collapsed": true
   },
   "outputs": [],
   "source": [
    "# evaluating system for people in india\n",
    "\"\"\"\n",
    "evaluating system for people in india\n",
    "    1. Marriage(min:21)\n",
    "    2. Voting(min: 18)\n",
    "    3. Govt Job application(min: 18, max:35)\n",
    "Enter option:\n",
    "Enter an age:\n",
    "\"\"\""
   ]
  },
  {
   "cell_type": "code",
   "execution_count": 15,
   "metadata": {},
   "outputs": [
    {
     "data": {
      "text/plain": [
       "True"
      ]
     },
     "execution_count": 15,
     "metadata": {},
     "output_type": "execute_result"
    }
   ],
   "source": [
    "a=10\n",
    "b=20\n",
    "c=30\n",
    "\n",
    "a<b and b<c"
   ]
  },
  {
   "cell_type": "code",
   "execution_count": 16,
   "metadata": {},
   "outputs": [
    {
     "data": {
      "text/plain": [
       "False"
      ]
     },
     "execution_count": 16,
     "metadata": {},
     "output_type": "execute_result"
    }
   ],
   "source": [
    "a=10\n",
    "b=20\n",
    "c=30\n",
    "\n",
    "a<b and b>c"
   ]
  },
  {
   "cell_type": "code",
   "execution_count": 17,
   "metadata": {},
   "outputs": [
    {
     "data": {
      "text/plain": [
       "True"
      ]
     },
     "execution_count": 17,
     "metadata": {},
     "output_type": "execute_result"
    }
   ],
   "source": [
    "a=10\n",
    "b=20\n",
    "c=30\n",
    "\n",
    "a<b or b>c"
   ]
  },
  {
   "cell_type": "code",
   "execution_count": 18,
   "metadata": {},
   "outputs": [
    {
     "data": {
      "text/plain": [
       "False"
      ]
     },
     "execution_count": 18,
     "metadata": {},
     "output_type": "execute_result"
    }
   ],
   "source": [
    "a=10\n",
    "b=20\n",
    "c=30\n",
    "\n",
    "a>b or b>c"
   ]
  },
  {
   "cell_type": "code",
   "execution_count": 19,
   "metadata": {},
   "outputs": [
    {
     "name": "stdout",
     "output_type": "stream",
     "text": [
      "evaluating system for people in india\n",
      "\t1. Marriage(min:21)\n",
      "\t2. Voting(min: 18)\n",
      "\t3. Govt Job application(min: 18, max:35)\n"
     ]
    }
   ],
   "source": [
    "# evaluating system for people in india\n",
    "\"\"\"\n",
    "evaluating system for people in india\n",
    "    1. Marriage(min:21)\n",
    "    2. Voting(min: 18)\n",
    "    3. Govt Job application(min: 18, max:35)\n",
    "Enter option:\n",
    "Enter an age:\n",
    "\"\"\"\n",
    "print \"evaluating system for people in india\\n\\t1. Marriage(min:21)\\n\\t2. Voting(min: 18)\\n\\t\\\n",
    "3. Govt Job application(min: 18, max:35)\""
   ]
  },
  {
   "cell_type": "code",
   "execution_count": 20,
   "metadata": {},
   "outputs": [
    {
     "ename": "SyntaxError",
     "evalue": "EOL while scanning string literal (<ipython-input-20-3eccfce1de79>, line 1)",
     "output_type": "error",
     "traceback": [
      "\u001b[0;36m  File \u001b[0;32m\"<ipython-input-20-3eccfce1de79>\"\u001b[0;36m, line \u001b[0;32m1\u001b[0m\n\u001b[0;31m    print \"sdfsd\u001b[0m\n\u001b[0m               ^\u001b[0m\n\u001b[0;31mSyntaxError\u001b[0m\u001b[0;31m:\u001b[0m EOL while scanning string literal\n"
     ]
    }
   ],
   "source": [
    "print \"sdfsd\n",
    "jslkflkdsj\""
   ]
  },
  {
   "cell_type": "code",
   "execution_count": 21,
   "metadata": {},
   "outputs": [
    {
     "name": "stdout",
     "output_type": "stream",
     "text": [
      "sdfsdjslkflkdsj\n"
     ]
    }
   ],
   "source": [
    "print \"sdfsd\\\n",
    "jslkflkdsj\""
   ]
  },
  {
   "cell_type": "code",
   "execution_count": 22,
   "metadata": {},
   "outputs": [
    {
     "name": "stdout",
     "output_type": "stream",
     "text": [
      "evaluating system for people in India\n",
      "\t1. Marriage(min:21)\n",
      "\t2. Voting(min: 18)\n",
      "\t3. Govt Job application(min: 18, max:35)\n",
      "Enter an option:1\n",
      "Enter an age:12\n",
      "Not eligible\n",
      "thank you!!\n"
     ]
    }
   ],
   "source": [
    "# evaluating system for people in india\n",
    "\"\"\"\n",
    "evaluating system for people in India\n",
    "    1. Marriage(min:21)\n",
    "    2. Voting(min: 18)\n",
    "    3. Govt Job application(min: 18, max:35)\n",
    "Enter option:\n",
    "Enter an age:\n",
    "\"\"\"\n",
    "print \"evaluating system for people in India\\n\\t1. Marriage(min:21)\\n\\t2. Voting(min: 18)\\n\\t\\\n",
    "3. Govt Job application(min: 18, max:35)\"\n",
    "opt=raw_input(\"Enter an option:\")\n",
    "age=int(raw_input(\"Enter an age:\"))\n",
    "if opt==\"1\" and age>=21:\n",
    "    print \"eligible for mariage in India\"\n",
    "elif opt==\"2\" and age>=18:\n",
    "    print \"eligible for voting stystem in India\"\n",
    "elif opt==\"3\" and age>=18 and age<=35:\n",
    "    print \"eligible for govt job application\"\n",
    "else:\n",
    "    print \"Not eligible\"\n",
    "print \"thank you!!\""
   ]
  },
  {
   "cell_type": "code",
   "execution_count": 23,
   "metadata": {},
   "outputs": [
    {
     "name": "stdout",
     "output_type": "stream",
     "text": [
      "evaluating system for people in India\n",
      "\t1. Marriage(min:21)\n",
      "\t2. Voting(min: 18)\n",
      "\t3. Govt Job application(min: 18, max:35)\n",
      "Enter an option:1\n",
      "Enter an age:25\n",
      "eligible for mariage in India\n",
      "thank you!!\n"
     ]
    }
   ],
   "source": [
    "# evaluating system for people in india\n",
    "\"\"\"\n",
    "evaluating system for people in India\n",
    "    1. Marriage(min:21)\n",
    "    2. Voting(min: 18)\n",
    "    3. Govt Job application(min: 18, max:35)\n",
    "Enter option:\n",
    "Enter an age:\n",
    "\"\"\"\n",
    "print \"evaluating system for people in India\\n\\t1. Marriage(min:21)\\n\\t2. Voting(min: 18)\\n\\t\\\n",
    "3. Govt Job application(min: 18, max:35)\"\n",
    "opt=raw_input(\"Enter an option:\")\n",
    "age=int(raw_input(\"Enter an age:\"))\n",
    "if opt==\"1\" and age>=21:\n",
    "    print \"eligible for mariage in India\"\n",
    "elif opt==\"2\" and age>=18:\n",
    "    print \"eligible for voting stystem in India\"\n",
    "elif opt==\"3\" and age>=18 and age<=35:\n",
    "    print \"eligible for govt job application\"\n",
    "else:\n",
    "    if opt==\"1\":\n",
    "        print \"Not eligible for marriage\"\n",
    "    elif opt==\"2\":\n",
    "        print \"not eligible for voting system\"\n",
    "    elif opt==\"3\":\n",
    "        print \"not eligible for govt job application\"\n",
    "    else:\n",
    "        print \"wrong option\"\n",
    "print \"thank you!!\""
   ]
  },
  {
   "cell_type": "code",
   "execution_count": 24,
   "metadata": {},
   "outputs": [
    {
     "name": "stdout",
     "output_type": "stream",
     "text": [
      "evaluating system for people in India\n",
      "\t1. Marriage(min:21)\n",
      "\t2. Voting(min: 18)\n",
      "\t3. Govt Job application(min: 18, max:35)\n",
      "Enter an option:2\n",
      "Enter an age:12\n",
      "not eligible for voting system\n",
      "thank you!!\n"
     ]
    }
   ],
   "source": [
    "# evaluating system for people in india\n",
    "\"\"\"\n",
    "evaluating system for people in India\n",
    "    1. Marriage(min:21)\n",
    "    2. Voting(min: 18)\n",
    "    3. Govt Job application(min: 18, max:35)\n",
    "Enter option:\n",
    "Enter an age:\n",
    "\"\"\"\n",
    "print \"evaluating system for people in India\\n\\t1. Marriage(min:21)\\n\\t2. Voting(min: 18)\\n\\t\\\n",
    "3. Govt Job application(min: 18, max:35)\"\n",
    "opt=raw_input(\"Enter an option:\")\n",
    "age=int(raw_input(\"Enter an age:\"))\n",
    "if opt==\"1\" and age>=21:\n",
    "    print \"eligible for mariage in India\"\n",
    "elif opt==\"2\" and age>=18:\n",
    "    print \"eligible for voting stystem in India\"\n",
    "elif opt==\"3\" and age>=18 and age<=35:\n",
    "    print \"eligible for govt job application\"\n",
    "else:\n",
    "    if opt==\"1\":\n",
    "        print \"Not eligible for marriage\"\n",
    "    elif opt==\"2\":\n",
    "        print \"not eligible for voting system\"\n",
    "    elif opt==\"3\":\n",
    "        print \"not eligible for govt job application\"\n",
    "    else:\n",
    "        print \"wrong option\"\n",
    "print \"thank you!!\""
   ]
  },
  {
   "cell_type": "code",
   "execution_count": 25,
   "metadata": {},
   "outputs": [
    {
     "name": "stdout",
     "output_type": "stream",
     "text": [
      "evaluating system for people in India\n",
      "\t1. Marriage(min:21)\n",
      "\t2. Voting(min: 18)\n",
      "\t3. Govt Job application(min: 18, max:35)\n",
      "Enter an option:5\n",
      "Enter an age:24\n",
      "wrong option\n",
      "thank you!!\n"
     ]
    }
   ],
   "source": [
    "# evaluating system for people in india\n",
    "\"\"\"\n",
    "evaluating system for people in India\n",
    "    1. Marriage(min:21)\n",
    "    2. Voting(min: 18)\n",
    "    3. Govt Job application(min: 18, max:35)\n",
    "Enter option:\n",
    "Enter an age:\n",
    "\"\"\"\n",
    "print \"evaluating system for people in India\\n\\t1. Marriage(min:21)\\n\\t2. Voting(min: 18)\\n\\t\\\n",
    "3. Govt Job application(min: 18, max:35)\"\n",
    "opt=raw_input(\"Enter an option:\")\n",
    "age=int(raw_input(\"Enter an age:\"))\n",
    "if opt==\"1\" and age>=21:\n",
    "    print \"eligible for mariage in India\"\n",
    "elif opt==\"2\" and age>=18:\n",
    "    print \"eligible for voting stystem in India\"\n",
    "elif opt==\"3\" and age>=18 and age<=35:\n",
    "    print \"eligible for govt job application\"\n",
    "else:\n",
    "    if opt==\"1\":\n",
    "        print \"Not eligible for marriage\"\n",
    "    elif opt==\"2\":\n",
    "        print \"not eligible for voting system\"\n",
    "    elif opt==\"3\":\n",
    "        print \"not eligible for govt job application\"\n",
    "    else:\n",
    "        print \"wrong option\"\n",
    "print \"thank you!!\""
   ]
  },
  {
   "cell_type": "code",
   "execution_count": 27,
   "metadata": {},
   "outputs": [
    {
     "name": "stdout",
     "output_type": "stream",
     "text": [
      "evaluating system for people in India\n",
      "\t1. Marriage(min:21)\n",
      "\t2. Voting(min: 18)\n",
      "\t3. Govt Job application(min: 18, max:35)\n",
      "Enter an option:5\n",
      "wrong option\n",
      "thank you!!\n"
     ]
    }
   ],
   "source": [
    "# evaluating system for people in india\n",
    "\"\"\"\n",
    "evaluating system for people in India\n",
    "    1. Marriage(min:21)\n",
    "    2. Voting(min: 18)\n",
    "    3. Govt Job application(min: 18, max:35)\n",
    "Enter option:\n",
    "Enter an age:\n",
    "\"\"\"\n",
    "print \"evaluating system for people in India\\n\\t1. Marriage(min:21)\\n\\t2. Voting(min: 18)\\n\\t\\\n",
    "3. Govt Job application(min: 18, max:35)\"\n",
    "opt=int(raw_input(\"Enter an option:\"))\n",
    "if opt>3:\n",
    "    print \"wrong option\"\n",
    "else:\n",
    "    age=int(raw_input(\"Enter an age:\"))\n",
    "    if opt==\"1\" and age>=21:\n",
    "        print \"eligible for mariage in India\"\n",
    "    elif opt==\"2\" and age>=18:\n",
    "        print \"eligible for voting stystem in India\"\n",
    "    elif opt==\"3\" and age>=18 and age<=35:\n",
    "        print \"eligible for govt job application\"\n",
    "    else:\n",
    "        if opt==\"1\":\n",
    "            print \"Not eligible for marriage\"\n",
    "        elif opt==\"2\":\n",
    "            print \"not eligible for voting system\"\n",
    "        elif opt==\"3\":\n",
    "            print \"not eligible for govt job application\"\n",
    "print \"thank you!!\""
   ]
  },
  {
   "cell_type": "code",
   "execution_count": 29,
   "metadata": {},
   "outputs": [
    {
     "name": "stdout",
     "output_type": "stream",
     "text": [
      "evaluating system for people in India\n",
      "\t1. Marriage(min:21)\n",
      "\t2. Voting(min: 18)\n",
      "\t3. Govt Job application(min: 18, max:35)\n",
      "Enter an option:1\n",
      "Enter an age:12\n",
      "Not eligible for marriage\n",
      "thank you!!\n"
     ]
    }
   ],
   "source": [
    "# evaluating system for people in india\n",
    "\"\"\"\n",
    "evaluating system for people in India\n",
    "    1. Marriage(min:21)\n",
    "    2. Voting(min: 18)\n",
    "    3. Govt Job application(min: 18, max:35)\n",
    "Enter option:\n",
    "Enter an age:\n",
    "\"\"\"\n",
    "print \"evaluating system for people in India\\n\\t1. Marriage(min:21)\\n\\t2. Voting(min: 18)\\n\\t\\\n",
    "3. Govt Job application(min: 18, max:35)\"\n",
    "opt=int(raw_input(\"Enter an option:\"))\n",
    "if opt>3:\n",
    "    print \"wrong option\"\n",
    "else:\n",
    "    age=int(raw_input(\"Enter an age:\"))\n",
    "    if opt==1 and age>=21:\n",
    "        print \"eligible for mariage in India\"\n",
    "    elif opt==2 and age>=18:\n",
    "        print \"eligible for voting stystem in India\"\n",
    "    elif opt==3 and age>=18 and age<=35:\n",
    "        print \"eligible for govt job application\"\n",
    "    else:\n",
    "        if opt==1:\n",
    "            print \"Not eligible for marriage\"\n",
    "        elif opt==2:\n",
    "            print \"not eligible for voting system\"\n",
    "        elif opt==3:\n",
    "            print \"not eligible for govt job application\"\n",
    "print \"thank you!!\""
   ]
  },
  {
   "cell_type": "code",
   "execution_count": null,
   "metadata": {
    "collapsed": true
   },
   "outputs": [],
   "source": [
    "# evaluating system for people in india\n",
    "\"\"\"\n",
    "evaluating system for people in India\n",
    "    1. Marriage(min:21)\n",
    "    2. Voting(min: 18)\n",
    "    3. Govt Job application(min: 18, max:35)\n",
    "Enter option:\n",
    "Enter an age:\n",
    "\"\"\"\n",
    "print \"evaluating system for people in India\\n\\t1. Marriage(min:21)\\n\\t2. Voting(min: 18)\\n\\t\\\n",
    "3. Govt Job application(min: 18, max:35)\"\n",
    "opt=raw_input(\"Enter an option:\")\n",
    "if opt==\"1\":\n",
    "    age=int(raw_input(\"Enter an age:\"))\n",
    "    if age>=21:\n",
    "        print \"eligble for marriage\"\n",
    "    else:\n",
    "        print \"not eligible for marriage\"\n",
    "elif opt==\"2\":\n",
    "    age=int(raw_input(\"Enter an age:\"))\n",
    "    if age>=18:\n",
    "        print \"eligible for voting system\"\n",
    "    else:\n",
    "        print \"not eligble for voting system\"\n",
    "elif opt==\"3\":\n",
    "    age=int(raw_input(\"Enter an age:\"))\n",
    "    if age>=18 and age<=35:\n",
    "        print \"eligible for govt job app\"\n",
    "    else:\n",
    "        print \"not eligble for govt job app\"\n",
    "else:\n",
    "    print \"wrong option.\"    \n",
    "print \"thank you!!\""
   ]
  }
 ],
 "metadata": {
  "kernelspec": {
   "display_name": "Python 2",
   "language": "python",
   "name": "python2"
  },
  "language_info": {
   "codemirror_mode": {
    "name": "ipython",
    "version": 2
   },
   "file_extension": ".py",
   "mimetype": "text/x-python",
   "name": "python",
   "nbconvert_exporter": "python",
   "pygments_lexer": "ipython2",
   "version": "2.7.14"
  }
 },
 "nbformat": 4,
 "nbformat_minor": 2
}
