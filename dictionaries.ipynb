{
 "cells": [
  {
   "cell_type": "code",
   "execution_count": 1,
   "metadata": {},
   "outputs": [
    {
     "name": "stdout",
     "output_type": "stream",
     "text": [
      "{'k3': 'v3', 'k2': 'v2', 'k1': 'v1'}\n"
     ]
    }
   ],
   "source": [
    "d={\"k1\":\"v1\",\"k2\":\"v2\",\"k3\":\"v3\"}\n",
    "print d"
   ]
  },
  {
   "cell_type": "code",
   "execution_count": 2,
   "metadata": {},
   "outputs": [
    {
     "name": "stdout",
     "output_type": "stream",
     "text": [
      "k3\n",
      "k2\n",
      "k1\n"
     ]
    }
   ],
   "source": [
    "for i in d:\n",
    "    print i"
   ]
  },
  {
   "cell_type": "code",
   "execution_count": 3,
   "metadata": {},
   "outputs": [
    {
     "name": "stdout",
     "output_type": "stream",
     "text": [
      "{'k3': 'v3', 'k2': 'v2', 'k1': 'v1'}\n",
      "{'k3': 'v3', 'k2': 'v2', 'k1': 'v1'}\n"
     ]
    }
   ],
   "source": [
    "d={\"k1\":\"v1\",\"k2\":\"v2\",\"k3\":\"v3\"}\n",
    "s=dict([(\"k1\",\"v1\"),(\"k2\",\"v2\"),(\"k3\",\"v3\")])\n",
    "print s\n",
    "print d"
   ]
  },
  {
   "cell_type": "code",
   "execution_count": 4,
   "metadata": {},
   "outputs": [
    {
     "name": "stdout",
     "output_type": "stream",
     "text": [
      "{'age': 29, 'name': 'Anil kumar', 'height': 5.6}\n"
     ]
    }
   ],
   "source": [
    "p={\"name\": \"Anil kumar\",\"age\":29,\"height\":5.6}\n",
    "print p"
   ]
  },
  {
   "cell_type": "code",
   "execution_count": 5,
   "metadata": {},
   "outputs": [
    {
     "ename": "KeyError",
     "evalue": "0",
     "output_type": "error",
     "traceback": [
      "\u001b[0;31m---------------------------------------------------------------------------\u001b[0m",
      "\u001b[0;31mKeyError\u001b[0m                                  Traceback (most recent call last)",
      "\u001b[0;32m<ipython-input-5-2f72cec1922b>\u001b[0m in \u001b[0;36m<module>\u001b[0;34m()\u001b[0m\n\u001b[0;32m----> 1\u001b[0;31m \u001b[0;32mprint\u001b[0m \u001b[0mp\u001b[0m\u001b[0;34m[\u001b[0m\u001b[0;36m0\u001b[0m\u001b[0;34m]\u001b[0m\u001b[0;34m\u001b[0m\u001b[0m\n\u001b[0m",
      "\u001b[0;31mKeyError\u001b[0m: 0"
     ]
    }
   ],
   "source": [
    "print p[0]"
   ]
  },
  {
   "cell_type": "code",
   "execution_count": 6,
   "metadata": {},
   "outputs": [
    {
     "name": "stdout",
     "output_type": "stream",
     "text": [
      "zero\n"
     ]
    }
   ],
   "source": [
    "p={\"name\": \"Anil kumar\",\"age\":29,\"height\":5.6,0:\"zero\"}\n",
    "print p[0]"
   ]
  },
  {
   "cell_type": "code",
   "execution_count": 7,
   "metadata": {},
   "outputs": [
    {
     "name": "stdout",
     "output_type": "stream",
     "text": [
      "Anil kumar\n"
     ]
    }
   ],
   "source": [
    "p={\"name\": \"Anil kumar\",\"age\":29,\"height\":5.6,0:\"zero\"}\n",
    "print p[\"name\"]"
   ]
  },
  {
   "cell_type": "code",
   "execution_count": 8,
   "metadata": {},
   "outputs": [
    {
     "name": "stdout",
     "output_type": "stream",
     "text": [
      "Anil kumar\n",
      "29\n",
      "5.6\n"
     ]
    }
   ],
   "source": [
    "p={\"name\": \"Anil kumar\",\"age\":29,\"height\":5.6,0:\"zero\"}\n",
    "print p[\"name\"]\n",
    "print p[\"age\"]\n",
    "print p[\"height\"]"
   ]
  },
  {
   "cell_type": "code",
   "execution_count": 10,
   "metadata": {},
   "outputs": [
    {
     "name": "stdout",
     "output_type": "stream",
     "text": [
      "{0: 'zero', 'cell': '9676622023', 'age': 29, 'name': 'Anil kumar', 'height': 5.6}\n"
     ]
    }
   ],
   "source": [
    "p={\"name\": \"Anil kumar\",\"age\":29,\"height\":5.6,0:\"zero\"}\n",
    "p[\"cell\"]=\"9676622023\"\n",
    "print p"
   ]
  },
  {
   "cell_type": "code",
   "execution_count": 11,
   "metadata": {},
   "outputs": [
    {
     "name": "stdout",
     "output_type": "stream",
     "text": [
      "{0: 'zero', 'age': 29, 'name': '9676622023', 'height': 5.6}\n"
     ]
    }
   ],
   "source": [
    "p={\"name\": \"Anil kumar\",\"age\":29,\"height\":5.6,0:\"zero\"}\n",
    "p[\"name\"]=\"9676622023\"\n",
    "print p"
   ]
  },
  {
   "cell_type": "code",
   "execution_count": 12,
   "metadata": {},
   "outputs": [
    {
     "name": "stdout",
     "output_type": "stream",
     "text": [
      "{0: 'zero', 'cell': '2345435', 'age': 29, 'name': 'Anil kumar', 'height': 5.6}\n"
     ]
    }
   ],
   "source": [
    "p={\"name\": \"Anil kumar\",\"age\":29,\"height\":5.6,0:\"zero\"}\n",
    "p.setdefault(\"cell\",\"2345435\")\n",
    "print p"
   ]
  },
  {
   "cell_type": "code",
   "execution_count": 13,
   "metadata": {},
   "outputs": [
    {
     "name": "stdout",
     "output_type": "stream",
     "text": [
      "{0: 'zero', 'age': 29, 'name': 'Anil kumar', 'height': 5.6}\n"
     ]
    }
   ],
   "source": [
    "p={\"name\": \"Anil kumar\",\"age\":29,\"height\":5.6,0:\"zero\"}\n",
    "p.setdefault(\"name\",\"2345435\")\n",
    "print p"
   ]
  },
  {
   "cell_type": "code",
   "execution_count": 14,
   "metadata": {},
   "outputs": [
    {
     "name": "stdout",
     "output_type": "stream",
     "text": [
      "{0: 'zero', 'cell': '234523', 'name': 'Anil kumar', 'age': 29, 'adhar': '2345rewr23r23', 'pan': 'werwe432rf', 'height': 5.6}\n"
     ]
    }
   ],
   "source": [
    "p={\"name\": \"Anil kumar\",\"age\":29,\"height\":5.6,0:\"zero\"}\n",
    "p.update({\"cell\":\"234523\",\"pan\":\"werwe432rf\",\"adhar\":\"2345rewr23r23\"})\n",
    "print p"
   ]
  },
  {
   "cell_type": "code",
   "execution_count": 15,
   "metadata": {},
   "outputs": [
    {
     "name": "stdout",
     "output_type": "stream",
     "text": [
      "{0: 'zero', 'cell': '234523', 'name': 'Anil kumar', 'age': 29, 'adhar': '2345rewr23r23', 'pan': 'werwe432rf', 'height': 5.6}\n"
     ]
    }
   ],
   "source": [
    "p={\"name\": \"Anil kumar\",\"age\":29,\"height\":5.6,0:\"zero\"}\n",
    "p.update({\"cell\":\"234523\",\"pan\":\"werwe432rf\",\"adhar\":\"2345rewr23r23\"})\n",
    "print p"
   ]
  },
  {
   "cell_type": "code",
   "execution_count": 16,
   "metadata": {},
   "outputs": [
    {
     "name": "stdout",
     "output_type": "stream",
     "text": [
      "{0: 'zero', 'name': 'ashok kumar', 'age': 29, 'height': 5.6, 'cell': '234523', 'adhar': '2345rewr23r23', 'pan': 'werwe432rf'}\n"
     ]
    }
   ],
   "source": [
    "p={\"name\": \"Anil kumar\",\"age\":29,\"height\":5.6,0:\"zero\"}\n",
    "p.update({\"cell\":\"234523\",\"pan\":\"werwe432rf\",\"adhar\":\"2345rewr23r23\",\"name\":\"ashok kumar\"})\n",
    "print p"
   ]
  },
  {
   "cell_type": "code",
   "execution_count": 17,
   "metadata": {},
   "outputs": [
    {
     "name": "stdout",
     "output_type": "stream",
     "text": [
      "Anil kumar\n"
     ]
    }
   ],
   "source": [
    "p={\"name\": \"Anil kumar\",\"age\":29,\"height\":5.6,0:\"zero\"}\n",
    "print p[\"name\"]"
   ]
  },
  {
   "cell_type": "code",
   "execution_count": 18,
   "metadata": {},
   "outputs": [
    {
     "ename": "KeyError",
     "evalue": "'cell'",
     "output_type": "error",
     "traceback": [
      "\u001b[0;31m---------------------------------------------------------------------------\u001b[0m",
      "\u001b[0;31mKeyError\u001b[0m                                  Traceback (most recent call last)",
      "\u001b[0;32m<ipython-input-18-8bb5673c9891>\u001b[0m in \u001b[0;36m<module>\u001b[0;34m()\u001b[0m\n\u001b[0;32m----> 1\u001b[0;31m \u001b[0;32mprint\u001b[0m \u001b[0mp\u001b[0m\u001b[0;34m[\u001b[0m\u001b[0;34m\"cell\"\u001b[0m\u001b[0;34m]\u001b[0m\u001b[0;34m\u001b[0m\u001b[0m\n\u001b[0m",
      "\u001b[0;31mKeyError\u001b[0m: 'cell'"
     ]
    }
   ],
   "source": [
    "print p[\"cell\"]"
   ]
  },
  {
   "cell_type": "code",
   "execution_count": 19,
   "metadata": {},
   "outputs": [
    {
     "name": "stdout",
     "output_type": "stream",
     "text": [
      "Anil kumar\n"
     ]
    }
   ],
   "source": [
    "p={\"name\": \"Anil kumar\",\"age\":29,\"height\":5.6,0:\"zero\"}\n",
    "print p.get(\"name\")"
   ]
  },
  {
   "cell_type": "code",
   "execution_count": 20,
   "metadata": {},
   "outputs": [
    {
     "name": "stdout",
     "output_type": "stream",
     "text": [
      "None\n"
     ]
    }
   ],
   "source": [
    "p={\"name\": \"Anil kumar\",\"age\":29,\"height\":5.6,0:\"zero\"}\n",
    "print p.get(\"cell\")"
   ]
  },
  {
   "cell_type": "code",
   "execution_count": 21,
   "metadata": {},
   "outputs": [
    {
     "name": "stdout",
     "output_type": "stream",
     "text": [
      "32423\n"
     ]
    }
   ],
   "source": [
    "p={\"name\": \"Anil kumar\",\"age\":29,\"height\":5.6,0:\"zero\"}\n",
    "print p.get(\"cell\",\"32423\")"
   ]
  },
  {
   "cell_type": "code",
   "execution_count": 22,
   "metadata": {},
   "outputs": [
    {
     "name": "stdout",
     "output_type": "stream",
     "text": [
      "Anil kumar\n"
     ]
    }
   ],
   "source": [
    "p={\"name\": \"Anil kumar\",\"age\":29,\"height\":5.6,0:\"zero\"}\n",
    "print p.get(\"name\",\"32423\")"
   ]
  },
  {
   "cell_type": "code",
   "execution_count": 23,
   "metadata": {},
   "outputs": [
    {
     "name": "stdout",
     "output_type": "stream",
     "text": [
      "1\n",
      "2\n",
      "3\n",
      "4\n",
      "5\n",
      "6\n"
     ]
    }
   ],
   "source": [
    "l=[1,2,3,4,5,6]\n",
    "for i in l:\n",
    "    print i"
   ]
  },
  {
   "cell_type": "code",
   "execution_count": 24,
   "metadata": {},
   "outputs": [
    {
     "name": "stdout",
     "output_type": "stream",
     "text": [
      "(0, 'a')\n",
      "(1, 'b')\n",
      "(2, 'c')\n",
      "(3, 'd')\n"
     ]
    }
   ],
   "source": [
    "l=[\"a\",\"b\",\"c\",\"d\"]\n",
    "for i in enumerate(l):\n",
    "    print i"
   ]
  },
  {
   "cell_type": "code",
   "execution_count": 25,
   "metadata": {},
   "outputs": [
    {
     "name": "stdout",
     "output_type": "stream",
     "text": [
      "0 a\n",
      "1 b\n",
      "2 c\n",
      "3 d\n"
     ]
    }
   ],
   "source": [
    "l=[\"a\",\"b\",\"c\",\"d\"]\n",
    "for ind, value in enumerate(l):\n",
    "    print ind, value"
   ]
  },
  {
   "cell_type": "code",
   "execution_count": 27,
   "metadata": {},
   "outputs": [
    {
     "name": "stdout",
     "output_type": "stream",
     "text": [
      "a\n",
      "['a', 'c', 'd']\n",
      "c\n",
      "['a', 'c']\n"
     ]
    }
   ],
   "source": [
    "l=[\"a\",\"b\",\"c\",\"d\"]\n",
    "for ind, value in enumerate(l):\n",
    "    print value\n",
    "    l.pop(ind+1)\n",
    "    print l"
   ]
  },
  {
   "cell_type": "code",
   "execution_count": 29,
   "metadata": {},
   "outputs": [
    {
     "name": "stdout",
     "output_type": "stream",
     "text": [
      "[10, 10]\n"
     ]
    }
   ],
   "source": [
    "l=[10,10,10,10,10]\n",
    "for i in l:\n",
    "    l.remove(i)\n",
    "print l"
   ]
  },
  {
   "cell_type": "code",
   "execution_count": 31,
   "metadata": {},
   "outputs": [
    {
     "name": "stdout",
     "output_type": "stream",
     "text": [
      "[]\n"
     ]
    }
   ],
   "source": [
    "l=[10,10,10,10,10]\n",
    "for i in l:\n",
    "    while l.count(i)>0:\n",
    "        l.remove(i)\n",
    "print l"
   ]
  },
  {
   "cell_type": "code",
   "execution_count": 32,
   "metadata": {},
   "outputs": [
    {
     "name": "stdout",
     "output_type": "stream",
     "text": [
      "Enter name:name1\n",
      "enter age:23\n",
      "{'age': '23', 'name': 'name1'}\n"
     ]
    }
   ],
   "source": [
    "d={}\n",
    "name=raw_input(\"Enter name:\")\n",
    "age=raw_input(\"enter age:\")\n",
    "d.update({\"name\":name,\"age\":age})\n",
    "print d"
   ]
  },
  {
   "cell_type": "code",
   "execution_count": null,
   "metadata": {
    "collapsed": true
   },
   "outputs": [],
   "source": []
  }
 ],
 "metadata": {
  "kernelspec": {
   "display_name": "Python 2",
   "language": "python",
   "name": "python2"
  },
  "language_info": {
   "codemirror_mode": {
    "name": "ipython",
    "version": 2
   },
   "file_extension": ".py",
   "mimetype": "text/x-python",
   "name": "python",
   "nbconvert_exporter": "python",
   "pygments_lexer": "ipython2",
   "version": "2.7.14"
  }
 },
 "nbformat": 4,
 "nbformat_minor": 2
}
